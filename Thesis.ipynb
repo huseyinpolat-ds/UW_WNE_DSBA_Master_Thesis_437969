{
 "cells": [
  {
   "cell_type": "markdown",
   "metadata": {},
   "source": [
    "# 1. Data Load & Processing"
   ]
  },
  {
   "cell_type": "code",
   "execution_count": 1,
   "metadata": {
    "vscode": {
     "languageId": "r"
    }
   },
   "outputs": [
    {
     "name": "stderr",
     "output_type": "stream",
     "text": [
      "Warning message:\n",
      "\"package 'tidyverse' was built under R version 4.3.2\"\n",
      "Warning message:\n",
      "\"package 'ggplot2' was built under R version 4.3.3\"\n",
      "Warning message:\n",
      "\"package 'tidyr' was built under R version 4.3.2\"\n",
      "Warning message:\n",
      "\"package 'readr' was built under R version 4.3.2\"\n",
      "Warning message:\n",
      "\"package 'purrr' was built under R version 4.3.2\"\n",
      "Warning message:\n",
      "\"package 'forcats' was built under R version 4.3.2\"\n",
      "Warning message:\n",
      "\"package 'lubridate' was built under R version 4.3.2\"\n",
      "── \u001b[1mAttaching core tidyverse packages\u001b[22m ──────────────────────────────────────────────────────────────── tidyverse 2.0.0 ──\n",
      "\u001b[32m✔\u001b[39m \u001b[34mdplyr    \u001b[39m 1.1.3     \u001b[32m✔\u001b[39m \u001b[34mreadr    \u001b[39m 2.1.4\n",
      "\u001b[32m✔\u001b[39m \u001b[34mforcats  \u001b[39m 1.0.0     \u001b[32m✔\u001b[39m \u001b[34mstringr  \u001b[39m 1.5.0\n",
      "\u001b[32m✔\u001b[39m \u001b[34mggplot2  \u001b[39m 3.5.0     \u001b[32m✔\u001b[39m \u001b[34mtibble   \u001b[39m 3.2.1\n",
      "\u001b[32m✔\u001b[39m \u001b[34mlubridate\u001b[39m 1.9.3     \u001b[32m✔\u001b[39m \u001b[34mtidyr    \u001b[39m 1.3.0\n",
      "\u001b[32m✔\u001b[39m \u001b[34mpurrr    \u001b[39m 1.0.2     \n",
      "── \u001b[1mConflicts\u001b[22m ────────────────────────────────────────────────────────────────────────────────── tidyverse_conflicts() ──\n",
      "\u001b[31m✖\u001b[39m \u001b[34mdplyr\u001b[39m::\u001b[32mfilter()\u001b[39m masks \u001b[34mstats\u001b[39m::filter()\n",
      "\u001b[31m✖\u001b[39m \u001b[34mdplyr\u001b[39m::\u001b[32mlag()\u001b[39m    masks \u001b[34mstats\u001b[39m::lag()\n",
      "\u001b[36mℹ\u001b[39m Use the conflicted package (\u001b[3m\u001b[34m<http://conflicted.r-lib.org/>\u001b[39m\u001b[23m) to force all conflicts to become errors\n",
      "Warning message:\n",
      "\"package 'readxl' was built under R version 4.3.2\"\n",
      "Warning message:\n",
      "\"package 'reshape2' was built under R version 4.3.3\"\n",
      "\n",
      "Attaching package: 'reshape2'\n",
      "\n",
      "\n",
      "The following object is masked from 'package:tidyr':\n",
      "\n",
      "    smiths\n",
      "\n",
      "\n",
      "Warning message:\n",
      "\"package 'MatchIt' was built under R version 4.3.3\"\n",
      "Warning message:\n",
      "\"package 'lmtest' was built under R version 4.3.3\"\n",
      "Loading required package: zoo\n",
      "\n",
      "\n",
      "Attaching package: 'zoo'\n",
      "\n",
      "\n",
      "The following objects are masked from 'package:base':\n",
      "\n",
      "    as.Date, as.Date.numeric\n",
      "\n",
      "\n",
      "Warning message:\n",
      "\"package 'sandwich' was built under R version 4.3.3\"\n",
      "Warning message:\n",
      "\"package 'gbm' was built under R version 4.3.3\"\n",
      "Loaded gbm 2.1.9\n",
      "\n",
      "This version of gbm is no longer under development. Consider transitioning to gbm3, https://github.com/gbm-developers/gbm3\n",
      "\n",
      "Warning message:\n",
      "\"package 'vtable' was built under R version 4.3.3\"\n",
      "Loading required package: kableExtra\n",
      "\n",
      "Warning message:\n",
      "\"package 'kableExtra' was built under R version 4.3.3\"\n",
      "\n",
      "Attaching package: 'kableExtra'\n",
      "\n",
      "\n",
      "The following object is masked from 'package:dplyr':\n",
      "\n",
      "    group_rows\n",
      "\n",
      "\n",
      "Warning message:\n",
      "\"package 'cobalt' was built under R version 4.3.3\"\n",
      " cobalt (Version 4.5.5, Build Date: 2024-04-02)\n",
      "\n",
      "\n",
      "Attaching package: 'cobalt'\n",
      "\n",
      "\n",
      "The following object is masked from 'package:MatchIt':\n",
      "\n",
      "    lalonde\n",
      "\n",
      "\n",
      "Warning message:\n",
      "\"package 'patchwork' was built under R version 4.3.3\"\n",
      "Warning message:\n",
      "\"package 'plm' was built under R version 4.3.3\"\n",
      "\n",
      "Attaching package: 'plm'\n",
      "\n",
      "\n",
      "The following objects are masked from 'package:dplyr':\n",
      "\n",
      "    between, lag, lead\n",
      "\n",
      "\n",
      "\n",
      "Please cite as: \n",
      "\n",
      "\n",
      " Hlavac, Marek (2022). stargazer: Well-Formatted Regression and Summary Statistics Tables.\n",
      "\n",
      " R package version 5.2.3. https://CRAN.R-project.org/package=stargazer \n",
      "\n",
      "\n",
      "Warning message:\n",
      "\"package 'car' was built under R version 4.3.3\"\n",
      "Loading required package: carData\n",
      "\n",
      "Warning message:\n",
      "\"package 'carData' was built under R version 4.3.3\"\n",
      "\n",
      "Attaching package: 'car'\n",
      "\n",
      "\n",
      "The following object is masked from 'package:dplyr':\n",
      "\n",
      "    recode\n",
      "\n",
      "\n",
      "The following object is masked from 'package:purrr':\n",
      "\n",
      "    some\n",
      "\n",
      "\n"
     ]
    }
   ],
   "source": [
    "# Check if the tidyverse package is installed, and if not, install it\n",
    "if (!requireNamespace(\"tidyverse\", quietly = TRUE)) {\n",
    "  install.packages(\"tidyverse\")\n",
    "}\n",
    "\n",
    "# Load the tidyverse package\n",
    "library(tidyverse)\n",
    "\n",
    "# Check if the dplyr package is installed, and if not, install it\n",
    "if (!requireNamespace(\"dplyr\", quietly = TRUE)) {\n",
    "  install.packages(\"dplyr\")\n",
    "}\n",
    "\n",
    "# Load the dplyr package\n",
    "library(dplyr)\n",
    "\n",
    "# Check if the readxl package is installed, and if not, install it\n",
    "if (!requireNamespace(\"readxl\", quietly = TRUE)) {\n",
    "  install.packages(\"readxl\")\n",
    "}\n",
    "\n",
    "# Load the readxl package\n",
    "library(readxl)\n",
    "\n",
    "# Check if the reshape2 package is installed, and if not, install it\n",
    "if (!requireNamespace(\"reshape2\", quietly = TRUE)) {\n",
    "  install.packages(\"reshape2\")\n",
    "}\n",
    "\n",
    "# Load the reshape2 package\n",
    "library(reshape2)\n",
    "\n",
    "# Check if the MatchIt package is installed, and if not, install it\n",
    "if (!requireNamespace(\"MatchIt\", quietly = TRUE)) {\n",
    "  install.packages(\"MatchIt\")\n",
    "}\n",
    "\n",
    "# Load the MatchIt package\n",
    "library(MatchIt)\n",
    "\n",
    "# Check if the lmtest package is installed, and if not, install it\n",
    "if (!requireNamespace(\"lmtest\", quietly = TRUE)) {\n",
    "  install.packages(\"lmtest\")\n",
    "}\n",
    "\n",
    "# Load the lmtest package\n",
    "library(lmtest)\n",
    "\n",
    "# Check if the sandwich package is installed, and if not, install it\n",
    "if (!requireNamespace(\"sandwich\", quietly = TRUE)) {\n",
    "  install.packages(\"sandwich\")\n",
    "}\n",
    "\n",
    "# Load the sandwich package\n",
    "library(sandwich)\n",
    "\n",
    "# Check if the gbm package is installed, and if not, install it\n",
    "if (!requireNamespace(\"gbm\", quietly = TRUE)) {\n",
    "  install.packages(\"gbm\")\n",
    "}\n",
    "\n",
    "# Load the gbm package\n",
    "library(gbm)\n",
    "\n",
    "# Check if the vtable package is installed, and if not, install it\n",
    "if (!requireNamespace(\"vtable\", quietly = TRUE)) {\n",
    "  install.packages(\"vtable\")\n",
    "}\n",
    "library(vtable)\n",
    "\n",
    "# Check if the zoo package is installed, and if not, install it\n",
    "if (!requireNamespace(\"zoo\", quietly = TRUE)) {\n",
    "  install.packages(\"zoo\")\n",
    "}\n",
    "library(zoo)\n",
    "\n",
    "# Check if the cobalt package is installed, and if not, install it\n",
    "if (!requireNamespace(\"cobalt\", quietly = TRUE)) {\n",
    "  install.packages(\"cobalt\")\n",
    "}\n",
    "library(cobalt)\n",
    "\n",
    "# Check if the patchwork package is installed, and if not, install it\n",
    "if (!requireNamespace(\"patchwork\", quietly = TRUE)) {\n",
    "  install.packages(\"patchwork\")\n",
    "}\n",
    "library(patchwork)\n",
    "\n",
    "# Check if the plm package is installed, and if not, install it\n",
    "if (!requireNamespace(\"plm\", quietly = TRUE)) {\n",
    "  install.packages(\"plm\")\n",
    "}\n",
    "library(plm)\n",
    "\n",
    "# Check if the stargazer package is installed, and if not, install it\n",
    "if (!requireNamespace(\"stargazer\", quietly = TRUE)) {\n",
    "  install.packages(\"stargazer\")\n",
    "}\n",
    "library(stargazer)\n",
    "\n",
    "# Check if the car package is installed, and if not, install it\n",
    "if (!requireNamespace(\"car\", quietly = TRUE)) {\n",
    "  install.packages(\"car\")\n",
    "}\n",
    "library(car)\n",
    "\n",
    "# Suppress summarise info\n",
    "options(dplyr.summarise.inform = FALSE)\n",
    "\n",
    "options(repr.matrix.max.cols=150, repr.matrix.max.rows=200)\n",
    "\n",
    "# Set plot options for plot width, height, and resolution\n",
    "options(repr.plot.width = 15, repr.plot.height = 8, repr.plot.res = 200)\n",
    "# options(repr.plot.width = 10, repr.plot.height = 5, repr.plot.res = 250)"
   ]
  },
  {
   "cell_type": "markdown",
   "metadata": {},
   "source": [
    "### 1.a. Processing World Bank indicators"
   ]
  },
  {
   "cell_type": "code",
   "execution_count": 17,
   "metadata": {
    "vscode": {
     "languageId": "r"
    }
   },
   "outputs": [
    {
     "name": "stderr",
     "output_type": "stream",
     "text": [
      "\u001b[1mRows: \u001b[22m\u001b[34m8783\u001b[39m \u001b[1mColumns: \u001b[22m\u001b[34m54\u001b[39m\n",
      "\u001b[36m──\u001b[39m \u001b[1mColumn specification\u001b[22m \u001b[36m────────────────────────────────────────────────────────\u001b[39m\n",
      "\u001b[1mDelimiter:\u001b[22m \",\"\n",
      "\u001b[31mchr\u001b[39m  (4): Country Name, Country Code, Series Name, Series Code\n",
      "\u001b[32mdbl\u001b[39m (50): 1974 [YR1974], 1975 [YR1975], 1976 [YR1976], 1977 [YR1977], 1978 [...\n",
      "\n",
      "\u001b[36mℹ\u001b[39m Use `spec()` to retrieve the full column specification for this data.\n",
      "\u001b[36mℹ\u001b[39m Specify the column types or set `show_col_types = FALSE` to quiet this message.\n"
     ]
    },
    {
     "name": "stdout",
     "output_type": "stream",
     "text": [
      "[1] 5975   17\n"
     ]
    },
    {
     "data": {
      "text/html": [
       "<table class=\"dataframe\">\n",
       "<caption>A tibble: 6 × 17</caption>\n",
       "<thead>\n",
       "\t<tr><th scope=col>country</th><th scope=col>country_code</th><th scope=col>year</th><th scope=col>gdp_per_capita</th><th scope=col>gdp_per_capita_growth_pct</th><th scope=col>agriculture_pct_gdp</th><th scope=col>industry_pct_gdp</th><th scope=col>pop_total</th><th scope=col>pop_in_largest_city_pct_of_urban_pop</th><th scope=col>pop_growth_pct</th><th scope=col>pop_density</th><th scope=col>pop_urban</th><th scope=col>pop_urban_pct_of_total</th><th scope=col>pop_rural</th><th scope=col>pop_rural_pct_of_total</th><th scope=col>gni</th><th scope=col>co2_em_kt</th></tr>\n",
       "\t<tr><th scope=col>&lt;chr&gt;</th><th scope=col>&lt;chr&gt;</th><th scope=col>&lt;dbl&gt;</th><th scope=col>&lt;dbl&gt;</th><th scope=col>&lt;dbl&gt;</th><th scope=col>&lt;dbl&gt;</th><th scope=col>&lt;dbl&gt;</th><th scope=col>&lt;dbl&gt;</th><th scope=col>&lt;dbl&gt;</th><th scope=col>&lt;dbl&gt;</th><th scope=col>&lt;dbl&gt;</th><th scope=col>&lt;dbl&gt;</th><th scope=col>&lt;dbl&gt;</th><th scope=col>&lt;dbl&gt;</th><th scope=col>&lt;dbl&gt;</th><th scope=col>&lt;dbl&gt;</th><th scope=col>&lt;dbl&gt;</th></tr>\n",
       "</thead>\n",
       "<tbody>\n",
       "\t<tr><td>Afghanistan</td><td>AFG</td><td>1995</td><td>NA</td><td>NA</td><td>NA</td><td>NA</td><td>16418912</td><td>54.32289</td><td>6.046536</td><td>25.17350</td><td>3550426</td><td>21.624</td><td>12868486</td><td>78.376</td><td>NA</td><td>1457.69</td></tr>\n",
       "\t<tr><td>Afghanistan</td><td>AFG</td><td>1996</td><td>NA</td><td>NA</td><td>NA</td><td>NA</td><td>17106595</td><td>54.25136</td><td>4.103022</td><td>26.22786</td><td>3714526</td><td>21.714</td><td>13392069</td><td>78.286</td><td>NA</td><td>1407.30</td></tr>\n",
       "\t<tr><td>Afghanistan</td><td>AFG</td><td>1997</td><td>NA</td><td>NA</td><td>NA</td><td>NA</td><td>17788819</td><td>54.27616</td><td>3.910605</td><td>27.27384</td><td>3878852</td><td>21.805</td><td>13909967</td><td>78.195</td><td>NA</td><td>1344.10</td></tr>\n",
       "\t<tr><td>Afghanistan</td><td>AFG</td><td>1998</td><td>NA</td><td>NA</td><td>NA</td><td>NA</td><td>18493132</td><td>54.32271</td><td>3.882931</td><td>28.35370</td><td>4049071</td><td>21.895</td><td>14444061</td><td>78.105</td><td>NA</td><td>1318.00</td></tr>\n",
       "\t<tr><td>Afghanistan</td><td>AFG</td><td>1999</td><td>NA</td><td>NA</td><td>NA</td><td>NA</td><td>19262847</td><td>54.26183</td><td>4.077879</td><td>29.53383</td><td>4235130</td><td>21.986</td><td>15027717</td><td>78.014</td><td>NA</td><td>1122.00</td></tr>\n",
       "\t<tr><td>Afghanistan</td><td>AFG</td><td>2000</td><td>NA</td><td>NA</td><td>NA</td><td>NA</td><td>19542982</td><td>55.64950</td><td>1.443803</td><td>29.96333</td><td>4314700</td><td>22.078</td><td>15228282</td><td>77.922</td><td>NA</td><td>1078.12</td></tr>\n",
       "</tbody>\n",
       "</table>\n"
      ],
      "text/latex": [
       "A tibble: 6 × 17\n",
       "\\begin{tabular}{lllllllllllllllll}\n",
       " country & country\\_code & year & gdp\\_per\\_capita & gdp\\_per\\_capita\\_growth\\_pct & agriculture\\_pct\\_gdp & industry\\_pct\\_gdp & pop\\_total & pop\\_in\\_largest\\_city\\_pct\\_of\\_urban\\_pop & pop\\_growth\\_pct & pop\\_density & pop\\_urban & pop\\_urban\\_pct\\_of\\_total & pop\\_rural & pop\\_rural\\_pct\\_of\\_total & gni & co2\\_em\\_kt\\\\\n",
       " <chr> & <chr> & <dbl> & <dbl> & <dbl> & <dbl> & <dbl> & <dbl> & <dbl> & <dbl> & <dbl> & <dbl> & <dbl> & <dbl> & <dbl> & <dbl> & <dbl>\\\\\n",
       "\\hline\n",
       "\t Afghanistan & AFG & 1995 & NA & NA & NA & NA & 16418912 & 54.32289 & 6.046536 & 25.17350 & 3550426 & 21.624 & 12868486 & 78.376 & NA & 1457.69\\\\\n",
       "\t Afghanistan & AFG & 1996 & NA & NA & NA & NA & 17106595 & 54.25136 & 4.103022 & 26.22786 & 3714526 & 21.714 & 13392069 & 78.286 & NA & 1407.30\\\\\n",
       "\t Afghanistan & AFG & 1997 & NA & NA & NA & NA & 17788819 & 54.27616 & 3.910605 & 27.27384 & 3878852 & 21.805 & 13909967 & 78.195 & NA & 1344.10\\\\\n",
       "\t Afghanistan & AFG & 1998 & NA & NA & NA & NA & 18493132 & 54.32271 & 3.882931 & 28.35370 & 4049071 & 21.895 & 14444061 & 78.105 & NA & 1318.00\\\\\n",
       "\t Afghanistan & AFG & 1999 & NA & NA & NA & NA & 19262847 & 54.26183 & 4.077879 & 29.53383 & 4235130 & 21.986 & 15027717 & 78.014 & NA & 1122.00\\\\\n",
       "\t Afghanistan & AFG & 2000 & NA & NA & NA & NA & 19542982 & 55.64950 & 1.443803 & 29.96333 & 4314700 & 22.078 & 15228282 & 77.922 & NA & 1078.12\\\\\n",
       "\\end{tabular}\n"
      ],
      "text/markdown": [
       "\n",
       "A tibble: 6 × 17\n",
       "\n",
       "| country &lt;chr&gt; | country_code &lt;chr&gt; | year &lt;dbl&gt; | gdp_per_capita &lt;dbl&gt; | gdp_per_capita_growth_pct &lt;dbl&gt; | agriculture_pct_gdp &lt;dbl&gt; | industry_pct_gdp &lt;dbl&gt; | pop_total &lt;dbl&gt; | pop_in_largest_city_pct_of_urban_pop &lt;dbl&gt; | pop_growth_pct &lt;dbl&gt; | pop_density &lt;dbl&gt; | pop_urban &lt;dbl&gt; | pop_urban_pct_of_total &lt;dbl&gt; | pop_rural &lt;dbl&gt; | pop_rural_pct_of_total &lt;dbl&gt; | gni &lt;dbl&gt; | co2_em_kt &lt;dbl&gt; |\n",
       "|---|---|---|---|---|---|---|---|---|---|---|---|---|---|---|---|---|\n",
       "| Afghanistan | AFG | 1995 | NA | NA | NA | NA | 16418912 | 54.32289 | 6.046536 | 25.17350 | 3550426 | 21.624 | 12868486 | 78.376 | NA | 1457.69 |\n",
       "| Afghanistan | AFG | 1996 | NA | NA | NA | NA | 17106595 | 54.25136 | 4.103022 | 26.22786 | 3714526 | 21.714 | 13392069 | 78.286 | NA | 1407.30 |\n",
       "| Afghanistan | AFG | 1997 | NA | NA | NA | NA | 17788819 | 54.27616 | 3.910605 | 27.27384 | 3878852 | 21.805 | 13909967 | 78.195 | NA | 1344.10 |\n",
       "| Afghanistan | AFG | 1998 | NA | NA | NA | NA | 18493132 | 54.32271 | 3.882931 | 28.35370 | 4049071 | 21.895 | 14444061 | 78.105 | NA | 1318.00 |\n",
       "| Afghanistan | AFG | 1999 | NA | NA | NA | NA | 19262847 | 54.26183 | 4.077879 | 29.53383 | 4235130 | 21.986 | 15027717 | 78.014 | NA | 1122.00 |\n",
       "| Afghanistan | AFG | 2000 | NA | NA | NA | NA | 19542982 | 55.64950 | 1.443803 | 29.96333 | 4314700 | 22.078 | 15228282 | 77.922 | NA | 1078.12 |\n",
       "\n"
      ],
      "text/plain": [
       "  country     country_code year gdp_per_capita gdp_per_capita_growth_pct\n",
       "1 Afghanistan AFG          1995 NA             NA                       \n",
       "2 Afghanistan AFG          1996 NA             NA                       \n",
       "3 Afghanistan AFG          1997 NA             NA                       \n",
       "4 Afghanistan AFG          1998 NA             NA                       \n",
       "5 Afghanistan AFG          1999 NA             NA                       \n",
       "6 Afghanistan AFG          2000 NA             NA                       \n",
       "  agriculture_pct_gdp industry_pct_gdp pop_total\n",
       "1 NA                  NA               16418912 \n",
       "2 NA                  NA               17106595 \n",
       "3 NA                  NA               17788819 \n",
       "4 NA                  NA               18493132 \n",
       "5 NA                  NA               19262847 \n",
       "6 NA                  NA               19542982 \n",
       "  pop_in_largest_city_pct_of_urban_pop pop_growth_pct pop_density pop_urban\n",
       "1 54.32289                             6.046536       25.17350    3550426  \n",
       "2 54.25136                             4.103022       26.22786    3714526  \n",
       "3 54.27616                             3.910605       27.27384    3878852  \n",
       "4 54.32271                             3.882931       28.35370    4049071  \n",
       "5 54.26183                             4.077879       29.53383    4235130  \n",
       "6 55.64950                             1.443803       29.96333    4314700  \n",
       "  pop_urban_pct_of_total pop_rural pop_rural_pct_of_total gni co2_em_kt\n",
       "1 21.624                 12868486  78.376                 NA  1457.69  \n",
       "2 21.714                 13392069  78.286                 NA  1407.30  \n",
       "3 21.805                 13909967  78.195                 NA  1344.10  \n",
       "4 21.895                 14444061  78.105                 NA  1318.00  \n",
       "5 21.986                 15027717  78.014                 NA  1122.00  \n",
       "6 22.078                 15228282  77.922                 NA  1078.12  "
      ]
     },
     "metadata": {},
     "output_type": "display_data"
    }
   ],
   "source": [
    "# Read indicators from World Bank\n",
    "wb_indicators_raw <- read_csv(\"Data\\\\WDI - WorldBank\\\\Indicators.csv\")\n",
    "# Melt dataset to put years to rows\n",
    "wb_indicators_melted <- melt(wb_indicators_raw, id.vars = c(\"Country Name\", \"Country Code\", \"Series Code\", \"Series Name\"), \n",
    "                  variable.name = \"Year\", value.name = \"Value\")\n",
    "# Convert the 'Value' column to numeric, coerce errors\n",
    "wb_indicators_melted$Value <- as.numeric(as.character(wb_indicators_melted$Value))\n",
    "# Clean and convert the 'Year' column to numeric\n",
    "wb_indicators_melted$Year <- gsub(\"\\\\[.*\\\\]\", \"\", wb_indicators_melted$Year)\n",
    "wb_indicators_melted$Year <- as.numeric(wb_indicators_melted$Year)\n",
    "# Drop NAs\n",
    "wb_indicators_long <- na.omit(wb_indicators_melted)\n",
    "# Convert to wide format, representing each indicator as a column\n",
    "wb_indicators_wide <- pivot_wider(wb_indicators_long, \n",
    "                          id_cols = c(\"Country Name\", \"Country Code\", \"Year\"),  # List the columns you want to keep as base dimensions\n",
    "                          names_from = \"Series Code\", \n",
    "                          values_from = \"Value\")\n",
    "# Rename columns\n",
    "wb_indicators_wide <- wb_indicators_wide %>%\n",
    "        rename(!!!setNames(c(\"Country Name\", \"Country Code\", \"Year\"), c(\"country\", \"country_code\", \"year\")))\n",
    "# Column name mapping\n",
    "wb_indicators_mapping <- c(\n",
    "\"gdp_per_capita\" = \"NY.GDP.PCAP.CD\",\n",
    "  \"gdp_per_capita_growth_pct\" = \"NY.GDP.PCAP.KD.ZG\",\n",
    "  \"agriculture_pct_gdp\" = \"NV.AGR.TOTL.ZS\",\n",
    "  \"industry_pct_gdp\" = \"NV.IND.TOTL.ZS\",\n",
    "  \"pop_total\" = \"SP.POP.TOTL\",\n",
    "  \"pop_in_largest_city_pct_of_urban_pop\" = \"EN.URB.LCTY.UR.ZS\",\n",
    "  \"pop_growth_pct\" = \"SP.POP.GROW\",\n",
    "  \"pop_density\" = \"EN.POP.DNST\",\n",
    "  \"pop_urban\" = \"SP.URB.TOTL\",\n",
    "  \"pop_urban_pct_of_total\" = \"SP.URB.TOTL.IN.ZS\",\n",
    "  \"pop_rural\" = \"SP.RUR.TOTL\",\n",
    "  \"pop_rural_pct_of_total\" = \"SP.RUR.TOTL.ZS\",\n",
    "  \"gni\" = \"NY.GDY.TOTL.KN\",\n",
    "  \"co2_em_kt\" = \"EN.ATM.CO2E.KT\"\n",
    "    # ,\n",
    "  # \"co2_em_gaseous_fuel_kt\" = \"EN.ATM.CO2E.GF.KT\",\n",
    "  # \"co2_em_liquid_fuel_kt\" = \"EN.ATM.CO2E.LF.KT\",\n",
    "  # \"co2_em_solid_fuel_kt\" = \"EN.ATM.CO2E.SF.KT\"\n",
    ")\n",
    "\n",
    "# Apply remapping of column names\n",
    "wb_indicators_wide <- wb_indicators_wide %>% rename(!!!wb_indicators_mapping) %>% select(c(\"country\", \"country_code\", \"year\", names(wb_indicators_mapping)))\n",
    "\n",
    "# Drop records where the matching dependent variable is missing\n",
    "wb_indicators_filtered <- wb_indicators_wide %>% filter(!is.na(co2_em_kt))\n",
    "\n",
    "# Sort dataset\n",
    "wb_indicators_final <- wb_indicators_filtered %>% filter(year >= 1995 & year <= 2019) %>% arrange (country, year)\n",
    "# Check final dataset\n",
    "print(dim(wb_indicators_final))\n",
    "head(wb_indicators_final)"
   ]
  },
  {
   "cell_type": "markdown",
   "metadata": {},
   "source": [
    "### 1.b. Processing weather variables"
   ]
  },
  {
   "cell_type": "code",
   "execution_count": 18,
   "metadata": {
    "vscode": {
     "languageId": "r"
    }
   },
   "outputs": [
    {
     "name": "stdout",
     "output_type": "stream",
     "text": [
      "[1] \"precipitation_final: 6666 rows\"\n",
      "[1] \"humidity_final: 6666 rows\"\n",
      "[1] \"avg_surface_temp_final: 6666 rows\"\n",
      "[1] \"weather_joined: 6666 rows\"\n",
      "[1] 5000    6\n"
     ]
    },
    {
     "data": {
      "text/html": [
       "<table class=\"dataframe\">\n",
       "<caption>A data.frame: 6 × 6</caption>\n",
       "<thead>\n",
       "\t<tr><th></th><th scope=col>country</th><th scope=col>country_code</th><th scope=col>year</th><th scope=col>precipitation</th><th scope=col>humidity</th><th scope=col>avg_surface_temp</th></tr>\n",
       "\t<tr><th></th><th scope=col>&lt;chr&gt;</th><th scope=col>&lt;chr&gt;</th><th scope=col>&lt;dbl&gt;</th><th scope=col>&lt;dbl&gt;</th><th scope=col>&lt;dbl&gt;</th><th scope=col>&lt;dbl&gt;</th></tr>\n",
       "</thead>\n",
       "<tbody>\n",
       "\t<tr><th scope=row>1</th><td>Afghanistan</td><td>AFG</td><td>1995</td><td>0.016</td><td>45.20</td><td>8.728</td></tr>\n",
       "\t<tr><th scope=row>2</th><td>Afghanistan</td><td>AFG</td><td>1996</td><td>0.015</td><td>45.28</td><td>8.676</td></tr>\n",
       "\t<tr><th scope=row>3</th><td>Afghanistan</td><td>AFG</td><td>1997</td><td>0.017</td><td>48.20</td><td>8.526</td></tr>\n",
       "\t<tr><th scope=row>4</th><td>Afghanistan</td><td>AFG</td><td>1998</td><td>0.017</td><td>45.80</td><td>9.807</td></tr>\n",
       "\t<tr><th scope=row>5</th><td>Afghanistan</td><td>AFG</td><td>1999</td><td>0.014</td><td>45.53</td><td>9.722</td></tr>\n",
       "\t<tr><th scope=row>6</th><td>Afghanistan</td><td>AFG</td><td>2000</td><td>0.009</td><td>40.39</td><td>9.687</td></tr>\n",
       "</tbody>\n",
       "</table>\n"
      ],
      "text/latex": [
       "A data.frame: 6 × 6\n",
       "\\begin{tabular}{r|llllll}\n",
       "  & country & country\\_code & year & precipitation & humidity & avg\\_surface\\_temp\\\\\n",
       "  & <chr> & <chr> & <dbl> & <dbl> & <dbl> & <dbl>\\\\\n",
       "\\hline\n",
       "\t1 & Afghanistan & AFG & 1995 & 0.016 & 45.20 & 8.728\\\\\n",
       "\t2 & Afghanistan & AFG & 1996 & 0.015 & 45.28 & 8.676\\\\\n",
       "\t3 & Afghanistan & AFG & 1997 & 0.017 & 48.20 & 8.526\\\\\n",
       "\t4 & Afghanistan & AFG & 1998 & 0.017 & 45.80 & 9.807\\\\\n",
       "\t5 & Afghanistan & AFG & 1999 & 0.014 & 45.53 & 9.722\\\\\n",
       "\t6 & Afghanistan & AFG & 2000 & 0.009 & 40.39 & 9.687\\\\\n",
       "\\end{tabular}\n"
      ],
      "text/markdown": [
       "\n",
       "A data.frame: 6 × 6\n",
       "\n",
       "| <!--/--> | country &lt;chr&gt; | country_code &lt;chr&gt; | year &lt;dbl&gt; | precipitation &lt;dbl&gt; | humidity &lt;dbl&gt; | avg_surface_temp &lt;dbl&gt; |\n",
       "|---|---|---|---|---|---|---|\n",
       "| 1 | Afghanistan | AFG | 1995 | 0.016 | 45.20 | 8.728 |\n",
       "| 2 | Afghanistan | AFG | 1996 | 0.015 | 45.28 | 8.676 |\n",
       "| 3 | Afghanistan | AFG | 1997 | 0.017 | 48.20 | 8.526 |\n",
       "| 4 | Afghanistan | AFG | 1998 | 0.017 | 45.80 | 9.807 |\n",
       "| 5 | Afghanistan | AFG | 1999 | 0.014 | 45.53 | 9.722 |\n",
       "| 6 | Afghanistan | AFG | 2000 | 0.009 | 40.39 | 9.687 |\n",
       "\n"
      ],
      "text/plain": [
       "  country     country_code year precipitation humidity avg_surface_temp\n",
       "1 Afghanistan AFG          1995 0.016         45.20    8.728           \n",
       "2 Afghanistan AFG          1996 0.015         45.28    8.676           \n",
       "3 Afghanistan AFG          1997 0.017         48.20    8.526           \n",
       "4 Afghanistan AFG          1998 0.017         45.80    9.807           \n",
       "5 Afghanistan AFG          1999 0.014         45.53    9.722           \n",
       "6 Afghanistan AFG          2000 0.009         40.39    9.687           "
      ]
     },
     "metadata": {},
     "output_type": "display_data"
    }
   ],
   "source": [
    "# Read weather datasets\n",
    "precipitation_raw = read_csv(\"Data\\\\Weather\\\\GDL-Total-Yearly-Precipitation-data.csv\", col_types = cols())\n",
    "humidity_raw = read_csv(\"Data\\\\Weather\\\\GDL-Yearly-Average-Relative-Humidity-data.csv\", col_types = cols())\n",
    "avg_surface_temp_raw = read_csv(\"Data\\\\Weather\\\\GDL-Yearly-Average-Surface-Temperature-(ºC)-data.csv\", col_types = cols())\n",
    "# Common fuction to melt and clean weather datasets\n",
    "clean_weather_datasets <- function (df, measure) {\n",
    "    # Melt dataset to put years to rows\n",
    "    df_melted <- melt(df, id.vars = c(\"Country\", \"Continent\", \"ISO_Code\", \"Level\", \"GDLCODE\", \"Region\"), \n",
    "                    variable.name = \"Year\", value.name = \"Value\")\n",
    "    # Convert the 'Value' column to numeric, coerce errors\n",
    "    df_melted[measure] <- as.numeric(df_melted$Value)\n",
    "    # Clean and convert the 'Year' column to numeric\n",
    "    df_melted$Year <- as.numeric(as.character(df_melted$Year))\n",
    "    # Drop NAs\n",
    "    df_final <- na.omit(df_melted)\n",
    "    # Drop unnecassary columns\n",
    "    cols_to_drop <- c(\"Continent\", \"Level\", \"GDLCODE\", \"Region\", \"Value\")\n",
    "    df_final <- df_final %>% select(-one_of(cols_to_drop))\n",
    "    # Rename columns\n",
    "    df_final <- df_final %>%\n",
    "        rename(!!!setNames(c(\"Country\", \"ISO_Code\", \"Year\"), c(\"country\", \"country_code\", \"year\")))\n",
    "    # Return cleaned dataframe\n",
    "    return (df_final)\n",
    "    }\n",
    "# Melt and clean weather datasets\n",
    "precipitation_final <- clean_weather_datasets(precipitation_raw, \"precipitation\")\n",
    "humidity_final <- clean_weather_datasets(humidity_raw, \"humidity\")\n",
    "avg_surface_temp_final <- clean_weather_datasets(avg_surface_temp_raw, \"avg_surface_temp\")\n",
    "# Check dimensions before join\n",
    "print(paste0(\"precipitation_final: \" ,dim(precipitation_final)[1], \" rows\"))\n",
    "print(paste0(\"humidity_final: \" ,dim(humidity_final)[1], \" rows\"))\n",
    "print(paste0(\"avg_surface_temp_final: \" ,dim(avg_surface_temp_final)[1], \" rows\"))\n",
    "# Inner join precipitation, humidity and avg surface temperature datasets\n",
    "weather_joined <- inner_join(precipitation_final, humidity_final, by = c(\"country\", \"country_code\", \"year\")) %>%\n",
    "             inner_join(avg_surface_temp_final, by = c(\"country\", \"country_code\", \"year\"))\n",
    "# Check dimensions after inner join\n",
    "print(paste0(\"weather_joined: \" ,dim(weather_joined)[1], \" rows\"))\n",
    "# Remap country codes to right names and remove duplication on country names\n",
    "country_remap = c(\n",
    "  \"REU\" = \"Réunion\", # Country was France\n",
    "  \"GUF\" = \"French Guiana\", # Country was France\n",
    "  \"MYT\" = \"Mayotte\", # Country was France\n",
    "  \"TWN\" = \"Taiwan\", # Country was China\n",
    "  \"Z06\" = \"Unknown1\", # Country was Pakistan\n",
    "  \"PRK\" = \"Unknown2\" # Country was Pakistan\n",
    ")\n",
    "# Apply the country remap to the country column based on matches with country_code\n",
    "weather_joined_mapped <- weather_joined %>%\n",
    "  mutate(country = if_else(country_code %in% names(country_remap), \n",
    "                           country_remap[country_code], \n",
    "                           country))\n",
    "\n",
    "outlier_countries <- weather_joined_mapped %>% filter(avg_surface_temp < -1) %>% select (country) %>% unique()\n",
    "weather_joined_filtered <- weather_joined_mapped %>% filter(!country %in% outlier_countries$country)\n",
    "# Sort dataset\n",
    "weather_final <- weather_joined_filtered %>% filter(year >= 1995 & year <= 2019) %>% arrange(country, year)\n",
    "# Check dataset\n",
    "print(dim(weather_final))\n",
    "head(weather_final)"
   ]
  },
  {
   "cell_type": "markdown",
   "metadata": {
    "vscode": {
     "languageId": "r"
    }
   },
   "source": [
    "### 1.c. Processing EU ETS variables"
   ]
  },
  {
   "cell_type": "code",
   "execution_count": 19,
   "metadata": {
    "vscode": {
     "languageId": "r"
    }
   },
   "outputs": [
    {
     "name": "stdout",
     "output_type": "stream",
     "text": [
      "[1] 480   6\n"
     ]
    },
    {
     "data": {
      "text/html": [
       "<table class=\"dataframe\">\n",
       "<caption>A grouped_df: 6 × 6</caption>\n",
       "<thead>\n",
       "\t<tr><th scope=col>country</th><th scope=col>country_code</th><th scope=col>year</th><th scope=col>free_EUAs</th><th scope=col>total_EUAs</th><th scope=col>auctioned_sold_EUAs</th></tr>\n",
       "\t<tr><th scope=col>&lt;chr&gt;</th><th scope=col>&lt;chr&gt;</th><th scope=col>&lt;dbl&gt;</th><th scope=col>&lt;dbl&gt;</th><th scope=col>&lt;dbl&gt;</th><th scope=col>&lt;dbl&gt;</th></tr>\n",
       "</thead>\n",
       "<tbody>\n",
       "\t<tr><td>Austria</td><td>AT</td><td>2005</td><td>32412654</td><td>32412654</td><td>     0</td></tr>\n",
       "\t<tr><td>Austria</td><td>AT</td><td>2006</td><td>32649366</td><td>32649366</td><td>     0</td></tr>\n",
       "\t<tr><td>Austria</td><td>AT</td><td>2007</td><td>32729289</td><td>32729289</td><td>     0</td></tr>\n",
       "\t<tr><td>Austria</td><td>AT</td><td>2008</td><td>30718182</td><td>30718182</td><td>     0</td></tr>\n",
       "\t<tr><td>Austria</td><td>AT</td><td>2009</td><td>30313132</td><td>30718182</td><td>405050</td></tr>\n",
       "\t<tr><td>Austria</td><td>AT</td><td>2010</td><td>30563812</td><td>30963812</td><td>400000</td></tr>\n",
       "</tbody>\n",
       "</table>\n"
      ],
      "text/latex": [
       "A grouped\\_df: 6 × 6\n",
       "\\begin{tabular}{llllll}\n",
       " country & country\\_code & year & free\\_EUAs & total\\_EUAs & auctioned\\_sold\\_EUAs\\\\\n",
       " <chr> & <chr> & <dbl> & <dbl> & <dbl> & <dbl>\\\\\n",
       "\\hline\n",
       "\t Austria & AT & 2005 & 32412654 & 32412654 &      0\\\\\n",
       "\t Austria & AT & 2006 & 32649366 & 32649366 &      0\\\\\n",
       "\t Austria & AT & 2007 & 32729289 & 32729289 &      0\\\\\n",
       "\t Austria & AT & 2008 & 30718182 & 30718182 &      0\\\\\n",
       "\t Austria & AT & 2009 & 30313132 & 30718182 & 405050\\\\\n",
       "\t Austria & AT & 2010 & 30563812 & 30963812 & 400000\\\\\n",
       "\\end{tabular}\n"
      ],
      "text/markdown": [
       "\n",
       "A grouped_df: 6 × 6\n",
       "\n",
       "| country &lt;chr&gt; | country_code &lt;chr&gt; | year &lt;dbl&gt; | free_EUAs &lt;dbl&gt; | total_EUAs &lt;dbl&gt; | auctioned_sold_EUAs &lt;dbl&gt; |\n",
       "|---|---|---|---|---|---|\n",
       "| Austria | AT | 2005 | 32412654 | 32412654 |      0 |\n",
       "| Austria | AT | 2006 | 32649366 | 32649366 |      0 |\n",
       "| Austria | AT | 2007 | 32729289 | 32729289 |      0 |\n",
       "| Austria | AT | 2008 | 30718182 | 30718182 |      0 |\n",
       "| Austria | AT | 2009 | 30313132 | 30718182 | 405050 |\n",
       "| Austria | AT | 2010 | 30563812 | 30963812 | 400000 |\n",
       "\n"
      ],
      "text/plain": [
       "  country country_code year free_EUAs total_EUAs auctioned_sold_EUAs\n",
       "1 Austria AT           2005 32412654  32412654        0             \n",
       "2 Austria AT           2006 32649366  32649366        0             \n",
       "3 Austria AT           2007 32729289  32729289        0             \n",
       "4 Austria AT           2008 30718182  30718182        0             \n",
       "5 Austria AT           2009 30313132  30718182   405050             \n",
       "6 Austria AT           2010 30563812  30963812   400000             "
      ]
     },
     "metadata": {},
     "output_type": "display_data"
    }
   ],
   "source": [
    "# Read EU ETS database\n",
    "eu_ets_raw = read.csv(\"Data\\\\EU ETS\\\\ETS_Database_Jul23.csv\", sep = \"\\t\", na.strings = \"\", fileEncoding = \"UTF-8\")\n",
    "# Define the mapping of old names to new names for EUAs\n",
    "eua_breakdown <- c(\n",
    "  \"1. Total allocated allowances (EUA or EUAA)\" = \"total_EUAs\",\n",
    "  \"1.1 Freely allocated allowances\" = \"free_EUAs\",\n",
    "  \"1.2 Correction to freely allocated allowances (not reflected in EUTL)\" = \"free_correction_EUAs\",\n",
    "  \"1.3 Allowances auctioned or sold (EUAs and EUAAs)\" = \"auctioned_sold_EUAs\"\n",
    ")\n",
    "# Drop unnecassary information columns, \n",
    "# keep only total EUAs, freely allocated EUAs, correction to freely allocated EUAs and EUAs auctioned or sold\n",
    "# also rename occurences\n",
    "eu_ets_raw <- eu_ets_raw %>%\n",
    "  filter(ETS.information %in% names(eua_breakdown)) %>%\n",
    "  mutate(ETS.information = case_when(\n",
    "    ETS.information %in% names(eua_breakdown) ~ eua_breakdown[ETS.information],\n",
    "    TRUE ~ ETS.information\n",
    "  ))\n",
    "# Define the mapping of old names to new names for sector breakdown\n",
    "sector_breakdown <- c(\n",
    "    \"20-99 All stationary installations\" = \"all_stationary\",\n",
    "    \"10 Aviation\" = \"aviation\")\n",
    "# Drop sector breakdown, just include all stationary installations and aviation\n",
    "# also rename occurences\n",
    "eu_ets_raw <- eu_ets_raw %>%\n",
    "  filter(main.activity.sector.name %in% names(sector_breakdown)) %>%\n",
    "  mutate(main.activity.sector.name = case_when(\n",
    "    main.activity.sector.name %in% names(sector_breakdown) ~ sector_breakdown[main.activity.sector.name],\n",
    "    TRUE ~ main.activity.sector.name\n",
    "  ))\n",
    "# Remove period aggregates and keep years only\n",
    "eu_ets_raw <- eu_ets_raw %>% filter(nchar(year) == 4)\n",
    "# Convert to wide format, representing each EUA breakdown as a column\n",
    "eu_ets_wide <- pivot_wider(eu_ets_raw, \n",
    "                          id_cols = c(\"country\", \"country_code\", \"year\"),  # List the columns you want to keep as base dimensions\n",
    "                          names_from = \"ETS.information\", \n",
    "                          values_from = \"value\",\n",
    "                          values_fn = sum)\n",
    "# Fill NAs with 0\n",
    "eu_ets_wide[is.na(eu_ets_wide)] <- 0\n",
    "# Convert year column to numeric\n",
    "eu_ets_wide$year <- as.numeric(eu_ets_wide$year)\n",
    "# Apply correction to freely allocated EUAs\n",
    "eu_ets_wide$free_EUAs <- eu_ets_wide$free_EUAs + eu_ets_wide$free_correction_EUAs\n",
    "# Drop correction to freely allocated EUAs column\n",
    "eu_ets_wide$free_correction_EUAs <- NULL\n",
    "# Rename Northen Ireland to UK\n",
    "eu_ets_wide$country <- ifelse(eu_ets_wide$country %in% c(\"United Kingdom (excl. NI)\", \"Northern Ireland\"), \"United Kingdom\", eu_ets_wide$country)\n",
    "eu_ets_wide$country_code <- ifelse(eu_ets_wide$country == \"United Kingdom\", \"UK\", eu_ets_wide$country_code)\n",
    "# Aggregate Northen Ireland to UK\n",
    "eu_ets_final <- eu_ets_wide %>% \n",
    "  group_by(country, country_code, year) %>% \n",
    "  summarize(\n",
    "    free_EUAs = sum(free_EUAs),\n",
    "    total_EUAs = sum(total_EUAs),\n",
    "    auctioned_sold_EUAs = sum(auctioned_sold_EUAs)\n",
    "  )\n",
    "# Sort dataset by country and year\n",
    "eu_ets_final <- eu_ets_final %>% filter(year <= 2019) %>% arrange(country, year)\n",
    "# Check dataset\n",
    "print(dim(eu_ets_final))\n",
    "head(eu_ets_final)"
   ]
  },
  {
   "cell_type": "markdown",
   "metadata": {},
   "source": [
    "### 1.d. Processing PM2.5 variables"
   ]
  },
  {
   "cell_type": "code",
   "execution_count": 20,
   "metadata": {
    "vscode": {
     "languageId": "r"
    }
   },
   "outputs": [
    {
     "name": "stdout",
     "output_type": "stream",
     "text": [
      "[1] 1950    8\n"
     ]
    },
    {
     "data": {
      "text/html": [
       "<table class=\"dataframe\">\n",
       "<caption>A tibble: 6 × 8</caption>\n",
       "<thead>\n",
       "\t<tr><th scope=col>country_code</th><th scope=col>country</th><th scope=col>year</th><th scope=col>PM25_Cities</th><th scope=col>PM25_rural</th><th scope=col>PM25_Total</th><th scope=col>PM25_Towns</th><th scope=col>PM25_Urban</th></tr>\n",
       "\t<tr><th scope=col>&lt;chr&gt;</th><th scope=col>&lt;chr&gt;</th><th scope=col>&lt;int&gt;</th><th scope=col>&lt;dbl&gt;</th><th scope=col>&lt;dbl&gt;</th><th scope=col>&lt;dbl&gt;</th><th scope=col>&lt;dbl&gt;</th><th scope=col>&lt;dbl&gt;</th></tr>\n",
       "</thead>\n",
       "<tbody>\n",
       "\t<tr><td>AFG</td><td>Afghanistan</td><td>2010</td><td>92.79</td><td>61.81</td><td>68.97</td><td>69.67</td><td>83.13</td></tr>\n",
       "\t<tr><td>AFG</td><td>Afghanistan</td><td>2011</td><td>89.57</td><td>60.11</td><td>66.94</td><td>67.72</td><td>80.45</td></tr>\n",
       "\t<tr><td>AFG</td><td>Afghanistan</td><td>2012</td><td>92.04</td><td>61.09</td><td>68.26</td><td>68.88</td><td>82.40</td></tr>\n",
       "\t<tr><td>AFG</td><td>Afghanistan</td><td>2013</td><td>97.49</td><td>64.50</td><td>72.18</td><td>73.01</td><td>87.33</td></tr>\n",
       "\t<tr><td>AFG</td><td>Afghanistan</td><td>2014</td><td>91.92</td><td>60.79</td><td>68.06</td><td>68.85</td><td>82.36</td></tr>\n",
       "\t<tr><td>AFG</td><td>Afghanistan</td><td>2015</td><td>90.88</td><td>59.99</td><td>67.20</td><td>67.90</td><td>81.38</td></tr>\n",
       "</tbody>\n",
       "</table>\n"
      ],
      "text/latex": [
       "A tibble: 6 × 8\n",
       "\\begin{tabular}{llllllll}\n",
       " country\\_code & country & year & PM25\\_Cities & PM25\\_rural & PM25\\_Total & PM25\\_Towns & PM25\\_Urban\\\\\n",
       " <chr> & <chr> & <int> & <dbl> & <dbl> & <dbl> & <dbl> & <dbl>\\\\\n",
       "\\hline\n",
       "\t AFG & Afghanistan & 2010 & 92.79 & 61.81 & 68.97 & 69.67 & 83.13\\\\\n",
       "\t AFG & Afghanistan & 2011 & 89.57 & 60.11 & 66.94 & 67.72 & 80.45\\\\\n",
       "\t AFG & Afghanistan & 2012 & 92.04 & 61.09 & 68.26 & 68.88 & 82.40\\\\\n",
       "\t AFG & Afghanistan & 2013 & 97.49 & 64.50 & 72.18 & 73.01 & 87.33\\\\\n",
       "\t AFG & Afghanistan & 2014 & 91.92 & 60.79 & 68.06 & 68.85 & 82.36\\\\\n",
       "\t AFG & Afghanistan & 2015 & 90.88 & 59.99 & 67.20 & 67.90 & 81.38\\\\\n",
       "\\end{tabular}\n"
      ],
      "text/markdown": [
       "\n",
       "A tibble: 6 × 8\n",
       "\n",
       "| country_code &lt;chr&gt; | country &lt;chr&gt; | year &lt;int&gt; | PM25_Cities &lt;dbl&gt; | PM25_rural &lt;dbl&gt; | PM25_Total &lt;dbl&gt; | PM25_Towns &lt;dbl&gt; | PM25_Urban &lt;dbl&gt; |\n",
       "|---|---|---|---|---|---|---|---|\n",
       "| AFG | Afghanistan | 2010 | 92.79 | 61.81 | 68.97 | 69.67 | 83.13 |\n",
       "| AFG | Afghanistan | 2011 | 89.57 | 60.11 | 66.94 | 67.72 | 80.45 |\n",
       "| AFG | Afghanistan | 2012 | 92.04 | 61.09 | 68.26 | 68.88 | 82.40 |\n",
       "| AFG | Afghanistan | 2013 | 97.49 | 64.50 | 72.18 | 73.01 | 87.33 |\n",
       "| AFG | Afghanistan | 2014 | 91.92 | 60.79 | 68.06 | 68.85 | 82.36 |\n",
       "| AFG | Afghanistan | 2015 | 90.88 | 59.99 | 67.20 | 67.90 | 81.38 |\n",
       "\n"
      ],
      "text/plain": [
       "  country_code country     year PM25_Cities PM25_rural PM25_Total PM25_Towns\n",
       "1 AFG          Afghanistan 2010 92.79       61.81      68.97      69.67     \n",
       "2 AFG          Afghanistan 2011 89.57       60.11      66.94      67.72     \n",
       "3 AFG          Afghanistan 2012 92.04       61.09      68.26      68.88     \n",
       "4 AFG          Afghanistan 2013 97.49       64.50      72.18      73.01     \n",
       "5 AFG          Afghanistan 2014 91.92       60.79      68.06      68.85     \n",
       "6 AFG          Afghanistan 2015 90.88       59.99      67.20      67.90     \n",
       "  PM25_Urban\n",
       "1 83.13     \n",
       "2 80.45     \n",
       "3 82.40     \n",
       "4 87.33     \n",
       "5 82.36     \n",
       "6 81.38     "
      ]
     },
     "metadata": {},
     "output_type": "display_data"
    }
   ],
   "source": [
    "# Read PM2.5 data from WHO\n",
    "pm25_raw = read.csv(\"Data\\\\WHO PM2.5\\\\SDG Indicator 11.6.2. Concentrations of PM2.5.csv\")\n",
    "# Define the mapping of old names to new names for the whole dataset\n",
    "pm25_columns_old <- c(\"SpatialDimValueCode\", \"Location\", \"Period\", \"Dim1\", \"FactValueNumeric\")\n",
    "pm25_columns_new <- c(\"country_code\", \"country\", \"year\", \"residence_area\", \"PM25\")\n",
    "# Drop unnecessary columns\n",
    "pm25_raw <- pm25_raw %>% select(all_of(pm25_columns_old))\n",
    "# Rename respective columns\n",
    "pm25_raw <- pm25_raw %>% rename(!!!setNames(pm25_columns_old,pm25_columns_new))\n",
    "# Convert to long format, also pulling residence area breakdown to columns\n",
    "pm25_long <- pm25_raw %>%\n",
    "  pivot_wider(names_from = residence_area,\n",
    "              values_from = c(PM25),\n",
    "              names_glue = \"{.value}_{residence_area}\")\n",
    "# Sort dataset\n",
    "pm25_final <- pm25_long %>% arrange (country,year)\n",
    "# Check dataset\n",
    "print(dim(pm25_final))\n",
    "head(pm25_final)\n",
    "# pm25_long[(pm25_long$country_code == \"DEU\"),]"
   ]
  },
  {
   "cell_type": "markdown",
   "metadata": {},
   "source": [
    "### 1.e. Combining datasets"
   ]
  },
  {
   "cell_type": "code",
   "execution_count": 21,
   "metadata": {
    "vscode": {
     "languageId": "r"
    }
   },
   "outputs": [
    {
     "name": "stdout",
     "output_type": "stream",
     "text": [
      "[1] 4600   27\n"
     ]
    },
    {
     "data": {
      "text/html": [
       "<table class=\"dataframe\">\n",
       "<caption>A data.frame: 6 × 27</caption>\n",
       "<thead>\n",
       "\t<tr><th></th><th scope=col>year</th><th scope=col>country</th><th scope=col>PM25_Cities</th><th scope=col>PM25_rural</th><th scope=col>PM25_Towns</th><th scope=col>PM25_Urban</th><th scope=col>PM25_Total</th><th scope=col>co2_em_kt</th><th scope=col>gdp_per_capita</th><th scope=col>gdp_per_capita_growth_pct</th><th scope=col>agriculture_pct_gdp</th><th scope=col>industry_pct_gdp</th><th scope=col>pop_total</th><th scope=col>pop_in_largest_city_pct_of_urban_pop</th><th scope=col>pop_growth_pct</th><th scope=col>pop_density</th><th scope=col>pop_urban</th><th scope=col>pop_urban_pct_of_total</th><th scope=col>pop_rural</th><th scope=col>pop_rural_pct_of_total</th><th scope=col>gni</th><th scope=col>precipitation</th><th scope=col>humidity</th><th scope=col>avg_surface_temp</th><th scope=col>free_EUAs</th><th scope=col>total_EUAs</th><th scope=col>auctioned_sold_EUAs</th></tr>\n",
       "\t<tr><th></th><th scope=col>&lt;dbl&gt;</th><th scope=col>&lt;chr&gt;</th><th scope=col>&lt;dbl&gt;</th><th scope=col>&lt;dbl&gt;</th><th scope=col>&lt;dbl&gt;</th><th scope=col>&lt;dbl&gt;</th><th scope=col>&lt;dbl&gt;</th><th scope=col>&lt;dbl&gt;</th><th scope=col>&lt;dbl&gt;</th><th scope=col>&lt;dbl&gt;</th><th scope=col>&lt;dbl&gt;</th><th scope=col>&lt;dbl&gt;</th><th scope=col>&lt;dbl&gt;</th><th scope=col>&lt;dbl&gt;</th><th scope=col>&lt;dbl&gt;</th><th scope=col>&lt;dbl&gt;</th><th scope=col>&lt;dbl&gt;</th><th scope=col>&lt;dbl&gt;</th><th scope=col>&lt;dbl&gt;</th><th scope=col>&lt;dbl&gt;</th><th scope=col>&lt;dbl&gt;</th><th scope=col>&lt;dbl&gt;</th><th scope=col>&lt;dbl&gt;</th><th scope=col>&lt;dbl&gt;</th><th scope=col>&lt;dbl&gt;</th><th scope=col>&lt;dbl&gt;</th><th scope=col>&lt;dbl&gt;</th></tr>\n",
       "</thead>\n",
       "<tbody>\n",
       "\t<tr><th scope=row>1</th><td>1995</td><td>Afghanistan        </td><td>NA</td><td>NA</td><td>NA</td><td>NA</td><td>NA</td><td> 1457.690</td><td>        NA</td><td>        NA</td><td>      NA</td><td>      NA</td><td>16418912</td><td>54.32289</td><td> 6.0465356</td><td> 25.17350</td><td> 3550426</td><td>21.624</td><td>12868486</td><td>78.376</td><td>          NA</td><td>0.016</td><td>45.20</td><td> 8.728</td><td>NA</td><td>NA</td><td>NA</td></tr>\n",
       "\t<tr><th scope=row>2</th><td>1995</td><td>Albania            </td><td>NA</td><td>NA</td><td>NA</td><td>NA</td><td>NA</td><td> 1951.100</td><td>  750.6044</td><td>14.0244959</td><td>      NA</td><td>      NA</td><td> 3187784</td><td>23.21430</td><td>-0.6177037</td><td>116.34248</td><td> 1240399</td><td>38.911</td><td> 1947385</td><td>61.089</td><td>          NA</td><td>0.046</td><td>72.89</td><td>12.090</td><td>NA</td><td>NA</td><td>NA</td></tr>\n",
       "\t<tr><th scope=row>3</th><td>1995</td><td>Algeria            </td><td>NA</td><td>NA</td><td>NA</td><td>NA</td><td>NA</td><td>76440.200</td><td> 1466.5447</td><td> 1.8280370</td><td>      NA</td><td>      NA</td><td>28478022</td><td>12.37245</td><td> 1.9180442</td><td> 11.95681</td><td>15946838</td><td>55.997</td><td>12531184</td><td>44.003</td><td>5.377309e+12</td><td>0.010</td><td>49.55</td><td>18.150</td><td>NA</td><td>NA</td><td>NA</td></tr>\n",
       "\t<tr><th scope=row>4</th><td>1995</td><td>Andorra            </td><td>NA</td><td>NA</td><td>NA</td><td>NA</td><td>NA</td><td>  425.024</td><td>18731.6502</td><td>-0.3303835</td><td>      NA</td><td>      NA</td><td>   62928</td><td>      NA</td><td> 3.0510978</td><td>133.88936</td><td>   58939</td><td>93.661</td><td>    3989</td><td> 6.339</td><td>          NA</td><td>0.032</td><td>73.93</td><td> 5.152</td><td>NA</td><td>NA</td><td>NA</td></tr>\n",
       "\t<tr><th scope=row>5</th><td>1995</td><td>Angola             </td><td>NA</td><td>NA</td><td>NA</td><td>NA</td><td>NA</td><td>12719.480</td><td>  398.1202</td><td>11.2784224</td><td>6.653214</td><td>60.28518</td><td>13912253</td><td>33.62634</td><td> 3.2896758</td><td> 11.15926</td><td> 6144903</td><td>44.169</td><td> 7767350</td><td>55.831</td><td>          NA</td><td>0.038</td><td>65.15</td><td>22.530</td><td>NA</td><td>NA</td><td>NA</td></tr>\n",
       "\t<tr><th scope=row>6</th><td>1995</td><td>Antigua and Barbuda</td><td>NA</td><td>NA</td><td>NA</td><td>NA</td><td>NA</td><td>  235.200</td><td> 8440.0345</td><td>-6.2137233</td><td>1.643078</td><td>12.69552</td><td>   68398</td><td>      NA</td><td> 1.9576915</td><td>155.45000</td><td>   23229</td><td>33.961</td><td>   45169</td><td>66.039</td><td>          NA</td><td>0.036</td><td>79.34</td><td>26.240</td><td>NA</td><td>NA</td><td>NA</td></tr>\n",
       "</tbody>\n",
       "</table>\n"
      ],
      "text/latex": [
       "A data.frame: 6 × 27\n",
       "\\begin{tabular}{r|lllllllllllllllllllllllllll}\n",
       "  & year & country & PM25\\_Cities & PM25\\_rural & PM25\\_Towns & PM25\\_Urban & PM25\\_Total & co2\\_em\\_kt & gdp\\_per\\_capita & gdp\\_per\\_capita\\_growth\\_pct & agriculture\\_pct\\_gdp & industry\\_pct\\_gdp & pop\\_total & pop\\_in\\_largest\\_city\\_pct\\_of\\_urban\\_pop & pop\\_growth\\_pct & pop\\_density & pop\\_urban & pop\\_urban\\_pct\\_of\\_total & pop\\_rural & pop\\_rural\\_pct\\_of\\_total & gni & precipitation & humidity & avg\\_surface\\_temp & free\\_EUAs & total\\_EUAs & auctioned\\_sold\\_EUAs\\\\\n",
       "  & <dbl> & <chr> & <dbl> & <dbl> & <dbl> & <dbl> & <dbl> & <dbl> & <dbl> & <dbl> & <dbl> & <dbl> & <dbl> & <dbl> & <dbl> & <dbl> & <dbl> & <dbl> & <dbl> & <dbl> & <dbl> & <dbl> & <dbl> & <dbl> & <dbl> & <dbl> & <dbl>\\\\\n",
       "\\hline\n",
       "\t1 & 1995 & Afghanistan         & NA & NA & NA & NA & NA &  1457.690 &         NA &         NA &       NA &       NA & 16418912 & 54.32289 &  6.0465356 &  25.17350 &  3550426 & 21.624 & 12868486 & 78.376 &           NA & 0.016 & 45.20 &  8.728 & NA & NA & NA\\\\\n",
       "\t2 & 1995 & Albania             & NA & NA & NA & NA & NA &  1951.100 &   750.6044 & 14.0244959 &       NA &       NA &  3187784 & 23.21430 & -0.6177037 & 116.34248 &  1240399 & 38.911 &  1947385 & 61.089 &           NA & 0.046 & 72.89 & 12.090 & NA & NA & NA\\\\\n",
       "\t3 & 1995 & Algeria             & NA & NA & NA & NA & NA & 76440.200 &  1466.5447 &  1.8280370 &       NA &       NA & 28478022 & 12.37245 &  1.9180442 &  11.95681 & 15946838 & 55.997 & 12531184 & 44.003 & 5.377309e+12 & 0.010 & 49.55 & 18.150 & NA & NA & NA\\\\\n",
       "\t4 & 1995 & Andorra             & NA & NA & NA & NA & NA &   425.024 & 18731.6502 & -0.3303835 &       NA &       NA &    62928 &       NA &  3.0510978 & 133.88936 &    58939 & 93.661 &     3989 &  6.339 &           NA & 0.032 & 73.93 &  5.152 & NA & NA & NA\\\\\n",
       "\t5 & 1995 & Angola              & NA & NA & NA & NA & NA & 12719.480 &   398.1202 & 11.2784224 & 6.653214 & 60.28518 & 13912253 & 33.62634 &  3.2896758 &  11.15926 &  6144903 & 44.169 &  7767350 & 55.831 &           NA & 0.038 & 65.15 & 22.530 & NA & NA & NA\\\\\n",
       "\t6 & 1995 & Antigua and Barbuda & NA & NA & NA & NA & NA &   235.200 &  8440.0345 & -6.2137233 & 1.643078 & 12.69552 &    68398 &       NA &  1.9576915 & 155.45000 &    23229 & 33.961 &    45169 & 66.039 &           NA & 0.036 & 79.34 & 26.240 & NA & NA & NA\\\\\n",
       "\\end{tabular}\n"
      ],
      "text/markdown": [
       "\n",
       "A data.frame: 6 × 27\n",
       "\n",
       "| <!--/--> | year &lt;dbl&gt; | country &lt;chr&gt; | PM25_Cities &lt;dbl&gt; | PM25_rural &lt;dbl&gt; | PM25_Towns &lt;dbl&gt; | PM25_Urban &lt;dbl&gt; | PM25_Total &lt;dbl&gt; | co2_em_kt &lt;dbl&gt; | gdp_per_capita &lt;dbl&gt; | gdp_per_capita_growth_pct &lt;dbl&gt; | agriculture_pct_gdp &lt;dbl&gt; | industry_pct_gdp &lt;dbl&gt; | pop_total &lt;dbl&gt; | pop_in_largest_city_pct_of_urban_pop &lt;dbl&gt; | pop_growth_pct &lt;dbl&gt; | pop_density &lt;dbl&gt; | pop_urban &lt;dbl&gt; | pop_urban_pct_of_total &lt;dbl&gt; | pop_rural &lt;dbl&gt; | pop_rural_pct_of_total &lt;dbl&gt; | gni &lt;dbl&gt; | precipitation &lt;dbl&gt; | humidity &lt;dbl&gt; | avg_surface_temp &lt;dbl&gt; | free_EUAs &lt;dbl&gt; | total_EUAs &lt;dbl&gt; | auctioned_sold_EUAs &lt;dbl&gt; |\n",
       "|---|---|---|---|---|---|---|---|---|---|---|---|---|---|---|---|---|---|---|---|---|---|---|---|---|---|---|---|\n",
       "| 1 | 1995 | Afghanistan         | NA | NA | NA | NA | NA |  1457.690 |         NA |         NA |       NA |       NA | 16418912 | 54.32289 |  6.0465356 |  25.17350 |  3550426 | 21.624 | 12868486 | 78.376 |           NA | 0.016 | 45.20 |  8.728 | NA | NA | NA |\n",
       "| 2 | 1995 | Albania             | NA | NA | NA | NA | NA |  1951.100 |   750.6044 | 14.0244959 |       NA |       NA |  3187784 | 23.21430 | -0.6177037 | 116.34248 |  1240399 | 38.911 |  1947385 | 61.089 |           NA | 0.046 | 72.89 | 12.090 | NA | NA | NA |\n",
       "| 3 | 1995 | Algeria             | NA | NA | NA | NA | NA | 76440.200 |  1466.5447 |  1.8280370 |       NA |       NA | 28478022 | 12.37245 |  1.9180442 |  11.95681 | 15946838 | 55.997 | 12531184 | 44.003 | 5.377309e+12 | 0.010 | 49.55 | 18.150 | NA | NA | NA |\n",
       "| 4 | 1995 | Andorra             | NA | NA | NA | NA | NA |   425.024 | 18731.6502 | -0.3303835 |       NA |       NA |    62928 |       NA |  3.0510978 | 133.88936 |    58939 | 93.661 |     3989 |  6.339 |           NA | 0.032 | 73.93 |  5.152 | NA | NA | NA |\n",
       "| 5 | 1995 | Angola              | NA | NA | NA | NA | NA | 12719.480 |   398.1202 | 11.2784224 | 6.653214 | 60.28518 | 13912253 | 33.62634 |  3.2896758 |  11.15926 |  6144903 | 44.169 |  7767350 | 55.831 |           NA | 0.038 | 65.15 | 22.530 | NA | NA | NA |\n",
       "| 6 | 1995 | Antigua and Barbuda | NA | NA | NA | NA | NA |   235.200 |  8440.0345 | -6.2137233 | 1.643078 | 12.69552 |    68398 |       NA |  1.9576915 | 155.45000 |    23229 | 33.961 |    45169 | 66.039 |           NA | 0.036 | 79.34 | 26.240 | NA | NA | NA |\n",
       "\n"
      ],
      "text/plain": [
       "  year country             PM25_Cities PM25_rural PM25_Towns PM25_Urban\n",
       "1 1995 Afghanistan         NA          NA         NA         NA        \n",
       "2 1995 Albania             NA          NA         NA         NA        \n",
       "3 1995 Algeria             NA          NA         NA         NA        \n",
       "4 1995 Andorra             NA          NA         NA         NA        \n",
       "5 1995 Angola              NA          NA         NA         NA        \n",
       "6 1995 Antigua and Barbuda NA          NA         NA         NA        \n",
       "  PM25_Total co2_em_kt gdp_per_capita gdp_per_capita_growth_pct\n",
       "1 NA          1457.690         NA             NA               \n",
       "2 NA          1951.100   750.6044     14.0244959               \n",
       "3 NA         76440.200  1466.5447      1.8280370               \n",
       "4 NA           425.024 18731.6502     -0.3303835               \n",
       "5 NA         12719.480   398.1202     11.2784224               \n",
       "6 NA           235.200  8440.0345     -6.2137233               \n",
       "  agriculture_pct_gdp industry_pct_gdp pop_total\n",
       "1       NA                  NA         16418912 \n",
       "2       NA                  NA          3187784 \n",
       "3       NA                  NA         28478022 \n",
       "4       NA                  NA            62928 \n",
       "5 6.653214            60.28518         13912253 \n",
       "6 1.643078            12.69552            68398 \n",
       "  pop_in_largest_city_pct_of_urban_pop pop_growth_pct pop_density pop_urban\n",
       "1 54.32289                              6.0465356      25.17350    3550426 \n",
       "2 23.21430                             -0.6177037     116.34248    1240399 \n",
       "3 12.37245                              1.9180442      11.95681   15946838 \n",
       "4       NA                              3.0510978     133.88936      58939 \n",
       "5 33.62634                              3.2896758      11.15926    6144903 \n",
       "6       NA                              1.9576915     155.45000      23229 \n",
       "  pop_urban_pct_of_total pop_rural pop_rural_pct_of_total gni         \n",
       "1 21.624                 12868486  78.376                           NA\n",
       "2 38.911                  1947385  61.089                           NA\n",
       "3 55.997                 12531184  44.003                 5.377309e+12\n",
       "4 93.661                     3989   6.339                           NA\n",
       "5 44.169                  7767350  55.831                           NA\n",
       "6 33.961                    45169  66.039                           NA\n",
       "  precipitation humidity avg_surface_temp free_EUAs total_EUAs\n",
       "1 0.016         45.20     8.728           NA        NA        \n",
       "2 0.046         72.89    12.090           NA        NA        \n",
       "3 0.010         49.55    18.150           NA        NA        \n",
       "4 0.032         73.93     5.152           NA        NA        \n",
       "5 0.038         65.15    22.530           NA        NA        \n",
       "6 0.036         79.34    26.240           NA        NA        \n",
       "  auctioned_sold_EUAs\n",
       "1 NA                 \n",
       "2 NA                 \n",
       "3 NA                 \n",
       "4 NA                 \n",
       "5 NA                 \n",
       "6 NA                 "
      ]
     },
     "metadata": {},
     "output_type": "display_data"
    }
   ],
   "source": [
    "# A common function to remap country names to be consistent across data sources\n",
    "map_countries <- function(df, column_to_map) {\n",
    "  mapping_dict <- c(\n",
    "    \"Argentina urban\" = \"Argentina\",\n",
    "    \"Bahamas, The\" = \"Bahamas\",\n",
    "    \"Bolivia (Plurinational State of)\" = \"Bolivia\",\n",
    "    \"Cape Verde\" = \"Cabo Verde\",\n",
    "    \"Central African Republic CAR\" = \"Central African Republic\",\n",
    "    \"Chili\" = \"Chile\",\n",
    "    \"Congo Democratic Republic\" = \"Congo, Dem. Rep.\",\n",
    "    \"Democratic Republic of the Congo\" = \"Congo, Dem. Rep.\",\n",
    "    \"Czech Republic\" = \"Czechia\",\n",
    "    \"Egypt, Arab Rep.\" = \"Egypt\",\n",
    "    \"Gambia, The\" = \"Gambia\",\n",
    "    \"Guinea Bissau\" = \"Guinea-Bissau\",\n",
    "    \"Iran (Islamic Republic of)\" = \"Iran\",\n",
    "    \"Iran, Islamic Rep.\" = \"Iran\",\n",
    "    \"Democratic People's Republic of Korea\" = \"North Korea\",\n",
    "    \"Korea, Dem. People's Rep.\" = \"North Korea\",\n",
    "    \"Korea, Rep.\" = \"Korea\",\n",
    "    \"Republic of Korea\" = \"Korea\",\n",
    "    \"Kyrgyz Republic\" = \"Kyrgyzstan\",\n",
    "    \"Lao People's Democratic Republic\" = \"Lao\",\n",
    "    \"Lao PDR\" = \"Lao\",\n",
    "    \"Micronesia (Federated States of)\" = \"Micronesia, Fed. Sts.\",\n",
    "    \"Monte Negro\" = \"Montenegro\",\n",
    "    \"Republic of Moldova\" = \"Moldova\",\n",
    "    \"Sao Tome & Principe\" = \"Sao Tome and Principe\",\n",
    "    \"Slovak Republic\" = \"Slovakia\",\n",
    "    \"Syrian Arab Republic\" = \"Syria\",\n",
    "    \"The former Yugoslav Republic of Macedonia\" = \"North Macedonia\",\n",
    "    \"Timor-Leste\" = \"Timor Leste\",\n",
    "    \"Trinidad & Tobago\" = \"Trinidad and Tobago\",\n",
    "    \"Türkiye\" = \"Turkey\",\n",
    "    \"Turkiye\" = \"Turkey\",\n",
    "    \"United States of America\" = \"United States\",\n",
    "    \"Venezuela (Bolivarian Republic of)\" = \"Venezuela\",\n",
    "    \"Venezuela, RB\"  = \"Venezuela\",\n",
    "    \"Viet Nam\" = \"Vietnam\",\n",
    "    \"Yemen, Rep.\" = \"Yemen\",\n",
    "    \"United Kingdom of Great Britain and Northern Ireland\" = \"United Kingdom\"\n",
    "  )\n",
    "  \n",
    "  df[[column_to_map]] <- ifelse(df[[column_to_map]] %in% names(mapping_dict), \n",
    "                                mapping_dict[df[[column_to_map]]], \n",
    "                                df[[column_to_map]])\n",
    "  \n",
    "  return(df)\n",
    "}\n",
    "\n",
    "# Map country names in each dataset\n",
    "pm25_final_mapped <- map_countries(pm25_final, \"country\")\n",
    "eu_ets_final_mapped <- map_countries(eu_ets_final, \"country\")\n",
    "weather_final_mapped <- map_countries(weather_final, \"country\")\n",
    "wb_indicators_final_mapped <- map_countries(wb_indicators_final, \"country\")\n",
    "\n",
    "# Join each dataset, keeping PM2.5 and World Bank datasets as the main one to join on\n",
    "all_indicators_full_join <- merge(subset(pm25_final_mapped, select = -country_code), subset(wb_indicators_final_mapped, select = -country_code), by = c(\"year\", \"country\"), all.x = TRUE,  all.y = TRUE) %>%\n",
    "    # Filter out missing records in target variable after 2010\n",
    "    filter(!(is.na(PM25_Total) & year >= 2010)) %>% \n",
    "    # Filter out missing records in matching target variable for all years\n",
    "    filter(!is.na(co2_em_kt)) %>%\n",
    "    # Filter to countries that only exist in PM2.5 dataset\n",
    "    filter(country %in% unique(pm25_final_mapped$country)) %>%\n",
    "    # Join weather variables\n",
    "    merge(subset(weather_final_mapped, select = -country_code), by = c(\"year\", \"country\"), all.x = TRUE) %>%\n",
    "    # Join EU ETS variables\n",
    "    merge(subset(eu_ets_final_mapped, select = -country_code), by = c(\"year\", \"country\"), all.x = TRUE) %>%\n",
    "    # Reorder columns for plotting\n",
    "    relocate(co2_em_kt, .after=PM25_Urban) %>%\n",
    "    relocate(PM25_Total, .after=PM25_Urban)\n",
    "\n",
    "print(dim(all_indicators_full_join))\n",
    "head(all_indicators_full_join)"
   ]
  },
  {
   "cell_type": "markdown",
   "metadata": {
    "vscode": {
     "languageId": "r"
    }
   },
   "source": [
    "# 2. EDA, data cleaning and feature engineering"
   ]
  },
  {
   "cell_type": "markdown",
   "metadata": {},
   "source": [
    "### 2.a. Gap analysis, summmary statistics"
   ]
  },
  {
   "cell_type": "code",
   "execution_count": 22,
   "metadata": {
    "vscode": {
     "languageId": "r"
    }
   },
   "outputs": [
    {
     "data": {
      "text/html": [
       "<table class=\"dataframe\">\n",
       "<caption>A data.frame: 6 × 27</caption>\n",
       "<thead>\n",
       "\t<tr><th></th><th scope=col>year</th><th scope=col>country</th><th scope=col>PM25_Cities</th><th scope=col>PM25_rural</th><th scope=col>PM25_Towns</th><th scope=col>PM25_Urban</th><th scope=col>PM25_Total</th><th scope=col>co2_em_kt</th><th scope=col>gdp_per_capita</th><th scope=col>gdp_per_capita_growth_pct</th><th scope=col>agriculture_pct_gdp</th><th scope=col>industry_pct_gdp</th><th scope=col>pop_total</th><th scope=col>pop_in_largest_city_pct_of_urban_pop</th><th scope=col>pop_growth_pct</th><th scope=col>pop_density</th><th scope=col>pop_urban</th><th scope=col>pop_urban_pct_of_total</th><th scope=col>pop_rural</th><th scope=col>pop_rural_pct_of_total</th><th scope=col>gni</th><th scope=col>precipitation</th><th scope=col>humidity</th><th scope=col>avg_surface_temp</th><th scope=col>free_EUAs</th><th scope=col>total_EUAs</th><th scope=col>auctioned_sold_EUAs</th></tr>\n",
       "\t<tr><th></th><th scope=col>&lt;dbl&gt;</th><th scope=col>&lt;chr&gt;</th><th scope=col>&lt;dbl&gt;</th><th scope=col>&lt;dbl&gt;</th><th scope=col>&lt;dbl&gt;</th><th scope=col>&lt;dbl&gt;</th><th scope=col>&lt;dbl&gt;</th><th scope=col>&lt;dbl&gt;</th><th scope=col>&lt;dbl&gt;</th><th scope=col>&lt;dbl&gt;</th><th scope=col>&lt;dbl&gt;</th><th scope=col>&lt;dbl&gt;</th><th scope=col>&lt;dbl&gt;</th><th scope=col>&lt;dbl&gt;</th><th scope=col>&lt;dbl&gt;</th><th scope=col>&lt;dbl&gt;</th><th scope=col>&lt;dbl&gt;</th><th scope=col>&lt;dbl&gt;</th><th scope=col>&lt;dbl&gt;</th><th scope=col>&lt;dbl&gt;</th><th scope=col>&lt;dbl&gt;</th><th scope=col>&lt;dbl&gt;</th><th scope=col>&lt;dbl&gt;</th><th scope=col>&lt;dbl&gt;</th><th scope=col>&lt;dbl&gt;</th><th scope=col>&lt;dbl&gt;</th><th scope=col>&lt;dbl&gt;</th></tr>\n",
       "</thead>\n",
       "<tbody>\n",
       "\t<tr><th scope=row>1</th><td>1995</td><td>Afghanistan        </td><td>NA</td><td>NA</td><td>NA</td><td>NA</td><td>NA</td><td> 1457.690</td><td>        NA</td><td>        NA</td><td>      NA</td><td>      NA</td><td>16418912</td><td>54.32289</td><td> 6.0465356</td><td> 25.17350</td><td> 3550426</td><td>21.624</td><td>12868486</td><td>78.376</td><td>          NA</td><td>0.016</td><td>45.20</td><td> 8.728</td><td>NA</td><td>NA</td><td>NA</td></tr>\n",
       "\t<tr><th scope=row>2</th><td>1995</td><td>Albania            </td><td>NA</td><td>NA</td><td>NA</td><td>NA</td><td>NA</td><td> 1951.100</td><td>  750.6044</td><td>14.0244959</td><td>      NA</td><td>      NA</td><td> 3187784</td><td>23.21430</td><td>-0.6177037</td><td>116.34248</td><td> 1240399</td><td>38.911</td><td> 1947385</td><td>61.089</td><td>          NA</td><td>0.046</td><td>72.89</td><td>12.090</td><td>NA</td><td>NA</td><td>NA</td></tr>\n",
       "\t<tr><th scope=row>3</th><td>1995</td><td>Algeria            </td><td>NA</td><td>NA</td><td>NA</td><td>NA</td><td>NA</td><td>76440.200</td><td> 1466.5447</td><td> 1.8280370</td><td>      NA</td><td>      NA</td><td>28478022</td><td>12.37245</td><td> 1.9180442</td><td> 11.95681</td><td>15946838</td><td>55.997</td><td>12531184</td><td>44.003</td><td>5.377309e+12</td><td>0.010</td><td>49.55</td><td>18.150</td><td>NA</td><td>NA</td><td>NA</td></tr>\n",
       "\t<tr><th scope=row>4</th><td>1995</td><td>Andorra            </td><td>NA</td><td>NA</td><td>NA</td><td>NA</td><td>NA</td><td>  425.024</td><td>18731.6502</td><td>-0.3303835</td><td>      NA</td><td>      NA</td><td>   62928</td><td>      NA</td><td> 3.0510978</td><td>133.88936</td><td>   58939</td><td>93.661</td><td>    3989</td><td> 6.339</td><td>          NA</td><td>0.032</td><td>73.93</td><td> 5.152</td><td>NA</td><td>NA</td><td>NA</td></tr>\n",
       "\t<tr><th scope=row>5</th><td>1995</td><td>Angola             </td><td>NA</td><td>NA</td><td>NA</td><td>NA</td><td>NA</td><td>12719.480</td><td>  398.1202</td><td>11.2784224</td><td>6.653214</td><td>60.28518</td><td>13912253</td><td>33.62634</td><td> 3.2896758</td><td> 11.15926</td><td> 6144903</td><td>44.169</td><td> 7767350</td><td>55.831</td><td>          NA</td><td>0.038</td><td>65.15</td><td>22.530</td><td>NA</td><td>NA</td><td>NA</td></tr>\n",
       "\t<tr><th scope=row>6</th><td>1995</td><td>Antigua and Barbuda</td><td>NA</td><td>NA</td><td>NA</td><td>NA</td><td>NA</td><td>  235.200</td><td> 8440.0345</td><td>-6.2137233</td><td>1.643078</td><td>12.69552</td><td>   68398</td><td>      NA</td><td> 1.9576915</td><td>155.45000</td><td>   23229</td><td>33.961</td><td>   45169</td><td>66.039</td><td>          NA</td><td>0.036</td><td>79.34</td><td>26.240</td><td>NA</td><td>NA</td><td>NA</td></tr>\n",
       "</tbody>\n",
       "</table>\n"
      ],
      "text/latex": [
       "A data.frame: 6 × 27\n",
       "\\begin{tabular}{r|lllllllllllllllllllllllllll}\n",
       "  & year & country & PM25\\_Cities & PM25\\_rural & PM25\\_Towns & PM25\\_Urban & PM25\\_Total & co2\\_em\\_kt & gdp\\_per\\_capita & gdp\\_per\\_capita\\_growth\\_pct & agriculture\\_pct\\_gdp & industry\\_pct\\_gdp & pop\\_total & pop\\_in\\_largest\\_city\\_pct\\_of\\_urban\\_pop & pop\\_growth\\_pct & pop\\_density & pop\\_urban & pop\\_urban\\_pct\\_of\\_total & pop\\_rural & pop\\_rural\\_pct\\_of\\_total & gni & precipitation & humidity & avg\\_surface\\_temp & free\\_EUAs & total\\_EUAs & auctioned\\_sold\\_EUAs\\\\\n",
       "  & <dbl> & <chr> & <dbl> & <dbl> & <dbl> & <dbl> & <dbl> & <dbl> & <dbl> & <dbl> & <dbl> & <dbl> & <dbl> & <dbl> & <dbl> & <dbl> & <dbl> & <dbl> & <dbl> & <dbl> & <dbl> & <dbl> & <dbl> & <dbl> & <dbl> & <dbl> & <dbl>\\\\\n",
       "\\hline\n",
       "\t1 & 1995 & Afghanistan         & NA & NA & NA & NA & NA &  1457.690 &         NA &         NA &       NA &       NA & 16418912 & 54.32289 &  6.0465356 &  25.17350 &  3550426 & 21.624 & 12868486 & 78.376 &           NA & 0.016 & 45.20 &  8.728 & NA & NA & NA\\\\\n",
       "\t2 & 1995 & Albania             & NA & NA & NA & NA & NA &  1951.100 &   750.6044 & 14.0244959 &       NA &       NA &  3187784 & 23.21430 & -0.6177037 & 116.34248 &  1240399 & 38.911 &  1947385 & 61.089 &           NA & 0.046 & 72.89 & 12.090 & NA & NA & NA\\\\\n",
       "\t3 & 1995 & Algeria             & NA & NA & NA & NA & NA & 76440.200 &  1466.5447 &  1.8280370 &       NA &       NA & 28478022 & 12.37245 &  1.9180442 &  11.95681 & 15946838 & 55.997 & 12531184 & 44.003 & 5.377309e+12 & 0.010 & 49.55 & 18.150 & NA & NA & NA\\\\\n",
       "\t4 & 1995 & Andorra             & NA & NA & NA & NA & NA &   425.024 & 18731.6502 & -0.3303835 &       NA &       NA &    62928 &       NA &  3.0510978 & 133.88936 &    58939 & 93.661 &     3989 &  6.339 &           NA & 0.032 & 73.93 &  5.152 & NA & NA & NA\\\\\n",
       "\t5 & 1995 & Angola              & NA & NA & NA & NA & NA & 12719.480 &   398.1202 & 11.2784224 & 6.653214 & 60.28518 & 13912253 & 33.62634 &  3.2896758 &  11.15926 &  6144903 & 44.169 &  7767350 & 55.831 &           NA & 0.038 & 65.15 & 22.530 & NA & NA & NA\\\\\n",
       "\t6 & 1995 & Antigua and Barbuda & NA & NA & NA & NA & NA &   235.200 &  8440.0345 & -6.2137233 & 1.643078 & 12.69552 &    68398 &       NA &  1.9576915 & 155.45000 &    23229 & 33.961 &    45169 & 66.039 &           NA & 0.036 & 79.34 & 26.240 & NA & NA & NA\\\\\n",
       "\\end{tabular}\n"
      ],
      "text/markdown": [
       "\n",
       "A data.frame: 6 × 27\n",
       "\n",
       "| <!--/--> | year &lt;dbl&gt; | country &lt;chr&gt; | PM25_Cities &lt;dbl&gt; | PM25_rural &lt;dbl&gt; | PM25_Towns &lt;dbl&gt; | PM25_Urban &lt;dbl&gt; | PM25_Total &lt;dbl&gt; | co2_em_kt &lt;dbl&gt; | gdp_per_capita &lt;dbl&gt; | gdp_per_capita_growth_pct &lt;dbl&gt; | agriculture_pct_gdp &lt;dbl&gt; | industry_pct_gdp &lt;dbl&gt; | pop_total &lt;dbl&gt; | pop_in_largest_city_pct_of_urban_pop &lt;dbl&gt; | pop_growth_pct &lt;dbl&gt; | pop_density &lt;dbl&gt; | pop_urban &lt;dbl&gt; | pop_urban_pct_of_total &lt;dbl&gt; | pop_rural &lt;dbl&gt; | pop_rural_pct_of_total &lt;dbl&gt; | gni &lt;dbl&gt; | precipitation &lt;dbl&gt; | humidity &lt;dbl&gt; | avg_surface_temp &lt;dbl&gt; | free_EUAs &lt;dbl&gt; | total_EUAs &lt;dbl&gt; | auctioned_sold_EUAs &lt;dbl&gt; |\n",
       "|---|---|---|---|---|---|---|---|---|---|---|---|---|---|---|---|---|---|---|---|---|---|---|---|---|---|---|---|\n",
       "| 1 | 1995 | Afghanistan         | NA | NA | NA | NA | NA |  1457.690 |         NA |         NA |       NA |       NA | 16418912 | 54.32289 |  6.0465356 |  25.17350 |  3550426 | 21.624 | 12868486 | 78.376 |           NA | 0.016 | 45.20 |  8.728 | NA | NA | NA |\n",
       "| 2 | 1995 | Albania             | NA | NA | NA | NA | NA |  1951.100 |   750.6044 | 14.0244959 |       NA |       NA |  3187784 | 23.21430 | -0.6177037 | 116.34248 |  1240399 | 38.911 |  1947385 | 61.089 |           NA | 0.046 | 72.89 | 12.090 | NA | NA | NA |\n",
       "| 3 | 1995 | Algeria             | NA | NA | NA | NA | NA | 76440.200 |  1466.5447 |  1.8280370 |       NA |       NA | 28478022 | 12.37245 |  1.9180442 |  11.95681 | 15946838 | 55.997 | 12531184 | 44.003 | 5.377309e+12 | 0.010 | 49.55 | 18.150 | NA | NA | NA |\n",
       "| 4 | 1995 | Andorra             | NA | NA | NA | NA | NA |   425.024 | 18731.6502 | -0.3303835 |       NA |       NA |    62928 |       NA |  3.0510978 | 133.88936 |    58939 | 93.661 |     3989 |  6.339 |           NA | 0.032 | 73.93 |  5.152 | NA | NA | NA |\n",
       "| 5 | 1995 | Angola              | NA | NA | NA | NA | NA | 12719.480 |   398.1202 | 11.2784224 | 6.653214 | 60.28518 | 13912253 | 33.62634 |  3.2896758 |  11.15926 |  6144903 | 44.169 |  7767350 | 55.831 |           NA | 0.038 | 65.15 | 22.530 | NA | NA | NA |\n",
       "| 6 | 1995 | Antigua and Barbuda | NA | NA | NA | NA | NA |   235.200 |  8440.0345 | -6.2137233 | 1.643078 | 12.69552 |    68398 |       NA |  1.9576915 | 155.45000 |    23229 | 33.961 |    45169 | 66.039 |           NA | 0.036 | 79.34 | 26.240 | NA | NA | NA |\n",
       "\n"
      ],
      "text/plain": [
       "  year country             PM25_Cities PM25_rural PM25_Towns PM25_Urban\n",
       "1 1995 Afghanistan         NA          NA         NA         NA        \n",
       "2 1995 Albania             NA          NA         NA         NA        \n",
       "3 1995 Algeria             NA          NA         NA         NA        \n",
       "4 1995 Andorra             NA          NA         NA         NA        \n",
       "5 1995 Angola              NA          NA         NA         NA        \n",
       "6 1995 Antigua and Barbuda NA          NA         NA         NA        \n",
       "  PM25_Total co2_em_kt gdp_per_capita gdp_per_capita_growth_pct\n",
       "1 NA          1457.690         NA             NA               \n",
       "2 NA          1951.100   750.6044     14.0244959               \n",
       "3 NA         76440.200  1466.5447      1.8280370               \n",
       "4 NA           425.024 18731.6502     -0.3303835               \n",
       "5 NA         12719.480   398.1202     11.2784224               \n",
       "6 NA           235.200  8440.0345     -6.2137233               \n",
       "  agriculture_pct_gdp industry_pct_gdp pop_total\n",
       "1       NA                  NA         16418912 \n",
       "2       NA                  NA          3187784 \n",
       "3       NA                  NA         28478022 \n",
       "4       NA                  NA            62928 \n",
       "5 6.653214            60.28518         13912253 \n",
       "6 1.643078            12.69552            68398 \n",
       "  pop_in_largest_city_pct_of_urban_pop pop_growth_pct pop_density pop_urban\n",
       "1 54.32289                              6.0465356      25.17350    3550426 \n",
       "2 23.21430                             -0.6177037     116.34248    1240399 \n",
       "3 12.37245                              1.9180442      11.95681   15946838 \n",
       "4       NA                              3.0510978     133.88936      58939 \n",
       "5 33.62634                              3.2896758      11.15926    6144903 \n",
       "6       NA                              1.9576915     155.45000      23229 \n",
       "  pop_urban_pct_of_total pop_rural pop_rural_pct_of_total gni         \n",
       "1 21.624                 12868486  78.376                           NA\n",
       "2 38.911                  1947385  61.089                           NA\n",
       "3 55.997                 12531184  44.003                 5.377309e+12\n",
       "4 93.661                     3989   6.339                           NA\n",
       "5 44.169                  7767350  55.831                           NA\n",
       "6 33.961                    45169  66.039                           NA\n",
       "  precipitation humidity avg_surface_temp free_EUAs total_EUAs\n",
       "1 0.016         45.20     8.728           NA        NA        \n",
       "2 0.046         72.89    12.090           NA        NA        \n",
       "3 0.010         49.55    18.150           NA        NA        \n",
       "4 0.032         73.93     5.152           NA        NA        \n",
       "5 0.038         65.15    22.530           NA        NA        \n",
       "6 0.036         79.34    26.240           NA        NA        \n",
       "  auctioned_sold_EUAs\n",
       "1 NA                 \n",
       "2 NA                 \n",
       "3 NA                 \n",
       "4 NA                 \n",
       "5 NA                 \n",
       "6 NA                 "
      ]
     },
     "metadata": {},
     "output_type": "display_data"
    }
   ],
   "source": [
    "head(all_indicators_full_join)"
   ]
  },
  {
   "cell_type": "code",
   "execution_count": 23,
   "metadata": {
    "vscode": {
     "languageId": "r"
    }
   },
   "outputs": [],
   "source": [
    "# Create a named list mapping column names to actual names\n",
    "column_mapping <- list(\n",
    "  PM25_Cities = \"PM2.5 in cities\",\n",
    "  PM25_rural = \"PM2.5 in rural areas\",\n",
    "  PM25_Towns = \"PM2.5 in towns\",\n",
    "  PM25_Urban = \"PM2.5 in urban areas\",\n",
    "  PM25_Total = \"PM2.5 in country\",\n",
    "  co2_em_kt = \"CO2 emissions in kt\",\n",
    "  gdp_per_capita = \"GDP per capita\",\n",
    "  gdp_per_capita_growth_pct = \"GDP per capita growth %\",\n",
    "  agriculture_pct_gdp = \"GDP from agriculture %\",\n",
    "  industry_pct_gdp = \"GDP from industry %\",\n",
    "  pop_total = \"Total population\",\n",
    "  pop_in_largest_city_pct_of_urban_pop = \"Urban population living in the largest city %\",\n",
    "  pop_growth_pct = \"Population growth %\",\n",
    "  pop_density = \"Population density\",\n",
    "  pop_urban_pct_of_total = \"Total population living in urban areas %\",\n",
    "  precipitation = \"Precipitation level\",\n",
    "  humidity = \"Humidity %\",\n",
    "  avg_surface_temp = \"Average surface temperature\",\n",
    "  free_EUAs = \"Free EUAs\",\n",
    "  auctioned_sold_EUAs = \"Auctioned or sold EUAs\",\n",
    "  PM25_Cities_log = \"log(PM2.5 in cities)\",\n",
    "  PM25_rural_log = \"log(PM2.5 in rural areas)\",\n",
    "  PM25_Towns_log = \"log(PM2.5 in towns)\",\n",
    "  PM25_Urban_log = \"log(PM2.5 in urban areas)\",\n",
    "  PM25_Total_log = \"log(PM2.5 in country)\",\n",
    "  co2_em_kt_log = \"log(CO2 emissions in kt)\",\n",
    "  gdp_per_capita_log = \"log(GDP per capita)\",\n",
    "  pop_total_log = \"log(Total population)\",\n",
    "  pop_density_log = \"log(Population density)\",\n",
    "  precipitation_log = \"log(Precipitation level)\",\n",
    "  avg_surface_temp_log = \"log(Average surface temperature)\",\n",
    "  free_EUAs_log = \"log(Free EUAs)\",\n",
    "  auctioned_sold_EUAs_log = \"log(Auctioned or sold EUAs)\"\n",
    ")"
   ]
  },
  {
   "cell_type": "code",
   "execution_count": 24,
   "metadata": {
    "vscode": {
     "languageId": "r"
    }
   },
   "outputs": [
    {
     "data": {
      "image/png": "[encoded data removed]",
      "text/plain": [
       "plot without title"
      ]
     },
     "metadata": {
      "image/png": {
       "height": 800,
       "width": 1500
      }
     },
     "output_type": "display_data"
    }
   ],
   "source": [
    "# Drop unnecassary indicators\n",
    "# For now I decided to drop the rural and urban population counts, since we are already employing the total population count.\n",
    "# Instead I am employing rural and urban population as a share of total population in percentages.\n",
    "# Instead of GNI, we are employing GDP per capita\n",
    "all_indicators <- all_indicators_full_join %>% select(-c(gni,pop_rural,pop_urban,total_EUAs,pop_rural_pct_of_total))\n",
    "\n",
    "# Calculate the number of non-NA values for each column\n",
    "non_na_counts <- all_indicators %>%\n",
    "  select(-c(country)) %>% # Exclude matching variable\n",
    "  # filter (year >= 2010) %>% # Study period only\n",
    "  group_by(year) %>%\n",
    "  mutate(across(everything(), ~sum(!is.na(.))))\n",
    "  \n",
    "# Reshape the data for plotting while retaining column order\n",
    "non_na_counts_long <- non_na_counts %>%\n",
    "  pivot_longer(cols = -year, names_to = \"variable\", values_to = \"count\") \n",
    "\n",
    "# non_na_counts_long <- non_na_counts_long %>% mutate(variable_long = column_mapping[variable])\n",
    "non_na_counts_long$variable_long <- factor(unname(unlist(column_mapping[match(non_na_counts_long$variable, names(column_mapping))])))\n",
    "\n",
    "non_na_counts_long <- non_na_counts_long %>%\n",
    "  mutate(variable = factor(variable, levels = colnames(non_na_counts)[-1]))  # Exclude the \"year\" column from levels\n",
    "\n",
    "non_na_counts_long$variable <- factor(non_na_counts_long$variable, levels = \n",
    "  names(all_indicators)[!names(all_indicators) %in% c(\"year\", \"country\")])\n",
    "\n",
    "\n",
    "# Create the heatmap\n",
    "heatmap_plot <- ggplot(data = non_na_counts_long, aes(x = year, y = variable, fill = count)) +\n",
    "  geom_tile() +\n",
    "  scale_fill_distiller() +  # Choose color palette\n",
    "  geom_text(aes(label = ifelse(is.na(count), \"\", count)), size = 2, color = \"gray10\") +  # Add text labels with small font\n",
    "  scale_x_continuous(breaks = seq(min(non_na_counts$year), max(non_na_counts$year), by = 1), expand = c(0, 0)) +  # Display integer values on X-axis\n",
    "  labs(x = \"Year\",\n",
    "       y = \"Variable\",\n",
    "       fill = \"Count\") +\n",
    "    scale_y_discrete(labels = non_na_counts_long$variable_long) +\n",
    "  theme_minimal() +\n",
    "  theme(axis.text.x = element_text(size = 8, color = \"black\", face = \"bold\"),\n",
    "        axis.text.y = element_text(size = 8, color = \"black\", face = \"bold\"),\n",
    "        axis.title = element_text(size = 14, color = \"black\", face = \"bold\")) \n",
    "\n",
    "# Display the heatmap\n",
    "print(heatmap_plot)\n",
    "\n",
    "# Save the plot with adjusted width\n",
    "ggsave(\"images/EDA_heatmap_plot.jpg\", heatmap_plot, width = 12, height = 5, create.dir = TRUE)"
   ]
  },
  {
   "cell_type": "code",
   "execution_count": 25,
   "metadata": {
    "vscode": {
     "languageId": "r"
    }
   },
   "outputs": [
    {
     "data": {
      "text/html": [
       "<table class=\"dataframe\">\n",
       "<caption>A data.frame: 20 × 7</caption>\n",
       "<thead>\n",
       "\t<tr><th></th><th scope=col>N</th><th scope=col>Mean</th><th scope=col>Std. Dev.</th><th scope=col>Min</th><th scope=col>Pctl. 25</th><th scope=col>Pctl. 75</th><th scope=col>Max</th></tr>\n",
       "\t<tr><th></th><th scope=col>&lt;chr&gt;</th><th scope=col>&lt;chr&gt;</th><th scope=col>&lt;chr&gt;</th><th scope=col>&lt;chr&gt;</th><th scope=col>&lt;chr&gt;</th><th scope=col>&lt;chr&gt;</th><th scope=col>&lt;chr&gt;</th></tr>\n",
       "</thead>\n",
       "<tbody>\n",
       "\t<tr><th scope=row>PM2.5 in cities</th><td>1690</td><td>27      </td><td>17       </td><td>4.6  </td><td>14     </td><td>37      </td><td>97        </td></tr>\n",
       "\t<tr><th scope=row>PM2.5 in rural areas</th><td>1840</td><td>22      </td><td>13       </td><td>4.9  </td><td>11     </td><td>29      </td><td>68        </td></tr>\n",
       "\t<tr><th scope=row>PM2.5 in towns</th><td>1810</td><td>23      </td><td>14       </td><td>5.2  </td><td>12     </td><td>30      </td><td>73        </td></tr>\n",
       "\t<tr><th scope=row>PM2.5 in urban areas</th><td>1830</td><td>25      </td><td>16       </td><td>4.9  </td><td>12     </td><td>32      </td><td>87        </td></tr>\n",
       "\t<tr><th scope=row>PM2.5 in country</th><td>1840</td><td>23      </td><td>14       </td><td>4.9  </td><td>12     </td><td>30      </td><td>72        </td></tr>\n",
       "\t<tr><th scope=row>CO2 emissions in kt</th><td>1840</td><td>176855  </td><td>839258   </td><td>7.5  </td><td>2444   </td><td>67254   </td><td>10762824  </td></tr>\n",
       "\t<tr><th scope=row>GDP per capita</th><td>1810</td><td>13819   </td><td>19390    </td><td>217  </td><td>1816   </td><td>16233   </td><td>123679    </td></tr>\n",
       "\t<tr><th scope=row>GDP per capita growth %</th><td>1804</td><td>2       </td><td>4.8      </td><td>-48  </td><td>0.34   </td><td>3.9     </td><td>97        </td></tr>\n",
       "\t<tr><th scope=row>GDP from agriculture %</th><td>1780</td><td>11      </td><td>11       </td><td>0.03 </td><td>2.6    </td><td>17      </td><td>61        </td></tr>\n",
       "\t<tr><th scope=row>GDP from industry %</th><td>1779</td><td>26      </td><td>12       </td><td>4.4  </td><td>18     </td><td>32      </td><td>78        </td></tr>\n",
       "\t<tr><th scope=row>Total population</th><td>1840</td><td>39320140</td><td>144267297</td><td>10241</td><td>2098842</td><td>28184988</td><td>1407745000</td></tr>\n",
       "\t<tr><th scope=row>Urban population living in the largest city %</th><td>1460</td><td>32      </td><td>16       </td><td>3.1  </td><td>20     </td><td>40      </td><td>100       </td></tr>\n",
       "\t<tr><th scope=row>Population growth %</th><td>1840</td><td>1.3     </td><td>1.5      </td><td>-6.9 </td><td>0.42   </td><td>2.2     </td><td>12        </td></tr>\n",
       "\t<tr><th scope=row>Population density</th><td>1838</td><td>191     </td><td>603      </td><td>1.7  </td><td>31     </td><td>159     </td><td>7966      </td></tr>\n",
       "\t<tr><th scope=row>Total population living in urban areas %</th><td>1840</td><td>58      </td><td>23       </td><td>11   </td><td>40     </td><td>77      </td><td>100       </td></tr>\n",
       "\t<tr><th scope=row>Precipitation level</th><td>1750</td><td>0.04    </td><td>0.028    </td><td>0    </td><td>0.021  </td><td>0.054   </td><td>0.16      </td></tr>\n",
       "\t<tr><th scope=row>Humidity %</th><td>1750</td><td>68      </td><td>14       </td><td>26   </td><td>60     </td><td>79      </td><td>88        </td></tr>\n",
       "\t<tr><th scope=row>Average surface temperature</th><td>1750</td><td>19      </td><td>7.7      </td><td>-0.6 </td><td>12     </td><td>26      </td><td>30        </td></tr>\n",
       "\t<tr><th scope=row>Free EUAs</th><td>300 </td><td>40840633</td><td>60670968 </td><td>0    </td><td>6480356</td><td>51193988</td><td>456786535 </td></tr>\n",
       "\t<tr><th scope=row>Auctioned or sold EUAs</th><td>300 </td><td>18631887</td><td>32284591 </td><td>0    </td><td>0      </td><td>18757750</td><td>206091500 </td></tr>\n",
       "</tbody>\n",
       "</table>\n"
      ],
      "text/latex": [
       "A data.frame: 20 × 7\n",
       "\\begin{tabular}{r|lllllll}\n",
       "  & N & Mean & Std. Dev. & Min & Pctl. 25 & Pctl. 75 & Max\\\\\n",
       "  & <chr> & <chr> & <chr> & <chr> & <chr> & <chr> & <chr>\\\\\n",
       "\\hline\n",
       "\tPM2.5 in cities & 1690 & 27       & 17        & 4.6   & 14      & 37       & 97        \\\\\n",
       "\tPM2.5 in rural areas & 1840 & 22       & 13        & 4.9   & 11      & 29       & 68        \\\\\n",
       "\tPM2.5 in towns & 1810 & 23       & 14        & 5.2   & 12      & 30       & 73        \\\\\n",
       "\tPM2.5 in urban areas & 1830 & 25       & 16        & 4.9   & 12      & 32       & 87        \\\\\n",
       "\tPM2.5 in country & 1840 & 23       & 14        & 4.9   & 12      & 30       & 72        \\\\\n",
       "\tCO2 emissions in kt & 1840 & 176855   & 839258    & 7.5   & 2444    & 67254    & 10762824  \\\\\n",
       "\tGDP per capita & 1810 & 13819    & 19390     & 217   & 1816    & 16233    & 123679    \\\\\n",
       "\tGDP per capita growth \\% & 1804 & 2        & 4.8       & -48   & 0.34    & 3.9      & 97        \\\\\n",
       "\tGDP from agriculture \\% & 1780 & 11       & 11        & 0.03  & 2.6     & 17       & 61        \\\\\n",
       "\tGDP from industry \\% & 1779 & 26       & 12        & 4.4   & 18      & 32       & 78        \\\\\n",
       "\tTotal population & 1840 & 39320140 & 144267297 & 10241 & 2098842 & 28184988 & 1407745000\\\\\n",
       "\tUrban population living in the largest city \\% & 1460 & 32       & 16        & 3.1   & 20      & 40       & 100       \\\\\n",
       "\tPopulation growth \\% & 1840 & 1.3      & 1.5       & -6.9  & 0.42    & 2.2      & 12        \\\\\n",
       "\tPopulation density & 1838 & 191      & 603       & 1.7   & 31      & 159      & 7966      \\\\\n",
       "\tTotal population living in urban areas \\% & 1840 & 58       & 23        & 11    & 40      & 77       & 100       \\\\\n",
       "\tPrecipitation level & 1750 & 0.04     & 0.028     & 0     & 0.021   & 0.054    & 0.16      \\\\\n",
       "\tHumidity \\% & 1750 & 68       & 14        & 26    & 60      & 79       & 88        \\\\\n",
       "\tAverage surface temperature & 1750 & 19       & 7.7       & -0.6  & 12      & 26       & 30        \\\\\n",
       "\tFree EUAs & 300  & 40840633 & 60670968  & 0     & 6480356 & 51193988 & 456786535 \\\\\n",
       "\tAuctioned or sold EUAs & 300  & 18631887 & 32284591  & 0     & 0       & 18757750 & 206091500 \\\\\n",
       "\\end{tabular}\n"
      ],
      "text/markdown": [
       "\n",
       "A data.frame: 20 × 7\n",
       "\n",
       "| <!--/--> | N &lt;chr&gt; | Mean &lt;chr&gt; | Std. Dev. &lt;chr&gt; | Min &lt;chr&gt; | Pctl. 25 &lt;chr&gt; | Pctl. 75 &lt;chr&gt; | Max &lt;chr&gt; |\n",
       "|---|---|---|---|---|---|---|---|\n",
       "| PM2.5 in cities | 1690 | 27       | 17        | 4.6   | 14      | 37       | 97         |\n",
       "| PM2.5 in rural areas | 1840 | 22       | 13        | 4.9   | 11      | 29       | 68         |\n",
       "| PM2.5 in towns | 1810 | 23       | 14        | 5.2   | 12      | 30       | 73         |\n",
       "| PM2.5 in urban areas | 1830 | 25       | 16        | 4.9   | 12      | 32       | 87         |\n",
       "| PM2.5 in country | 1840 | 23       | 14        | 4.9   | 12      | 30       | 72         |\n",
       "| CO2 emissions in kt | 1840 | 176855   | 839258    | 7.5   | 2444    | 67254    | 10762824   |\n",
       "| GDP per capita | 1810 | 13819    | 19390     | 217   | 1816    | 16233    | 123679     |\n",
       "| GDP per capita growth % | 1804 | 2        | 4.8       | -48   | 0.34    | 3.9      | 97         |\n",
       "| GDP from agriculture % | 1780 | 11       | 11        | 0.03  | 2.6     | 17       | 61         |\n",
       "| GDP from industry % | 1779 | 26       | 12        | 4.4   | 18      | 32       | 78         |\n",
       "| Total population | 1840 | 39320140 | 144267297 | 10241 | 2098842 | 28184988 | 1407745000 |\n",
       "| Urban population living in the largest city % | 1460 | 32       | 16        | 3.1   | 20      | 40       | 100        |\n",
       "| Population growth % | 1840 | 1.3      | 1.5       | -6.9  | 0.42    | 2.2      | 12         |\n",
       "| Population density | 1838 | 191      | 603       | 1.7   | 31      | 159      | 7966       |\n",
       "| Total population living in urban areas % | 1840 | 58       | 23        | 11    | 40      | 77       | 100        |\n",
       "| Precipitation level | 1750 | 0.04     | 0.028     | 0     | 0.021   | 0.054    | 0.16       |\n",
       "| Humidity % | 1750 | 68       | 14        | 26    | 60      | 79       | 88         |\n",
       "| Average surface temperature | 1750 | 19       | 7.7       | -0.6  | 12      | 26       | 30         |\n",
       "| Free EUAs | 300  | 40840633 | 60670968  | 0     | 6480356 | 51193988 | 456786535  |\n",
       "| Auctioned or sold EUAs | 300  | 18631887 | 32284591  | 0     | 0       | 18757750 | 206091500  |\n",
       "\n"
      ],
      "text/plain": [
       "                                              N    Mean     Std. Dev. Min  \n",
       "PM2.5 in cities                               1690 27       17        4.6  \n",
       "PM2.5 in rural areas                          1840 22       13        4.9  \n",
       "PM2.5 in towns                                1810 23       14        5.2  \n",
       "PM2.5 in urban areas                          1830 25       16        4.9  \n",
       "PM2.5 in country                              1840 23       14        4.9  \n",
       "CO2 emissions in kt                           1840 176855   839258    7.5  \n",
       "GDP per capita                                1810 13819    19390     217  \n",
       "GDP per capita growth %                       1804 2        4.8       -48  \n",
       "GDP from agriculture %                        1780 11       11        0.03 \n",
       "GDP from industry %                           1779 26       12        4.4  \n",
       "Total population                              1840 39320140 144267297 10241\n",
       "Urban population living in the largest city % 1460 32       16        3.1  \n",
       "Population growth %                           1840 1.3      1.5       -6.9 \n",
       "Population density                            1838 191      603       1.7  \n",
       "Total population living in urban areas %      1840 58       23        11   \n",
       "Precipitation level                           1750 0.04     0.028     0    \n",
       "Humidity %                                    1750 68       14        26   \n",
       "Average surface temperature                   1750 19       7.7       -0.6 \n",
       "Free EUAs                                     300  40840633 60670968  0    \n",
       "Auctioned or sold EUAs                        300  18631887 32284591  0    \n",
       "                                              Pctl. 25 Pctl. 75 Max       \n",
       "PM2.5 in cities                               14       37       97        \n",
       "PM2.5 in rural areas                          11       29       68        \n",
       "PM2.5 in towns                                12       30       73        \n",
       "PM2.5 in urban areas                          12       32       87        \n",
       "PM2.5 in country                              12       30       72        \n",
       "CO2 emissions in kt                           2444     67254    10762824  \n",
       "GDP per capita                                1816     16233    123679    \n",
       "GDP per capita growth %                       0.34     3.9      97        \n",
       "GDP from agriculture %                        2.6      17       61        \n",
       "GDP from industry %                           18       32       78        \n",
       "Total population                              2098842  28184988 1407745000\n",
       "Urban population living in the largest city % 20       40       100       \n",
       "Population growth %                           0.42     2.2      12        \n",
       "Population density                            31       159      7966      \n",
       "Total population living in urban areas %      40       77       100       \n",
       "Precipitation level                           0.021    0.054    0.16      \n",
       "Humidity %                                    60       79       88        \n",
       "Average surface temperature                   12       26       30        \n",
       "Free EUAs                                     6480356  51193988 456786535 \n",
       "Auctioned or sold EUAs                        0        18757750 206091500 "
      ]
     },
     "metadata": {},
     "output_type": "display_data"
    }
   ],
   "source": [
    "# Check summary statistics only for study horizon\n",
    "ST_raw <- st(all_indicators %>% filter(year >= 2010), out = \"return\") %>% filter(!Variable %in% c(\"year\"))\n",
    "rownames(ST_raw) <- unname(unlist(column_mapping[match(ST_raw$Variable, names(column_mapping))]))\n",
    "ST_raw$Variable <- NULL\n",
    "ST_raw\n",
    "write.csv(ST_raw, \"Data/EDA/Raw_summary.csv\", row.names = TRUE)"
   ]
  },
  {
   "cell_type": "markdown",
   "metadata": {},
   "source": [
    "### 2.b. Data cleaning"
   ]
  },
  {
   "cell_type": "code",
   "execution_count": 26,
   "metadata": {
    "vscode": {
     "languageId": "r"
    }
   },
   "outputs": [],
   "source": [
    "# 0 precipitation seems like a data quality issue, therefore dropping respective row.\n",
    "# Only for 2010, Bahrain. Not mentioned in thesis document since this is not an EU ETS country.\n",
    "all_indicators_filtered <- all_indicators %>% filter (precipitation > 0)\n",
    "\n",
    "# Drop EU ETS country Liechtenstein as the target variable is missing and no need to bother with data imputation\n",
    "all_indicators_filtered <- all_indicators_filtered %>% filter(country != \"Liechtenstein\")"
   ]
  },
  {
   "cell_type": "code",
   "execution_count": 27,
   "metadata": {
    "vscode": {
     "languageId": "r"
    }
   },
   "outputs": [
    {
     "name": "stdout",
     "output_type": "stream",
     "text": [
      "[1] \"Lower quantile is: -2.28%\"\n",
      "[1] \"Upper quantile is: 7.7%\"\n"
     ]
    },
    {
     "data": {
      "text/html": [
       "<table class=\"dataframe\">\n",
       "<caption>A data.frame: 44 × 3</caption>\n",
       "<thead>\n",
       "\t<tr><th scope=col>country</th><th scope=col>year</th><th scope=col>pop_growth_pct</th></tr>\n",
       "\t<tr><th scope=col>&lt;chr&gt;</th><th scope=col>&lt;dbl&gt;</th><th scope=col>&lt;dbl&gt;</th></tr>\n",
       "</thead>\n",
       "<tbody>\n",
       "\t<tr><td>Georgia             </td><td>1995</td><td> -3.757716</td></tr>\n",
       "\t<tr><td>Rwanda              </td><td>1995</td><td>-16.880630</td></tr>\n",
       "\t<tr><td>Georgia             </td><td>1996</td><td> -3.629546</td></tr>\n",
       "\t<tr><td>Rwanda              </td><td>1996</td><td> 16.625502</td></tr>\n",
       "\t<tr><td>Georgia             </td><td>1997</td><td> -3.207518</td></tr>\n",
       "\t<tr><td>Liberia             </td><td>1997</td><td>  7.822762</td></tr>\n",
       "\t<tr><td>Rwanda              </td><td>1997</td><td> 13.247067</td></tr>\n",
       "\t<tr><td>Georgia             </td><td>1998</td><td> -2.474223</td></tr>\n",
       "\t<tr><td>Liberia             </td><td>1998</td><td> 10.199885</td></tr>\n",
       "\t<tr><td>Croatia             </td><td>2001</td><td> -3.847671</td></tr>\n",
       "\t<tr><td>Bahrain             </td><td>2005</td><td>  7.895202</td></tr>\n",
       "\t<tr><td>Qatar               </td><td>2005</td><td>  8.706429</td></tr>\n",
       "\t<tr><td>Qatar               </td><td>2006</td><td> 17.898545</td></tr>\n",
       "\t<tr><td>United Arab Emirates</td><td>2006</td><td> 13.483672</td></tr>\n",
       "\t<tr><td>Andorra             </td><td>2007</td><td> -2.592497</td></tr>\n",
       "\t<tr><td>Qatar               </td><td>2007</td><td> 19.360429</td></tr>\n",
       "\t<tr><td>United Arab Emirates</td><td>2007</td><td> 18.127984</td></tr>\n",
       "\t<tr><td>Andorra             </td><td>2008</td><td> -2.740359</td></tr>\n",
       "\t<tr><td>Qatar               </td><td>2008</td><td> 15.905684</td></tr>\n",
       "\t<tr><td>United Arab Emirates</td><td>2008</td><td> 17.399086</td></tr>\n",
       "\t<tr><td>Andorra             </td><td>2009</td><td> -2.939367</td></tr>\n",
       "\t<tr><td>Qatar               </td><td>2009</td><td> 10.879550</td></tr>\n",
       "\t<tr><td>United Arab Emirates</td><td>2009</td><td> 13.422921</td></tr>\n",
       "\t<tr><td>Andorra             </td><td>2010</td><td> -3.209994</td></tr>\n",
       "\t<tr><td>Libya               </td><td>2011</td><td> -4.793554</td></tr>\n",
       "\t<tr><td>Oman                </td><td>2011</td><td> 10.684073</td></tr>\n",
       "\t<tr><td>Libya               </td><td>2012</td><td> -5.280078</td></tr>\n",
       "\t<tr><td>Oman                </td><td>2012</td><td>  9.758169</td></tr>\n",
       "\t<tr><td>Lebanon             </td><td>2013</td><td>  9.226496</td></tr>\n",
       "\t<tr><td>Syria               </td><td>2013</td><td> -5.033810</td></tr>\n",
       "\t<tr><td>Jordan              </td><td>2014</td><td> 11.794016</td></tr>\n",
       "\t<tr><td>Lebanon             </td><td>2014</td><td>  9.971970</td></tr>\n",
       "\t<tr><td>Qatar               </td><td>2014</td><td>  8.426886</td></tr>\n",
       "\t<tr><td>Syria               </td><td>2014</td><td> -6.852118</td></tr>\n",
       "\t<tr><td>Jordan              </td><td>2015</td><td>  9.219918</td></tr>\n",
       "\t<tr><td>Qatar               </td><td>2015</td><td>  8.651162</td></tr>\n",
       "\t<tr><td>Syria               </td><td>2015</td><td> -4.415744</td></tr>\n",
       "\t<tr><td>Lebanon             </td><td>2017</td><td> -2.415521</td></tr>\n",
       "\t<tr><td>South Sudan         </td><td>2017</td><td> -3.755484</td></tr>\n",
       "\t<tr><td>Lebanon             </td><td>2018</td><td> -2.627213</td></tr>\n",
       "\t<tr><td>South Sudan         </td><td>2018</td><td> -2.497542</td></tr>\n",
       "\t<tr><td>Venezuela           </td><td>2018</td><td> -2.443543</td></tr>\n",
       "\t<tr><td>Lebanon             </td><td>2019</td><td> -2.879866</td></tr>\n",
       "\t<tr><td>Venezuela           </td><td>2019</td><td> -2.904996</td></tr>\n",
       "</tbody>\n",
       "</table>\n"
      ],
      "text/latex": [
       "A data.frame: 44 × 3\n",
       "\\begin{tabular}{lll}\n",
       " country & year & pop\\_growth\\_pct\\\\\n",
       " <chr> & <dbl> & <dbl>\\\\\n",
       "\\hline\n",
       "\t Georgia              & 1995 &  -3.757716\\\\\n",
       "\t Rwanda               & 1995 & -16.880630\\\\\n",
       "\t Georgia              & 1996 &  -3.629546\\\\\n",
       "\t Rwanda               & 1996 &  16.625502\\\\\n",
       "\t Georgia              & 1997 &  -3.207518\\\\\n",
       "\t Liberia              & 1997 &   7.822762\\\\\n",
       "\t Rwanda               & 1997 &  13.247067\\\\\n",
       "\t Georgia              & 1998 &  -2.474223\\\\\n",
       "\t Liberia              & 1998 &  10.199885\\\\\n",
       "\t Croatia              & 2001 &  -3.847671\\\\\n",
       "\t Bahrain              & 2005 &   7.895202\\\\\n",
       "\t Qatar                & 2005 &   8.706429\\\\\n",
       "\t Qatar                & 2006 &  17.898545\\\\\n",
       "\t United Arab Emirates & 2006 &  13.483672\\\\\n",
       "\t Andorra              & 2007 &  -2.592497\\\\\n",
       "\t Qatar                & 2007 &  19.360429\\\\\n",
       "\t United Arab Emirates & 2007 &  18.127984\\\\\n",
       "\t Andorra              & 2008 &  -2.740359\\\\\n",
       "\t Qatar                & 2008 &  15.905684\\\\\n",
       "\t United Arab Emirates & 2008 &  17.399086\\\\\n",
       "\t Andorra              & 2009 &  -2.939367\\\\\n",
       "\t Qatar                & 2009 &  10.879550\\\\\n",
       "\t United Arab Emirates & 2009 &  13.422921\\\\\n",
       "\t Andorra              & 2010 &  -3.209994\\\\\n",
       "\t Libya                & 2011 &  -4.793554\\\\\n",
       "\t Oman                 & 2011 &  10.684073\\\\\n",
       "\t Libya                & 2012 &  -5.280078\\\\\n",
       "\t Oman                 & 2012 &   9.758169\\\\\n",
       "\t Lebanon              & 2013 &   9.226496\\\\\n",
       "\t Syria                & 2013 &  -5.033810\\\\\n",
       "\t Jordan               & 2014 &  11.794016\\\\\n",
       "\t Lebanon              & 2014 &   9.971970\\\\\n",
       "\t Qatar                & 2014 &   8.426886\\\\\n",
       "\t Syria                & 2014 &  -6.852118\\\\\n",
       "\t Jordan               & 2015 &   9.219918\\\\\n",
       "\t Qatar                & 2015 &   8.651162\\\\\n",
       "\t Syria                & 2015 &  -4.415744\\\\\n",
       "\t Lebanon              & 2017 &  -2.415521\\\\\n",
       "\t South Sudan          & 2017 &  -3.755484\\\\\n",
       "\t Lebanon              & 2018 &  -2.627213\\\\\n",
       "\t South Sudan          & 2018 &  -2.497542\\\\\n",
       "\t Venezuela            & 2018 &  -2.443543\\\\\n",
       "\t Lebanon              & 2019 &  -2.879866\\\\\n",
       "\t Venezuela            & 2019 &  -2.904996\\\\\n",
       "\\end{tabular}\n"
      ],
      "text/markdown": [
       "\n",
       "A data.frame: 44 × 3\n",
       "\n",
       "| country &lt;chr&gt; | year &lt;dbl&gt; | pop_growth_pct &lt;dbl&gt; |\n",
       "|---|---|---|\n",
       "| Georgia              | 1995 |  -3.757716 |\n",
       "| Rwanda               | 1995 | -16.880630 |\n",
       "| Georgia              | 1996 |  -3.629546 |\n",
       "| Rwanda               | 1996 |  16.625502 |\n",
       "| Georgia              | 1997 |  -3.207518 |\n",
       "| Liberia              | 1997 |   7.822762 |\n",
       "| Rwanda               | 1997 |  13.247067 |\n",
       "| Georgia              | 1998 |  -2.474223 |\n",
       "| Liberia              | 1998 |  10.199885 |\n",
       "| Croatia              | 2001 |  -3.847671 |\n",
       "| Bahrain              | 2005 |   7.895202 |\n",
       "| Qatar                | 2005 |   8.706429 |\n",
       "| Qatar                | 2006 |  17.898545 |\n",
       "| United Arab Emirates | 2006 |  13.483672 |\n",
       "| Andorra              | 2007 |  -2.592497 |\n",
       "| Qatar                | 2007 |  19.360429 |\n",
       "| United Arab Emirates | 2007 |  18.127984 |\n",
       "| Andorra              | 2008 |  -2.740359 |\n",
       "| Qatar                | 2008 |  15.905684 |\n",
       "| United Arab Emirates | 2008 |  17.399086 |\n",
       "| Andorra              | 2009 |  -2.939367 |\n",
       "| Qatar                | 2009 |  10.879550 |\n",
       "| United Arab Emirates | 2009 |  13.422921 |\n",
       "| Andorra              | 2010 |  -3.209994 |\n",
       "| Libya                | 2011 |  -4.793554 |\n",
       "| Oman                 | 2011 |  10.684073 |\n",
       "| Libya                | 2012 |  -5.280078 |\n",
       "| Oman                 | 2012 |   9.758169 |\n",
       "| Lebanon              | 2013 |   9.226496 |\n",
       "| Syria                | 2013 |  -5.033810 |\n",
       "| Jordan               | 2014 |  11.794016 |\n",
       "| Lebanon              | 2014 |   9.971970 |\n",
       "| Qatar                | 2014 |   8.426886 |\n",
       "| Syria                | 2014 |  -6.852118 |\n",
       "| Jordan               | 2015 |   9.219918 |\n",
       "| Qatar                | 2015 |   8.651162 |\n",
       "| Syria                | 2015 |  -4.415744 |\n",
       "| Lebanon              | 2017 |  -2.415521 |\n",
       "| South Sudan          | 2017 |  -3.755484 |\n",
       "| Lebanon              | 2018 |  -2.627213 |\n",
       "| South Sudan          | 2018 |  -2.497542 |\n",
       "| Venezuela            | 2018 |  -2.443543 |\n",
       "| Lebanon              | 2019 |  -2.879866 |\n",
       "| Venezuela            | 2019 |  -2.904996 |\n",
       "\n"
      ],
      "text/plain": [
       "   country              year pop_growth_pct\n",
       "1  Georgia              1995  -3.757716    \n",
       "2  Rwanda               1995 -16.880630    \n",
       "3  Georgia              1996  -3.629546    \n",
       "4  Rwanda               1996  16.625502    \n",
       "5  Georgia              1997  -3.207518    \n",
       "6  Liberia              1997   7.822762    \n",
       "7  Rwanda               1997  13.247067    \n",
       "8  Georgia              1998  -2.474223    \n",
       "9  Liberia              1998  10.199885    \n",
       "10 Croatia              2001  -3.847671    \n",
       "11 Bahrain              2005   7.895202    \n",
       "12 Qatar                2005   8.706429    \n",
       "13 Qatar                2006  17.898545    \n",
       "14 United Arab Emirates 2006  13.483672    \n",
       "15 Andorra              2007  -2.592497    \n",
       "16 Qatar                2007  19.360429    \n",
       "17 United Arab Emirates 2007  18.127984    \n",
       "18 Andorra              2008  -2.740359    \n",
       "19 Qatar                2008  15.905684    \n",
       "20 United Arab Emirates 2008  17.399086    \n",
       "21 Andorra              2009  -2.939367    \n",
       "22 Qatar                2009  10.879550    \n",
       "23 United Arab Emirates 2009  13.422921    \n",
       "24 Andorra              2010  -3.209994    \n",
       "25 Libya                2011  -4.793554    \n",
       "26 Oman                 2011  10.684073    \n",
       "27 Libya                2012  -5.280078    \n",
       "28 Oman                 2012   9.758169    \n",
       "29 Lebanon              2013   9.226496    \n",
       "30 Syria                2013  -5.033810    \n",
       "31 Jordan               2014  11.794016    \n",
       "32 Lebanon              2014   9.971970    \n",
       "33 Qatar                2014   8.426886    \n",
       "34 Syria                2014  -6.852118    \n",
       "35 Jordan               2015   9.219918    \n",
       "36 Qatar                2015   8.651162    \n",
       "37 Syria                2015  -4.415744    \n",
       "38 Lebanon              2017  -2.415521    \n",
       "39 South Sudan          2017  -3.755484    \n",
       "40 Lebanon              2018  -2.627213    \n",
       "41 South Sudan          2018  -2.497542    \n",
       "42 Venezuela            2018  -2.443543    \n",
       "43 Lebanon              2019  -2.879866    \n",
       "44 Venezuela            2019  -2.904996    "
      ]
     },
     "metadata": {},
     "output_type": "display_data"
    }
   ],
   "source": [
    "# pop_growth_pct spans between -17% to 19%\n",
    "# Trimming only 0.5% from each ends of the distribution to remove outliers\n",
    "lower_quantile <- quantile(all_indicators_filtered$pop_growth_pct, probs = 0.005, na.rm = TRUE)\n",
    "print(paste0(\"Lower quantile is: \", round(lower_quantile,2), \"%\"))\n",
    "upper_quantile <- quantile(all_indicators_filtered$pop_growth_pct, probs = 0.995, na.rm = TRUE)\n",
    "print(paste0(\"Upper quantile is: \", round(upper_quantile,2), \"%\"))\n",
    "# Check countries and years to be dropped\n",
    "all_indicators_filtered %>% \n",
    "    filter(pop_growth_pct < lower_quantile | pop_growth_pct > upper_quantile) %>%\n",
    "    select(c(\"country\", \"year\", \"pop_growth_pct\"))\n",
    "# Replace respective records with NAs\n",
    "all_indicators_filtered$pop_growth_pct[all_indicators_filtered$pop_growth_pct < lower_quantile | \n",
    "                                          all_indicators_filtered$pop_growth_pct > upper_quantile] <- NA"
   ]
  },
  {
   "cell_type": "code",
   "execution_count": 28,
   "metadata": {
    "vscode": {
     "languageId": "r"
    }
   },
   "outputs": [
    {
     "name": "stdout",
     "output_type": "stream",
     "text": [
      "[1] \"Lower quantile is: -18.33%\"\n"
     ]
    },
    {
     "name": "stdout",
     "output_type": "stream",
     "text": [
      "[1] \"Upper quantile is: 26.96%\"\n"
     ]
    },
    {
     "data": {
      "text/html": [
       "<table class=\"dataframe\">\n",
       "<caption>A data.frame: 26 × 3</caption>\n",
       "<thead>\n",
       "\t<tr><th scope=col>country</th><th scope=col>year</th><th scope=col>gdp_per_capita_growth_pct</th></tr>\n",
       "\t<tr><th scope=col>&lt;chr&gt;</th><th scope=col>&lt;dbl&gt;</th><th scope=col>&lt;dbl&gt;</th></tr>\n",
       "</thead>\n",
       "<tbody>\n",
       "\t<tr><td>Rwanda                  </td><td>1995</td><td> 60.09054</td></tr>\n",
       "\t<tr><td>Bosnia and Herzegovina  </td><td>1996</td><td> 81.35517</td></tr>\n",
       "\t<tr><td>Equatorial Guinea       </td><td>1996</td><td> 60.33710</td></tr>\n",
       "\t<tr><td>Tajikistan              </td><td>1996</td><td>-18.34826</td></tr>\n",
       "\t<tr><td>Bosnia and Herzegovina  </td><td>1997</td><td> 29.74152</td></tr>\n",
       "\t<tr><td>Equatorial Guinea       </td><td>1997</td><td>140.48004</td></tr>\n",
       "\t<tr><td>Guinea-Bissau           </td><td>1998</td><td>-29.41329</td></tr>\n",
       "\t<tr><td>Iraq                    </td><td>1998</td><td> 30.62938</td></tr>\n",
       "\t<tr><td>Equatorial Guinea       </td><td>2001</td><td> 55.59033</td></tr>\n",
       "\t<tr><td>Iraq                    </td><td>2003</td><td>-38.56172</td></tr>\n",
       "\t<tr><td>Liberia                 </td><td>2003</td><td>-30.70154</td></tr>\n",
       "\t<tr><td>Chad                    </td><td>2004</td><td> 27.83109</td></tr>\n",
       "\t<tr><td>Equatorial Guinea       </td><td>2004</td><td> 31.87428</td></tr>\n",
       "\t<tr><td>Iraq                    </td><td>2004</td><td> 49.03164</td></tr>\n",
       "\t<tr><td>Azerbaijan              </td><td>2006</td><td> 33.03049</td></tr>\n",
       "\t<tr><td>Libya                   </td><td>2011</td><td>-47.89999</td></tr>\n",
       "\t<tr><td>Libya                   </td><td>2012</td><td> 96.95642</td></tr>\n",
       "\t<tr><td>South Sudan             </td><td>2012</td><td>-48.39245</td></tr>\n",
       "\t<tr><td>Syria                   </td><td>2012</td><td>-25.93119</td></tr>\n",
       "\t<tr><td>Central African Republic</td><td>2013</td><td>-36.77770</td></tr>\n",
       "\t<tr><td>Libya                   </td><td>2013</td><td>-19.57836</td></tr>\n",
       "\t<tr><td>Syria                   </td><td>2013</td><td>-22.49521</td></tr>\n",
       "\t<tr><td>Libya                   </td><td>2014</td><td>-24.46316</td></tr>\n",
       "\t<tr><td>Sierra Leone            </td><td>2015</td><td>-22.38331</td></tr>\n",
       "\t<tr><td>Yemen                   </td><td>2015</td><td>-29.92176</td></tr>\n",
       "\t<tr><td>Libya                   </td><td>2017</td><td> 30.49630</td></tr>\n",
       "</tbody>\n",
       "</table>\n"
      ],
      "text/latex": [
       "A data.frame: 26 × 3\n",
       "\\begin{tabular}{lll}\n",
       " country & year & gdp\\_per\\_capita\\_growth\\_pct\\\\\n",
       " <chr> & <dbl> & <dbl>\\\\\n",
       "\\hline\n",
       "\t Rwanda                   & 1995 &  60.09054\\\\\n",
       "\t Bosnia and Herzegovina   & 1996 &  81.35517\\\\\n",
       "\t Equatorial Guinea        & 1996 &  60.33710\\\\\n",
       "\t Tajikistan               & 1996 & -18.34826\\\\\n",
       "\t Bosnia and Herzegovina   & 1997 &  29.74152\\\\\n",
       "\t Equatorial Guinea        & 1997 & 140.48004\\\\\n",
       "\t Guinea-Bissau            & 1998 & -29.41329\\\\\n",
       "\t Iraq                     & 1998 &  30.62938\\\\\n",
       "\t Equatorial Guinea        & 2001 &  55.59033\\\\\n",
       "\t Iraq                     & 2003 & -38.56172\\\\\n",
       "\t Liberia                  & 2003 & -30.70154\\\\\n",
       "\t Chad                     & 2004 &  27.83109\\\\\n",
       "\t Equatorial Guinea        & 2004 &  31.87428\\\\\n",
       "\t Iraq                     & 2004 &  49.03164\\\\\n",
       "\t Azerbaijan               & 2006 &  33.03049\\\\\n",
       "\t Libya                    & 2011 & -47.89999\\\\\n",
       "\t Libya                    & 2012 &  96.95642\\\\\n",
       "\t South Sudan              & 2012 & -48.39245\\\\\n",
       "\t Syria                    & 2012 & -25.93119\\\\\n",
       "\t Central African Republic & 2013 & -36.77770\\\\\n",
       "\t Libya                    & 2013 & -19.57836\\\\\n",
       "\t Syria                    & 2013 & -22.49521\\\\\n",
       "\t Libya                    & 2014 & -24.46316\\\\\n",
       "\t Sierra Leone             & 2015 & -22.38331\\\\\n",
       "\t Yemen                    & 2015 & -29.92176\\\\\n",
       "\t Libya                    & 2017 &  30.49630\\\\\n",
       "\\end{tabular}\n"
      ],
      "text/markdown": [
       "\n",
       "A data.frame: 26 × 3\n",
       "\n",
       "| country &lt;chr&gt; | year &lt;dbl&gt; | gdp_per_capita_growth_pct &lt;dbl&gt; |\n",
       "|---|---|---|\n",
       "| Rwanda                   | 1995 |  60.09054 |\n",
       "| Bosnia and Herzegovina   | 1996 |  81.35517 |\n",
       "| Equatorial Guinea        | 1996 |  60.33710 |\n",
       "| Tajikistan               | 1996 | -18.34826 |\n",
       "| Bosnia and Herzegovina   | 1997 |  29.74152 |\n",
       "| Equatorial Guinea        | 1997 | 140.48004 |\n",
       "| Guinea-Bissau            | 1998 | -29.41329 |\n",
       "| Iraq                     | 1998 |  30.62938 |\n",
       "| Equatorial Guinea        | 2001 |  55.59033 |\n",
       "| Iraq                     | 2003 | -38.56172 |\n",
       "| Liberia                  | 2003 | -30.70154 |\n",
       "| Chad                     | 2004 |  27.83109 |\n",
       "| Equatorial Guinea        | 2004 |  31.87428 |\n",
       "| Iraq                     | 2004 |  49.03164 |\n",
       "| Azerbaijan               | 2006 |  33.03049 |\n",
       "| Libya                    | 2011 | -47.89999 |\n",
       "| Libya                    | 2012 |  96.95642 |\n",
       "| South Sudan              | 2012 | -48.39245 |\n",
       "| Syria                    | 2012 | -25.93119 |\n",
       "| Central African Republic | 2013 | -36.77770 |\n",
       "| Libya                    | 2013 | -19.57836 |\n",
       "| Syria                    | 2013 | -22.49521 |\n",
       "| Libya                    | 2014 | -24.46316 |\n",
       "| Sierra Leone             | 2015 | -22.38331 |\n",
       "| Yemen                    | 2015 | -29.92176 |\n",
       "| Libya                    | 2017 |  30.49630 |\n",
       "\n"
      ],
      "text/plain": [
       "   country                  year gdp_per_capita_growth_pct\n",
       "1  Rwanda                   1995  60.09054                \n",
       "2  Bosnia and Herzegovina   1996  81.35517                \n",
       "3  Equatorial Guinea        1996  60.33710                \n",
       "4  Tajikistan               1996 -18.34826                \n",
       "5  Bosnia and Herzegovina   1997  29.74152                \n",
       "6  Equatorial Guinea        1997 140.48004                \n",
       "7  Guinea-Bissau            1998 -29.41329                \n",
       "8  Iraq                     1998  30.62938                \n",
       "9  Equatorial Guinea        2001  55.59033                \n",
       "10 Iraq                     2003 -38.56172                \n",
       "11 Liberia                  2003 -30.70154                \n",
       "12 Chad                     2004  27.83109                \n",
       "13 Equatorial Guinea        2004  31.87428                \n",
       "14 Iraq                     2004  49.03164                \n",
       "15 Azerbaijan               2006  33.03049                \n",
       "16 Libya                    2011 -47.89999                \n",
       "17 Libya                    2012  96.95642                \n",
       "18 South Sudan              2012 -48.39245                \n",
       "19 Syria                    2012 -25.93119                \n",
       "20 Central African Republic 2013 -36.77770                \n",
       "21 Libya                    2013 -19.57836                \n",
       "22 Syria                    2013 -22.49521                \n",
       "23 Libya                    2014 -24.46316                \n",
       "24 Sierra Leone             2015 -22.38331                \n",
       "25 Yemen                    2015 -29.92176                \n",
       "26 Libya                    2017  30.49630                "
      ]
     },
     "metadata": {},
     "output_type": "display_data"
    }
   ],
   "source": [
    "# gdp_per_capita_growth_pct spans between -48% to 96%\n",
    "# Trimming only 0.3% from each ends of the distribution to remove outliers\n",
    "lower_quantile <- quantile(all_indicators_filtered$gdp_per_capita_growth_pct, probs = 0.003, na.rm = TRUE)\n",
    "print(paste0(\"Lower quantile is: \", round(lower_quantile,2), \"%\"))\n",
    "upper_quantile <- quantile(all_indicators_filtered$gdp_per_capita_growth_pct, probs = 0.997, na.rm = TRUE)\n",
    "print(paste0(\"Upper quantile is: \", round(upper_quantile,2), \"%\"))\n",
    "# Check countries and years to be dropped\n",
    "all_indicators_filtered %>% \n",
    "    filter(gdp_per_capita_growth_pct < lower_quantile | gdp_per_capita_growth_pct > upper_quantile) %>%\n",
    "    select(c(\"country\", \"year\", \"gdp_per_capita_growth_pct\"))\n",
    "# Replace respective records with NAs\n",
    "all_indicators_filtered$gdp_per_capita_growth_pct[all_indicators_filtered$gdp_per_capita_growth_pct < lower_quantile | \n",
    "                                          all_indicators_filtered$gdp_per_capita_growth_pct > upper_quantile] <- NA"
   ]
  },
  {
   "cell_type": "markdown",
   "metadata": {
    "vscode": {
     "languageId": "r"
    }
   },
   "source": [
    "### 2.c. Feature engineering"
   ]
  },
  {
   "cell_type": "code",
   "execution_count": 29,
   "metadata": {
    "vscode": {
     "languageId": "r"
    }
   },
   "outputs": [
    {
     "name": "stdout",
     "output_type": "stream",
     "text": [
      "[1] 4369   24\n"
     ]
    },
    {
     "data": {
      "text/html": [
       "<table class=\"dataframe\">\n",
       "<caption>A data.frame: 6 × 24</caption>\n",
       "<thead>\n",
       "\t<tr><th></th><th scope=col>year</th><th scope=col>country</th><th scope=col>co2_em_kt</th><th scope=col>gdp_per_capita_growth_pct</th><th scope=col>agriculture_pct_gdp</th><th scope=col>industry_pct_gdp</th><th scope=col>pop_in_largest_city_pct_of_urban_pop</th><th scope=col>pop_growth_pct</th><th scope=col>pop_urban_pct_of_total</th><th scope=col>humidity</th><th scope=col>is_eu_ets</th><th scope=col>PM25_Cities_log</th><th scope=col>PM25_rural_log</th><th scope=col>PM25_Total_log</th><th scope=col>PM25_Towns_log</th><th scope=col>PM25_Urban_log</th><th scope=col>gdp_per_capita_log</th><th scope=col>pop_total_log</th><th scope=col>pop_density_log</th><th scope=col>precipitation_log</th><th scope=col>avg_surface_temp_log</th><th scope=col>free_EUAs_log</th><th scope=col>auctioned_sold_EUAs_log</th><th scope=col>co2_em_kt_log</th></tr>\n",
       "\t<tr><th></th><th scope=col>&lt;dbl&gt;</th><th scope=col>&lt;chr&gt;</th><th scope=col>&lt;dbl&gt;</th><th scope=col>&lt;dbl&gt;</th><th scope=col>&lt;dbl&gt;</th><th scope=col>&lt;dbl&gt;</th><th scope=col>&lt;dbl&gt;</th><th scope=col>&lt;dbl&gt;</th><th scope=col>&lt;dbl&gt;</th><th scope=col>&lt;dbl&gt;</th><th scope=col>&lt;chr&gt;</th><th scope=col>&lt;dbl&gt;</th><th scope=col>&lt;dbl&gt;</th><th scope=col>&lt;dbl&gt;</th><th scope=col>&lt;dbl&gt;</th><th scope=col>&lt;dbl&gt;</th><th scope=col>&lt;dbl&gt;</th><th scope=col>&lt;dbl&gt;</th><th scope=col>&lt;dbl&gt;</th><th scope=col>&lt;dbl&gt;</th><th scope=col>&lt;dbl&gt;</th><th scope=col>&lt;dbl&gt;</th><th scope=col>&lt;dbl&gt;</th><th scope=col>&lt;dbl&gt;</th></tr>\n",
       "</thead>\n",
       "<tbody>\n",
       "\t<tr><th scope=row>1</th><td>1995</td><td>Afghanistan        </td><td> 1458.690</td><td>        NA</td><td>      NA</td><td>      NA</td><td>54.32289</td><td> 6.0465356</td><td>21.624</td><td>45.20</td><td>No</td><td>NA</td><td>NA</td><td>NA</td><td>NA</td><td>NA</td><td>      NA</td><td>16.61394</td><td>3.225792</td><td>-4.135167</td><td>2.353658</td><td>0</td><td>0</td><td> 7.285294</td></tr>\n",
       "\t<tr><th scope=row>2</th><td>1995</td><td>Albania            </td><td> 1952.100</td><td>14.0244959</td><td>      NA</td><td>      NA</td><td>23.21430</td><td>-0.6177037</td><td>38.911</td><td>72.89</td><td>No</td><td>NA</td><td>NA</td><td>NA</td><td>NA</td><td>NA</td><td>6.620879</td><td>14.97484</td><td>4.756538</td><td>-3.079114</td><td>2.630881</td><td>0</td><td>0</td><td> 7.576661</td></tr>\n",
       "\t<tr><th scope=row>3</th><td>1995</td><td>Algeria            </td><td>76441.200</td><td> 1.8280370</td><td>      NA</td><td>      NA</td><td>12.37245</td><td> 1.9180442</td><td>55.997</td><td>49.55</td><td>No</td><td>NA</td><td>NA</td><td>NA</td><td>NA</td><td>NA</td><td>7.290664</td><td>17.16464</td><td>2.481301</td><td>-4.605170</td><td>2.993029</td><td>0</td><td>0</td><td>11.244277</td></tr>\n",
       "\t<tr><th scope=row>4</th><td>1995</td><td>Andorra            </td><td>  426.024</td><td>-0.3303835</td><td>      NA</td><td>      NA</td><td>      NA</td><td> 3.0510978</td><td>93.661</td><td>73.93</td><td>No</td><td>NA</td><td>NA</td><td>NA</td><td>NA</td><td>NA</td><td>9.837970</td><td>11.04975</td><td>4.897014</td><td>-3.442019</td><td>1.938454</td><td>0</td><td>0</td><td> 6.054496</td></tr>\n",
       "\t<tr><th scope=row>5</th><td>1995</td><td>Angola             </td><td>12720.480</td><td>11.2784224</td><td>6.653214</td><td>60.28518</td><td>33.62634</td><td> 3.2896758</td><td>44.169</td><td>65.15</td><td>No</td><td>NA</td><td>NA</td><td>NA</td><td>NA</td><td>NA</td><td>5.986754</td><td>16.44828</td><td>2.412270</td><td>-3.270169</td><td>3.191546</td><td>0</td><td>0</td><td> 9.450969</td></tr>\n",
       "\t<tr><th scope=row>6</th><td>1995</td><td>Antigua and Barbuda</td><td>  236.200</td><td>-6.2137233</td><td>1.643078</td><td>12.69552</td><td>      NA</td><td> 1.9576915</td><td>33.961</td><td>79.34</td><td>No</td><td>NA</td><td>NA</td><td>NA</td><td>NA</td><td>NA</td><td>9.040742</td><td>11.13310</td><td>5.046324</td><td>-3.324236</td><td>3.333489</td><td>0</td><td>0</td><td> 5.464679</td></tr>\n",
       "</tbody>\n",
       "</table>\n"
      ],
      "text/latex": [
       "A data.frame: 6 × 24\n",
       "\\begin{tabular}{r|llllllllllllllllllllllll}\n",
       "  & year & country & co2\\_em\\_kt & gdp\\_per\\_capita\\_growth\\_pct & agriculture\\_pct\\_gdp & industry\\_pct\\_gdp & pop\\_in\\_largest\\_city\\_pct\\_of\\_urban\\_pop & pop\\_growth\\_pct & pop\\_urban\\_pct\\_of\\_total & humidity & is\\_eu\\_ets & PM25\\_Cities\\_log & PM25\\_rural\\_log & PM25\\_Total\\_log & PM25\\_Towns\\_log & PM25\\_Urban\\_log & gdp\\_per\\_capita\\_log & pop\\_total\\_log & pop\\_density\\_log & precipitation\\_log & avg\\_surface\\_temp\\_log & free\\_EUAs\\_log & auctioned\\_sold\\_EUAs\\_log & co2\\_em\\_kt\\_log\\\\\n",
       "  & <dbl> & <chr> & <dbl> & <dbl> & <dbl> & <dbl> & <dbl> & <dbl> & <dbl> & <dbl> & <chr> & <dbl> & <dbl> & <dbl> & <dbl> & <dbl> & <dbl> & <dbl> & <dbl> & <dbl> & <dbl> & <dbl> & <dbl> & <dbl>\\\\\n",
       "\\hline\n",
       "\t1 & 1995 & Afghanistan         &  1458.690 &         NA &       NA &       NA & 54.32289 &  6.0465356 & 21.624 & 45.20 & No & NA & NA & NA & NA & NA &       NA & 16.61394 & 3.225792 & -4.135167 & 2.353658 & 0 & 0 &  7.285294\\\\\n",
       "\t2 & 1995 & Albania             &  1952.100 & 14.0244959 &       NA &       NA & 23.21430 & -0.6177037 & 38.911 & 72.89 & No & NA & NA & NA & NA & NA & 6.620879 & 14.97484 & 4.756538 & -3.079114 & 2.630881 & 0 & 0 &  7.576661\\\\\n",
       "\t3 & 1995 & Algeria             & 76441.200 &  1.8280370 &       NA &       NA & 12.37245 &  1.9180442 & 55.997 & 49.55 & No & NA & NA & NA & NA & NA & 7.290664 & 17.16464 & 2.481301 & -4.605170 & 2.993029 & 0 & 0 & 11.244277\\\\\n",
       "\t4 & 1995 & Andorra             &   426.024 & -0.3303835 &       NA &       NA &       NA &  3.0510978 & 93.661 & 73.93 & No & NA & NA & NA & NA & NA & 9.837970 & 11.04975 & 4.897014 & -3.442019 & 1.938454 & 0 & 0 &  6.054496\\\\\n",
       "\t5 & 1995 & Angola              & 12720.480 & 11.2784224 & 6.653214 & 60.28518 & 33.62634 &  3.2896758 & 44.169 & 65.15 & No & NA & NA & NA & NA & NA & 5.986754 & 16.44828 & 2.412270 & -3.270169 & 3.191546 & 0 & 0 &  9.450969\\\\\n",
       "\t6 & 1995 & Antigua and Barbuda &   236.200 & -6.2137233 & 1.643078 & 12.69552 &       NA &  1.9576915 & 33.961 & 79.34 & No & NA & NA & NA & NA & NA & 9.040742 & 11.13310 & 5.046324 & -3.324236 & 3.333489 & 0 & 0 &  5.464679\\\\\n",
       "\\end{tabular}\n"
      ],
      "text/markdown": [
       "\n",
       "A data.frame: 6 × 24\n",
       "\n",
       "| <!--/--> | year &lt;dbl&gt; | country &lt;chr&gt; | co2_em_kt &lt;dbl&gt; | gdp_per_capita_growth_pct &lt;dbl&gt; | agriculture_pct_gdp &lt;dbl&gt; | industry_pct_gdp &lt;dbl&gt; | pop_in_largest_city_pct_of_urban_pop &lt;dbl&gt; | pop_growth_pct &lt;dbl&gt; | pop_urban_pct_of_total &lt;dbl&gt; | humidity &lt;dbl&gt; | is_eu_ets &lt;chr&gt; | PM25_Cities_log &lt;dbl&gt; | PM25_rural_log &lt;dbl&gt; | PM25_Total_log &lt;dbl&gt; | PM25_Towns_log &lt;dbl&gt; | PM25_Urban_log &lt;dbl&gt; | gdp_per_capita_log &lt;dbl&gt; | pop_total_log &lt;dbl&gt; | pop_density_log &lt;dbl&gt; | precipitation_log &lt;dbl&gt; | avg_surface_temp_log &lt;dbl&gt; | free_EUAs_log &lt;dbl&gt; | auctioned_sold_EUAs_log &lt;dbl&gt; | co2_em_kt_log &lt;dbl&gt; |\n",
       "|---|---|---|---|---|---|---|---|---|---|---|---|---|---|---|---|---|---|---|---|---|---|---|---|---|\n",
       "| 1 | 1995 | Afghanistan         |  1458.690 |         NA |       NA |       NA | 54.32289 |  6.0465356 | 21.624 | 45.20 | No | NA | NA | NA | NA | NA |       NA | 16.61394 | 3.225792 | -4.135167 | 2.353658 | 0 | 0 |  7.285294 |\n",
       "| 2 | 1995 | Albania             |  1952.100 | 14.0244959 |       NA |       NA | 23.21430 | -0.6177037 | 38.911 | 72.89 | No | NA | NA | NA | NA | NA | 6.620879 | 14.97484 | 4.756538 | -3.079114 | 2.630881 | 0 | 0 |  7.576661 |\n",
       "| 3 | 1995 | Algeria             | 76441.200 |  1.8280370 |       NA |       NA | 12.37245 |  1.9180442 | 55.997 | 49.55 | No | NA | NA | NA | NA | NA | 7.290664 | 17.16464 | 2.481301 | -4.605170 | 2.993029 | 0 | 0 | 11.244277 |\n",
       "| 4 | 1995 | Andorra             |   426.024 | -0.3303835 |       NA |       NA |       NA |  3.0510978 | 93.661 | 73.93 | No | NA | NA | NA | NA | NA | 9.837970 | 11.04975 | 4.897014 | -3.442019 | 1.938454 | 0 | 0 |  6.054496 |\n",
       "| 5 | 1995 | Angola              | 12720.480 | 11.2784224 | 6.653214 | 60.28518 | 33.62634 |  3.2896758 | 44.169 | 65.15 | No | NA | NA | NA | NA | NA | 5.986754 | 16.44828 | 2.412270 | -3.270169 | 3.191546 | 0 | 0 |  9.450969 |\n",
       "| 6 | 1995 | Antigua and Barbuda |   236.200 | -6.2137233 | 1.643078 | 12.69552 |       NA |  1.9576915 | 33.961 | 79.34 | No | NA | NA | NA | NA | NA | 9.040742 | 11.13310 | 5.046324 | -3.324236 | 3.333489 | 0 | 0 |  5.464679 |\n",
       "\n"
      ],
      "text/plain": [
       "  year country             co2_em_kt gdp_per_capita_growth_pct\n",
       "1 1995 Afghanistan          1458.690         NA               \n",
       "2 1995 Albania              1952.100 14.0244959               \n",
       "3 1995 Algeria             76441.200  1.8280370               \n",
       "4 1995 Andorra               426.024 -0.3303835               \n",
       "5 1995 Angola              12720.480 11.2784224               \n",
       "6 1995 Antigua and Barbuda   236.200 -6.2137233               \n",
       "  agriculture_pct_gdp industry_pct_gdp pop_in_largest_city_pct_of_urban_pop\n",
       "1       NA                  NA         54.32289                            \n",
       "2       NA                  NA         23.21430                            \n",
       "3       NA                  NA         12.37245                            \n",
       "4       NA                  NA               NA                            \n",
       "5 6.653214            60.28518         33.62634                            \n",
       "6 1.643078            12.69552               NA                            \n",
       "  pop_growth_pct pop_urban_pct_of_total humidity is_eu_ets PM25_Cities_log\n",
       "1  6.0465356     21.624                 45.20    No        NA             \n",
       "2 -0.6177037     38.911                 72.89    No        NA             \n",
       "3  1.9180442     55.997                 49.55    No        NA             \n",
       "4  3.0510978     93.661                 73.93    No        NA             \n",
       "5  3.2896758     44.169                 65.15    No        NA             \n",
       "6  1.9576915     33.961                 79.34    No        NA             \n",
       "  PM25_rural_log PM25_Total_log PM25_Towns_log PM25_Urban_log\n",
       "1 NA             NA             NA             NA            \n",
       "2 NA             NA             NA             NA            \n",
       "3 NA             NA             NA             NA            \n",
       "4 NA             NA             NA             NA            \n",
       "5 NA             NA             NA             NA            \n",
       "6 NA             NA             NA             NA            \n",
       "  gdp_per_capita_log pop_total_log pop_density_log precipitation_log\n",
       "1       NA           16.61394      3.225792        -4.135167        \n",
       "2 6.620879           14.97484      4.756538        -3.079114        \n",
       "3 7.290664           17.16464      2.481301        -4.605170        \n",
       "4 9.837970           11.04975      4.897014        -3.442019        \n",
       "5 5.986754           16.44828      2.412270        -3.270169        \n",
       "6 9.040742           11.13310      5.046324        -3.324236        \n",
       "  avg_surface_temp_log free_EUAs_log auctioned_sold_EUAs_log co2_em_kt_log\n",
       "1 2.353658             0             0                        7.285294    \n",
       "2 2.630881             0             0                        7.576661    \n",
       "3 2.993029             0             0                       11.244277    \n",
       "4 1.938454             0             0                        6.054496    \n",
       "5 3.191546             0             0                        9.450969    \n",
       "6 3.333489             0             0                        5.464679    "
      ]
     },
     "metadata": {},
     "output_type": "display_data"
    }
   ],
   "source": [
    "# Label EU ETS country-year records\n",
    "\n",
    "# Identify EU ETS countries irrespective of years\n",
    "eu_ets_countries <- all_indicators_filtered %>%\n",
    "  group_by(country) %>%\n",
    "  summarise(EUA_total = sum(free_EUAs + auctioned_sold_EUAs, na.rm = TRUE)) %>%\n",
    "  filter(EUA_total > 0) %>%\n",
    "  pull(country)\n",
    "\n",
    "# Replace NAs with 0 for EUA columns\n",
    "all_indicators_filtered <- all_indicators_filtered %>%\n",
    "  mutate_at(vars(free_EUAs, auctioned_sold_EUAs), ~ifelse(is.na(.), 0, .))\n",
    "\n",
    "# Tag country-year pairs\n",
    "all_indicators_filtered$is_eu_ets <- ifelse(\n",
    "  # If there's any reported free or auctioned or sold EUAs\n",
    "  (all_indicators_filtered$free_EUAs + all_indicators_filtered$auctioned_sold_EUAs) > 0, \"Active\",\n",
    "  # If there's no reported free or auctioned or sold EUAs but country appears to report later\n",
    "  ifelse(all_indicators_filtered$country %in% eu_ets_countries, \"Inactive\",\n",
    "  # In case the country never reported free or auctioned or sold EUAs\n",
    "  \"No\")\n",
    ")\n",
    "\n",
    "# Adjust negative and zero average surface temperature records to be positive so that we can apply log transformation\n",
    "all_indicators_filtered$avg_surface_temp <- all_indicators_filtered$avg_surface_temp + abs(min(all_indicators_filtered$avg_surface_temp, na.rm = TRUE)) + 1\n",
    "\n",
    "# Adjust zero emissions to be positive so that we can apply log transformation\n",
    "all_indicators_filtered$co2_em_kt <- all_indicators_filtered$co2_em_kt + 1\n",
    "\n",
    "# Adjust zero and missing records for free EUAS and auctioned or sold EUAs so we can apply log transformation\n",
    "all_indicators_filtered$free_EUAs <- all_indicators_filtered$free_EUAs + 1\n",
    "all_indicators_filtered$auctioned_sold_EUAs <- all_indicators_filtered$auctioned_sold_EUAs + 1\n",
    "\n",
    "# Apply log transformation for all columns except percentages\n",
    "all_indicators_filtered <- all_indicators_filtered %>%\n",
    "  mutate_at(vars(PM25_Cities, PM25_rural, PM25_Total, PM25_Towns, PM25_Urban,\n",
    "                 gdp_per_capita, pop_total, pop_density,\n",
    "                 precipitation, avg_surface_temp,\n",
    "                 free_EUAs, auctioned_sold_EUAs,\n",
    "                  co2_em_kt\n",
    "                 ), \n",
    "             list(log = ~log(.)))\n",
    "             \n",
    "# Drop the original columns that log transformation is applied\n",
    "all_indicators_filtered <- all_indicators_filtered %>%\n",
    "  select(-PM25_Cities, -PM25_rural, -PM25_Total, -PM25_Towns, -PM25_Urban,\n",
    "         -gdp_per_capita, -pop_total, -pop_density,\n",
    "         -precipitation, -avg_surface_temp,\n",
    "         -free_EUAs, -auctioned_sold_EUAs\n",
    "        #  ,-co2_em_kt\n",
    "         )\n",
    "\n",
    "# Check final dataset\n",
    "print(dim(all_indicators_filtered))\n",
    "head(all_indicators_filtered)"
   ]
  },
  {
   "cell_type": "markdown",
   "metadata": {},
   "source": [
    "### 2.d. Handling missing values"
   ]
  },
  {
   "cell_type": "code",
   "execution_count": 30,
   "metadata": {
    "vscode": {
     "languageId": "r"
    }
   },
   "outputs": [],
   "source": [
    "# This function identifies the number of missing records for each year and indicator\n",
    "# within the specified study horizon and for specified EU-ETS conditions.\n",
    "display_eu_ets_missing_records <- function (df, interest_variables) {\n",
    "  # Extract parameters from input list\n",
    "  horizon_start <- interest_variables$horizon_start\n",
    "  horizon_end <- interest_variables$horizon_end\n",
    "  is_eu_ets_val <- interest_variables$is_eu_ets\n",
    "  columns_except <- interest_variables$columns_except\n",
    "\n",
    "  # Filter the dataframe for incomplete cases and specified conditions\n",
    "  df <- df[(!complete.cases(df)), ]\n",
    "  df <- df %>% filter(year >= horizon_start & year <= horizon_end & is_eu_ets %in% is_eu_ets_val)\n",
    "\n",
    "  # Summarize missing data by year and EU-ETS status, exclude PM2.5 columns\n",
    "  t <- df %>%\n",
    "       group_by(year, is_eu_ets) %>%\n",
    "       summarise_all(~sum(is.na(.))) %>%\n",
    "       select(-names(df)[startsWith(names(df), \"PM25_\")])\n",
    "\n",
    "  # Calculate column sums to find out the total missing per variable\n",
    "  column_sums <- colSums(t %>% select(-c(\"is_eu_ets\")), na.rm = TRUE)\n",
    "\n",
    "  # Filter out variables with no missing data\n",
    "  df_filtered <- t %>%\n",
    "                 select(c(names(column_sums)[column_sums != 0]), \"is_eu_ets\")\n",
    "\n",
    "  # Pivot longer and process only if missing data is present\n",
    "  if (dim(df_filtered)[1] > 0 & dim(df_filtered)[2] > 2) {\n",
    "    df_filtered <- df_filtered %>%\n",
    "                   pivot_longer(cols = -c(is_eu_ets, year), names_to = \"variable\", values_to = \"value\") %>%\n",
    "                   pivot_wider(names_from = year, values_from = value) %>%\n",
    "                   arrange(variable, is_eu_ets) %>%\n",
    "                   filter (!variable %in% columns_except) %>%\n",
    "                   replace_na(list(value = 0)) \n",
    "    return (df_filtered)\n",
    "  } else {\n",
    "    return (NULL)\n",
    "  }\n",
    "}\n",
    "\n",
    "# Function to fill missing values by carrying forward the next available non-NA value per country.\n",
    "fill_next_year_per_country <- function(df, interest_variables) {\n",
    "  cols_to_impute <- unique(display_eu_ets_missing_records(df, interest_variables)$variable)\n",
    "  is_eu_ets_val <- interest_variables$is_eu_ets\n",
    "\n",
    "  # Process only if there are columns with missing values\n",
    "  if (length(cols_to_impute) > 0) {\n",
    "    # Filter dataframe for the EU ETS condition\n",
    "    filtered_df <- df[df$is_eu_ets %in% is_eu_ets_val, ]\n",
    "\n",
    "    # Loop through each country to apply forward fill\n",
    "    countries <- unique(filtered_df$country)\n",
    "    for (country in countries) {\n",
    "      country_df <- filtered_df[filtered_df$country == country, ]\n",
    "      country_df <- arrange(country_df, year)\n",
    "      for (col in cols_to_impute) {\n",
    "        country_df[[col]] <- na.locf(country_df[[col]], na.rm = FALSE, fromLast = TRUE)\n",
    "      }\n",
    "        # Replace values in the original dataframe for the current country\n",
    "        df[df$country == country & df$is_eu_ets %in% is_eu_ets_val, cols_to_impute] <- country_df[, cols_to_impute]\n",
    "      }\n",
    "    }\n",
    "    return(df)\n",
    "  }\n",
    "\n",
    "\n",
    "# Function to impute missing values with mean of the respective year if forward fill is not possible.\n",
    "impute_mean_by_year <- function(df, interest_variables) {\n",
    "  cols_to_imput <- unique(display_eu_ets_missing_records(df, interest_variables)$variable)\n",
    "  is_eu_ets_val <- interest_variables$is_eu_ets\n",
    "\n",
    "  # Impute only if missing values are detected for specific columns\n",
    "  if (length(cols_to_imput) > 0) {\n",
    "    # Filter dataframe for EU ETS condition\n",
    "    filtered_df <- df[df$is_eu_ets %in% is_eu_ets_val, ]\n",
    "\n",
    "    # Calculate yearly means for each column\n",
    "    year_means <- aggregate(. ~ year, filtered_df[, c(\"year\", cols_to_imput)], mean, na.rm = TRUE)\n",
    "\n",
    "    # Impute missing values by merging yearly means and updating the data\n",
    "    for (col in cols_to_imput) {\n",
    "      merged_df <- merge(filtered_df, year_means, by = \"year\", suffixes = c(\"\", \"_mean\"), all.x = TRUE)\n",
    "      missing_values <- is.na(merged_df[[col]])\n",
    "      merged_df[[col]][missing_values] <- merged_df[[paste0(col, \"_mean\")]][missing_values]\n",
    "      merged_df <- merged_df[, !(names(merged_df) %in% paste0(\"_mean\"))]\n",
    "      df[df$is_eu_ets %in% is_eu_ets_val, col] <- merged_df[[col]]\n",
    "    }\n",
    "  }\n",
    "  return(df)\n",
    "}"
   ]
  },
  {
   "cell_type": "code",
   "execution_count": 31,
   "metadata": {
    "vscode": {
     "languageId": "r"
    }
   },
   "outputs": [
    {
     "name": "stdout",
     "output_type": "stream",
     "text": [
      "[1] \"Missing records for active EU-ETS countries, study horizon 2005-2019\"\n"
     ]
    },
    {
     "data": {
      "text/html": [
       "<table class=\"dataframe\">\n",
       "<caption>A tibble: 2 × 17</caption>\n",
       "<thead>\n",
       "\t<tr><th scope=col>is_eu_ets</th><th scope=col>variable</th><th scope=col>2005</th><th scope=col>2006</th><th scope=col>2007</th><th scope=col>2008</th><th scope=col>2009</th><th scope=col>2010</th><th scope=col>2011</th><th scope=col>2012</th><th scope=col>2013</th><th scope=col>2014</th><th scope=col>2015</th><th scope=col>2016</th><th scope=col>2017</th><th scope=col>2018</th><th scope=col>2019</th></tr>\n",
       "\t<tr><th scope=col>&lt;chr&gt;</th><th scope=col>&lt;chr&gt;</th><th scope=col>&lt;int&gt;</th><th scope=col>&lt;int&gt;</th><th scope=col>&lt;int&gt;</th><th scope=col>&lt;int&gt;</th><th scope=col>&lt;int&gt;</th><th scope=col>&lt;int&gt;</th><th scope=col>&lt;int&gt;</th><th scope=col>&lt;int&gt;</th><th scope=col>&lt;int&gt;</th><th scope=col>&lt;int&gt;</th><th scope=col>&lt;int&gt;</th><th scope=col>&lt;int&gt;</th><th scope=col>&lt;int&gt;</th><th scope=col>&lt;int&gt;</th><th scope=col>&lt;int&gt;</th></tr>\n",
       "</thead>\n",
       "<tbody>\n",
       "\t<tr><td>Active  </td><td>pop_in_largest_city_pct_of_urban_pop</td><td>2</td><td>2</td><td>2</td><td>3</td><td>3</td><td>3</td><td>3</td><td> 4</td><td> 4</td><td> 4</td><td> 4</td><td> 4</td><td> 4</td><td> 4</td><td> 4</td></tr>\n",
       "\t<tr><td>Inactive</td><td>pop_in_largest_city_pct_of_urban_pop</td><td>2</td><td>2</td><td>2</td><td>1</td><td>1</td><td>1</td><td>1</td><td>NA</td><td>NA</td><td>NA</td><td>NA</td><td>NA</td><td>NA</td><td>NA</td><td>NA</td></tr>\n",
       "</tbody>\n",
       "</table>\n"
      ],
      "text/latex": [
       "A tibble: 2 × 17\n",
       "\\begin{tabular}{lllllllllllllllll}\n",
       " is\\_eu\\_ets & variable & 2005 & 2006 & 2007 & 2008 & 2009 & 2010 & 2011 & 2012 & 2013 & 2014 & 2015 & 2016 & 2017 & 2018 & 2019\\\\\n",
       " <chr> & <chr> & <int> & <int> & <int> & <int> & <int> & <int> & <int> & <int> & <int> & <int> & <int> & <int> & <int> & <int> & <int>\\\\\n",
       "\\hline\n",
       "\t Active   & pop\\_in\\_largest\\_city\\_pct\\_of\\_urban\\_pop & 2 & 2 & 2 & 3 & 3 & 3 & 3 &  4 &  4 &  4 &  4 &  4 &  4 &  4 &  4\\\\\n",
       "\t Inactive & pop\\_in\\_largest\\_city\\_pct\\_of\\_urban\\_pop & 2 & 2 & 2 & 1 & 1 & 1 & 1 & NA & NA & NA & NA & NA & NA & NA & NA\\\\\n",
       "\\end{tabular}\n"
      ],
      "text/markdown": [
       "\n",
       "A tibble: 2 × 17\n",
       "\n",
       "| is_eu_ets &lt;chr&gt; | variable &lt;chr&gt; | 2005 &lt;int&gt; | 2006 &lt;int&gt; | 2007 &lt;int&gt; | 2008 &lt;int&gt; | 2009 &lt;int&gt; | 2010 &lt;int&gt; | 2011 &lt;int&gt; | 2012 &lt;int&gt; | 2013 &lt;int&gt; | 2014 &lt;int&gt; | 2015 &lt;int&gt; | 2016 &lt;int&gt; | 2017 &lt;int&gt; | 2018 &lt;int&gt; | 2019 &lt;int&gt; |\n",
       "|---|---|---|---|---|---|---|---|---|---|---|---|---|---|---|---|---|\n",
       "| Active   | pop_in_largest_city_pct_of_urban_pop | 2 | 2 | 2 | 3 | 3 | 3 | 3 |  4 |  4 |  4 |  4 |  4 |  4 |  4 |  4 |\n",
       "| Inactive | pop_in_largest_city_pct_of_urban_pop | 2 | 2 | 2 | 1 | 1 | 1 | 1 | NA | NA | NA | NA | NA | NA | NA | NA |\n",
       "\n"
      ],
      "text/plain": [
       "  is_eu_ets variable                             2005 2006 2007 2008 2009 2010\n",
       "1 Active    pop_in_largest_city_pct_of_urban_pop 2    2    2    3    3    3   \n",
       "2 Inactive  pop_in_largest_city_pct_of_urban_pop 2    2    2    1    1    1   \n",
       "  2011 2012 2013 2014 2015 2016 2017 2018 2019\n",
       "1 3     4    4    4    4    4    4    4    4  \n",
       "2 1    NA   NA   NA   NA   NA   NA   NA   NA  "
      ]
     },
     "metadata": {},
     "output_type": "display_data"
    },
    {
     "name": "stdout",
     "output_type": "stream",
     "text": [
      "[1] \"Missing records for inactive EU-ETS countries, pre-treatment horizon 1995-2004\"\n"
     ]
    },
    {
     "data": {
      "text/html": [
       "<table class=\"dataframe\">\n",
       "<caption>A tibble: 3 × 12</caption>\n",
       "<thead>\n",
       "\t<tr><th scope=col>is_eu_ets</th><th scope=col>variable</th><th scope=col>1995</th><th scope=col>1996</th><th scope=col>1997</th><th scope=col>1998</th><th scope=col>1999</th><th scope=col>2000</th><th scope=col>2001</th><th scope=col>2002</th><th scope=col>2003</th><th scope=col>2004</th></tr>\n",
       "\t<tr><th scope=col>&lt;chr&gt;</th><th scope=col>&lt;chr&gt;</th><th scope=col>&lt;int&gt;</th><th scope=col>&lt;int&gt;</th><th scope=col>&lt;int&gt;</th><th scope=col>&lt;int&gt;</th><th scope=col>&lt;int&gt;</th><th scope=col>&lt;int&gt;</th><th scope=col>&lt;int&gt;</th><th scope=col>&lt;int&gt;</th><th scope=col>&lt;int&gt;</th><th scope=col>&lt;int&gt;</th></tr>\n",
       "</thead>\n",
       "<tbody>\n",
       "\t<tr><td>Inactive</td><td>gdp_per_capita_growth_pct</td><td>6</td><td>0</td><td>0</td><td>0</td><td>0</td><td>0</td><td>0</td><td>0</td><td>0</td><td>0</td></tr>\n",
       "\t<tr><td>Inactive</td><td>pop_density_log          </td><td>2</td><td>2</td><td>2</td><td>2</td><td>2</td><td>0</td><td>0</td><td>0</td><td>0</td><td>0</td></tr>\n",
       "\t<tr><td>Inactive</td><td>pop_growth_pct           </td><td>0</td><td>0</td><td>0</td><td>0</td><td>0</td><td>0</td><td>1</td><td>0</td><td>0</td><td>0</td></tr>\n",
       "</tbody>\n",
       "</table>\n"
      ],
      "text/latex": [
       "A tibble: 3 × 12\n",
       "\\begin{tabular}{llllllllllll}\n",
       " is\\_eu\\_ets & variable & 1995 & 1996 & 1997 & 1998 & 1999 & 2000 & 2001 & 2002 & 2003 & 2004\\\\\n",
       " <chr> & <chr> & <int> & <int> & <int> & <int> & <int> & <int> & <int> & <int> & <int> & <int>\\\\\n",
       "\\hline\n",
       "\t Inactive & gdp\\_per\\_capita\\_growth\\_pct & 6 & 0 & 0 & 0 & 0 & 0 & 0 & 0 & 0 & 0\\\\\n",
       "\t Inactive & pop\\_density\\_log           & 2 & 2 & 2 & 2 & 2 & 0 & 0 & 0 & 0 & 0\\\\\n",
       "\t Inactive & pop\\_growth\\_pct            & 0 & 0 & 0 & 0 & 0 & 0 & 1 & 0 & 0 & 0\\\\\n",
       "\\end{tabular}\n"
      ],
      "text/markdown": [
       "\n",
       "A tibble: 3 × 12\n",
       "\n",
       "| is_eu_ets &lt;chr&gt; | variable &lt;chr&gt; | 1995 &lt;int&gt; | 1996 &lt;int&gt; | 1997 &lt;int&gt; | 1998 &lt;int&gt; | 1999 &lt;int&gt; | 2000 &lt;int&gt; | 2001 &lt;int&gt; | 2002 &lt;int&gt; | 2003 &lt;int&gt; | 2004 &lt;int&gt; |\n",
       "|---|---|---|---|---|---|---|---|---|---|---|---|\n",
       "| Inactive | gdp_per_capita_growth_pct | 6 | 0 | 0 | 0 | 0 | 0 | 0 | 0 | 0 | 0 |\n",
       "| Inactive | pop_density_log           | 2 | 2 | 2 | 2 | 2 | 0 | 0 | 0 | 0 | 0 |\n",
       "| Inactive | pop_growth_pct            | 0 | 0 | 0 | 0 | 0 | 0 | 1 | 0 | 0 | 0 |\n",
       "\n"
      ],
      "text/plain": [
       "  is_eu_ets variable                  1995 1996 1997 1998 1999 2000 2001 2002\n",
       "1 Inactive  gdp_per_capita_growth_pct 6    0    0    0    0    0    0    0   \n",
       "2 Inactive  pop_density_log           2    2    2    2    2    0    0    0   \n",
       "3 Inactive  pop_growth_pct            0    0    0    0    0    0    1    0   \n",
       "  2003 2004\n",
       "1 0    0   \n",
       "2 0    0   \n",
       "3 0    0   "
      ]
     },
     "metadata": {},
     "output_type": "display_data"
    },
    {
     "name": "stdout",
     "output_type": "stream",
     "text": [
      "[1] \"Missing records for non - EU-ETS countries, study and matching horizon 1995-2019\"\n"
     ]
    },
    {
     "data": {
      "text/html": [
       "<table class=\"dataframe\">\n",
       "<caption>A tibble: 7 × 27</caption>\n",
       "<thead>\n",
       "\t<tr><th scope=col>is_eu_ets</th><th scope=col>variable</th><th scope=col>1995</th><th scope=col>1996</th><th scope=col>1997</th><th scope=col>1998</th><th scope=col>1999</th><th scope=col>2000</th><th scope=col>2001</th><th scope=col>2002</th><th scope=col>2003</th><th scope=col>2004</th><th scope=col>2005</th><th scope=col>2006</th><th scope=col>2007</th><th scope=col>2008</th><th scope=col>2009</th><th scope=col>2010</th><th scope=col>2011</th><th scope=col>2012</th><th scope=col>2013</th><th scope=col>2014</th><th scope=col>2015</th><th scope=col>2016</th><th scope=col>2017</th><th scope=col>2018</th><th scope=col>2019</th></tr>\n",
       "\t<tr><th scope=col>&lt;chr&gt;</th><th scope=col>&lt;chr&gt;</th><th scope=col>&lt;int&gt;</th><th scope=col>&lt;int&gt;</th><th scope=col>&lt;int&gt;</th><th scope=col>&lt;int&gt;</th><th scope=col>&lt;int&gt;</th><th scope=col>&lt;int&gt;</th><th scope=col>&lt;int&gt;</th><th scope=col>&lt;int&gt;</th><th scope=col>&lt;int&gt;</th><th scope=col>&lt;int&gt;</th><th scope=col>&lt;int&gt;</th><th scope=col>&lt;int&gt;</th><th scope=col>&lt;int&gt;</th><th scope=col>&lt;int&gt;</th><th scope=col>&lt;int&gt;</th><th scope=col>&lt;int&gt;</th><th scope=col>&lt;int&gt;</th><th scope=col>&lt;int&gt;</th><th scope=col>&lt;int&gt;</th><th scope=col>&lt;int&gt;</th><th scope=col>&lt;int&gt;</th><th scope=col>&lt;int&gt;</th><th scope=col>&lt;int&gt;</th><th scope=col>&lt;int&gt;</th><th scope=col>&lt;int&gt;</th></tr>\n",
       "</thead>\n",
       "<tbody>\n",
       "\t<tr><td>No</td><td>agriculture_pct_gdp                 </td><td>20</td><td>19</td><td>17</td><td>17</td><td>16</td><td>10</td><td> 9</td><td> 7</td><td> 7</td><td> 7</td><td> 8</td><td> 5</td><td> 5</td><td> 4</td><td> 3</td><td> 4</td><td> 4</td><td> 3</td><td> 2</td><td> 2</td><td> 3</td><td> 4</td><td> 4</td><td> 4</td><td> 6</td></tr>\n",
       "\t<tr><td>No</td><td>gdp_per_capita_growth_pct           </td><td>14</td><td>13</td><td>12</td><td>11</td><td> 9</td><td> 8</td><td> 6</td><td> 4</td><td> 5</td><td> 6</td><td> 3</td><td> 4</td><td> 3</td><td> 3</td><td> 2</td><td> 2</td><td> 3</td><td> 6</td><td> 6</td><td> 2</td><td> 4</td><td> 3</td><td> 4</td><td> 3</td><td> 4</td></tr>\n",
       "\t<tr><td>No</td><td>gdp_per_capita_log                  </td><td> 7</td><td> 7</td><td> 7</td><td> 7</td><td> 7</td><td> 4</td><td> 3</td><td> 2</td><td> 2</td><td> 2</td><td> 2</td><td> 2</td><td> 2</td><td> 1</td><td> 1</td><td> 1</td><td> 1</td><td> 2</td><td> 1</td><td> 1</td><td> 2</td><td> 3</td><td> 3</td><td> 3</td><td> 3</td></tr>\n",
       "\t<tr><td>No</td><td>industry_pct_gdp                    </td><td>23</td><td>22</td><td>20</td><td>20</td><td>19</td><td>15</td><td>13</td><td>12</td><td>11</td><td>10</td><td>11</td><td> 8</td><td> 7</td><td> 6</td><td> 5</td><td> 5</td><td> 4</td><td> 3</td><td> 2</td><td> 2</td><td> 3</td><td> 4</td><td> 4</td><td> 4</td><td> 6</td></tr>\n",
       "\t<tr><td>No</td><td>pop_density_log                     </td><td> 3</td><td> 3</td><td> 3</td><td> 3</td><td> 3</td><td> 3</td><td> 3</td><td> 3</td><td> 3</td><td> 3</td><td> 3</td><td> 1</td><td> 1</td><td> 1</td><td> 1</td><td> 1</td><td> 1</td><td> 0</td><td> 0</td><td> 0</td><td> 0</td><td> 0</td><td> 0</td><td> 0</td><td> 0</td></tr>\n",
       "\t<tr><td>No</td><td>pop_growth_pct                      </td><td> 2</td><td> 2</td><td> 3</td><td> 2</td><td> 0</td><td> 0</td><td> 0</td><td> 0</td><td> 0</td><td> 0</td><td> 2</td><td> 2</td><td> 3</td><td> 3</td><td> 3</td><td> 1</td><td> 2</td><td> 2</td><td> 2</td><td> 4</td><td> 3</td><td> 0</td><td> 2</td><td> 3</td><td> 2</td></tr>\n",
       "\t<tr><td>No</td><td>pop_in_largest_city_pct_of_urban_pop</td><td>27</td><td>27</td><td>27</td><td>27</td><td>27</td><td>27</td><td>27</td><td>27</td><td>27</td><td>27</td><td>27</td><td>27</td><td>27</td><td>27</td><td>27</td><td>27</td><td>27</td><td>27</td><td>27</td><td>27</td><td>27</td><td>27</td><td>27</td><td>27</td><td>27</td></tr>\n",
       "</tbody>\n",
       "</table>\n"
      ],
      "text/latex": [
       "A tibble: 7 × 27\n",
       "\\begin{tabular}{lllllllllllllllllllllllllll}\n",
       " is\\_eu\\_ets & variable & 1995 & 1996 & 1997 & 1998 & 1999 & 2000 & 2001 & 2002 & 2003 & 2004 & 2005 & 2006 & 2007 & 2008 & 2009 & 2010 & 2011 & 2012 & 2013 & 2014 & 2015 & 2016 & 2017 & 2018 & 2019\\\\\n",
       " <chr> & <chr> & <int> & <int> & <int> & <int> & <int> & <int> & <int> & <int> & <int> & <int> & <int> & <int> & <int> & <int> & <int> & <int> & <int> & <int> & <int> & <int> & <int> & <int> & <int> & <int> & <int>\\\\\n",
       "\\hline\n",
       "\t No & agriculture\\_pct\\_gdp                  & 20 & 19 & 17 & 17 & 16 & 10 &  9 &  7 &  7 &  7 &  8 &  5 &  5 &  4 &  3 &  4 &  4 &  3 &  2 &  2 &  3 &  4 &  4 &  4 &  6\\\\\n",
       "\t No & gdp\\_per\\_capita\\_growth\\_pct            & 14 & 13 & 12 & 11 &  9 &  8 &  6 &  4 &  5 &  6 &  3 &  4 &  3 &  3 &  2 &  2 &  3 &  6 &  6 &  2 &  4 &  3 &  4 &  3 &  4\\\\\n",
       "\t No & gdp\\_per\\_capita\\_log                   &  7 &  7 &  7 &  7 &  7 &  4 &  3 &  2 &  2 &  2 &  2 &  2 &  2 &  1 &  1 &  1 &  1 &  2 &  1 &  1 &  2 &  3 &  3 &  3 &  3\\\\\n",
       "\t No & industry\\_pct\\_gdp                     & 23 & 22 & 20 & 20 & 19 & 15 & 13 & 12 & 11 & 10 & 11 &  8 &  7 &  6 &  5 &  5 &  4 &  3 &  2 &  2 &  3 &  4 &  4 &  4 &  6\\\\\n",
       "\t No & pop\\_density\\_log                      &  3 &  3 &  3 &  3 &  3 &  3 &  3 &  3 &  3 &  3 &  3 &  1 &  1 &  1 &  1 &  1 &  1 &  0 &  0 &  0 &  0 &  0 &  0 &  0 &  0\\\\\n",
       "\t No & pop\\_growth\\_pct                       &  2 &  2 &  3 &  2 &  0 &  0 &  0 &  0 &  0 &  0 &  2 &  2 &  3 &  3 &  3 &  1 &  2 &  2 &  2 &  4 &  3 &  0 &  2 &  3 &  2\\\\\n",
       "\t No & pop\\_in\\_largest\\_city\\_pct\\_of\\_urban\\_pop & 27 & 27 & 27 & 27 & 27 & 27 & 27 & 27 & 27 & 27 & 27 & 27 & 27 & 27 & 27 & 27 & 27 & 27 & 27 & 27 & 27 & 27 & 27 & 27 & 27\\\\\n",
       "\\end{tabular}\n"
      ],
      "text/markdown": [
       "\n",
       "A tibble: 7 × 27\n",
       "\n",
       "| is_eu_ets &lt;chr&gt; | variable &lt;chr&gt; | 1995 &lt;int&gt; | 1996 &lt;int&gt; | 1997 &lt;int&gt; | 1998 &lt;int&gt; | 1999 &lt;int&gt; | 2000 &lt;int&gt; | 2001 &lt;int&gt; | 2002 &lt;int&gt; | 2003 &lt;int&gt; | 2004 &lt;int&gt; | 2005 &lt;int&gt; | 2006 &lt;int&gt; | 2007 &lt;int&gt; | 2008 &lt;int&gt; | 2009 &lt;int&gt; | 2010 &lt;int&gt; | 2011 &lt;int&gt; | 2012 &lt;int&gt; | 2013 &lt;int&gt; | 2014 &lt;int&gt; | 2015 &lt;int&gt; | 2016 &lt;int&gt; | 2017 &lt;int&gt; | 2018 &lt;int&gt; | 2019 &lt;int&gt; |\n",
       "|---|---|---|---|---|---|---|---|---|---|---|---|---|---|---|---|---|---|---|---|---|---|---|---|---|---|---|\n",
       "| No | agriculture_pct_gdp                  | 20 | 19 | 17 | 17 | 16 | 10 |  9 |  7 |  7 |  7 |  8 |  5 |  5 |  4 |  3 |  4 |  4 |  3 |  2 |  2 |  3 |  4 |  4 |  4 |  6 |\n",
       "| No | gdp_per_capita_growth_pct            | 14 | 13 | 12 | 11 |  9 |  8 |  6 |  4 |  5 |  6 |  3 |  4 |  3 |  3 |  2 |  2 |  3 |  6 |  6 |  2 |  4 |  3 |  4 |  3 |  4 |\n",
       "| No | gdp_per_capita_log                   |  7 |  7 |  7 |  7 |  7 |  4 |  3 |  2 |  2 |  2 |  2 |  2 |  2 |  1 |  1 |  1 |  1 |  2 |  1 |  1 |  2 |  3 |  3 |  3 |  3 |\n",
       "| No | industry_pct_gdp                     | 23 | 22 | 20 | 20 | 19 | 15 | 13 | 12 | 11 | 10 | 11 |  8 |  7 |  6 |  5 |  5 |  4 |  3 |  2 |  2 |  3 |  4 |  4 |  4 |  6 |\n",
       "| No | pop_density_log                      |  3 |  3 |  3 |  3 |  3 |  3 |  3 |  3 |  3 |  3 |  3 |  1 |  1 |  1 |  1 |  1 |  1 |  0 |  0 |  0 |  0 |  0 |  0 |  0 |  0 |\n",
       "| No | pop_growth_pct                       |  2 |  2 |  3 |  2 |  0 |  0 |  0 |  0 |  0 |  0 |  2 |  2 |  3 |  3 |  3 |  1 |  2 |  2 |  2 |  4 |  3 |  0 |  2 |  3 |  2 |\n",
       "| No | pop_in_largest_city_pct_of_urban_pop | 27 | 27 | 27 | 27 | 27 | 27 | 27 | 27 | 27 | 27 | 27 | 27 | 27 | 27 | 27 | 27 | 27 | 27 | 27 | 27 | 27 | 27 | 27 | 27 | 27 |\n",
       "\n"
      ],
      "text/plain": [
       "  is_eu_ets variable                             1995 1996 1997 1998 1999 2000\n",
       "1 No        agriculture_pct_gdp                  20   19   17   17   16   10  \n",
       "2 No        gdp_per_capita_growth_pct            14   13   12   11    9    8  \n",
       "3 No        gdp_per_capita_log                    7    7    7    7    7    4  \n",
       "4 No        industry_pct_gdp                     23   22   20   20   19   15  \n",
       "5 No        pop_density_log                       3    3    3    3    3    3  \n",
       "6 No        pop_growth_pct                        2    2    3    2    0    0  \n",
       "7 No        pop_in_largest_city_pct_of_urban_pop 27   27   27   27   27   27  \n",
       "  2001 2002 2003 2004 2005 2006 2007 2008 2009 2010 2011 2012 2013 2014 2015\n",
       "1  9    7    7    7    8    5    5    4    3    4    4    3    2    2    3  \n",
       "2  6    4    5    6    3    4    3    3    2    2    3    6    6    2    4  \n",
       "3  3    2    2    2    2    2    2    1    1    1    1    2    1    1    2  \n",
       "4 13   12   11   10   11    8    7    6    5    5    4    3    2    2    3  \n",
       "5  3    3    3    3    3    1    1    1    1    1    1    0    0    0    0  \n",
       "6  0    0    0    0    2    2    3    3    3    1    2    2    2    4    3  \n",
       "7 27   27   27   27   27   27   27   27   27   27   27   27   27   27   27  \n",
       "  2016 2017 2018 2019\n",
       "1  4    4    4    6  \n",
       "2  3    4    3    4  \n",
       "3  3    3    3    3  \n",
       "4  4    4    4    6  \n",
       "5  0    0    0    0  \n",
       "6  0    2    3    2  \n",
       "7 27   27   27   27  "
      ]
     },
     "metadata": {},
     "output_type": "display_data"
    }
   ],
   "source": [
    "# Display of missing records for active EU-ETS countries for the study period 2010-2019\n",
    "print(\"Missing records for active EU-ETS countries, study horizon 2005-2019\")\n",
    "eu_ets_study_imputation <- list(\n",
    "  \"horizon_start\" = 2005,\n",
    "  \"horizon_end\" = 2019,\n",
    "  \"is_eu_ets\" = c(\"Active\",\"Inactive\"),\n",
    "  \"columns_except\" = c(\"free_EUAs_log\", \"auctioned_or_sold_EUAs_log\", \"co2_em_kt_log\")\n",
    ")\n",
    "display_eu_ets_missing_records(all_indicators_filtered, eu_ets_study_imputation)\n",
    "\n",
    "# Apply forward filling by next year and then impute with mean by year for active EU-ETS countries\n",
    "all_indicators_imputted <- fill_next_year_per_country(all_indicators_filtered, eu_ets_study_imputation)\n",
    "all_indicators_imputted <- impute_mean_by_year(all_indicators_imputted, eu_ets_study_imputation)\n",
    "\n",
    "# Display missing records for inactive EU-ETS countries before their treatment in the pre-treatment horizon 1995-2004\n",
    "print(\"Missing records for inactive EU-ETS countries, pre-treatment horizon 1995-2004\")\n",
    "eu_ets_matching_imputation <- list(\n",
    "  \"horizon_start\" = 1995,\n",
    "  \"horizon_end\" = 2004,\n",
    "  \"is_eu_ets\" = \"Inactive\",\n",
    "  \"columns_except\" = c(\"free_EUAs_log\", \"auctioned_or_sold_EUAs_log\", \"co2_em_kt_log\")\n",
    ")\n",
    "display_eu_ets_missing_records(all_indicators_imputted, eu_ets_matching_imputation)\n",
    "\n",
    "# Apply data imputation strategies to inactive EU-ETS countries using similar steps\n",
    "all_indicators_imputted <- fill_next_year_per_country(all_indicators_imputted, eu_ets_matching_imputation)\n",
    "all_indicators_imputted <- impute_mean_by_year(all_indicators_imputted, eu_ets_matching_imputation)\n",
    "\n",
    "# Display and handle missing records for non-EU ETS countries for the pre-treatment period 1995-2004\n",
    "print(\"Missing records for non - EU-ETS countries, study and matching horizon 1995-2019\")\n",
    "non_eu_ets_study_imputation <- list(\n",
    "  \"horizon_start\" = 1994,\n",
    "  \"horizon_end\" = 2019,\n",
    "  \"is_eu_ets\" = \"No\",\n",
    "  \"columns_except\" = c(\"free_EUAs_log\", \"auctioned_or_sold_EUAs_log\", \"co2_em_kt_log\")\n",
    ")\n",
    "display_eu_ets_missing_records(all_indicators_imputted, non_eu_ets_study_imputation)\n",
    "\n",
    "# Further imputation for non-EU ETS countries during the study period, only forward fill\n",
    "# Group mean imputation is not a reasonable approach as all other world countries has much more variance than EU countries\n",
    "all_indicators_imputted <- fill_next_year_per_country(all_indicators_imputted, non_eu_ets_study_imputation)"
   ]
  },
  {
   "cell_type": "code",
   "execution_count": 34,
   "metadata": {
    "vscode": {
     "languageId": "r"
    }
   },
   "outputs": [
    {
     "name": "stdout",
     "output_type": "stream",
     "text": [
      "[1] \"Shape of final dataset\"\n",
      "[1] 3425   24\n"
     ]
    },
    {
     "data": {
      "text/html": [
       "<table class=\"dataframe\">\n",
       "<caption>A tibble: 3 × 2</caption>\n",
       "<thead>\n",
       "\t<tr><th scope=col>is_eu_ets</th><th scope=col>count</th></tr>\n",
       "\t<tr><th scope=col>&lt;chr&gt;</th><th scope=col>&lt;int&gt;</th></tr>\n",
       "</thead>\n",
       "<tbody>\n",
       "\t<tr><td>Active  </td><td> 411</td></tr>\n",
       "\t<tr><td>Inactive</td><td> 314</td></tr>\n",
       "\t<tr><td>No      </td><td>2700</td></tr>\n",
       "</tbody>\n",
       "</table>\n"
      ],
      "text/latex": [
       "A tibble: 3 × 2\n",
       "\\begin{tabular}{ll}\n",
       " is\\_eu\\_ets & count\\\\\n",
       " <chr> & <int>\\\\\n",
       "\\hline\n",
       "\t Active   &  411\\\\\n",
       "\t Inactive &  314\\\\\n",
       "\t No       & 2700\\\\\n",
       "\\end{tabular}\n"
      ],
      "text/markdown": [
       "\n",
       "A tibble: 3 × 2\n",
       "\n",
       "| is_eu_ets &lt;chr&gt; | count &lt;int&gt; |\n",
       "|---|---|\n",
       "| Active   |  411 |\n",
       "| Inactive |  314 |\n",
       "| No       | 2700 |\n",
       "\n"
      ],
      "text/plain": [
       "  is_eu_ets count\n",
       "1 Active     411 \n",
       "2 Inactive   314 \n",
       "3 No        2700 "
      ]
     },
     "metadata": {},
     "output_type": "display_data"
    }
   ],
   "source": [
    "# Define the columns where missing values are ignored for all years\n",
    "cols_ignore_all_years <- c(\"free_EUAs_log\", \"auctioned_sold_EUAs_log\")\n",
    "\n",
    "# Define the columns where missing values are ignored only for years 2010-2019\n",
    "cols_ignore_specific_years <- c(\"PM25_Cities_log\", \"PM25_rural_log\", \"PM25_Total_log\", \"PM25_Towns_log\", \"PM25_Urban_log\")\n",
    "\n",
    "# Create a new column 'to_drop' initialized as FALSE for all rows\n",
    "all_indicators_imputted$to_drop <- FALSE\n",
    "\n",
    "# Mark rows to drop based on missing values in general columns\n",
    "all_indicators_imputted$to_drop <- all_indicators_imputted$to_drop | \n",
    "  !complete.cases(all_indicators_imputted[, !(names(all_indicators_imputted) %in% c(cols_ignore_all_years, cols_ignore_specific_years))])\n",
    "\n",
    "# Mark rows to drop based on missing values in specific year columns for years 2010-2019\n",
    "is_within_years <- all_indicators_imputted$year >= 2010 & all_indicators_imputted$year <= 2019\n",
    "specific_year_missing <- !complete.cases(all_indicators_imputted[is_within_years, cols_ignore_specific_years])\n",
    "\n",
    "# Apply specific year conditions only to relevant rows\n",
    "all_indicators_imputted$to_drop[is_within_years] <- all_indicators_imputted$to_drop[is_within_years] | specific_year_missing\n",
    "\n",
    "# Now, filter out the rows flagged to be dropped\n",
    "all_indicators_final <- all_indicators_imputted[!all_indicators_imputted$to_drop, ]\n",
    "\n",
    "# Optionally, drop the 'to_drop' column if no longer needed\n",
    "all_indicators_final$to_drop <- NULL\n",
    "\n",
    "# Only keep countries that are available through the matching and study period, 1995-2019\n",
    "country_counts <- all_indicators_final %>% group_by(country) %>% summarise(count=n())\n",
    "country_counts$to_keep = ifelse(country_counts$count == max(all_indicators_final$year) - min(all_indicators_final$year) + 1, TRUE,FALSE)\n",
    "country_counts <- country_counts %>% filter(to_keep == TRUE)\n",
    "all_indicators_final <- all_indicators_final %>% filter (country %in% country_counts$country)\n",
    "\n",
    "\n",
    "print(\"Shape of final dataset\")\n",
    "print(dim(all_indicators_final))\n",
    "\n",
    "# EU ETS breakdown of country-year pairs\n",
    "all_indicators_final %>% group_by(is_eu_ets) %>% summarise(count = n())\n"
   ]
  },
  {
   "cell_type": "code",
   "execution_count": 37,
   "metadata": {
    "vscode": {
     "languageId": "r"
    }
   },
   "outputs": [
    {
     "data": {
      "text/html": [
       "<table class=\"dataframe\">\n",
       "<caption>A data.frame: 21 × 7</caption>\n",
       "<thead>\n",
       "\t<tr><th></th><th scope=col>N</th><th scope=col>Mean</th><th scope=col>Std. Dev.</th><th scope=col>Min</th><th scope=col>Pctl. 25</th><th scope=col>Pctl. 75</th><th scope=col>Max</th></tr>\n",
       "\t<tr><th></th><th scope=col>&lt;chr&gt;</th><th scope=col>&lt;chr&gt;</th><th scope=col>&lt;chr&gt;</th><th scope=col>&lt;chr&gt;</th><th scope=col>&lt;chr&gt;</th><th scope=col>&lt;chr&gt;</th><th scope=col>&lt;chr&gt;</th></tr>\n",
       "</thead>\n",
       "<tbody>\n",
       "\t<tr><th scope=row>CO2 emissions in kt</th><td>1370</td><td>228105</td><td>965875</td><td>122 </td><td>6804</td><td>98948</td><td>10762825</td></tr>\n",
       "\t<tr><th scope=row>GDP per capita growth %</th><td>1370</td><td>2.2   </td><td>3.3   </td><td>-13 </td><td>0.63</td><td>4    </td><td>23      </td></tr>\n",
       "\t<tr><th scope=row>GDP from agriculture %</th><td>1370</td><td>12    </td><td>11    </td><td>0.21</td><td>3   </td><td>18   </td><td>61      </td></tr>\n",
       "\t<tr><th scope=row>GDP from industry %</th><td>1370</td><td>27    </td><td>11    </td><td>4.4 </td><td>21  </td><td>31   </td><td>78      </td></tr>\n",
       "\t<tr><th scope=row>Urban population living in the largest city %</th><td>1370</td><td>31    </td><td>15    </td><td>3.1 </td><td>21  </td><td>40   </td><td>81      </td></tr>\n",
       "\t<tr><th scope=row>Population growth %</th><td>1370</td><td>1.4   </td><td>1.3   </td><td>-2.3</td><td>0.44</td><td>2.3  </td><td>7.7     </td></tr>\n",
       "\t<tr><th scope=row>Total population living in urban areas %</th><td>1370</td><td>59    </td><td>22    </td><td>11  </td><td>43  </td><td>77   </td><td>100     </td></tr>\n",
       "\t<tr><th scope=row>Humidity %</th><td>1370</td><td>67    </td><td>14    </td><td>26  </td><td>60  </td><td>77   </td><td>88      </td></tr>\n",
       "\t<tr><th scope=row>log(PM2.5 in cities)</th><td>1370</td><td>3.1   </td><td>0.61  </td><td>1.8 </td><td>2.7 </td><td>3.6  </td><td>4.6     </td></tr>\n",
       "\t<tr><th scope=row>log(PM2.5 in rural areas)</th><td>1370</td><td>3     </td><td>0.59  </td><td>1.6 </td><td>2.5 </td><td>3.4  </td><td>4.2     </td></tr>\n",
       "\t<tr><th scope=row>log(PM2.5 in country)</th><td>1370</td><td>3     </td><td>0.59  </td><td>1.7 </td><td>2.6 </td><td>3.5  </td><td>4.3     </td></tr>\n",
       "\t<tr><th scope=row>log(PM2.5 in towns)</th><td>1370</td><td>3     </td><td>0.58  </td><td>1.8 </td><td>2.6 </td><td>3.5  </td><td>4.3     </td></tr>\n",
       "\t<tr><th scope=row>log(PM2.5 in urban areas)</th><td>1370</td><td>3.1   </td><td>0.6   </td><td>1.8 </td><td>2.7 </td><td>3.6  </td><td>4.5     </td></tr>\n",
       "\t<tr><th scope=row>log(GDP per capita)</th><td>1370</td><td>8.6   </td><td>1.5   </td><td>5.4 </td><td>7.3 </td><td>9.7  </td><td>12      </td></tr>\n",
       "\t<tr><th scope=row>log(Total population)</th><td>1370</td><td>16    </td><td>1.5   </td><td>13  </td><td>16  </td><td>17   </td><td>21      </td></tr>\n",
       "\t<tr><th scope=row>log(Population density)</th><td>1370</td><td>4.1   </td><td>1.2   </td><td>0.55</td><td>3.4 </td><td>4.9  </td><td>7.1     </td></tr>\n",
       "\t<tr><th scope=row>log(Precipitation level)</th><td>1370</td><td>-3.5  </td><td>0.86  </td><td>-6.9</td><td>-3.9</td><td>-3   </td><td>-1.8    </td></tr>\n",
       "\t<tr><th scope=row>log(Average surface temperature)</th><td>1370</td><td>2.9   </td><td>0.53  </td><td>0.18</td><td>2.6 </td><td>3.3  </td><td>3.4     </td></tr>\n",
       "\t<tr><th scope=row>log(Free EUAs)</th><td>1370</td><td>16.8  </td><td>1.4   </td><td>11.1</td><td>15.9</td><td>17.8 </td><td>20      </td></tr>\n",
       "\t<tr><th scope=row>log(Auctioned or sold EUAs)</th><td>1370</td><td>12.3  </td><td>7.1   </td><td>0   </td><td>11.7</td><td>16.9 </td><td>19      </td></tr>\n",
       "\t<tr><th scope=row>log(CO2 emissions in kt)</th><td>1370</td><td>10    </td><td>2     </td><td>4.8 </td><td>8.8 </td><td>12   </td><td>16      </td></tr>\n",
       "</tbody>\n",
       "</table>\n"
      ],
      "text/latex": [
       "A data.frame: 21 × 7\n",
       "\\begin{tabular}{r|lllllll}\n",
       "  & N & Mean & Std. Dev. & Min & Pctl. 25 & Pctl. 75 & Max\\\\\n",
       "  & <chr> & <chr> & <chr> & <chr> & <chr> & <chr> & <chr>\\\\\n",
       "\\hline\n",
       "\tCO2 emissions in kt & 1370 & 228105 & 965875 & 122  & 6804 & 98948 & 10762825\\\\\n",
       "\tGDP per capita growth \\% & 1370 & 2.2    & 3.3    & -13  & 0.63 & 4     & 23      \\\\\n",
       "\tGDP from agriculture \\% & 1370 & 12     & 11     & 0.21 & 3    & 18    & 61      \\\\\n",
       "\tGDP from industry \\% & 1370 & 27     & 11     & 4.4  & 21   & 31    & 78      \\\\\n",
       "\tUrban population living in the largest city \\% & 1370 & 31     & 15     & 3.1  & 21   & 40    & 81      \\\\\n",
       "\tPopulation growth \\% & 1370 & 1.4    & 1.3    & -2.3 & 0.44 & 2.3   & 7.7     \\\\\n",
       "\tTotal population living in urban areas \\% & 1370 & 59     & 22     & 11   & 43   & 77    & 100     \\\\\n",
       "\tHumidity \\% & 1370 & 67     & 14     & 26   & 60   & 77    & 88      \\\\\n",
       "\tlog(PM2.5 in cities) & 1370 & 3.1    & 0.61   & 1.8  & 2.7  & 3.6   & 4.6     \\\\\n",
       "\tlog(PM2.5 in rural areas) & 1370 & 3      & 0.59   & 1.6  & 2.5  & 3.4   & 4.2     \\\\\n",
       "\tlog(PM2.5 in country) & 1370 & 3      & 0.59   & 1.7  & 2.6  & 3.5   & 4.3     \\\\\n",
       "\tlog(PM2.5 in towns) & 1370 & 3      & 0.58   & 1.8  & 2.6  & 3.5   & 4.3     \\\\\n",
       "\tlog(PM2.5 in urban areas) & 1370 & 3.1    & 0.6    & 1.8  & 2.7  & 3.6   & 4.5     \\\\\n",
       "\tlog(GDP per capita) & 1370 & 8.6    & 1.5    & 5.4  & 7.3  & 9.7   & 12      \\\\\n",
       "\tlog(Total population) & 1370 & 16     & 1.5    & 13   & 16   & 17    & 21      \\\\\n",
       "\tlog(Population density) & 1370 & 4.1    & 1.2    & 0.55 & 3.4  & 4.9   & 7.1     \\\\\n",
       "\tlog(Precipitation level) & 1370 & -3.5   & 0.86   & -6.9 & -3.9 & -3    & -1.8    \\\\\n",
       "\tlog(Average surface temperature) & 1370 & 2.9    & 0.53   & 0.18 & 2.6  & 3.3   & 3.4     \\\\\n",
       "\tlog(Free EUAs) & 1370 & 16.8   & 1.4    & 11.1 & 15.9 & 17.8  & 20      \\\\\n",
       "\tlog(Auctioned or sold EUAs) & 1370 & 12.3   & 7.1    & 0    & 11.7 & 16.9  & 19      \\\\\n",
       "\tlog(CO2 emissions in kt) & 1370 & 10     & 2      & 4.8  & 8.8  & 12    & 16      \\\\\n",
       "\\end{tabular}\n"
      ],
      "text/markdown": [
       "\n",
       "A data.frame: 21 × 7\n",
       "\n",
       "| <!--/--> | N &lt;chr&gt; | Mean &lt;chr&gt; | Std. Dev. &lt;chr&gt; | Min &lt;chr&gt; | Pctl. 25 &lt;chr&gt; | Pctl. 75 &lt;chr&gt; | Max &lt;chr&gt; |\n",
       "|---|---|---|---|---|---|---|---|\n",
       "| CO2 emissions in kt | 1370 | 228105 | 965875 | 122  | 6804 | 98948 | 10762825 |\n",
       "| GDP per capita growth % | 1370 | 2.2    | 3.3    | -13  | 0.63 | 4     | 23       |\n",
       "| GDP from agriculture % | 1370 | 12     | 11     | 0.21 | 3    | 18    | 61       |\n",
       "| GDP from industry % | 1370 | 27     | 11     | 4.4  | 21   | 31    | 78       |\n",
       "| Urban population living in the largest city % | 1370 | 31     | 15     | 3.1  | 21   | 40    | 81       |\n",
       "| Population growth % | 1370 | 1.4    | 1.3    | -2.3 | 0.44 | 2.3   | 7.7      |\n",
       "| Total population living in urban areas % | 1370 | 59     | 22     | 11   | 43   | 77    | 100      |\n",
       "| Humidity % | 1370 | 67     | 14     | 26   | 60   | 77    | 88       |\n",
       "| log(PM2.5 in cities) | 1370 | 3.1    | 0.61   | 1.8  | 2.7  | 3.6   | 4.6      |\n",
       "| log(PM2.5 in rural areas) | 1370 | 3      | 0.59   | 1.6  | 2.5  | 3.4   | 4.2      |\n",
       "| log(PM2.5 in country) | 1370 | 3      | 0.59   | 1.7  | 2.6  | 3.5   | 4.3      |\n",
       "| log(PM2.5 in towns) | 1370 | 3      | 0.58   | 1.8  | 2.6  | 3.5   | 4.3      |\n",
       "| log(PM2.5 in urban areas) | 1370 | 3.1    | 0.6    | 1.8  | 2.7  | 3.6   | 4.5      |\n",
       "| log(GDP per capita) | 1370 | 8.6    | 1.5    | 5.4  | 7.3  | 9.7   | 12       |\n",
       "| log(Total population) | 1370 | 16     | 1.5    | 13   | 16   | 17    | 21       |\n",
       "| log(Population density) | 1370 | 4.1    | 1.2    | 0.55 | 3.4  | 4.9   | 7.1      |\n",
       "| log(Precipitation level) | 1370 | -3.5   | 0.86   | -6.9 | -3.9 | -3    | -1.8     |\n",
       "| log(Average surface temperature) | 1370 | 2.9    | 0.53   | 0.18 | 2.6  | 3.3   | 3.4      |\n",
       "| log(Free EUAs) | 1370 | 16.8   | 1.4    | 11.1 | 15.9 | 17.8  | 20       |\n",
       "| log(Auctioned or sold EUAs) | 1370 | 12.3   | 7.1    | 0    | 11.7 | 16.9  | 19       |\n",
       "| log(CO2 emissions in kt) | 1370 | 10     | 2      | 4.8  | 8.8  | 12    | 16       |\n",
       "\n"
      ],
      "text/plain": [
       "                                              N    Mean   Std. Dev. Min \n",
       "CO2 emissions in kt                           1370 228105 965875    122 \n",
       "GDP per capita growth %                       1370 2.2    3.3       -13 \n",
       "GDP from agriculture %                        1370 12     11        0.21\n",
       "GDP from industry %                           1370 27     11        4.4 \n",
       "Urban population living in the largest city % 1370 31     15        3.1 \n",
       "Population growth %                           1370 1.4    1.3       -2.3\n",
       "Total population living in urban areas %      1370 59     22        11  \n",
       "Humidity %                                    1370 67     14        26  \n",
       "log(PM2.5 in cities)                          1370 3.1    0.61      1.8 \n",
       "log(PM2.5 in rural areas)                     1370 3      0.59      1.6 \n",
       "log(PM2.5 in country)                         1370 3      0.59      1.7 \n",
       "log(PM2.5 in towns)                           1370 3      0.58      1.8 \n",
       "log(PM2.5 in urban areas)                     1370 3.1    0.6       1.8 \n",
       "log(GDP per capita)                           1370 8.6    1.5       5.4 \n",
       "log(Total population)                         1370 16     1.5       13  \n",
       "log(Population density)                       1370 4.1    1.2       0.55\n",
       "log(Precipitation level)                      1370 -3.5   0.86      -6.9\n",
       "log(Average surface temperature)              1370 2.9    0.53      0.18\n",
       "log(Free EUAs)                                1370 16.8   1.4       11.1\n",
       "log(Auctioned or sold EUAs)                   1370 12.3   7.1       0   \n",
       "log(CO2 emissions in kt)                      1370 10     2         4.8 \n",
       "                                              Pctl. 25 Pctl. 75 Max     \n",
       "CO2 emissions in kt                           6804     98948    10762825\n",
       "GDP per capita growth %                       0.63     4        23      \n",
       "GDP from agriculture %                        3        18       61      \n",
       "GDP from industry %                           21       31       78      \n",
       "Urban population living in the largest city % 21       40       81      \n",
       "Population growth %                           0.44     2.3      7.7     \n",
       "Total population living in urban areas %      43       77       100     \n",
       "Humidity %                                    60       77       88      \n",
       "log(PM2.5 in cities)                          2.7      3.6      4.6     \n",
       "log(PM2.5 in rural areas)                     2.5      3.4      4.2     \n",
       "log(PM2.5 in country)                         2.6      3.5      4.3     \n",
       "log(PM2.5 in towns)                           2.6      3.5      4.3     \n",
       "log(PM2.5 in urban areas)                     2.7      3.6      4.5     \n",
       "log(GDP per capita)                           7.3      9.7      12      \n",
       "log(Total population)                         16       17       21      \n",
       "log(Population density)                       3.4      4.9      7.1     \n",
       "log(Precipitation level)                      -3.9     -3       -1.8    \n",
       "log(Average surface temperature)              2.6      3.3      3.4     \n",
       "log(Free EUAs)                                15.9     17.8     20      \n",
       "log(Auctioned or sold EUAs)                   11.7     16.9     19      \n",
       "log(CO2 emissions in kt)                      8.8      12       16      "
      ]
     },
     "metadata": {},
     "output_type": "display_data"
    }
   ],
   "source": [
    "# Convert bindary variable to numeric\n",
    "# all_indicators_final <- all_indicators_final %>% mutate(is_eu_ets = if_else(is_eu_ets, 1, 0))\n",
    "# Check summary statistics\n",
    "ST_processed <- st(all_indicators_final %>% filter(year >= 2010) %>% select(-is_eu_ets), out = \"return\", digits = 2) %>% filter (!Variable %in% c(\"year\"))\n",
    "# Correct summary statistics for EU ETS indicators.\n",
    "# The generated summary table was inaccurate due to the manual addition of 1 to every entry in the dataset, including those from non-EU ETS countries. \n",
    "# As a consequence, zeros appeared post-log transformation for non-EU ETS nations, leading to a thick tail on the left side of the distribution.\n",
    "ST_processed[ST_processed$Variable == \"free_EUAs_log\",\"Mean\"] = all_indicators_final %>% filter (is_eu_ets %in% c(\"Active\", \"Joined Later\") & year >= 2010) %>% summarise(mean=round(mean(free_EUAs_log),1))\n",
    "ST_processed[ST_processed$Variable == \"free_EUAs_log\",\"Std. Dev.\"] = all_indicators_final %>% filter (is_eu_ets %in% c(\"Active\", \"Joined Later\") & year >= 2010) %>% summarise(sd=round(sd(free_EUAs_log),1))\n",
    "ST_processed[ST_processed$Variable == \"free_EUAs_log\",\"Min\"] = all_indicators_final %>% filter (is_eu_ets %in% c(\"Active\", \"Joined Later\") & year >= 2010) %>% summarise(min=round(min(free_EUAs_log),1))\n",
    "ST_processed[ST_processed$Variable == \"free_EUAs_log\",\"Pctl. 25\"] = all_indicators_final %>% filter (is_eu_ets %in% c(\"Active\", \"Joined Later\") & year >= 2010) %>% summarise(p25=round(quantile(free_EUAs_log,0.25),1))\n",
    "ST_processed[ST_processed$Variable == \"free_EUAs_log\",\"Pctl. 75\"] = all_indicators_final %>% filter (is_eu_ets %in% c(\"Active\", \"Joined Later\") & year >= 2010) %>% summarise(p75=round(quantile(free_EUAs_log,0.75),1))\n",
    "ST_processed[ST_processed$Variable == \"auctioned_sold_EUAs_log\",\"Mean\"] = all_indicators_final %>% filter (is_eu_ets %in% c(\"Active\", \"Joined Later\") & year >= 2010) %>% summarise(mean=round(mean(auctioned_sold_EUAs_log),1))\n",
    "ST_processed[ST_processed$Variable == \"auctioned_sold_EUAs_log\",\"Std. Dev.\"] = all_indicators_final %>% filter (is_eu_ets %in% c(\"Active\", \"Joined Later\") & year >= 2010) %>% summarise(sd=round(sd(auctioned_sold_EUAs_log),1))\n",
    "ST_processed[ST_processed$Variable == \"auctioned_sold_EUAs_log\",\"Min\"] = all_indicators_final %>% filter (is_eu_ets %in% c(\"Active\", \"Joined Later\") & year >= 2010) %>% summarise(min=round(min(auctioned_sold_EUAs_log),1))\n",
    "ST_processed[ST_processed$Variable == \"auctioned_sold_EUAs_log\",\"Pctl. 25\"] = all_indicators_final %>% filter (is_eu_ets %in% c(\"Active\", \"Joined Later\") & year >= 2010) %>% summarise(p25=round(quantile(auctioned_sold_EUAs_log,0.25),1))\n",
    "ST_processed[ST_processed$Variable == \"auctioned_sold_EUAs_log\",\"Pctl. 75\"] = all_indicators_final %>% filter (is_eu_ets %in% c(\"Active\", \"Joined Later\") & year >= 2010) %>% summarise(p75=round(quantile(auctioned_sold_EUAs_log,0.75),1))\n",
    "\n",
    "rownames(ST_processed) <- unname(unlist(column_mapping[match(ST_processed$Variable, names(column_mapping))]))\n",
    "ST_processed$Variable <- NULL\n",
    "ST_processed\n",
    "write.csv(ST_processed, \"Data/EDA/Processed_summary.csv\", row.names = TRUE)"
   ]
  },
  {
   "cell_type": "markdown",
   "metadata": {},
   "source": [
    "### 2.e. Distribution of variables"
   ]
  },
  {
   "cell_type": "code",
   "execution_count": 38,
   "metadata": {
    "scrolled": true,
    "vscode": {
     "languageId": "r"
    }
   },
   "outputs": [
    {
     "name": "stderr",
     "output_type": "stream",
     "text": [
      "Warning message:\n",
      "\"\u001b[1m\u001b[22mThe dot-dot notation (`..density..`) was deprecated in ggplot2 3.4.0.\n",
      "\u001b[36mℹ\u001b[39m Please use `after_stat(density)` instead.\"\n"
     ]
    },
    {
     "data": {
      "image/png": "[encoded data removed]",
      "text/plain": [
       "plot without title"
      ]
     },
     "metadata": {
      "image/png": {
       "height": 800,
       "width": 1500
      }
     },
     "output_type": "display_data"
    }
   ],
   "source": [
    "# Define column order of dataset\n",
    "column_order <- c(\n",
    "    'PM25_Cities_log', 'PM25_rural_log', 'PM25_Total_log', 'PM25_Towns_log', 'PM25_Urban_log',\n",
    "    'is_eu_ets', 'free_EUAs_log', 'auctioned_sold_EUAs_log', \"co2_em_kt\",\n",
    "    'precipitation_log', 'humidity', 'avg_surface_temp_log', \n",
    "    'gdp_per_capita_log', 'gdp_per_capita_growth_pct', 'agriculture_pct_gdp', 'industry_pct_gdp', \n",
    "    'pop_total_log', 'pop_density_log', 'pop_growth_pct', 'pop_urban_pct_of_total', 'pop_in_largest_city_pct_of_urban_pop'\n",
    "    , \"co2_em_kt_log\"\n",
    ")\n",
    "\n",
    "column_order_long <- unname(unlist(column_mapping[match(column_order, names(column_mapping))]))\n",
    "\n",
    "# Apply column order\n",
    "all_indicators_final <- all_indicators_final %>% select(all_of(c(\"country\", \"year\", column_order)))\n",
    "\n",
    "# Generate a dataframe for plot only\n",
    "all_indicators_final_plot <- all_indicators_final %>% mutate(\n",
    "    free_EUAs_log = ifelse(free_EUAs_log == 0, NA, free_EUAs_log),\n",
    "    auctioned_sold_EUAs_log = ifelse(auctioned_sold_EUAs_log == 0, NA, auctioned_sold_EUAs_log)) %>%\n",
    "    select (-co2_em_kt) %>%\n",
    "    filter(year >= 2010)\n",
    "    \n",
    "# Create a dummy variable for pivot_longer()\n",
    "all_indicators_final_plot$dummyvar <- \"dummyvar\"  \n",
    "# Reshape the dataframe to long format\n",
    "selected_variables_long <- pivot_longer(all_indicators_final_plot[,setdiff(colnames(all_indicators_final_plot), c(\"year\", \"country\", \"is_eu_ets\"))], -dummyvar)\n",
    "# Drop created dummy variable\n",
    "all_indicators_final_plot$dummyvar <- NULL\n",
    "# Convert 'name' to factor with levels based on original dataset order\n",
    "# This will help us to generate the plot of columns in defined order\n",
    "selected_variables_long$name <- factor(selected_variables_long$name, levels = names(all_indicators_final_plot)[!names(all_indicators_final_plot) %in% c(\"year\", \"country\")])\n",
    "selected_variables_long$variable_long <- unname(unlist(column_mapping[match(selected_variables_long$name, names(column_mapping))]))\n",
    "selected_variables_long$variable_long <- factor(selected_variables_long$variable_long, levels = column_order_long[!column_order_long %in% c(\"year\", \"country\")])\n",
    "\n",
    "\n",
    "# Create the plot with KDE\n",
    "plot_vars <- ggplot(selected_variables_long, aes(x = value, y = ..density..)) +\n",
    "  geom_histogram(bins = 20, fill = \"lightblue\", color = \"black\", na.rm = TRUE) +\n",
    "  geom_density(color = \"darkred\", adjust = 1, na.rm = TRUE) +  # Adjust the bandwidth\n",
    "  facet_wrap(~variable_long, scales = \"free\") +\n",
    "  labs(x = \"Value\",\n",
    "       y = \"Frequency\")+\n",
    "  theme_minimal() +\n",
    "  theme(axis.text.x = element_text(size = 8, color = \"black\", face = \"bold\"),\n",
    "        axis.text.y = element_text(size = 8, color = \"black\", face = \"bold\"),\n",
    "        axis.title = element_text(size = 14, color = \"black\", face = \"bold\"),\n",
    "        strip.text = element_text(size = 12, color = \"black\", face = \"bold\"),\n",
    "        panel.grid.major.x = element_line(color = \"transparent\"),  # Remove x-axis gridlines\n",
    "        panel.grid.minor.x = element_line(color = \"transparent\"),  # Remove minor x-axis gridlines\n",
    "        panel.grid.minor.y = element_line(color = \"transparent\")) \n",
    "\n",
    "plot(plot_vars)\n",
    "\n",
    "# Save the plot with adjusted width\n",
    "ggsave(\"images/EDA_distribution_plot.jpg\", plot_vars, width = 20, height = 12, create.dir = TRUE)"
   ]
  },
  {
   "cell_type": "markdown",
   "metadata": {},
   "source": [
    "### 2.d. Count of Countries: EU ETS vs Non-EU ETS"
   ]
  },
  {
   "cell_type": "code",
   "execution_count": 39,
   "metadata": {
    "vscode": {
     "languageId": "r"
    }
   },
   "outputs": [
    {
     "data": {
      "image/png": "[encoded data removed]",
      "text/plain": [
       "plot without title"
      ]
     },
     "metadata": {
      "image/png": {
       "height": 800,
       "width": 1500
      }
     },
     "output_type": "display_data"
    }
   ],
   "source": [
    "# Count of distinct countries for each year, with EU ETS breakdown\n",
    "year_country_breakdown <- all_indicators_final %>%\n",
    "  group_by(year, is_eu_ets) %>%\n",
    "  summarise(cnt = n(), .groups = 'drop')\n",
    "\n",
    "# Plot number of countries available in our dataset with EU ETS breakdown\n",
    "eu_ets_country_breakdown <- ggplot(year_country_breakdown, aes(x=factor(year), y=cnt, group=is_eu_ets)) +\n",
    "       geom_bar(aes(fill=is_eu_ets),position=position_dodge(width=1), stat=\"identity\") + \n",
    "       geom_label(aes(label=cnt),position = position_dodge(width=1), size = 2) +\n",
    "       labs(x = \"Year\",\n",
    "          y = \"Count\",\n",
    "          fill = \"Is EU ETS Country? \") +\n",
    "        theme_minimal() + \n",
    "        theme(legend.position = \"top\") +\n",
    "        theme(axis.text.x = element_text(size = 8, color = \"black\", face = \"bold\"),\n",
    "        axis.text.y = element_text(size = 8, color = \"black\", face = \"bold\"),\n",
    "        axis.title = element_text(size = 14, color = \"black\", face = \"bold\"),\n",
    "        panel.grid.major.x = element_line(color = \"transparent\"),  # Remove x-axis gridlines\n",
    "        panel.grid.minor.x = element_line(color = \"transparent\"),  # Remove minor x-axis gridlines\n",
    "        panel.grid.minor.y = element_line(color = \"transparent\")) +  # Remove minor x-axis gridlines\n",
    "        scale_fill_brewer(direction=-1)\n",
    "\n",
    "\n",
    "\n",
    "eu_ets_country_breakdown\n",
    "\n",
    "# Save the plot with adjusted width\n",
    "ggsave(\"images/EDA_eu_ets_country_breakdown.jpg\", eu_ets_country_breakdown, width = 12, height = 5, create.dir = TRUE)"
   ]
  },
  {
   "cell_type": "code",
   "execution_count": 40,
   "metadata": {
    "vscode": {
     "languageId": "r"
    }
   },
   "outputs": [],
   "source": [
    "write.csv(all_indicators_final, \"Data/all_indicators_final.csv\", row.names = FALSE)"
   ]
  },
  {
   "cell_type": "markdown",
   "metadata": {},
   "source": [
    "# 2. Matching best parameters\n",
    "\n",
    "match_obj <- matchit(is_eu_ets_binary ~ I(avg_surface_temp_log * precipitation_log) + gdp_per_capita_growth_pct + industry_pct_gdp + pop_total_log + pop_density_log\n",
    "genetic glm 1 most balanced"
   ]
  },
  {
   "cell_type": "code",
   "execution_count": 70,
   "metadata": {
    "vscode": {
     "languageId": "r"
    }
   },
   "outputs": [],
   "source": [
    "# # List of files to read and combine\n",
    "# file_list <- list(\n",
    "#   \"Data/search_old/matching_results.csv\",\n",
    "#   \"Data/search_old/matching_results_genetic.csv\",\n",
    "#   \"Data/search_old/matching_results_optimal.csv\",\n",
    "#   \"Data/search_old/glm_matching_results_cem.csv\",\n",
    "#   \"Data/search_old/glm_matching_results_genetic.csv\",\n",
    "#   \"Data/search_old/glm_matching_results_nearest.csv\",\n",
    "#   \"Data/search_old/glm_matching_results_optimal.csv\",\n",
    "#   \"Data/search_old/matching_results_nearest_glm.csv\",\n",
    "#   \"Data/search_old/matching_results_nearest_gam.csv\",\n",
    "#   \"Data/search_old/matching_results_nearest_gbm.csv\",\n",
    "#   \"Data/search_old/matching_results_optimal_glm.csv\",\n",
    "#   \"Data/search_old/matching_results_2004_nearest_glm.csv\",\n",
    "#   \"Data/search_old/matching_results_2004_optimal_glm.csv\",\n",
    "#   \"Data/search_old/matching_results_2004_cem_glm.csv\",\n",
    "#   \"Data/matching_search/matching_results_2004_nearest_glm.csv\",\n",
    "#   \"Data/matching_search/matching_results_2004_cem_glm.csv\",\n",
    "#   \"Data/matching_search/matching_results_2004_optimal_glm.csv\",\n",
    "#   \"Data/matching_search/matching_results_2004_2_nearest_glm.csv\",\n",
    "#   \"Data/matching_search/matching_results_2004_2_cem_glm.csv\",\n",
    "#   \"Data/matching_search/matching_results_2004_2_optimal_glm.csv\",\n",
    "#   \"Data/matching_search/matching_results_2004_3_nearest_glm.csv\",\n",
    "#   \"Data/matching_search/matching_results_2004_3_optimal_glm.csv\"\n",
    "# )\n",
    "\n",
    "# # Read and combine all files\n",
    "# all_results <- file_list %>%\n",
    "#   lapply(read.csv) %>%\n",
    "#   bind_rows()\n",
    "\n",
    "# pt_satisfied <- all_results %>% filter(n_eu_ets > 20 & abs(pre_trend_did_p_value) > 0.05 & abs(after_trend_did_p_value) < 0.05) %>% \n",
    "#     # filter(abs(pre_trend_year_p_value) < 0.05 | abs(pre_trend_eu_ets_p_value) < 0.05) %>%\n",
    "#     arrange(abs(diff.1))\n",
    "\n",
    "# # pt_satisfied %>% filter(std_diff_pct==1 & diff.1 < 0.07 & std_diff_in_range == 4 & method %in% c(\"nearest\",\"optimal\")) %>% unique()"
   ]
  },
  {
   "cell_type": "markdown",
   "metadata": {},
   "source": [
    "# 3.Matching\n",
    "\n",
    "Will get back to this point and adjust matching settings after carefully reading the documentation."
   ]
  },
  {
   "cell_type": "code",
   "execution_count": 2,
   "metadata": {
    "vscode": {
     "languageId": "r"
    }
   },
   "outputs": [
    {
     "data": {
      "text/html": [
       "<table class=\"dataframe\">\n",
       "<caption>A tibble: 6 × 2</caption>\n",
       "<thead>\n",
       "\t<tr><th scope=col>country</th><th scope=col>min</th></tr>\n",
       "\t<tr><th scope=col>&lt;chr&gt;</th><th scope=col>&lt;int&gt;</th></tr>\n",
       "</thead>\n",
       "<tbody>\n",
       "\t<tr><td>Bulgaria</td><td>2007</td></tr>\n",
       "\t<tr><td>Croatia </td><td>2012</td></tr>\n",
       "\t<tr><td>Cyprus  </td><td>2008</td></tr>\n",
       "\t<tr><td>Iceland </td><td>2012</td></tr>\n",
       "\t<tr><td>Norway  </td><td>2008</td></tr>\n",
       "\t<tr><td>Romania </td><td>2007</td></tr>\n",
       "</tbody>\n",
       "</table>\n"
      ],
      "text/latex": [
       "A tibble: 6 × 2\n",
       "\\begin{tabular}{ll}\n",
       " country & min\\\\\n",
       " <chr> & <int>\\\\\n",
       "\\hline\n",
       "\t Bulgaria & 2007\\\\\n",
       "\t Croatia  & 2012\\\\\n",
       "\t Cyprus   & 2008\\\\\n",
       "\t Iceland  & 2012\\\\\n",
       "\t Norway   & 2008\\\\\n",
       "\t Romania  & 2007\\\\\n",
       "\\end{tabular}\n"
      ],
      "text/markdown": [
       "\n",
       "A tibble: 6 × 2\n",
       "\n",
       "| country &lt;chr&gt; | min &lt;int&gt; |\n",
       "|---|---|\n",
       "| Bulgaria | 2007 |\n",
       "| Croatia  | 2012 |\n",
       "| Cyprus   | 2008 |\n",
       "| Iceland  | 2012 |\n",
       "| Norway   | 2008 |\n",
       "| Romania  | 2007 |\n",
       "\n"
      ],
      "text/plain": [
       "  country  min \n",
       "1 Bulgaria 2007\n",
       "2 Croatia  2012\n",
       "3 Cyprus   2008\n",
       "4 Iceland  2012\n",
       "5 Norway   2008\n",
       "6 Romania  2007"
      ]
     },
     "metadata": {},
     "output_type": "display_data"
    }
   ],
   "source": [
    "# Read the initial data frame\n",
    "all_indicators_final <- read.csv(\"Data/all_indicators_final.csv\")\n",
    "# Filter the final indicators dataset\n",
    "all_indicators_final <- all_indicators_final %>% filter(year >= 1995)\n",
    "first_phase_countries <- all_indicators_final %>% filter(year == 2005 & is_eu_ets == \"Active\") %>% select (country) %>% unique()\n",
    "all_indicators_matching <- all_indicators_final\n",
    "all_indicators_matching <- all_indicators_matching %>% \n",
    "filter(country %in% first_phase_countries$country | is_eu_ets == \"No\") %>%\n",
    "mutate(is_eu_ets_binary = ifelse(is_eu_ets == \"No\",FALSE,TRUE)) %>%\n",
    "mutate(is_treatment_year = ifelse(year >= 2005,TRUE,FALSE)) %>%\n",
    "mutate(is_treated = ifelse(is_eu_ets_binary & is_treatment_year,1,0))\n",
    "\n",
    "first_phase_inactive_countries <- all_indicators_final %>% filter(year == 2005 & is_eu_ets == \"Inactive\") %>% select (country) %>% unique()\n",
    "all_indicators_final %>% select(country,year,is_eu_ets) %>% filter (country %in% first_phase_inactive_countries$country & is_eu_ets == \"Active\") %>%\n",
    "group_by(country) %>% summarise(min=min(year))"
   ]
  },
  {
   "cell_type": "code",
   "execution_count": 3,
   "metadata": {
    "vscode": {
     "languageId": "r"
    }
   },
   "outputs": [
    {
     "data": {
      "text/html": [
       "<table class=\"dataframe\">\n",
       "<caption>A tibble: 25 × 3</caption>\n",
       "<thead>\n",
       "\t<tr><th scope=col>year</th><th scope=col>FALSE</th><th scope=col>TRUE</th></tr>\n",
       "\t<tr><th scope=col>&lt;int&gt;</th><th scope=col>&lt;int&gt;</th><th scope=col>&lt;int&gt;</th></tr>\n",
       "</thead>\n",
       "<tbody>\n",
       "\t<tr><td>1995</td><td>108</td><td>23</td></tr>\n",
       "\t<tr><td>1996</td><td>108</td><td>23</td></tr>\n",
       "\t<tr><td>1997</td><td>108</td><td>23</td></tr>\n",
       "\t<tr><td>1998</td><td>108</td><td>23</td></tr>\n",
       "\t<tr><td>1999</td><td>108</td><td>23</td></tr>\n",
       "\t<tr><td>2000</td><td>108</td><td>23</td></tr>\n",
       "\t<tr><td>2001</td><td>108</td><td>23</td></tr>\n",
       "\t<tr><td>2002</td><td>108</td><td>23</td></tr>\n",
       "\t<tr><td>2003</td><td>108</td><td>23</td></tr>\n",
       "\t<tr><td>2004</td><td>108</td><td>23</td></tr>\n",
       "\t<tr><td>2005</td><td>108</td><td>23</td></tr>\n",
       "\t<tr><td>2006</td><td>108</td><td>23</td></tr>\n",
       "\t<tr><td>2007</td><td>108</td><td>23</td></tr>\n",
       "\t<tr><td>2008</td><td>108</td><td>23</td></tr>\n",
       "\t<tr><td>2009</td><td>108</td><td>23</td></tr>\n",
       "\t<tr><td>2010</td><td>108</td><td>23</td></tr>\n",
       "\t<tr><td>2011</td><td>108</td><td>23</td></tr>\n",
       "\t<tr><td>2012</td><td>108</td><td>23</td></tr>\n",
       "\t<tr><td>2013</td><td>108</td><td>23</td></tr>\n",
       "\t<tr><td>2014</td><td>108</td><td>23</td></tr>\n",
       "\t<tr><td>2015</td><td>108</td><td>23</td></tr>\n",
       "\t<tr><td>2016</td><td>108</td><td>23</td></tr>\n",
       "\t<tr><td>2017</td><td>108</td><td>23</td></tr>\n",
       "\t<tr><td>2018</td><td>108</td><td>23</td></tr>\n",
       "\t<tr><td>2019</td><td>108</td><td>23</td></tr>\n",
       "</tbody>\n",
       "</table>\n"
      ],
      "text/latex": [
       "A tibble: 25 × 3\n",
       "\\begin{tabular}{lll}\n",
       " year & FALSE & TRUE\\\\\n",
       " <int> & <int> & <int>\\\\\n",
       "\\hline\n",
       "\t 1995 & 108 & 23\\\\\n",
       "\t 1996 & 108 & 23\\\\\n",
       "\t 1997 & 108 & 23\\\\\n",
       "\t 1998 & 108 & 23\\\\\n",
       "\t 1999 & 108 & 23\\\\\n",
       "\t 2000 & 108 & 23\\\\\n",
       "\t 2001 & 108 & 23\\\\\n",
       "\t 2002 & 108 & 23\\\\\n",
       "\t 2003 & 108 & 23\\\\\n",
       "\t 2004 & 108 & 23\\\\\n",
       "\t 2005 & 108 & 23\\\\\n",
       "\t 2006 & 108 & 23\\\\\n",
       "\t 2007 & 108 & 23\\\\\n",
       "\t 2008 & 108 & 23\\\\\n",
       "\t 2009 & 108 & 23\\\\\n",
       "\t 2010 & 108 & 23\\\\\n",
       "\t 2011 & 108 & 23\\\\\n",
       "\t 2012 & 108 & 23\\\\\n",
       "\t 2013 & 108 & 23\\\\\n",
       "\t 2014 & 108 & 23\\\\\n",
       "\t 2015 & 108 & 23\\\\\n",
       "\t 2016 & 108 & 23\\\\\n",
       "\t 2017 & 108 & 23\\\\\n",
       "\t 2018 & 108 & 23\\\\\n",
       "\t 2019 & 108 & 23\\\\\n",
       "\\end{tabular}\n"
      ],
      "text/markdown": [
       "\n",
       "A tibble: 25 × 3\n",
       "\n",
       "| year &lt;int&gt; | FALSE &lt;int&gt; | TRUE &lt;int&gt; |\n",
       "|---|---|---|\n",
       "| 1995 | 108 | 23 |\n",
       "| 1996 | 108 | 23 |\n",
       "| 1997 | 108 | 23 |\n",
       "| 1998 | 108 | 23 |\n",
       "| 1999 | 108 | 23 |\n",
       "| 2000 | 108 | 23 |\n",
       "| 2001 | 108 | 23 |\n",
       "| 2002 | 108 | 23 |\n",
       "| 2003 | 108 | 23 |\n",
       "| 2004 | 108 | 23 |\n",
       "| 2005 | 108 | 23 |\n",
       "| 2006 | 108 | 23 |\n",
       "| 2007 | 108 | 23 |\n",
       "| 2008 | 108 | 23 |\n",
       "| 2009 | 108 | 23 |\n",
       "| 2010 | 108 | 23 |\n",
       "| 2011 | 108 | 23 |\n",
       "| 2012 | 108 | 23 |\n",
       "| 2013 | 108 | 23 |\n",
       "| 2014 | 108 | 23 |\n",
       "| 2015 | 108 | 23 |\n",
       "| 2016 | 108 | 23 |\n",
       "| 2017 | 108 | 23 |\n",
       "| 2018 | 108 | 23 |\n",
       "| 2019 | 108 | 23 |\n",
       "\n"
      ],
      "text/plain": [
       "   year FALSE TRUE\n",
       "1  1995 108   23  \n",
       "2  1996 108   23  \n",
       "3  1997 108   23  \n",
       "4  1998 108   23  \n",
       "5  1999 108   23  \n",
       "6  2000 108   23  \n",
       "7  2001 108   23  \n",
       "8  2002 108   23  \n",
       "9  2003 108   23  \n",
       "10 2004 108   23  \n",
       "11 2005 108   23  \n",
       "12 2006 108   23  \n",
       "13 2007 108   23  \n",
       "14 2008 108   23  \n",
       "15 2009 108   23  \n",
       "16 2010 108   23  \n",
       "17 2011 108   23  \n",
       "18 2012 108   23  \n",
       "19 2013 108   23  \n",
       "20 2014 108   23  \n",
       "21 2015 108   23  \n",
       "22 2016 108   23  \n",
       "23 2017 108   23  \n",
       "24 2018 108   23  \n",
       "25 2019 108   23  "
      ]
     },
     "metadata": {},
     "output_type": "display_data"
    }
   ],
   "source": [
    "all_indicators_matching %>% group_by(is_eu_ets_binary,year) %>% summarise(c=n()) %>% pivot_wider(names_from = is_eu_ets_binary, values_from = c)"
   ]
  },
  {
   "cell_type": "code",
   "execution_count": 8,
   "metadata": {
    "vscode": {
     "languageId": "r"
    }
   },
   "outputs": [
    {
     "name": "stderr",
     "output_type": "stream",
     "text": [
      "Warning message:\n",
      "\"(from Matching) The key tuning parameters for optimization were are all left at their default values.  The 'pop.size' option in particular should probably be increased for optimal results.  For details please see the help page and https://www.jsekhon.com\"\n"
     ]
    },
    {
     "data": {
      "text/html": [
       "0.0691869800728231"
      ],
      "text/latex": [
       "0.0691869800728231"
      ],
      "text/markdown": [
       "0.0691869800728231"
      ],
      "text/plain": [
       "[1] 0.06918698"
      ]
     },
     "metadata": {},
     "output_type": "display_data"
    }
   ],
   "source": [
    "# Perform propensity score matching using the MatchIt package\n",
    "match_obj <- matchit(is_eu_ets_binary ~ I(avg_surface_temp_log * precipitation_log)  + gdp_per_capita_growth_pct + industry_pct_gdp + pop_total_log + pop_density_log\n",
    "\n",
    "  ,data = all_indicators_matching %>% filter(year == 2004)\n",
    "  , method = \"genetic\"\n",
    "  ,distance =\"glm\"\n",
    "  ,ratio = 1\n",
    "  ,exact = \"year\"  # Find a match for each treated unit in each year\n",
    "  ,link = \"logit\"\n",
    "  )\n",
    "\n",
    "# Extract the matched subset as a dataframe\n",
    "matched_subset <- data.frame(match.data(match_obj))\n",
    "# Print summary statistics of the match object\n",
    "# summary(match_obj)\n",
    "# Plot the distribution of propensity scores and matches\n",
    "# plot(match_obj, type = \"jitter\", interactive = FALSE)\n",
    "# Instead of jitter\n",
    "# love.plot(bal.tab(match_obj, m.threshold=0.25),stat = \"mean.diffs\", abs = F)\n",
    "# Plot a summary of the match object\n",
    "\n",
    "matched_countries <- matched_subset %>% select(country) %>% unique()\n",
    "\n",
    "average_trends <- all_indicators_matching %>%\n",
    "  filter(country %in% matched_countries$country) %>%\n",
    "  group_by(is_eu_ets_binary, year) %>%\n",
    "  summarize(sum_outcome = log(sum(co2_em_kt, na.rm = TRUE)), .groups = 'drop')\n",
    "\n",
    "t5 <- average_trends %>% filter(is_eu_ets_binary == \"FALSE\" & year %in% c(2005))\n",
    "o5 <- average_trends %>% filter(is_eu_ets_binary == \"FALSE\" & year %in% c(1995))\n",
    "\n",
    "t5$sum_outcome - o5$sum_outcome # should be 0.0691869800728231"
   ]
  },
  {
   "cell_type": "markdown",
   "metadata": {},
   "source": [
    "***Below is the means and SMD for full and matched sample. Output is loaded to Gdrive and pulled to text***"
   ]
  },
  {
   "cell_type": "code",
   "execution_count": 12,
   "metadata": {
    "vscode": {
     "languageId": "r"
    }
   },
   "outputs": [
    {
     "data": {
      "text/html": [
       "<table class=\"dataframe\">\n",
       "<caption>A data.frame: 6 × 7</caption>\n",
       "<thead>\n",
       "\t<tr><th scope=col>Metric</th><th scope=col>Mean Treated [All]</th><th scope=col>Mean Control [All]</th><th scope=col>SMD [All]</th><th scope=col>Mean Treated [Matched]</th><th scope=col>Mean Control [Matched]</th><th scope=col>SMD [Matched]</th></tr>\n",
       "\t<tr><th scope=col>&lt;chr&gt;</th><th scope=col>&lt;dbl&gt;</th><th scope=col>&lt;dbl&gt;</th><th scope=col>&lt;dbl&gt;</th><th scope=col>&lt;dbl&gt;</th><th scope=col>&lt;dbl&gt;</th><th scope=col>&lt;dbl&gt;</th></tr>\n",
       "</thead>\n",
       "<tbody>\n",
       "\t<tr><td>distance                                   </td><td> 0.30</td><td>  0.15</td><td> 1.07</td><td> 0.30</td><td> 0.29</td><td> 0.06</td></tr>\n",
       "\t<tr><td>I(avg_surface_temp_log * precipitation_log)</td><td>-8.59</td><td>-10.59</td><td> 1.72</td><td>-8.59</td><td>-8.58</td><td>-0.01</td></tr>\n",
       "\t<tr><td>gdp_per_capita_growth_pct                  </td><td> 3.80</td><td>  4.29</td><td>-0.21</td><td> 3.80</td><td> 3.83</td><td>-0.01</td></tr>\n",
       "\t<tr><td>industry_pct_gdp                           </td><td>25.28</td><td> 29.13</td><td>-0.84</td><td>25.28</td><td>24.92</td><td> 0.08</td></tr>\n",
       "\t<tr><td>pop_total_log                              </td><td>16.06</td><td> 16.46</td><td>-0.30</td><td>16.06</td><td>16.19</td><td>-0.10</td></tr>\n",
       "\t<tr><td>pop_density_log                            </td><td> 4.62</td><td>  3.87</td><td> 0.90</td><td> 4.62</td><td> 4.57</td><td> 0.06</td></tr>\n",
       "</tbody>\n",
       "</table>\n"
      ],
      "text/latex": [
       "A data.frame: 6 × 7\n",
       "\\begin{tabular}{lllllll}\n",
       " Metric & Mean Treated {[}All{]} & Mean Control {[}All{]} & SMD {[}All{]} & Mean Treated {[}Matched{]} & Mean Control {[}Matched{]} & SMD {[}Matched{]}\\\\\n",
       " <chr> & <dbl> & <dbl> & <dbl> & <dbl> & <dbl> & <dbl>\\\\\n",
       "\\hline\n",
       "\t distance                                    &  0.30 &   0.15 &  1.07 &  0.30 &  0.29 &  0.06\\\\\n",
       "\t I(avg\\_surface\\_temp\\_log * precipitation\\_log) & -8.59 & -10.59 &  1.72 & -8.59 & -8.58 & -0.01\\\\\n",
       "\t gdp\\_per\\_capita\\_growth\\_pct                   &  3.80 &   4.29 & -0.21 &  3.80 &  3.83 & -0.01\\\\\n",
       "\t industry\\_pct\\_gdp                            & 25.28 &  29.13 & -0.84 & 25.28 & 24.92 &  0.08\\\\\n",
       "\t pop\\_total\\_log                               & 16.06 &  16.46 & -0.30 & 16.06 & 16.19 & -0.10\\\\\n",
       "\t pop\\_density\\_log                             &  4.62 &   3.87 &  0.90 &  4.62 &  4.57 &  0.06\\\\\n",
       "\\end{tabular}\n"
      ],
      "text/markdown": [
       "\n",
       "A data.frame: 6 × 7\n",
       "\n",
       "| Metric &lt;chr&gt; | Mean Treated [All] &lt;dbl&gt; | Mean Control [All] &lt;dbl&gt; | SMD [All] &lt;dbl&gt; | Mean Treated [Matched] &lt;dbl&gt; | Mean Control [Matched] &lt;dbl&gt; | SMD [Matched] &lt;dbl&gt; |\n",
       "|---|---|---|---|---|---|---|\n",
       "| distance                                    |  0.30 |   0.15 |  1.07 |  0.30 |  0.29 |  0.06 |\n",
       "| I(avg_surface_temp_log * precipitation_log) | -8.59 | -10.59 |  1.72 | -8.59 | -8.58 | -0.01 |\n",
       "| gdp_per_capita_growth_pct                   |  3.80 |   4.29 | -0.21 |  3.80 |  3.83 | -0.01 |\n",
       "| industry_pct_gdp                            | 25.28 |  29.13 | -0.84 | 25.28 | 24.92 |  0.08 |\n",
       "| pop_total_log                               | 16.06 |  16.46 | -0.30 | 16.06 | 16.19 | -0.10 |\n",
       "| pop_density_log                             |  4.62 |   3.87 |  0.90 |  4.62 |  4.57 |  0.06 |\n",
       "\n"
      ],
      "text/plain": [
       "  Metric                                      Mean Treated [All]\n",
       "1 distance                                     0.30             \n",
       "2 I(avg_surface_temp_log * precipitation_log) -8.59             \n",
       "3 gdp_per_capita_growth_pct                    3.80             \n",
       "4 industry_pct_gdp                            25.28             \n",
       "5 pop_total_log                               16.06             \n",
       "6 pop_density_log                              4.62             \n",
       "  Mean Control [All] SMD [All] Mean Treated [Matched] Mean Control [Matched]\n",
       "1   0.15              1.07      0.30                   0.29                 \n",
       "2 -10.59              1.72     -8.59                  -8.58                 \n",
       "3   4.29             -0.21      3.80                   3.83                 \n",
       "4  29.13             -0.84     25.28                  24.92                 \n",
       "5  16.46             -0.30     16.06                  16.19                 \n",
       "6   3.87              0.90      4.62                   4.57                 \n",
       "  SMD [Matched]\n",
       "1  0.06        \n",
       "2 -0.01        \n",
       "3 -0.01        \n",
       "4  0.08        \n",
       "5 -0.10        \n",
       "6  0.06        "
      ]
     },
     "metadata": {},
     "output_type": "display_data"
    }
   ],
   "source": [
    "# mean_and_std_diffs_all <- data.frame(summary(match_obj)$sum.all)[,1:3]\n",
    "# mean_and_std_diffs_all$group <- \"All\"\n",
    "# mean_and_std_diffs_matched <- data.frame(summary(match_obj)$sum.matched)[,1:3]\n",
    "# mean_and_std_diffs_matched$group <- \"Matched\"\n",
    "# mean_and_std_diffs_all <- cbind(mean_and_std_diffs_all, mean_and_std_diffs_matched)\n",
    "# mean_and_std_diffs_all <- data.frame(Metric = row.names(mean_and_std_diffs_all), mean_and_std_diffs_all)\n",
    "# mean_and_std_diffs_all$group <- NULL\n",
    "# mean_and_std_diffs_all$group.1 <- NULL\n",
    "# colnames(mean_and_std_diffs_all) <- c(\"Metric\", \"Mean Treated [All]\",\"Mean Control [All]\", \"SMD [All]\",\n",
    "#                                       \"Mean Treated [Matched]\",\"Mean Control [Matched]\", \"SMD [Matched]\")\n",
    "# rownames(mean_and_std_diffs_all) <- NULL\n",
    "# mean_and_std_diffs_all <- mean_and_std_diffs_all %>% filter(Metric != \"year\")\n",
    "# mean_and_std_diffs_all <- mean_and_std_diffs_all %>% mutate_if(is.numeric, round, digits = 2)\n",
    "# write.csv(mean_and_std_diffs_all, \"Data/All_matched_metrics_SMD.csv\", row.names = FALSE)\n",
    "# mean_and_std_diffs_all"
   ]
  },
  {
   "cell_type": "markdown",
   "metadata": {},
   "source": [
    "***Commented out below for performance, current propensity score distribution plot is not pulled and also p3,p4,p5 are not manipulated yet. To be corrected and output to be generated after being sure of matching.***"
   ]
  },
  {
   "cell_type": "code",
   "execution_count": 48,
   "metadata": {
    "vscode": {
     "languageId": "r"
    }
   },
   "outputs": [
    {
     "data": {
      "image/png": "[encoded data removed]",
      "text/plain": [
       "plot without title"
      ]
     },
     "metadata": {
      "image/png": {
       "height": 800,
       "width": 1500
      }
     },
     "output_type": "display_data"
    }
   ],
   "source": [
    "# p0 <- bal.plot(match_obj, \"distance\", which = \"both\") + \n",
    "# labs(title = \"Distributional Balance for Propensity Score\", x = \"Propensity Score\")\n",
    "# p1 <- bal.plot(match_obj, \"I(avg_surface_temp_log * precipitation_log)\", which = \"both\") + \n",
    "# labs(title = \"Distributional Balance for log(Average surface temperature) * log(Precipitation)\", x = \"log(Average surface temperature) * log(Precipitation)\")\n",
    "# p2 <- bal.plot(match_obj, \"gdp_per_capita_growth_pct\", which = \"both\") + \n",
    "# labs(title = \"Distributional Balance for GDP per capita growth %\", x = \"GDP per capita growth %\")\n",
    "# p3 <- bal.plot(match_obj, \"industry_pct_gdp\", which = \"both\") + \n",
    "# labs(title = \"Distributional Balance for GDP from industry %\", x = \"GDP from industry %\")\n",
    "# p4 <- bal.plot(match_obj, \"pop_total_log\", which = \"both\") + \n",
    "# labs(title = \"Distributional Balance for Pop in largest city % of pop\", x = \"Pop in largest city % of pop\")\n",
    "# p5 <- bal.plot(match_obj, \"pop_density_log\", which = \"both\") + \n",
    "# labs(title = \"Distributional Balance for log(Population density)\", x = \"log(Population density)\")\n",
    "\n",
    "\n",
    "# combined <- (p0 + p1) / (p5 + p2) / (p3 + p4)  + plot_layout(guides = \"collect\")\n",
    "# combined\n",
    "# ggsave(\"images/Distributional_balance_combined.jpg\", combined, width = 10, height = 8, create.dir = TRUE)"
   ]
  },
  {
   "cell_type": "code",
   "execution_count": 9,
   "metadata": {
    "scrolled": true,
    "vscode": {
     "languageId": "r"
    }
   },
   "outputs": [
    {
     "data": {
      "text/html": [
       "'Austria, Belgium, Czechia, Denmark, Estonia, Finland, France, Germany, Greece, Hungary, Ireland, Italy, Latvia, Lithuania, Luxembourg, Netherlands, Poland, Portugal, Slovakia, Slovenia, Spain, Sweden, United Kingdom'"
      ],
      "text/latex": [
       "'Austria, Belgium, Czechia, Denmark, Estonia, Finland, France, Germany, Greece, Hungary, Ireland, Italy, Latvia, Lithuania, Luxembourg, Netherlands, Poland, Portugal, Slovakia, Slovenia, Spain, Sweden, United Kingdom'"
      ],
      "text/markdown": [
       "'Austria, Belgium, Czechia, Denmark, Estonia, Finland, France, Germany, Greece, Hungary, Ireland, Italy, Latvia, Lithuania, Luxembourg, Netherlands, Poland, Portugal, Slovakia, Slovenia, Spain, Sweden, United Kingdom'"
      ],
      "text/plain": [
       "[1] \"Austria, Belgium, Czechia, Denmark, Estonia, Finland, France, Germany, Greece, Hungary, Ireland, Italy, Latvia, Lithuania, Luxembourg, Netherlands, Poland, Portugal, Slovakia, Slovenia, Spain, Sweden, United Kingdom\""
      ]
     },
     "metadata": {},
     "output_type": "display_data"
    },
    {
     "data": {
      "text/html": [
       "'Albania, Benin, Burundi, Cameroon, Colombia, Costa Rica, Ecuador, El Salvador, Georgia, Ghana, Guatemala, Honduras, Japan, Moldova, Nepal, New Zealand, Nicaragua, Panama, Philippines, Sri Lanka, Switzerland, Tajikistan, Uganda'"
      ],
      "text/latex": [
       "'Albania, Benin, Burundi, Cameroon, Colombia, Costa Rica, Ecuador, El Salvador, Georgia, Ghana, Guatemala, Honduras, Japan, Moldova, Nepal, New Zealand, Nicaragua, Panama, Philippines, Sri Lanka, Switzerland, Tajikistan, Uganda'"
      ],
      "text/markdown": [
       "'Albania, Benin, Burundi, Cameroon, Colombia, Costa Rica, Ecuador, El Salvador, Georgia, Ghana, Guatemala, Honduras, Japan, Moldova, Nepal, New Zealand, Nicaragua, Panama, Philippines, Sri Lanka, Switzerland, Tajikistan, Uganda'"
      ],
      "text/plain": [
       "[1] \"Albania, Benin, Burundi, Cameroon, Colombia, Costa Rica, Ecuador, El Salvador, Georgia, Ghana, Guatemala, Honduras, Japan, Moldova, Nepal, New Zealand, Nicaragua, Panama, Philippines, Sri Lanka, Switzerland, Tajikistan, Uganda\""
      ]
     },
     "metadata": {},
     "output_type": "display_data"
    }
   ],
   "source": [
    "matched_countries <- matched_subset %>% select(country) %>% unique()\n",
    "matched_countries_eu_ets <- matched_subset %>% filter(is_eu_ets_binary) %>% select(country) %>% unique()\n",
    "matched_countries_non_eu_ets <- matched_subset %>% filter(!is_eu_ets_binary) %>% select(country) %>% unique()\n",
    "paste0(matched_countries_eu_ets$country, collapse =\", \")\n",
    "paste0(matched_countries_non_eu_ets$country, collapse =\", \")"
   ]
  },
  {
   "cell_type": "markdown",
   "metadata": {
    "vscode": {
     "languageId": "r"
    }
   },
   "source": [
    "### 3.a. Distributions and differences of matched samples"
   ]
  },
  {
   "cell_type": "code",
   "execution_count": 14,
   "metadata": {
    "vscode": {
     "languageId": "r"
    }
   },
   "outputs": [],
   "source": [
    "# # Calculate group averages by period\n",
    "# average_trends <- all_indicators_matching %>%\n",
    "#   filter(country %in% matched_countries$country) %>%\n",
    "#   group_by(is_eu_ets_binary, year) %>%\n",
    "#   summarize(sum_outcome = log(sum(co2_em_kt, na.rm = TRUE)), .groups = 'drop')\n",
    "\n",
    "# # Plotting the trends\n",
    "# # Plotting the trends with fixed Y axis\n",
    "# # Plotting the trends with thicker lines and different point shapes\n",
    "# PTA <- ggplot(average_trends, aes(x = year, y = sum_outcome, group = is_eu_ets_binary, color = is_eu_ets_binary)) +\n",
    "#   geom_line(size = 1.5) + # thicker lines\n",
    "#   geom_point(size = 3) + # different point shapes\n",
    "#     geom_vline(xintercept = 2005, linetype = \"dotted\", color = \"gray20\", size = 1) + # dotted line for 2005\n",
    "#   geom_text(aes(x = 2005, y = 15.4, label = \"EU ETS launch\"), color = \"gray20\", hjust = -0.1, size = 5) + \n",
    "#   labs(x = \"Year\",\n",
    "#        y = \"Sum of CO2 Emissions (kt, log)\",\n",
    "#        color = \"Is EU ETS?\") +\n",
    "#   theme_minimal() +\n",
    "#     theme(legend.position = \"top\") +\n",
    "#   theme(panel.grid.major.x = element_blank(), # remove Y gridlines\n",
    "#         panel.grid.minor.x = element_blank(), # remove Y gridlines\n",
    "#         panel.grid.minor.y = element_line(color = \"gray90\", size = 0.4), # add X minor gridlines\n",
    "#         panel.grid.major.y = element_line(color = \"gray60\", size = 0.5), # add X minor gridlines\n",
    "#         axis.text.x = element_text(size = 8, color = \"black\", face = \"bold\"), # adjust X axis text\n",
    "#         axis.text.y = element_text(size = 8, color = \"black\", face = \"bold\"), # adjust Y axis text\n",
    "#         axis.title = element_text(size = 14, color = \"black\", face = \"bold\")) + # adjust axis titles\n",
    "#   ylim(14, 15.5) # fix Y axis range\n",
    "\n",
    "# PTA\n",
    "\n",
    "# ggsave(\"images/PTA.jpg\", PTA, width = 10, height = 6, create.dir = TRUE)\n"
   ]
  },
  {
   "cell_type": "code",
   "execution_count": 10,
   "metadata": {
    "vscode": {
     "languageId": "r"
    }
   },
   "outputs": [
    {
     "data": {
      "text/plain": [
       "\n",
       "Call:\n",
       "lm(formula = log(co2_em_kt) ~ is_eu_ets_binary * year, data = pre_treatment_data)\n",
       "\n",
       "Residuals:\n",
       "    Min      1Q  Median      3Q     Max \n",
       "-4.0047 -0.7929 -0.2666  1.0940  5.1781 \n",
       "\n",
       "Coefficients:\n",
       "                           Estimate Std. Error t value Pr(>|t|)\n",
       "(Intercept)               -55.13257   69.70584  -0.791    0.429\n",
       "is_eu_ets_binaryTRUE       59.56285   98.57894   0.604    0.546\n",
       "year                        0.03204    0.03486   0.919    0.358\n",
       "is_eu_ets_binaryTRUE:year  -0.02864    0.04930  -0.581    0.562\n",
       "\n",
       "Residual standard error: 1.519 on 456 degrees of freedom\n",
       "Multiple R-squared:  0.3684,\tAdjusted R-squared:  0.3642 \n",
       "F-statistic: 88.65 on 3 and 456 DF,  p-value: < 2.2e-16\n"
      ]
     },
     "metadata": {},
     "output_type": "display_data"
    },
    {
     "data": {
      "text/plain": [
       "\n",
       "Call:\n",
       "lm(formula = log(co2_em_kt) ~ is_eu_ets_binary * year, data = after_treatment_data)\n",
       "\n",
       "Residuals:\n",
       "    Min      1Q  Median      3Q     Max \n",
       "-4.0200 -0.7395 -0.2710  0.9080  4.9031 \n",
       "\n",
       "Coefficients:\n",
       "                           Estimate Std. Error t value Pr(>|t|)  \n",
       "(Intercept)               -70.47486   35.26025  -1.999   0.0460 *\n",
       "is_eu_ets_binaryTRUE      121.43107   49.86552   2.435   0.0151 *\n",
       "year                        0.03969    0.01752   2.265   0.0238 *\n",
       "is_eu_ets_binaryTRUE:year  -0.05948    0.02478  -2.400   0.0167 *\n",
       "---\n",
       "Signif. codes:  0 '***' 0.001 '**' 0.01 '*' 0.05 '.' 0.1 ' ' 1\n",
       "\n",
       "Residual standard error: 1.406 on 686 degrees of freedom\n",
       "Multiple R-squared:  0.2878,\tAdjusted R-squared:  0.2847 \n",
       "F-statistic: 92.43 on 3 and 686 DF,  p-value: < 2.2e-16\n"
      ]
     },
     "metadata": {},
     "output_type": "display_data"
    }
   ],
   "source": [
    "pre_treatment_data <- all_indicators_matching %>%\n",
    "filter(country %in% matched_countries$country) %>%\n",
    "filter (year <= 2004)\n",
    "\n",
    "after_treatment_data <- all_indicators_matching %>%\n",
    "filter(country %in% matched_countries$country) %>%\n",
    "filter (year > 2004)\n",
    "\n",
    "pre_trend_model <- lm(log(co2_em_kt) ~  is_eu_ets_binary*year, data = pre_treatment_data)\n",
    "after_trend_model <- lm(log(co2_em_kt) ~  is_eu_ets_binary*year, data = after_treatment_data)\n",
    "\n",
    "summary(pre_trend_model)\n",
    "summary(after_trend_model)\n",
    "\n",
    "pre_trend_did_effect = summary(pre_trend_model)$coefficients[4,1]\n",
    "pre_trend_did_p_value = summary(pre_trend_model)$coefficients[4,4]\n",
    "after_trend_did_effect = summary(after_trend_model)$coefficients[4,1]\n",
    "after_trend_did_p_value = summary(after_trend_model)$coefficients[4,4]"
   ]
  },
  {
   "cell_type": "code",
   "execution_count": 11,
   "metadata": {
    "scrolled": true,
    "vscode": {
     "languageId": "r"
    }
   },
   "outputs": [
    {
     "data": {
      "text/plain": [
       "\n",
       "Call:\n",
       "lm(formula = log(co2_em_kt) ~ is_eu_ets_binary * year, data = all_indicators_matching %>% \n",
       "    filter(country %in% matched_countries$country))\n",
       "\n",
       "Residuals:\n",
       "    Min      1Q  Median      3Q     Max \n",
       "-4.0468 -0.7575 -0.2777  0.9893  5.2021 \n",
       "\n",
       "Coefficients:\n",
       "                            Estimate Std. Error t value Pr(>|t|)    \n",
       "(Intercept)               -63.671873  16.830327  -3.783 0.000163 ***\n",
       "is_eu_ets_binaryTRUE       94.244767  23.801677   3.960 7.97e-05 ***\n",
       "year                        0.036312   0.008386   4.330 1.62e-05 ***\n",
       "is_eu_ets_binaryTRUE:year  -0.045972   0.011859  -3.876 0.000112 ***\n",
       "---\n",
       "Signif. codes:  0 '***' 0.001 '**' 0.01 '*' 0.05 '.' 0.1 ' ' 1\n",
       "\n",
       "Residual standard error: 1.45 on 1146 degrees of freedom\n",
       "Multiple R-squared:  0.3267,\tAdjusted R-squared:  0.3249 \n",
       "F-statistic: 185.3 on 3 and 1146 DF,  p-value: < 2.2e-16\n"
      ]
     },
     "metadata": {},
     "output_type": "display_data"
    }
   ],
   "source": [
    "# Fit the DiD model to the full dataset\n",
    "did_model <- lm(log(co2_em_kt) ~ is_eu_ets_binary*year, data = all_indicators_matching %>% filter(country %in% matched_countries$country))\n",
    "\n",
    "summary(did_model)"
   ]
  },
  {
   "cell_type": "markdown",
   "metadata": {
    "vscode": {
     "languageId": "r"
    }
   },
   "source": [
    "# 4. Econometric Modelling"
   ]
  },
  {
   "cell_type": "code",
   "execution_count": 545,
   "metadata": {
    "vscode": {
     "languageId": "r"
    }
   },
   "outputs": [
    {
     "data": {
      "text/html": [
       "<table class=\"dataframe\">\n",
       "<caption>A pdata.frame: 6 × 29</caption>\n",
       "<thead>\n",
       "\t<tr><th></th><th scope=col>country</th><th scope=col>year</th><th scope=col>PM25_Cities_log</th><th scope=col>PM25_rural_log</th><th scope=col>PM25_Total_log</th><th scope=col>PM25_Towns_log</th><th scope=col>PM25_Urban_log</th><th scope=col>is_eu_ets</th><th scope=col>free_EUAs_log</th><th scope=col>auctioned_sold_EUAs_log</th><th scope=col>co2_em_kt</th><th scope=col>precipitation_log</th><th scope=col>humidity</th><th scope=col>avg_surface_temp_log</th><th scope=col>gdp_per_capita_log</th><th scope=col>gdp_per_capita_growth_pct</th><th scope=col>agriculture_pct_gdp</th><th scope=col>industry_pct_gdp</th><th scope=col>pop_total_log</th><th scope=col>pop_density_log</th><th scope=col>pop_growth_pct</th><th scope=col>pop_urban_pct_of_total</th><th scope=col>pop_in_largest_city_pct_of_urban_pop</th><th scope=col>co2_em_kt_log</th><th scope=col>is_eu_ets_binary</th><th scope=col>is_treatment_year</th><th scope=col>is_treated</th><th scope=col>lag1_test_PM25_Total_log</th><th scope=col>lag1_PM25_Total_log</th></tr>\n",
       "\t<tr><th></th><th scope=col>&lt;fct&gt;</th><th scope=col>&lt;fct&gt;</th><th scope=col>&lt;dbl&gt;</th><th scope=col>&lt;dbl&gt;</th><th scope=col>&lt;dbl&gt;</th><th scope=col>&lt;dbl&gt;</th><th scope=col>&lt;dbl&gt;</th><th scope=col>&lt;chr&gt;</th><th scope=col>&lt;dbl&gt;</th><th scope=col>&lt;dbl&gt;</th><th scope=col>&lt;dbl&gt;</th><th scope=col>&lt;dbl&gt;</th><th scope=col>&lt;dbl&gt;</th><th scope=col>&lt;dbl&gt;</th><th scope=col>&lt;dbl&gt;</th><th scope=col>&lt;dbl&gt;</th><th scope=col>&lt;dbl&gt;</th><th scope=col>&lt;dbl&gt;</th><th scope=col>&lt;dbl&gt;</th><th scope=col>&lt;dbl&gt;</th><th scope=col>&lt;dbl&gt;</th><th scope=col>&lt;dbl&gt;</th><th scope=col>&lt;dbl&gt;</th><th scope=col>&lt;dbl&gt;</th><th scope=col>&lt;lgl&gt;</th><th scope=col>&lt;lgl&gt;</th><th scope=col>&lt;dbl&gt;</th><th scope=col>&lt;dbl&gt;</th><th scope=col>&lt;dbl&gt;</th></tr>\n",
       "</thead>\n",
       "<tbody>\n",
       "\t<tr><th scope=row>Albania-2010</th><td>Albania</td><td>2010</td><td>3.101892</td><td>3.062456</td><td>3.088767</td><td>3.107721</td><td>3.104587</td><td>No</td><td>0</td><td>0</td><td>4786.4</td><td>-2.764621</td><td>72.59</td><td>2.695033</td><td>8.317363</td><td>4.223084</td><td>17.95587</td><td>24.93746</td><td>14.88470</td><td>4.666403</td><td>-0.4964620</td><td>52.163</td><td>26.89647</td><td>8.473534</td><td>FALSE</td><td>TRUE</td><td>0</td><td>      NA</td><td>      NA</td></tr>\n",
       "\t<tr><th scope=row>Albania-2011</th><td>Albania</td><td>2011</td><td>3.153163</td><td>3.106379</td><td>3.135494</td><td>3.151881</td><td>3.152309</td><td>No</td><td>0</td><td>0</td><td>5137.7</td><td>-3.575551</td><td>67.46</td><td>2.687575</td><td>8.397766</td><td>2.821642</td><td>18.22679</td><td>24.48448</td><td>14.88201</td><td>4.663713</td><td>-0.2690173</td><td>53.247</td><td>26.92457</td><td>8.544361</td><td>FALSE</td><td>TRUE</td><td>0</td><td>3.088767</td><td>3.088767</td></tr>\n",
       "\t<tr><th scope=row>Albania-2012</th><td>Albania</td><td>2012</td><td>3.085573</td><td>3.054473</td><td>3.077312</td><td>3.096934</td><td>3.090588</td><td>No</td><td>0</td><td>0</td><td>4542.8</td><td>-3.079114</td><td>67.72</td><td>2.715092</td><td>8.354117</td><td>1.584873</td><td>18.76680</td><td>22.91855</td><td>14.88036</td><td>4.662061</td><td>-0.1651510</td><td>54.330</td><td>26.93706</td><td>8.421299</td><td>FALSE</td><td>TRUE</td><td>0</td><td>3.135494</td><td>3.135494</td></tr>\n",
       "\t<tr><th scope=row>Albania-2013</th><td>Albania</td><td>2013</td><td>3.002708</td><td>2.952825</td><td>2.984166</td><td>3.000720</td><td>3.001714</td><td>No</td><td>0</td><td>0</td><td>4796.4</td><td>-3.079114</td><td>69.96</td><td>2.723004</td><td>8.392324</td><td>1.187234</td><td>19.56516</td><td>23.06132</td><td>14.87853</td><td>4.660229</td><td>-0.1832114</td><td>55.387</td><td>26.97778</td><td>8.475621</td><td>FALSE</td><td>TRUE</td><td>0</td><td>3.077312</td><td>3.077312</td></tr>\n",
       "\t<tr><th scope=row>Albania-2014</th><td>Albania</td><td>2014</td><td>2.964757</td><td>2.923162</td><td>2.951258</td><td>2.968875</td><td>2.966303</td><td>No</td><td>0</td><td>0</td><td>5189.0</td><td>-3.079114</td><td>73.80</td><td>2.721032</td><td>8.429156</td><td>1.985388</td><td>19.99018</td><td>21.50885</td><td>14.87646</td><td>4.658159</td><td>-0.2070470</td><td>56.423</td><td>27.04496</td><td>8.554296</td><td>FALSE</td><td>TRUE</td><td>0</td><td>2.984166</td><td>2.984166</td></tr>\n",
       "\t<tr><th scope=row>Albania-2015</th><td>Albania</td><td>2015</td><td>2.963725</td><td>2.909630</td><td>2.943386</td><td>2.957511</td><td>2.961141</td><td>No</td><td>0</td><td>0</td><td>4798.0</td><td>-3.270169</td><td>67.43</td><td>2.726937</td><td>8.282180</td><td>2.516827</td><td>19.78021</td><td>21.76368</td><td>14.87354</td><td>4.655247</td><td>-0.2912058</td><td>57.434</td><td>27.15607</td><td>8.475954</td><td>FALSE</td><td>TRUE</td><td>0</td><td>2.951258</td><td>2.951258</td></tr>\n",
       "</tbody>\n",
       "</table>\n"
      ],
      "text/latex": [
       "A pdata.frame: 6 × 29\n",
       "\\begin{tabular}{r|lllllllllllllllllllllllllllll}\n",
       "  & country & year & PM25\\_Cities\\_log & PM25\\_rural\\_log & PM25\\_Total\\_log & PM25\\_Towns\\_log & PM25\\_Urban\\_log & is\\_eu\\_ets & free\\_EUAs\\_log & auctioned\\_sold\\_EUAs\\_log & co2\\_em\\_kt & precipitation\\_log & humidity & avg\\_surface\\_temp\\_log & gdp\\_per\\_capita\\_log & gdp\\_per\\_capita\\_growth\\_pct & agriculture\\_pct\\_gdp & industry\\_pct\\_gdp & pop\\_total\\_log & pop\\_density\\_log & pop\\_growth\\_pct & pop\\_urban\\_pct\\_of\\_total & pop\\_in\\_largest\\_city\\_pct\\_of\\_urban\\_pop & co2\\_em\\_kt\\_log & is\\_eu\\_ets\\_binary & is\\_treatment\\_year & is\\_treated & lag1\\_test\\_PM25\\_Total\\_log & lag1\\_PM25\\_Total\\_log\\\\\n",
       "  & <fct> & <fct> & <dbl> & <dbl> & <dbl> & <dbl> & <dbl> & <chr> & <dbl> & <dbl> & <dbl> & <dbl> & <dbl> & <dbl> & <dbl> & <dbl> & <dbl> & <dbl> & <dbl> & <dbl> & <dbl> & <dbl> & <dbl> & <dbl> & <lgl> & <lgl> & <dbl> & <dbl> & <dbl>\\\\\n",
       "\\hline\n",
       "\tAlbania-2010 & Albania & 2010 & 3.101892 & 3.062456 & 3.088767 & 3.107721 & 3.104587 & No & 0 & 0 & 4786.4 & -2.764621 & 72.59 & 2.695033 & 8.317363 & 4.223084 & 17.95587 & 24.93746 & 14.88470 & 4.666403 & -0.4964620 & 52.163 & 26.89647 & 8.473534 & FALSE & TRUE & 0 &       NA &       NA\\\\\n",
       "\tAlbania-2011 & Albania & 2011 & 3.153163 & 3.106379 & 3.135494 & 3.151881 & 3.152309 & No & 0 & 0 & 5137.7 & -3.575551 & 67.46 & 2.687575 & 8.397766 & 2.821642 & 18.22679 & 24.48448 & 14.88201 & 4.663713 & -0.2690173 & 53.247 & 26.92457 & 8.544361 & FALSE & TRUE & 0 & 3.088767 & 3.088767\\\\\n",
       "\tAlbania-2012 & Albania & 2012 & 3.085573 & 3.054473 & 3.077312 & 3.096934 & 3.090588 & No & 0 & 0 & 4542.8 & -3.079114 & 67.72 & 2.715092 & 8.354117 & 1.584873 & 18.76680 & 22.91855 & 14.88036 & 4.662061 & -0.1651510 & 54.330 & 26.93706 & 8.421299 & FALSE & TRUE & 0 & 3.135494 & 3.135494\\\\\n",
       "\tAlbania-2013 & Albania & 2013 & 3.002708 & 2.952825 & 2.984166 & 3.000720 & 3.001714 & No & 0 & 0 & 4796.4 & -3.079114 & 69.96 & 2.723004 & 8.392324 & 1.187234 & 19.56516 & 23.06132 & 14.87853 & 4.660229 & -0.1832114 & 55.387 & 26.97778 & 8.475621 & FALSE & TRUE & 0 & 3.077312 & 3.077312\\\\\n",
       "\tAlbania-2014 & Albania & 2014 & 2.964757 & 2.923162 & 2.951258 & 2.968875 & 2.966303 & No & 0 & 0 & 5189.0 & -3.079114 & 73.80 & 2.721032 & 8.429156 & 1.985388 & 19.99018 & 21.50885 & 14.87646 & 4.658159 & -0.2070470 & 56.423 & 27.04496 & 8.554296 & FALSE & TRUE & 0 & 2.984166 & 2.984166\\\\\n",
       "\tAlbania-2015 & Albania & 2015 & 2.963725 & 2.909630 & 2.943386 & 2.957511 & 2.961141 & No & 0 & 0 & 4798.0 & -3.270169 & 67.43 & 2.726937 & 8.282180 & 2.516827 & 19.78021 & 21.76368 & 14.87354 & 4.655247 & -0.2912058 & 57.434 & 27.15607 & 8.475954 & FALSE & TRUE & 0 & 2.951258 & 2.951258\\\\\n",
       "\\end{tabular}\n"
      ],
      "text/markdown": [
       "\n",
       "A pdata.frame: 6 × 29\n",
       "\n",
       "| <!--/--> | country &lt;fct&gt; | year &lt;fct&gt; | PM25_Cities_log &lt;dbl&gt; | PM25_rural_log &lt;dbl&gt; | PM25_Total_log &lt;dbl&gt; | PM25_Towns_log &lt;dbl&gt; | PM25_Urban_log &lt;dbl&gt; | is_eu_ets &lt;chr&gt; | free_EUAs_log &lt;dbl&gt; | auctioned_sold_EUAs_log &lt;dbl&gt; | co2_em_kt &lt;dbl&gt; | precipitation_log &lt;dbl&gt; | humidity &lt;dbl&gt; | avg_surface_temp_log &lt;dbl&gt; | gdp_per_capita_log &lt;dbl&gt; | gdp_per_capita_growth_pct &lt;dbl&gt; | agriculture_pct_gdp &lt;dbl&gt; | industry_pct_gdp &lt;dbl&gt; | pop_total_log &lt;dbl&gt; | pop_density_log &lt;dbl&gt; | pop_growth_pct &lt;dbl&gt; | pop_urban_pct_of_total &lt;dbl&gt; | pop_in_largest_city_pct_of_urban_pop &lt;dbl&gt; | co2_em_kt_log &lt;dbl&gt; | is_eu_ets_binary &lt;lgl&gt; | is_treatment_year &lt;lgl&gt; | is_treated &lt;dbl&gt; | lag1_test_PM25_Total_log &lt;dbl&gt; | lag1_PM25_Total_log &lt;dbl&gt; |\n",
       "|---|---|---|---|---|---|---|---|---|---|---|---|---|---|---|---|---|---|---|---|---|---|---|---|---|---|---|---|---|---|\n",
       "| Albania-2010 | Albania | 2010 | 3.101892 | 3.062456 | 3.088767 | 3.107721 | 3.104587 | No | 0 | 0 | 4786.4 | -2.764621 | 72.59 | 2.695033 | 8.317363 | 4.223084 | 17.95587 | 24.93746 | 14.88470 | 4.666403 | -0.4964620 | 52.163 | 26.89647 | 8.473534 | FALSE | TRUE | 0 |       NA |       NA |\n",
       "| Albania-2011 | Albania | 2011 | 3.153163 | 3.106379 | 3.135494 | 3.151881 | 3.152309 | No | 0 | 0 | 5137.7 | -3.575551 | 67.46 | 2.687575 | 8.397766 | 2.821642 | 18.22679 | 24.48448 | 14.88201 | 4.663713 | -0.2690173 | 53.247 | 26.92457 | 8.544361 | FALSE | TRUE | 0 | 3.088767 | 3.088767 |\n",
       "| Albania-2012 | Albania | 2012 | 3.085573 | 3.054473 | 3.077312 | 3.096934 | 3.090588 | No | 0 | 0 | 4542.8 | -3.079114 | 67.72 | 2.715092 | 8.354117 | 1.584873 | 18.76680 | 22.91855 | 14.88036 | 4.662061 | -0.1651510 | 54.330 | 26.93706 | 8.421299 | FALSE | TRUE | 0 | 3.135494 | 3.135494 |\n",
       "| Albania-2013 | Albania | 2013 | 3.002708 | 2.952825 | 2.984166 | 3.000720 | 3.001714 | No | 0 | 0 | 4796.4 | -3.079114 | 69.96 | 2.723004 | 8.392324 | 1.187234 | 19.56516 | 23.06132 | 14.87853 | 4.660229 | -0.1832114 | 55.387 | 26.97778 | 8.475621 | FALSE | TRUE | 0 | 3.077312 | 3.077312 |\n",
       "| Albania-2014 | Albania | 2014 | 2.964757 | 2.923162 | 2.951258 | 2.968875 | 2.966303 | No | 0 | 0 | 5189.0 | -3.079114 | 73.80 | 2.721032 | 8.429156 | 1.985388 | 19.99018 | 21.50885 | 14.87646 | 4.658159 | -0.2070470 | 56.423 | 27.04496 | 8.554296 | FALSE | TRUE | 0 | 2.984166 | 2.984166 |\n",
       "| Albania-2015 | Albania | 2015 | 2.963725 | 2.909630 | 2.943386 | 2.957511 | 2.961141 | No | 0 | 0 | 4798.0 | -3.270169 | 67.43 | 2.726937 | 8.282180 | 2.516827 | 19.78021 | 21.76368 | 14.87354 | 4.655247 | -0.2912058 | 57.434 | 27.15607 | 8.475954 | FALSE | TRUE | 0 | 2.951258 | 2.951258 |\n",
       "\n"
      ],
      "text/plain": [
       "             country year PM25_Cities_log PM25_rural_log PM25_Total_log\n",
       "Albania-2010 Albania 2010 3.101892        3.062456       3.088767      \n",
       "Albania-2011 Albania 2011 3.153163        3.106379       3.135494      \n",
       "Albania-2012 Albania 2012 3.085573        3.054473       3.077312      \n",
       "Albania-2013 Albania 2013 3.002708        2.952825       2.984166      \n",
       "Albania-2014 Albania 2014 2.964757        2.923162       2.951258      \n",
       "Albania-2015 Albania 2015 2.963725        2.909630       2.943386      \n",
       "             PM25_Towns_log PM25_Urban_log is_eu_ets free_EUAs_log\n",
       "Albania-2010 3.107721       3.104587       No        0            \n",
       "Albania-2011 3.151881       3.152309       No        0            \n",
       "Albania-2012 3.096934       3.090588       No        0            \n",
       "Albania-2013 3.000720       3.001714       No        0            \n",
       "Albania-2014 2.968875       2.966303       No        0            \n",
       "Albania-2015 2.957511       2.961141       No        0            \n",
       "             auctioned_sold_EUAs_log co2_em_kt precipitation_log humidity\n",
       "Albania-2010 0                       4786.4    -2.764621         72.59   \n",
       "Albania-2011 0                       5137.7    -3.575551         67.46   \n",
       "Albania-2012 0                       4542.8    -3.079114         67.72   \n",
       "Albania-2013 0                       4796.4    -3.079114         69.96   \n",
       "Albania-2014 0                       5189.0    -3.079114         73.80   \n",
       "Albania-2015 0                       4798.0    -3.270169         67.43   \n",
       "             avg_surface_temp_log gdp_per_capita_log gdp_per_capita_growth_pct\n",
       "Albania-2010 2.695033             8.317363           4.223084                 \n",
       "Albania-2011 2.687575             8.397766           2.821642                 \n",
       "Albania-2012 2.715092             8.354117           1.584873                 \n",
       "Albania-2013 2.723004             8.392324           1.187234                 \n",
       "Albania-2014 2.721032             8.429156           1.985388                 \n",
       "Albania-2015 2.726937             8.282180           2.516827                 \n",
       "             agriculture_pct_gdp industry_pct_gdp pop_total_log pop_density_log\n",
       "Albania-2010 17.95587            24.93746         14.88470      4.666403       \n",
       "Albania-2011 18.22679            24.48448         14.88201      4.663713       \n",
       "Albania-2012 18.76680            22.91855         14.88036      4.662061       \n",
       "Albania-2013 19.56516            23.06132         14.87853      4.660229       \n",
       "Albania-2014 19.99018            21.50885         14.87646      4.658159       \n",
       "Albania-2015 19.78021            21.76368         14.87354      4.655247       \n",
       "             pop_growth_pct pop_urban_pct_of_total\n",
       "Albania-2010 -0.4964620     52.163                \n",
       "Albania-2011 -0.2690173     53.247                \n",
       "Albania-2012 -0.1651510     54.330                \n",
       "Albania-2013 -0.1832114     55.387                \n",
       "Albania-2014 -0.2070470     56.423                \n",
       "Albania-2015 -0.2912058     57.434                \n",
       "             pop_in_largest_city_pct_of_urban_pop co2_em_kt_log\n",
       "Albania-2010 26.89647                             8.473534     \n",
       "Albania-2011 26.92457                             8.544361     \n",
       "Albania-2012 26.93706                             8.421299     \n",
       "Albania-2013 26.97778                             8.475621     \n",
       "Albania-2014 27.04496                             8.554296     \n",
       "Albania-2015 27.15607                             8.475954     \n",
       "             is_eu_ets_binary is_treatment_year is_treated\n",
       "Albania-2010 FALSE            TRUE              0         \n",
       "Albania-2011 FALSE            TRUE              0         \n",
       "Albania-2012 FALSE            TRUE              0         \n",
       "Albania-2013 FALSE            TRUE              0         \n",
       "Albania-2014 FALSE            TRUE              0         \n",
       "Albania-2015 FALSE            TRUE              0         \n",
       "             lag1_test_PM25_Total_log lag1_PM25_Total_log\n",
       "Albania-2010       NA                       NA           \n",
       "Albania-2011 3.088767                 3.088767           \n",
       "Albania-2012 3.135494                 3.135494           \n",
       "Albania-2013 3.077312                 3.077312           \n",
       "Albania-2014 2.984166                 2.984166           \n",
       "Albania-2015 2.951258                 2.951258           "
      ]
     },
     "metadata": {},
     "output_type": "display_data"
    }
   ],
   "source": [
    "model_data <- all_indicators_matching %>% filter(country %in% matched_countries$country & year >= 1995)  %>% na.omit()\n",
    "# model_data <- model_data %>% mutate(is_treated = ifelse(year<2013,0,is_treated))\n",
    "model_data <- model_data %>% group_by(country) %>% mutate(lag1_test_PM25_Total_log = dplyr::lag(PM25_Total_log, n = 1, default = NA)) %>% ungroup()\n",
    "pdata <- pdata.frame(model_data, index = c(\"country\", \"year\"))\n",
    "pdata$lag1_PM25_Total_log <- lag(pdata$PM25_Total_log,1)\n",
    "# pdata <- pdata[pdata$year != 2010, ]\n",
    "head(pdata)"
   ]
  },
  {
   "cell_type": "code",
   "execution_count": 451,
   "metadata": {},
   "outputs": [
    {
     "data": {
      "image/png": "[encoded data removed]",
      "text/plain": [
       "plot without title"
      ]
     },
     "metadata": {
      "image/png": {
       "height": 800,
       "width": 1500
      }
     },
     "output_type": "display_data"
    }
   ],
   "source": [
    "avg_target_variable <- model_data %>% group_by(is_eu_ets_binary,year) %>% summarise(PM25_Total_log_mean = log(sum(exp(co2_em_kt_log))))\n",
    "ggplot(avg_target_variable, aes(x = as.factor(year), y = PM25_Total_log_mean, group = is_eu_ets_binary, color = is_eu_ets_binary)) +\n",
    "  geom_line(linewidth = 1.5) + # thicker lines\n",
    "  geom_point(size = 3) + # different point shapes\n",
    "  labs(x = \"Year\",\n",
    "       y = \"PM2.5 Total (log) Mean\",\n",
    "       color = \"Is EU ETS?\") +\n",
    "  theme_minimal() +\n",
    "    theme(legend.position = \"top\") +\n",
    "  theme(panel.grid.major.x = element_blank(), # remove Y gridlines\n",
    "        panel.grid.minor.x = element_blank(), # remove Y gridlines\n",
    "        panel.grid.minor.y = element_line(color = \"gray90\", size = 0.4), # add X minor gridlines\n",
    "        panel.grid.major.y = element_line(color = \"gray60\", size = 0.5), # add X minor gridlines\n",
    "        axis.text.x = element_text(size = 8, color = \"black\", face = \"bold\"), # adjust X axis text\n",
    "        axis.text.y = element_text(size = 8, color = \"black\", face = \"bold\"), # adjust Y axis text\n",
    "        axis.title = element_text(size = 14, color = \"black\", face = \"bold\"))  \n",
    "# + # adjust axis titles\n",
    "#   ylim(2, 4) # fix Y axis range"
   ]
  },
  {
   "cell_type": "code",
   "execution_count": 404,
   "metadata": {},
   "outputs": [],
   "source": [
    "# aligned_pdata <- pdata[pdata$year != 2010, ]\n",
    "# fixed_residuals <- residuals(fixed)\n",
    "\n",
    "# # Correlation between Population Density and the residuals\n",
    "# # cor(aligned_pdata$PM25_Total_log, fixed_residuals, use = \"complete.obs\")\n",
    "\n",
    "# # Aligning residuals - assume pdata has been transformed to a pdata.frame correctly\n",
    "# aligned_pdata$fixed_residuals <- fixed_residuals\n",
    "\n",
    "\n",
    "# # List all variable names in pdata you want to check correlation with, excluding the dependent variable and residuals column itself\n",
    "# variable_names <- setdiff(names(aligned_pdata), c(\"PM25_Total_log\", \"is_treatment_year\", \"is_eu_ets\", \"fixed_residuals\", \"year\", \"country\", \"lag1_test_PM25_Total_log\"))\n",
    "\n",
    "# # Calculate correlations\n",
    "# correlations <- sapply(variable_names, function(var) {\n",
    "#   cor(aligned_pdata[[var]][!is.na(aligned_pdata$fixed_residuals)], aligned_pdata$PM25_Total_log[!is.na(aligned_pdata$fixed_residuals)], use = \"complete.obs\")\n",
    "# })\n",
    "\n",
    "# # Print correlations\n",
    "# # Create a dataframe from the correlations vector\n",
    "# cor_df <- data.frame(variable = names(correlations), correlation = correlations)\n",
    "\n",
    "# # Plotting the bar plot\n",
    "# ggplot(cor_df, aes(y = correlation, x = reorder(variable, correlation))) +\n",
    "#   geom_bar(stat = \"identity\", fill = \"blue\") +\n",
    "#   labs(title = \"Correlation of Variables with Residuals\",\n",
    "#        x = \"Correlation\",\n",
    "#        y = \"Variable\") +\n",
    "#   theme_minimal() +\n",
    "#   coord_flip()\n",
    "\n"
   ]
  },
  {
   "cell_type": "markdown",
   "metadata": {},
   "source": [
    "  1. I am okay to have an insignificant treatment\n",
    "  2. I can just show that findings of fixed model and GMM doesn't align?"
   ]
  },
  {
   "cell_type": "code",
   "execution_count": 495,
   "metadata": {},
   "outputs": [
    {
     "name": "stderr",
     "output_type": "stream",
     "text": [
      "Warning message in pgmm(PM25_Total_log ~ lag(PM25_Total_log, 1) + is_treated + avg_surface_temp_log + :\n",
      "\"the second-step matrix is singular, a general inverse is used\"\n",
      "Warning message in vcovHC.pgmm(object):\n",
      "\"a general inverse is used\"\n"
     ]
    },
    {
     "data": {
      "text/plain": [
       "Twoways effects One-step model System GMM \n",
       "\n",
       "Call:\n",
       "pgmm(formula = PM25_Total_log ~ lag(PM25_Total_log, 1) + is_treated + \n",
       "    avg_surface_temp_log + precipitation_log + humidity + gdp_per_capita_log + \n",
       "    gdp_per_capita_growth_pct + agriculture_pct_gdp + industry_pct_gdp + \n",
       "    pop_total_log + pop_density_log + pop_growth_pct + pop_urban_pct_of_total + \n",
       "    pop_in_largest_city_pct_of_urban_pop | lag(PM25_Total_log, \n",
       "    2:99), data = pdata, effect = \"twoways\", model = \"onestep\", \n",
       "    transformation = \"ld\")\n",
       "\n",
       "Balanced Panel: n = 46, T = 10, N = 460\n",
       "\n",
       "Number of Observations Used: 782\n",
       "Residuals:\n",
       "     Min.   1st Qu.    Median      Mean   3rd Qu.      Max. \n",
       "-0.212425 -0.036394  0.001187  0.000000  0.038580  0.210952 \n",
       "\n",
       "Coefficients:\n",
       "                                        Estimate  Std. Error z-value  Pr(>|z|)\n",
       "lag(PM25_Total_log, 1)                8.9943e-01  1.8947e-02 47.4720 < 2.2e-16\n",
       "is_treated                            5.4492e-03  7.9233e-03  0.6877 0.4916180\n",
       "avg_surface_temp_log                 -4.8530e-03  1.3234e-02 -0.3667 0.7138476\n",
       "precipitation_log                     2.7433e-02  1.2752e-02  2.1514 0.0314477\n",
       "humidity                             -3.6913e-03  9.2915e-04 -3.9727 7.105e-05\n",
       "gdp_per_capita_log                   -3.4091e-02  9.5696e-03 -3.5624 0.0003675\n",
       "gdp_per_capita_growth_pct             4.3777e-03  1.0523e-03  4.1601 3.181e-05\n",
       "agriculture_pct_gdp                  -2.3039e-03  1.2062e-03 -1.9099 0.0561409\n",
       "industry_pct_gdp                      1.4208e-04  5.9980e-04  0.2369 0.8127452\n",
       "pop_total_log                        -1.5644e-03  2.2489e-03 -0.6957 0.4866477\n",
       "pop_density_log                       6.0662e-03  5.4671e-03  1.1096 0.2671848\n",
       "pop_growth_pct                        1.6460e-02  3.5371e-03  4.6535 3.264e-06\n",
       "pop_urban_pct_of_total               -4.1113e-05  2.0460e-04 -0.2009 0.8407425\n",
       "pop_in_largest_city_pct_of_urban_pop -9.9717e-04  3.2665e-04 -3.0527 0.0022676\n",
       "                                        \n",
       "lag(PM25_Total_log, 1)               ***\n",
       "is_treated                              \n",
       "avg_surface_temp_log                    \n",
       "precipitation_log                    *  \n",
       "humidity                             ***\n",
       "gdp_per_capita_log                   ***\n",
       "gdp_per_capita_growth_pct            ***\n",
       "agriculture_pct_gdp                  .  \n",
       "industry_pct_gdp                        \n",
       "pop_total_log                           \n",
       "pop_density_log                         \n",
       "pop_growth_pct                       ***\n",
       "pop_urban_pct_of_total                  \n",
       "pop_in_largest_city_pct_of_urban_pop ** \n",
       "---\n",
       "Signif. codes:  0 '***' 0.001 '**' 0.01 '*' 0.05 '.' 0.1 ' ' 1\n",
       "\n",
       "Sargan test: chisq(56) = 44.15969 (p-value = 0.87387)\n",
       "Autocorrelation test (1): normal = -3.804131 (p-value = 0.0001423)\n",
       "Autocorrelation test (2): normal = -0.6529465 (p-value = 0.51379)\n",
       "Wald test for coefficients: chisq(14) = 39114.47 (p-value = < 2.22e-16)\n",
       "Wald test for time dummies: chisq(8) = 270.1306 (p-value = < 2.22e-16)"
      ]
     },
     "metadata": {},
     "output_type": "display_data"
    }
   ],
   "source": [
    "gmm1 <- pgmm(PM25_Total_log ~ \n",
    "            lag(PM25_Total_log,1) + \n",
    "            is_treated +\n",
    "            avg_surface_temp_log +\n",
    "            precipitation_log +\n",
    "            humidity +\n",
    "            gdp_per_capita_log +\n",
    "            gdp_per_capita_growth_pct +\n",
    "            agriculture_pct_gdp +\n",
    "            industry_pct_gdp +\n",
    "            pop_total_log +\n",
    "            pop_density_log +\n",
    "            pop_growth_pct +\n",
    "            pop_urban_pct_of_total +\n",
    "            pop_in_largest_city_pct_of_urban_pop | \n",
    "            lag(PM25_Total_log,2:99) \n",
    "            , data = pdata, effect = \"twoways\", model = \"onestep\", transformation = \"ld\"\n",
    "            # , fsm = \"full\"\n",
    "            # , time.dummies = TRUE\n",
    "           \n",
    "           \n",
    "           )\n",
    "\n",
    "summary(gmm1, robust = TRUE)"
   ]
  },
  {
   "cell_type": "code",
   "execution_count": 546,
   "metadata": {},
   "outputs": [
    {
     "data": {
      "text/plain": [
       "Twoways effects One-step model System GMM \n",
       "\n",
       "Call:\n",
       "pgmm(formula = PM25_Total_log ~ lag(PM25_Total_log, 1) + precipitation_log + \n",
       "    humidity + gdp_per_capita_log + gdp_per_capita_growth_pct + \n",
       "    agriculture_pct_gdp + pop_growth_pct + pop_in_largest_city_pct_of_urban_pop | \n",
       "    lag(PM25_Total_log, 2:99), data = pdata, effect = \"twoways\", \n",
       "    model = \"onestep\", transformation = \"ld\")\n",
       "\n",
       "Balanced Panel: n = 46, T = 10, N = 460\n",
       "\n",
       "Number of Observations Used: 782\n",
       "Residuals:\n",
       "     Min.   1st Qu.    Median      Mean   3rd Qu.      Max. \n",
       "-0.211018 -0.036865  0.002888  0.000000  0.039730  0.209218 \n",
       "\n",
       "Coefficients:\n",
       "                                        Estimate  Std. Error z-value  Pr(>|z|)\n",
       "lag(PM25_Total_log, 1)                0.89556500  0.01886884 47.4626 < 2.2e-16\n",
       "precipitation_log                     0.02560103  0.01043777  2.4527 0.0141777\n",
       "humidity                             -0.00390241  0.00109518 -3.5633 0.0003663\n",
       "gdp_per_capita_log                   -0.03412431  0.00756869 -4.5086 6.525e-06\n",
       "gdp_per_capita_growth_pct             0.00455575  0.00097519  4.6717 2.988e-06\n",
       "agriculture_pct_gdp                  -0.00231530  0.00096757 -2.3929 0.0167163\n",
       "pop_growth_pct                        0.01631273  0.00349864  4.6626 3.123e-06\n",
       "pop_in_largest_city_pct_of_urban_pop -0.00110198  0.00026277 -4.1938 2.744e-05\n",
       "                                        \n",
       "lag(PM25_Total_log, 1)               ***\n",
       "precipitation_log                    *  \n",
       "humidity                             ***\n",
       "gdp_per_capita_log                   ***\n",
       "gdp_per_capita_growth_pct            ***\n",
       "agriculture_pct_gdp                  *  \n",
       "pop_growth_pct                       ***\n",
       "pop_in_largest_city_pct_of_urban_pop ***\n",
       "---\n",
       "Signif. codes:  0 '***' 0.001 '**' 0.01 '*' 0.05 '.' 0.1 ' ' 1\n",
       "\n",
       "Sargan test: chisq(50) = 44.21876 (p-value = 0.70355)\n",
       "Autocorrelation test (1): normal = -4.002284 (p-value = 6.2734e-05)\n",
       "Autocorrelation test (2): normal = -0.6492982 (p-value = 0.51615)\n",
       "Wald test for coefficients: chisq(8) = 21778.2 (p-value = < 2.22e-16)\n",
       "Wald test for time dummies: chisq(8) = 221.4606 (p-value = < 2.22e-16)"
      ]
     },
     "metadata": {},
     "output_type": "display_data"
    }
   ],
   "source": [
    "gmm2 <- pgmm(PM25_Total_log ~ \n",
    "            lag(PM25_Total_log,1) + \n",
    "            # is_treated +\n",
    "            # avg_surface_temp_log +\n",
    "            precipitation_log +\n",
    "            humidity +\n",
    "            gdp_per_capita_log +\n",
    "            gdp_per_capita_growth_pct +\n",
    "            agriculture_pct_gdp +\n",
    "            # industry_pct_gdp +\n",
    "            # pop_total_log +\n",
    "            # pop_density_log +\n",
    "            pop_growth_pct +\n",
    "            # pop_urban_pct_of_total +\n",
    "            pop_in_largest_city_pct_of_urban_pop | \n",
    "            lag(PM25_Total_log,2:99) \n",
    "            , data = pdata, effect = \"twoways\", model = \"onestep\", transformation = \"ld\"\n",
    "            # , fsm = \"full\"\n",
    "            # , time.dummies = TRUE\n",
    "           \n",
    "           \n",
    "           )\n",
    "\n",
    "summary(gmm2, robust = TRUE)"
   ]
  },
  {
   "cell_type": "code",
   "execution_count": 502,
   "metadata": {
    "scrolled": true,
    "vscode": {
     "languageId": "r"
    }
   },
   "outputs": [
    {
     "data": {
      "text/plain": [
       "Twoways effects Within Model\n",
       "\n",
       "Call:\n",
       "plm(formula = form, data = pdata, effect = \"twoways\", model = \"within\", \n",
       "    index = c(\"country\", \"year\"))\n",
       "\n",
       "Balanced Panel: n = 46, T = 9, N = 414\n",
       "\n",
       "Residuals:\n",
       "      Min.    1st Qu.     Median    3rd Qu.       Max. \n",
       "-0.1127851 -0.0244458  0.0012717  0.0261210  0.2102805 \n",
       "\n",
       "Coefficients:\n",
       "                                       Estimate Std. Error t-value  Pr(>|t|)\n",
       "lag(PM25_Total_log, 1)                0.3293997  0.0558842  5.8943 8.936e-09\n",
       "is_treated                           -0.0431399  0.0134338 -3.2113 0.0014453\n",
       "avg_surface_temp_log                  0.0085978  0.0729745  0.1178 0.9062798\n",
       "precipitation_log                    -0.0478667  0.0272399 -1.7572 0.0797632\n",
       "humidity                             -0.0021266  0.0021444 -0.9917 0.3220331\n",
       "gdp_per_capita_log                    0.0694475  0.0315969  2.1979 0.0286167\n",
       "gdp_per_capita_growth_pct             0.0029849  0.0011852  2.5185 0.0122354\n",
       "agriculture_pct_gdp                  -0.0013990  0.0027265 -0.5131 0.6082160\n",
       "industry_pct_gdp                     -0.0024219  0.0014383 -1.6839 0.0930980\n",
       "pop_total_log                         0.9009162  1.1221371  0.8029 0.4226082\n",
       "pop_density_log                      -0.4149898  1.1125316 -0.3730 0.7093664\n",
       "pop_growth_pct                        0.0061370  0.0073885  0.8306 0.4067628\n",
       "pop_urban_pct_of_total               -0.0040512  0.0037641 -1.0763 0.2825550\n",
       "pop_in_largest_city_pct_of_urban_pop  0.0169096  0.0043815  3.8594 0.0001356\n",
       "                                        \n",
       "lag(PM25_Total_log, 1)               ***\n",
       "is_treated                           ** \n",
       "avg_surface_temp_log                    \n",
       "precipitation_log                    .  \n",
       "humidity                                \n",
       "gdp_per_capita_log                   *  \n",
       "gdp_per_capita_growth_pct            *  \n",
       "agriculture_pct_gdp                     \n",
       "industry_pct_gdp                     .  \n",
       "pop_total_log                           \n",
       "pop_density_log                         \n",
       "pop_growth_pct                          \n",
       "pop_urban_pct_of_total                  \n",
       "pop_in_largest_city_pct_of_urban_pop ***\n",
       "---\n",
       "Signif. codes:  0 '***' 0.001 '**' 0.01 '*' 0.05 '.' 0.1 ' ' 1\n",
       "\n",
       "Total Sum of Squares:    1.1027\n",
       "Residual Sum of Squares: 0.65467\n",
       "R-Squared:      0.40629\n",
       "Adj. R-Squared: 0.29132\n",
       "F-statistic: 16.9123 on 14 and 346 DF, p-value: < 2.22e-16"
      ]
     },
     "metadata": {},
     "output_type": "display_data"
    }
   ],
   "source": [
    "form <- PM25_Total_log ~ \n",
    "            lag(PM25_Total_log, 1) +\n",
    "            # lag1_PM25_Total_log+\n",
    "            is_treated + \n",
    "            # is_treated : as.factor(year) +\n",
    "             avg_surface_temp_log +\n",
    "             precipitation_log +\n",
    "             humidity +\n",
    "             gdp_per_capita_log +\n",
    "             gdp_per_capita_growth_pct + \n",
    "             agriculture_pct_gdp + \n",
    "             industry_pct_gdp +\n",
    "             pop_total_log +\n",
    "             pop_density_log +\n",
    "             pop_growth_pct + \n",
    "             pop_urban_pct_of_total +\n",
    "             pop_in_largest_city_pct_of_urban_pop\n",
    "\n",
    "fixed <- plm(form, data=pdata, index=c(\"country\", \"year\"), model=\"within\", effect = \"twoways\")  #fixed model\n",
    "summary(fixed)\n",
    "\n",
    "random <- plm(form, data=pdata, index=c(\"country\", \"year\"), model=\"random\")  #fixed model\n",
    "# summary(random)"
   ]
  },
  {
   "cell_type": "code",
   "execution_count": 514,
   "metadata": {},
   "outputs": [],
   "source": [
    "# gmm_2013_general <- gmm1\n",
    "# gmm_2013_specific <- gmm2\n",
    "# fxd_2013_general <- fixed\n",
    "# fxd_2013_specific <- fixed_sig"
   ]
  },
  {
   "cell_type": "code",
   "execution_count": 544,
   "metadata": {},
   "outputs": [
    {
     "name": "stdout",
     "output_type": "stream",
     "text": [
      "\n",
      "<table style=\"text-align:center\"><caption><strong>Fixed and GMM Panel Results (2005 as intervention year)</strong></caption>\n",
      "<tr><td colspan=\"5\" style=\"border-bottom: 1px solid black\"></td></tr><tr><td style=\"text-align:left\"></td><td colspan=\"4\"><em>Dependent variable:</em></td></tr>\n",
      "<tr><td></td><td colspan=\"4\" style=\"border-bottom: 1px solid black\"></td></tr>\n",
      "<tr><td style=\"text-align:left\"></td><td colspan=\"4\">PM25_Total_log</td></tr>\n",
      "<tr><td style=\"text-align:left\"></td><td colspan=\"2\"><em>panel</em></td><td colspan=\"2\"><em>panel</em></td></tr>\n",
      "<tr><td style=\"text-align:left\"></td><td colspan=\"2\"><em>linear</em></td><td colspan=\"2\"><em>GMM</em></td></tr>\n",
      "<tr><td style=\"text-align:left\"></td><td>(1) General Panel</td><td>(2) Specific Panel</td><td>(3) General GMM</td><td>(4) Specific GMM</td></tr>\n",
      "<tr><td colspan=\"5\" style=\"border-bottom: 1px solid black\"></td></tr><tr><td style=\"text-align:left\">lag(PM25_Total_log, 1)</td><td>0.376<sup>***</sup></td><td>0.369<sup>***</sup></td><td>0.845<sup>***</sup></td><td>0.896<sup>***</sup></td></tr>\n",
      "<tr><td style=\"text-align:left\"></td><td>(0.055)</td><td>(0.053)</td><td>(0.028)</td><td>(0.019)</td></tr>\n",
      "<tr><td style=\"text-align:left\">is_treated</td><td></td><td></td><td>0.018</td><td></td></tr>\n",
      "<tr><td style=\"text-align:left\"></td><td></td><td></td><td>(0.018)</td><td></td></tr>\n",
      "<tr><td style=\"text-align:left\">avg_surface_temp_log</td><td>-0.117</td><td></td><td>-0.015</td><td></td></tr>\n",
      "<tr><td style=\"text-align:left\"></td><td>(0.080)</td><td></td><td>(0.019)</td><td></td></tr>\n",
      "<tr><td style=\"text-align:left\">precipitation_log</td><td>-0.019</td><td></td><td>0.055<sup>**</sup></td><td>0.026<sup>*</sup></td></tr>\n",
      "<tr><td style=\"text-align:left\"></td><td>(0.028)</td><td></td><td>(0.021)</td><td>(0.010)</td></tr>\n",
      "<tr><td style=\"text-align:left\">humidity</td><td>-0.003</td><td></td><td>-0.006<sup>***</sup></td><td>-0.004<sup>***</sup></td></tr>\n",
      "<tr><td style=\"text-align:left\"></td><td>(0.002)</td><td></td><td>(0.002)</td><td>(0.001)</td></tr>\n",
      "<tr><td style=\"text-align:left\">gdp_per_capita_log</td><td>0.032</td><td></td><td>-0.055<sup>***</sup></td><td>-0.034<sup>***</sup></td></tr>\n",
      "<tr><td style=\"text-align:left\"></td><td>(0.031)</td><td></td><td>(0.013)</td><td>(0.008)</td></tr>\n",
      "<tr><td style=\"text-align:left\">gdp_per_capita_growth_pct</td><td>0.003<sup>*</sup></td><td></td><td>0.005<sup>***</sup></td><td>0.005<sup>***</sup></td></tr>\n",
      "<tr><td style=\"text-align:left\"></td><td>(0.001)</td><td></td><td>(0.001)</td><td>(0.001)</td></tr>\n",
      "<tr><td style=\"text-align:left\">agriculture_pct_gdp</td><td>-0.002</td><td></td><td>-0.004<sup>*</sup></td><td>-0.002<sup>*</sup></td></tr>\n",
      "<tr><td style=\"text-align:left\"></td><td>(0.003)</td><td></td><td>(0.002)</td><td>(0.001)</td></tr>\n",
      "<tr><td style=\"text-align:left\">industry_pct_gdp</td><td>-0.001</td><td></td><td>0.0004</td><td></td></tr>\n",
      "<tr><td style=\"text-align:left\"></td><td>(0.001)</td><td></td><td>(0.001)</td><td></td></tr>\n",
      "<tr><td style=\"text-align:left\">pop_total_log</td><td>1.154</td><td>0.351<sup>***</sup></td><td>-0.004</td><td></td></tr>\n",
      "<tr><td style=\"text-align:left\"></td><td>(1.076)</td><td>(0.093)</td><td>(0.003)</td><td></td></tr>\n",
      "<tr><td style=\"text-align:left\">pop_density_log</td><td>-0.784</td><td></td><td>0.011</td><td></td></tr>\n",
      "<tr><td style=\"text-align:left\"></td><td>(1.068)</td><td></td><td>(0.008)</td><td></td></tr>\n",
      "<tr><td style=\"text-align:left\">pop_growth_pct</td><td>0.009</td><td></td><td>0.021<sup>***</sup></td><td>0.016<sup>***</sup></td></tr>\n",
      "<tr><td style=\"text-align:left\"></td><td>(0.007)</td><td></td><td>(0.005)</td><td>(0.003)</td></tr>\n",
      "<tr><td style=\"text-align:left\">pop_urban_pct_of_total</td><td>-0.006</td><td></td><td>0.0001</td><td></td></tr>\n",
      "<tr><td style=\"text-align:left\"></td><td>(0.004)</td><td></td><td>(0.0003)</td><td></td></tr>\n",
      "<tr><td style=\"text-align:left\">pop_in_largest_city_pct_of_urban_pop</td><td>0.017<sup>***</sup></td><td>0.018<sup>***</sup></td><td>-0.002<sup>***</sup></td><td>-0.001<sup>***</sup></td></tr>\n",
      "<tr><td style=\"text-align:left\"></td><td>(0.004)</td><td>(0.004)</td><td>(0.0005)</td><td>(0.0003)</td></tr>\n",
      "<tr><td style=\"text-align:left\">is_treated:as.factor(year)2012</td><td>-0.070<sup>***</sup></td><td>-0.074<sup>***</sup></td><td></td><td></td></tr>\n",
      "<tr><td style=\"text-align:left\"></td><td>(0.019)</td><td>(0.017)</td><td></td><td></td></tr>\n",
      "<tr><td style=\"text-align:left\">is_treated:as.factor(year)2013</td><td>-0.075<sup>***</sup></td><td>-0.076<sup>***</sup></td><td></td><td></td></tr>\n",
      "<tr><td style=\"text-align:left\"></td><td>(0.019)</td><td>(0.018)</td><td></td><td></td></tr>\n",
      "<tr><td style=\"text-align:left\">is_treated:as.factor(year)2014</td><td>-0.064<sup>**</sup></td><td>-0.073<sup>***</sup></td><td></td><td></td></tr>\n",
      "<tr><td style=\"text-align:left\"></td><td>(0.020)</td><td>(0.019)</td><td></td><td></td></tr>\n",
      "<tr><td style=\"text-align:left\">is_treated:as.factor(year)2015</td><td>-0.078<sup>***</sup></td><td>-0.075<sup>***</sup></td><td></td><td></td></tr>\n",
      "<tr><td style=\"text-align:left\"></td><td>(0.021)</td><td>(0.019)</td><td></td><td></td></tr>\n",
      "<tr><td style=\"text-align:left\">is_treated:as.factor(year)2016</td><td>-0.133<sup>***</sup></td><td>-0.132<sup>***</sup></td><td></td><td></td></tr>\n",
      "<tr><td style=\"text-align:left\"></td><td>(0.021)</td><td>(0.019)</td><td></td><td></td></tr>\n",
      "<tr><td style=\"text-align:left\">is_treated:as.factor(year)2017</td><td>-0.065<sup>**</sup></td><td>-0.061<sup>**</sup></td><td></td><td></td></tr>\n",
      "<tr><td style=\"text-align:left\"></td><td>(0.022)</td><td>(0.021)</td><td></td><td></td></tr>\n",
      "<tr><td style=\"text-align:left\">is_treated:as.factor(year)2018</td><td>-0.047<sup>*</sup></td><td>-0.039</td><td></td><td></td></tr>\n",
      "<tr><td style=\"text-align:left\"></td><td>(0.022)</td><td>(0.020)</td><td></td><td></td></tr>\n",
      "<tr><td style=\"text-align:left\">is_treated:as.factor(year)2019</td><td>-0.108<sup>***</sup></td><td>-0.103<sup>***</sup></td><td></td><td></td></tr>\n",
      "<tr><td style=\"text-align:left\"></td><td>(0.023)</td><td>(0.020)</td><td></td><td></td></tr>\n",
      "<tr><td colspan=\"5\" style=\"border-bottom: 1px solid black\"></td></tr><tr><td style=\"text-align:left\">Sargan</td><td></td><td></td><td>42.1457</td><td>44.2188</td></tr>\n",
      "<tr><td style=\"text-align:left\">Sargan (p-value)</td><td></td><td></td><td>0.9149</td><td>0.7036</td></tr>\n",
      "<tr><td style=\"text-align:left\">AR(1)</td><td></td><td></td><td>-4.19</td><td>-4</td></tr>\n",
      "<tr><td style=\"text-align:left\">AR(1) p-value</td><td></td><td></td><td>0</td><td>1e-04</td></tr>\n",
      "<tr><td style=\"text-align:left\">AR(2)</td><td></td><td></td><td>-0.94</td><td>-0.65</td></tr>\n",
      "<tr><td style=\"text-align:left\">AR(2) p-value</td><td></td><td></td><td>0.3455</td><td>0.5161</td></tr>\n",
      "<tr><td style=\"text-align:left\">Wald Coef (df)</td><td></td><td></td><td>17192.34 (14)</td><td>21778.2 (8)</td></tr>\n",
      "<tr><td style=\"text-align:left\">Wald Coef p-value</td><td></td><td></td><td>0</td><td>0</td></tr>\n",
      "<tr><td style=\"text-align:left\">Wald Time Dummies (df)</td><td></td><td></td><td>205.55 (8)</td><td>221.46 (8)</td></tr>\n",
      "<tr><td style=\"text-align:left\">Wald Time Dummies p-value</td><td></td><td></td><td>0</td><td>0</td></tr>\n",
      "<tr><td style=\"text-align:left\">Observations</td><td>414</td><td>414</td><td>46</td><td>46</td></tr>\n",
      "<tr><td style=\"text-align:left\">R<sup>2</sup></td><td>0.473</td><td>0.449</td><td></td><td></td></tr>\n",
      "<tr><td style=\"text-align:left\">Adjusted R<sup>2</sup></td><td>0.358</td><td>0.348</td><td></td><td></td></tr>\n",
      "<tr><td style=\"text-align:left\">F Statistic</td><td>14.472<sup>***</sup> (df = 21; 339)</td><td>25.900<sup>***</sup> (df = 11; 349)</td><td></td><td></td></tr>\n",
      "<tr><td colspan=\"5\" style=\"border-bottom: 1px solid black\"></td></tr><tr><td style=\"text-align:left\"><em>Note:</em></td><td colspan=\"4\" style=\"text-align:right\"><sup>*</sup>p<0.05; <sup>**</sup>p<0.01; <sup>***</sup>p<0.001</td></tr>\n",
      "</table>\n"
     ]
    }
   ],
   "source": [
    "gmm1 <- gmm_2010_general\n",
    "gmm2 <- gmm_2010_specific\n",
    "# gmm1 <- gmm_2013_general\n",
    "# gmm2 <- gmm_2013_specific\n",
    "\n",
    "# I assume that there are 5 different models\n",
    "# so the value can be modified accordingly\n",
    "\n",
    "k <- 2\n",
    "sargan_est <- NULL\n",
    "sargan_p <- NULL\n",
    "AR1_est <- NULL\n",
    "AR1_pvalue <- NULL\n",
    "AR2_est <- NULL\n",
    "AR2_pvalue <- NULL\n",
    "Wald_Coef_est <- NULL\n",
    "Wald_Coef_pvalue <- NULL\n",
    "Wald_Time_dumm_est <- NULL\n",
    "Wald_Time_dumm_pvalue <- NULL\n",
    "sargan_est[1] <- c(\"Sargan\")\n",
    "sargan_p[1] <- c(\"Sargan (p-value)\")\n",
    "AR1_est[1] <- c(\"AR(1)\")\n",
    "AR1_pvalue[1] <- c(\"AR(1) p-value\")\n",
    "AR2_est[1] <- c(\"AR(2)\")\n",
    "AR2_pvalue[1] <- c(\"AR(2) p-value\")\n",
    "Wald_Coef_est[1] <- c(\"Wald Coef (df)\")\n",
    "Wald_Coef_pvalue[1] <- c(\"Wald Coef p-value\")\n",
    "Wald_Time_dumm_est[1] <- c(\"Wald Time Dummies (df)\")\n",
    "Wald_Time_dumm_pvalue[1] <- c(\"Wald Time Dummies p-value\")\n",
    "\n",
    "name <- \"gmm\"\n",
    "\n",
    "for(i in 1:k){\n",
    "  assign(paste0(name,i,\"_summary\"),summary(get(paste0(name,i)),robust=TRUE))\n",
    "  sargan_est[i+3] <- c(round(get(paste0(name,i,\"_summary\"))$sargan$statistic,4))\n",
    "  sargan_p[i+3] <- c(round(get(paste0(name,i,\"_summary\"))$sargan$p.value, 4))\n",
    "  AR1_est[i+3] <- c(round(get(paste0(name,i,\"_summary\"))$m1$statistic, 2))\n",
    "  AR1_pvalue[i+3] <- c(round(get(paste0(name,i,\"_summary\"))$m1$p.value, 4))\n",
    "  AR2_est[i+3] <- c(round(get(paste0(name,i,\"_summary\"))$m2$statistic, 2))\n",
    "  AR2_pvalue[i+3] <- c(round(get(paste0(name,i,\"_summary\"))$m2$p.value, 4))\n",
    "  Wald_Coef_est[i+3] <- paste0(round(get(paste0(name,i,\"_summary\"))$wald.coef$statistic, 2),\" (\", get(paste0(name,i,\"_summary\"))$wald.coef$parameter, \")\")\n",
    "  Wald_Coef_pvalue[i+3] <- c(round(get(paste0(name,i,\"_summary\"))$wald.coef$p.value, 4))\n",
    "  Wald_Time_dumm_est[i+3] <- paste0(round(get(paste0(name,i,\"_summary\"))$wald.td$statistic, 2),\" (\", get(paste0(name,i,\"_summary\"))$wald.td$parameter, \")\")\n",
    "  Wald_Time_dumm_pvalue[i+3] <- c(round(get(paste0(name,i,\"_summary\"))$wald.td$p.value, 4))\n",
    "}\n",
    "\n",
    "# sargan_est\n",
    "# you must change the following code to correctly indicate the number of models that you are considering\n",
    "# I have not included some of the information that was put by the OP\n",
    "# but it is straightforward to suitably mmodify the model to do the same\n",
    "stargazer(\n",
    "    # fxd_2010_general,fxd_2010_specific,gmm_2010_general,gmm_2010_specific,\n",
    "          fxd_2010_general,fxd_2010_specific,gmm_2010_general,gmm_2010_specific,\n",
    "          column.labels = c(\"(1) General Panel\", \"(2) Specific Panel\", \"(3) General GMM\", \"(4) Specific GMM\"),\n",
    "          title= \"Fixed and GMM Panel Results (2005 as intervention year)\",\n",
    "          model.numbers = FALSE,\n",
    "          header = FALSE,\n",
    "          align = TRUE,\n",
    "          type = \"html\",\n",
    "          out = \"GMM_vs_fixed_2010.html\",\n",
    "          digits = 3,\n",
    "          no.space = TRUE,\n",
    "          star.cutoffs = c(0.05, 0.01, 0.001),\n",
    "          add.lines = list(sargan_est,\n",
    "                           sargan_p,\n",
    "                           AR1_est,\n",
    "                           AR1_pvalue,\n",
    "                           AR2_est,\n",
    "                           AR2_pvalue,\n",
    "                           Wald_Coef_est,\n",
    "                           Wald_Coef_pvalue,\n",
    "                          Wald_Time_dumm_est,\n",
    "                          Wald_Time_dumm_pvalue))"
   ]
  },
  {
   "cell_type": "code",
   "execution_count": 535,
   "metadata": {},
   "outputs": [
    {
     "data": {
      "text/plain": [
       "\n",
       "Model Formula: PM25_Total_log ~ lag(PM25_Total_log, 1) + is_treated + avg_surface_temp_log + \n",
       "    precipitation_log + humidity + gdp_per_capita_log + gdp_per_capita_growth_pct + \n",
       "    agriculture_pct_gdp + industry_pct_gdp + pop_total_log + \n",
       "    pop_density_log + pop_growth_pct + pop_urban_pct_of_total + \n",
       "    pop_in_largest_city_pct_of_urban_pop\n",
       "\n",
       "Coefficients:\n",
       "              lag(PM25_Total_log, 1)                           is_treated \n",
       "                           0.3293997                           -0.0431399 \n",
       "                avg_surface_temp_log                    precipitation_log \n",
       "                           0.0085978                           -0.0478667 \n",
       "                            humidity                   gdp_per_capita_log \n",
       "                          -0.0021266                            0.0694475 \n",
       "           gdp_per_capita_growth_pct                  agriculture_pct_gdp \n",
       "                           0.0029849                           -0.0013990 \n",
       "                    industry_pct_gdp                        pop_total_log \n",
       "                          -0.0024219                            0.9009162 \n",
       "                     pop_density_log                       pop_growth_pct \n",
       "                          -0.4149898                            0.0061370 \n",
       "              pop_urban_pct_of_total pop_in_largest_city_pct_of_urban_pop \n",
       "                          -0.0040512                            0.0169096 \n"
      ]
     },
     "metadata": {},
     "output_type": "display_data"
    }
   ],
   "source": [
    "fxd_2013_general"
   ]
  },
  {
   "cell_type": "code",
   "execution_count": 346,
   "metadata": {
    "vscode": {
     "languageId": "r"
    }
   },
   "outputs": [
    {
     "name": "stdout",
     "output_type": "stream",
     "text": [
      "\n",
      "\tF test for twoways effects\n",
      "\n",
      "data:  form\n",
      "F = 4.6971, df1 = 47, df2 = 346, p-value < 2.2e-16\n",
      "alternative hypothesis: significant effects\n",
      "\n"
     ]
    },
    {
     "data": {
      "text/plain": [
       "\n",
       "\tHausman Test\n",
       "\n",
       "data:  form\n",
       "chisq = 181.46, df = 14, p-value < 2.2e-16\n",
       "alternative hypothesis: one model is inconsistent\n"
      ]
     },
     "metadata": {},
     "output_type": "display_data"
    },
    {
     "name": "stdout",
     "output_type": "stream",
     "text": [
      "\n",
      "\tstudentized Breusch-Pagan test\n",
      "\n",
      "data:  form\n",
      "BP = 15.626, df = 14, p-value = 0.3367\n",
      "\n",
      "\n",
      "\tBreusch-Godfrey/Wooldridge test for serial correlation in panel models\n",
      "\n",
      "data:  form\n",
      "chisq = 51.451, df = 9, p-value = 5.74e-08\n",
      "alternative hypothesis: serial correlation in idiosyncratic errors\n",
      "\n"
     ]
    }
   ],
   "source": [
    "# Testing for individual effects in fixed effects model\n",
    "# H0: all ui = 0 (all individual effects are equal to zero - use OLS)\n",
    "ols <- lm(PM25_Total_log ~ \n",
    "          lag1_PM25_Total_log+\n",
    "            is_treated:as.factor(year) +\n",
    "             avg_surface_temp_log +\n",
    "             precipitation_log +\n",
    "             humidity +\n",
    "             gdp_per_capita_log +\n",
    "             gdp_per_capita_growth_pct + \n",
    "             agriculture_pct_gdp + \n",
    "             industry_pct_gdp +\n",
    "             pop_total_log +\n",
    "             pop_density_log +\n",
    "             pop_growth_pct + \n",
    "             pop_urban_pct_of_total +\n",
    "             pop_in_largest_city_pct_of_urban_pop, data=pdata) # Estimate OLS\n",
    "pF <- pFtest(fixed, ols) # Compare fixed effects model with OLS\n",
    "print(pF)\n",
    "\n",
    "# # Testing for individual effects in random effects model\n",
    "# # H0: all ui = 0 (all individual effects are equal to zero - use OLS)\n",
    "# # POLS <-plm(form, data=data, index=c(\"Country.Name\", \"Year\"), model=\"pooling\")\n",
    "# plmtest(random, type=c(\"bp\")) # For random\n",
    "\n",
    "# Hausman Test\n",
    "# Testing for model consistency both for random and fixed effects models\n",
    "phtest(fixed,random)\n",
    "# H0: Both models are consistent\n",
    "# H1: One model is inconsistent\n",
    "# H0 rejected, at least one model is inconsistent which is random effects model\n",
    "# Therefore, fixed effects model should be used\n",
    "\n",
    "# \tstudentized Breusch-Pagan test\n",
    "# Testing for heteroskedasticity -- are the variance of residuals are constant?\n",
    "# If so, we should use roboust estimator to correct the errors\n",
    "bp <- bptest(form, data=pdata, studentize=T)\n",
    "print(bp)\n",
    "\n",
    "# Breusch-Godfrey/Wooldridge test for serial correlation in panel models\n",
    "# Testing for serial correlation -- checking if we have auto correlation or not\n",
    "bpg <- pbgtest(fixed)\n",
    "print(bpg)"
   ]
  },
  {
   "cell_type": "code",
   "execution_count": 461,
   "metadata": {
    "vscode": {
     "languageId": "r"
    }
   },
   "outputs": [
    {
     "name": "stdout",
     "output_type": "stream",
     "text": [
      "\n",
      "t test of coefficients:\n",
      "\n",
      "                                       Estimate Std. Error t value  Pr(>|t|)\n",
      "lag(PM25_Total_log, 1)                0.3910451  0.0527591  7.4119 9.594e-13\n",
      "avg_surface_temp_log                 -0.0032598  0.0595149 -0.0548 0.9563511\n",
      "precipitation_log                    -0.0537223  0.0268190 -2.0031 0.0459393\n",
      "humidity                             -0.0019699  0.0019557 -1.0072 0.3145263\n",
      "gdp_per_capita_log                    0.0799746  0.0303959  2.6311 0.0088905\n",
      "gdp_per_capita_growth_pct             0.0023713  0.0010806  2.1944 0.0288715\n",
      "agriculture_pct_gdp                  -0.0022920  0.0024748 -0.9261 0.3550236\n",
      "industry_pct_gdp                     -0.0025541  0.0013863 -1.8423 0.0662801\n",
      "pop_total_log                         0.2988761  1.4999775  0.1993 0.8421810\n",
      "pop_density_log                       0.2247046  1.4832845  0.1515 0.8796763\n",
      "pop_growth_pct                        0.0041634  0.0069026  0.6032 0.5467928\n",
      "pop_urban_pct_of_total               -0.0029126  0.0042068 -0.6924 0.4891790\n",
      "pop_in_largest_city_pct_of_urban_pop  0.0139591  0.0039125  3.5678 0.0004106\n",
      "                                        \n",
      "lag(PM25_Total_log, 1)               ***\n",
      "avg_surface_temp_log                    \n",
      "precipitation_log                    *  \n",
      "humidity                                \n",
      "gdp_per_capita_log                   ** \n",
      "gdp_per_capita_growth_pct            *  \n",
      "agriculture_pct_gdp                     \n",
      "industry_pct_gdp                     .  \n",
      "pop_total_log                           \n",
      "pop_density_log                         \n",
      "pop_growth_pct                          \n",
      "pop_urban_pct_of_total                  \n",
      "pop_in_largest_city_pct_of_urban_pop ***\n",
      "---\n",
      "Signif. codes:  0 '***' 0.001 '**' 0.01 '*' 0.05 '.' 0.1 ' ' 1\n",
      "\n"
     ]
    }
   ],
   "source": [
    "# Controlling for heteroskedasticity and autocorrelation\n",
    "# this will not change estimates but errors, t and p values\n",
    "coef <- coeftest(fixed, vcov.=vcovHC(fixed, method=\"white1\", type=\"HC0\", cluster=\"group\"))\n",
    "print(coef)"
   ]
  },
  {
   "cell_type": "code",
   "execution_count": 462,
   "metadata": {
    "vscode": {
     "languageId": "r"
    }
   },
   "outputs": [
    {
     "data": {
      "text/html": [
       "<table class=\"dataframe\">\n",
       "<caption>A data.frame: 8 × 5</caption>\n",
       "<thead>\n",
       "\t<tr><th></th><th scope=col>Estimate</th><th scope=col>Std. Error</th><th scope=col>t value</th><th scope=col>Pr(&gt;|t|)</th><th scope=col>var</th></tr>\n",
       "\t<tr><th></th><th scope=col>&lt;dbl&gt;</th><th scope=col>&lt;dbl&gt;</th><th scope=col>&lt;dbl&gt;</th><th scope=col>&lt;dbl&gt;</th><th scope=col>&lt;chr&gt;</th></tr>\n",
       "</thead>\n",
       "<tbody>\n",
       "\t<tr><th scope=row>2</th><td>-0.003259793</td><td>0.059514947</td><td>-0.05477267</td><td>0.95635109</td><td>avg_surface_temp_log  </td></tr>\n",
       "\t<tr><th scope=row>4</th><td>-0.001969860</td><td>0.001955721</td><td>-1.00722961</td><td>0.31452629</td><td>humidity              </td></tr>\n",
       "\t<tr><th scope=row>7</th><td>-0.002292005</td><td>0.002474828</td><td>-0.92612717</td><td>0.35502355</td><td>agriculture_pct_gdp   </td></tr>\n",
       "\t<tr><th scope=row>8</th><td>-0.002554087</td><td>0.001386336</td><td>-1.84232891</td><td>0.06628006</td><td>industry_pct_gdp      </td></tr>\n",
       "\t<tr><th scope=row>9</th><td> 0.298876052</td><td>1.499977531</td><td> 0.19925369</td><td>0.84218101</td><td>pop_total_log         </td></tr>\n",
       "\t<tr><th scope=row>10</th><td> 0.224704586</td><td>1.483284457</td><td> 0.15149123</td><td>0.87967626</td><td>pop_density_log       </td></tr>\n",
       "\t<tr><th scope=row>11</th><td> 0.004163399</td><td>0.006902584</td><td> 0.60316525</td><td>0.54679279</td><td>pop_growth_pct        </td></tr>\n",
       "\t<tr><th scope=row>12</th><td>-0.002912607</td><td>0.004206826</td><td>-0.69235251</td><td>0.48917903</td><td>pop_urban_pct_of_total</td></tr>\n",
       "</tbody>\n",
       "</table>\n"
      ],
      "text/latex": [
       "A data.frame: 8 × 5\n",
       "\\begin{tabular}{r|lllll}\n",
       "  & Estimate & Std. Error & t value & Pr(>\\textbar{}t\\textbar{}) & var\\\\\n",
       "  & <dbl> & <dbl> & <dbl> & <dbl> & <chr>\\\\\n",
       "\\hline\n",
       "\t2 & -0.003259793 & 0.059514947 & -0.05477267 & 0.95635109 & avg\\_surface\\_temp\\_log  \\\\\n",
       "\t4 & -0.001969860 & 0.001955721 & -1.00722961 & 0.31452629 & humidity              \\\\\n",
       "\t7 & -0.002292005 & 0.002474828 & -0.92612717 & 0.35502355 & agriculture\\_pct\\_gdp   \\\\\n",
       "\t8 & -0.002554087 & 0.001386336 & -1.84232891 & 0.06628006 & industry\\_pct\\_gdp      \\\\\n",
       "\t9 &  0.298876052 & 1.499977531 &  0.19925369 & 0.84218101 & pop\\_total\\_log         \\\\\n",
       "\t10 &  0.224704586 & 1.483284457 &  0.15149123 & 0.87967626 & pop\\_density\\_log       \\\\\n",
       "\t11 &  0.004163399 & 0.006902584 &  0.60316525 & 0.54679279 & pop\\_growth\\_pct        \\\\\n",
       "\t12 & -0.002912607 & 0.004206826 & -0.69235251 & 0.48917903 & pop\\_urban\\_pct\\_of\\_total\\\\\n",
       "\\end{tabular}\n"
      ],
      "text/markdown": [
       "\n",
       "A data.frame: 8 × 5\n",
       "\n",
       "| <!--/--> | Estimate &lt;dbl&gt; | Std. Error &lt;dbl&gt; | t value &lt;dbl&gt; | Pr(&gt;|t|) &lt;dbl&gt; | var &lt;chr&gt; |\n",
       "|---|---|---|---|---|---|\n",
       "| 2 | -0.003259793 | 0.059514947 | -0.05477267 | 0.95635109 | avg_surface_temp_log   |\n",
       "| 4 | -0.001969860 | 0.001955721 | -1.00722961 | 0.31452629 | humidity               |\n",
       "| 7 | -0.002292005 | 0.002474828 | -0.92612717 | 0.35502355 | agriculture_pct_gdp    |\n",
       "| 8 | -0.002554087 | 0.001386336 | -1.84232891 | 0.06628006 | industry_pct_gdp       |\n",
       "| 9 |  0.298876052 | 1.499977531 |  0.19925369 | 0.84218101 | pop_total_log          |\n",
       "| 10 |  0.224704586 | 1.483284457 |  0.15149123 | 0.87967626 | pop_density_log        |\n",
       "| 11 |  0.004163399 | 0.006902584 |  0.60316525 | 0.54679279 | pop_growth_pct         |\n",
       "| 12 | -0.002912607 | 0.004206826 | -0.69235251 | 0.48917903 | pop_urban_pct_of_total |\n",
       "\n"
      ],
      "text/plain": [
       "   Estimate     Std. Error  t value     Pr(>|t|)   var                   \n",
       "2  -0.003259793 0.059514947 -0.05477267 0.95635109 avg_surface_temp_log  \n",
       "4  -0.001969860 0.001955721 -1.00722961 0.31452629 humidity              \n",
       "7  -0.002292005 0.002474828 -0.92612717 0.35502355 agriculture_pct_gdp   \n",
       "8  -0.002554087 0.001386336 -1.84232891 0.06628006 industry_pct_gdp      \n",
       "9   0.298876052 1.499977531  0.19925369 0.84218101 pop_total_log         \n",
       "10  0.224704586 1.483284457  0.15149123 0.87967626 pop_density_log       \n",
       "11  0.004163399 0.006902584  0.60316525 0.54679279 pop_growth_pct        \n",
       "12 -0.002912607 0.004206826 -0.69235251 0.48917903 pop_urban_pct_of_total"
      ]
     },
     "metadata": {},
     "output_type": "display_data"
    },
    {
     "name": "stdout",
     "output_type": "stream",
     "text": [
      "[1] \"Significant variables:\"\n",
      "[1] \"lag(PM25_Total_log, 1)\"              \n",
      "[2] \"precipitation_log\"                   \n",
      "[3] \"gdp_per_capita_log\"                  \n",
      "[4] \"gdp_per_capita_growth_pct\"           \n",
      "[5] \"pop_in_largest_city_pct_of_urban_pop\"\n",
      "[1] \"Insignificant variables:\"\n",
      "[1] \"avg_surface_temp_log\"   \"humidity\"               \"agriculture_pct_gdp\"   \n",
      "[4] \"industry_pct_gdp\"       \"pop_total_log\"          \"pop_density_log\"       \n",
      "[7] \"pop_growth_pct\"         \"pop_urban_pct_of_total\"\n"
     ]
    }
   ],
   "source": [
    "coef_extract <- as.data.frame(coef[,c(1,2,3,4)]) # Extract estimates, std. error, t and p values from coef\n",
    "coef_extract[,\"Pr(>|t|)\"] <- round(coef_extract[,\"Pr(>|t|)\"],8) #Round values in p value column\n",
    "coef_extract$var <- rownames(coef_extract) # Extract row names and assigned them to var column\n",
    "rownames(coef_extract) <- NULL # Remove row names\n",
    "coef_extract[coef_extract[\"Pr(>|t|)\"]>=0.05,] # Only insignificant variables\n",
    "insig <- coef_extract[coef_extract[\"Pr(>|t|)\"]>=0.05,\"var\"] # Names of insignificant variables\n",
    "sig <- coef_extract[coef_extract[\"Pr(>|t|)\"]<0.05,\"var\"] # Names of significant variables\n",
    "print(\"Significant variables:\")\n",
    "print(sig)\n",
    "print(\"Insignificant variables:\")\n",
    "print(insig)"
   ]
  },
  {
   "cell_type": "code",
   "execution_count": 463,
   "metadata": {
    "vscode": {
     "languageId": "r"
    }
   },
   "outputs": [
    {
     "data": {
      "text/plain": [
       "PM25_Total_log ~ lag(PM25_Total_log, 1) + precipitation_log + \n",
       "    gdp_per_capita_log + gdp_per_capita_growth_pct + pop_in_largest_city_pct_of_urban_pop"
      ]
     },
     "metadata": {},
     "output_type": "display_data"
    }
   ],
   "source": [
    "# Prepare form text\n",
    "# indices_to_keep <- grep(\"as\\\\.factor\\\\(year\\\\)\", sig, invert = TRUE)\n",
    "# explanatory_sig <- paste0(c(\"is_treated\", \"as.factor(year)\",sig[indices_to_keep]),collapse='+')\n",
    "explanatory_sig <- paste0(c(sig),collapse='+')\n",
    "form_sig <- as.formula(paste0(\"PM25_Total_log ~ \", explanatory_sig)) # Model form with only significant variables\n",
    "form_sig"
   ]
  },
  {
   "cell_type": "code",
   "execution_count": 513,
   "metadata": {},
   "outputs": [
    {
     "data": {
      "text/plain": [
       "Twoways effects Within Model\n",
       "\n",
       "Call:\n",
       "plm(formula = form_sig, data = model_data, effect = \"twoways\", \n",
       "    model = \"within\", index = c(\"country\", \"year\"))\n",
       "\n",
       "Balanced Panel: n = 46, T = 9, N = 414\n",
       "\n",
       "Residuals:\n",
       "      Min.    1st Qu.     Median    3rd Qu.       Max. \n",
       "-0.1068591 -0.0247445 -0.0012246  0.0274271  0.2116950 \n",
       "\n",
       "Coefficients:\n",
       "                                       Estimate Std. Error t-value  Pr(>|t|)\n",
       "lag(PM25_Total_log, 1)                0.3480945  0.0530609  6.5603 1.902e-10\n",
       "is_treated                           -0.0402394  0.0127415 -3.1582  0.001724\n",
       "precipitation_log                    -0.0684533  0.0203282 -3.3674  0.000842\n",
       "pop_total_log                         0.3948443  0.0909455  4.3415 1.848e-05\n",
       "pop_in_largest_city_pct_of_urban_pop  0.0180072  0.0042203  4.2668 2.547e-05\n",
       "                                        \n",
       "lag(PM25_Total_log, 1)               ***\n",
       "is_treated                           ** \n",
       "precipitation_log                    ***\n",
       "pop_total_log                        ***\n",
       "pop_in_largest_city_pct_of_urban_pop ***\n",
       "---\n",
       "Signif. codes:  0 '***' 0.001 '**' 0.01 '*' 0.05 '.' 0.1 ' ' 1\n",
       "\n",
       "Total Sum of Squares:    1.1027\n",
       "Residual Sum of Squares: 0.67822\n",
       "R-Squared:      0.38493\n",
       "Adj. R-Squared: 0.28444\n",
       "F-statistic: 44.4344 on 5 and 355 DF, p-value: < 2.22e-16"
      ]
     },
     "metadata": {},
     "output_type": "display_data"
    }
   ],
   "source": [
    "form_sig <- PM25_Total_log ~ \n",
    "            lag(PM25_Total_log, 1) +\n",
    "            # lag1_PM25_Total_log+\n",
    "            is_treated + \n",
    "            # is_treated : as.factor(year) +\n",
    "             # avg_surface_temp_log +\n",
    "             precipitation_log +\n",
    "             # humidity +\n",
    "             # gdp_per_capita_log +\n",
    "             # gdp_per_capita_growth_pct + \n",
    "             # agriculture_pct_gdp + \n",
    "             # industry_pct_gdp +\n",
    "             pop_total_log +\n",
    "             # pop_density_log +\n",
    "             # pop_growth_pct + \n",
    "             # pop_urban_pct_of_total  +\n",
    "             pop_in_largest_city_pct_of_urban_pop      \n",
    "\n",
    "insig <- c(\"avg_surface_temp_log\", \"pop_urban_pct_of_total\", \"agriculture_pct_gdp\", \"pop_growth_pct\", \"pop_total_log\", \"humidity\", \"gdp_per_capita_growth_pct\", \"industry_pct_gdp\")\n",
    "\n",
    "# Estimate new model with only significant variables\n",
    "fixed_sig <- plm(form_sig, data=model_data, index=c(\"country\", \"year\"), model=\"within\", effect = \"twoways\") # within > FE \n",
    "summary(fixed_sig)"
   ]
  },
  {
   "cell_type": "code",
   "execution_count": 352,
   "metadata": {
    "vscode": {
     "languageId": "r"
    }
   },
   "outputs": [
    {
     "name": "stdout",
     "output_type": "stream",
     "text": [
      "\n",
      "\tF test for twoways effects\n",
      "\n",
      "data:  form_sig\n",
      "F = 5.3879, df1 = 39, df2 = 354, p-value < 2.2e-16\n",
      "alternative hypothesis: significant effects\n",
      "\n"
     ]
    }
   ],
   "source": [
    "# Testing for individual effects in fixed effects model\n",
    "# H0: all ui = 0 (all individual effects are equal to zero - use OLS)\n",
    "ols_sig <- lm(form_sig, data=model_data)\n",
    "pF_sig <- pFtest(fixed_sig, ols)\n",
    "print(pF_sig)"
   ]
  },
  {
   "cell_type": "code",
   "execution_count": 353,
   "metadata": {
    "vscode": {
     "languageId": "r"
    }
   },
   "outputs": [
    {
     "data": {
      "text/plain": [
       "\n",
       "\tF test for twoways effects\n",
       "\n",
       "data:  form\n",
       "F = 1.2067, df1 = 8, df2 = 346, p-value = 0.2939\n",
       "alternative hypothesis: significant effects\n"
      ]
     },
     "metadata": {},
     "output_type": "display_data"
    }
   ],
   "source": [
    "# Testing if all insignificant variables are jointly insignificant by comparing\n",
    "# the general model and the model with only significant variables\n",
    "pFtest(fixed, fixed_sig)\n",
    "# H0: all insignificant variables are jointly insignificant\n",
    "# H1: all insignificant variables are not jointly insignificant\n",
    "\n",
    "# Not rejected, we can remove all insignificant variables from the general model"
   ]
  },
  {
   "cell_type": "code",
   "execution_count": 354,
   "metadata": {
    "vscode": {
     "languageId": "r"
    }
   },
   "outputs": [
    {
     "data": {
      "text/html": [
       "<table class=\"dataframe\">\n",
       "<caption>A anova: 2 × 4</caption>\n",
       "<thead>\n",
       "\t<tr><th></th><th scope=col>Res.Df</th><th scope=col>Df</th><th scope=col>Chisq</th><th scope=col>Pr(&gt;Chisq)</th></tr>\n",
       "\t<tr><th></th><th scope=col>&lt;dbl&gt;</th><th scope=col>&lt;dbl&gt;</th><th scope=col>&lt;dbl&gt;</th><th scope=col>&lt;dbl&gt;</th></tr>\n",
       "</thead>\n",
       "<tbody>\n",
       "\t<tr><th scope=row>1</th><td>354</td><td>NA</td><td>     NA</td><td>       NA</td></tr>\n",
       "\t<tr><th scope=row>2</th><td>346</td><td> 8</td><td>9.65399</td><td>0.2901558</td></tr>\n",
       "</tbody>\n",
       "</table>\n"
      ],
      "text/latex": [
       "A anova: 2 × 4\n",
       "\\begin{tabular}{r|llll}\n",
       "  & Res.Df & Df & Chisq & Pr(>Chisq)\\\\\n",
       "  & <dbl> & <dbl> & <dbl> & <dbl>\\\\\n",
       "\\hline\n",
       "\t1 & 354 & NA &      NA &        NA\\\\\n",
       "\t2 & 346 &  8 & 9.65399 & 0.2901558\\\\\n",
       "\\end{tabular}\n"
      ],
      "text/markdown": [
       "\n",
       "A anova: 2 × 4\n",
       "\n",
       "| <!--/--> | Res.Df &lt;dbl&gt; | Df &lt;dbl&gt; | Chisq &lt;dbl&gt; | Pr(&gt;Chisq) &lt;dbl&gt; |\n",
       "|---|---|---|---|---|\n",
       "| 1 | 354 | NA |      NA |        NA |\n",
       "| 2 | 346 |  8 | 9.65399 | 0.2901558 |\n",
       "\n"
      ],
      "text/plain": [
       "  Res.Df Df Chisq   Pr(>Chisq)\n",
       "1 354    NA      NA        NA \n",
       "2 346     8 9.65399 0.2901558 "
      ]
     },
     "metadata": {},
     "output_type": "display_data"
    }
   ],
   "source": [
    "# Another joint insignificance test if all insignificant variables are jointly insignificant\n",
    "linearHypothesis(fixed, paste(insig, \"=0\"))\n",
    "# H0: All insignificant variables are jointly insignificant\n",
    "# Not rejected, we can remove all insignificant variables from the general model"
   ]
  },
  {
   "cell_type": "code",
   "execution_count": 355,
   "metadata": {
    "vscode": {
     "languageId": "r"
    }
   },
   "outputs": [
    {
     "name": "stdout",
     "output_type": "stream",
     "text": [
      "\n",
      "\tstudentized Breusch-Pagan test\n",
      "\n",
      "data:  form_sig\n",
      "BP = 6.6486, df = 6, p-value = 0.3546\n",
      "\n"
     ]
    }
   ],
   "source": [
    "# Final model diagnostics\n",
    "# Testing for heteroskedasticity -- are the variance of residuals are constant?\n",
    "# If so, we should use roboust estimator to correct the errors\n",
    "bp_sig <- bptest(form_sig, data=model_data, studentize=T)\n",
    "print(bp_sig)"
   ]
  },
  {
   "cell_type": "code",
   "execution_count": 356,
   "metadata": {
    "vscode": {
     "languageId": "r"
    }
   },
   "outputs": [
    {
     "name": "stdout",
     "output_type": "stream",
     "text": [
      "\n",
      "\tBreusch-Godfrey/Wooldridge test for serial correlation in panel models\n",
      "\n",
      "data:  form_sig\n",
      "chisq = 48.547, df = 9, p-value = 2.018e-07\n",
      "alternative hypothesis: serial correlation in idiosyncratic errors\n",
      "\n"
     ]
    }
   ],
   "source": [
    "# Testing for serial correlation -- checking if we have auto correlation or not\n",
    "bpg_sig <- pbgtest(fixed_sig)\n",
    "print(bpg_sig)"
   ]
  },
  {
   "cell_type": "code",
   "execution_count": 357,
   "metadata": {
    "vscode": {
     "languageId": "r"
    }
   },
   "outputs": [
    {
     "name": "stdout",
     "output_type": "stream",
     "text": [
      "\n",
      "t test of coefficients:\n",
      "\n",
      "                                       Estimate Std. Error t value  Pr(>|t|)\n",
      "is_treated                           -0.0359141  0.0119019 -3.0175  0.002733\n",
      "lag(PM25_Total_log, 1:1)              0.3325087  0.0555104  5.9900 5.159e-09\n",
      "precipitation_log                    -0.0635831  0.0264951 -2.3998  0.016920\n",
      "gdp_per_capita_log                    0.0522834  0.0287266  1.8200  0.069598\n",
      "pop_density_log                       0.4208788  1.5069441  0.2793  0.780183\n",
      "pop_in_largest_city_pct_of_urban_pop  0.0186632  0.0039716  4.6992 3.745e-06\n",
      "                                        \n",
      "is_treated                           ** \n",
      "lag(PM25_Total_log, 1:1)             ***\n",
      "precipitation_log                    *  \n",
      "gdp_per_capita_log                   .  \n",
      "pop_density_log                         \n",
      "pop_in_largest_city_pct_of_urban_pop ***\n",
      "---\n",
      "Signif. codes:  0 '***' 0.001 '**' 0.01 '*' 0.05 '.' 0.1 ' ' 1\n",
      "\n"
     ]
    }
   ],
   "source": [
    "# Controlling for heteroskedasticity and autocorrelation\n",
    "# this will not change estimates but errors, t and p values\n",
    "coef_sig <- coeftest(fixed_sig, vcov.=vcovHC(fixed, method=\"white1\", type=\"HC0\", cluster=\"group\"))\n",
    "print(coef_sig)"
   ]
  },
  {
   "cell_type": "code",
   "execution_count": null,
   "metadata": {},
   "outputs": [],
   "source": [
    "# formula_text <- \"PM25_Total_log ~ lag(PM25_Total_log, 1:1) + is_treated + avg_surface_temp_log + precipitation_log + humidity + gdp_per_capita_log +  gdp_per_capita_growth_pct + agriculture_pct_gdp + industry_pct_gdp +pop_total_log +  pop_density_log + pop_growth_pct +  pop_urban_pct_of_total + pop_in_largest_city_pct_of_urban_pop\"\n",
    "\n",
    "# # Define the formula for System GMM\n",
    "# gmm_formula <- as.formula(paste0(formula_text, \" | lag(PM25_Total_log, 1)\"))\n",
    "# gmm_formula2 <- as.formula(paste0(formula_text, \" | lag(PM25_Total_log, 2)\"))\n",
    "# gmm_formula3 <- as.formula(paste0(formula_text, \" | lag(PM25_Total_log, 2:3)\"))\n",
    "# gmm_formula4 <- as.formula(paste0(formula_text, \" | lag(PM25_Total_log, 2:4)\"))\n",
    "# gmm_formula5 <- as.formula(paste0(formula_text, \" | lag(PM25_Total_log, 2:5)\"))\n",
    "# gmm_formula6 <- as.formula(paste0(formula_text, \" | lag(PM25_Total_log, 2:6)\"))\n",
    "# gmm_formula99 <- as.formula(paste0(formula_text, \" | lag(PM25_Total_log, 2)\"))\n",
    "\n",
    "\n",
    "# # Fit the System GMM model using one-step estimator\n",
    "# gmm1 <- pgmm(gmm_formula, data = pdata, effect = \"twoways\", model = \"onestep\", transformation = \"ld\")\n",
    "# gmm2 <- pgmm(gmm_formula2, data = pdata, effect = \"twoways\", model = \"onestep\", transformation = \"ld\")\n",
    "# gmm3 <- pgmm(gmm_formula3, data = pdata, effect = \"twoways\", model = \"onestep\", transformation = \"ld\")\n",
    "# gmm4 <- pgmm(gmm_formula4, data = pdata, effect = \"twoways\", model = \"onestep\", transformation = \"ld\")\n",
    "# gmm5 <- pgmm(gmm_formula5, data = pdata, effect = \"twoways\", model = \"onestep\", transformation = \"ld\")\n",
    "# gmm6 <- pgmm(gmm_formula99, data = pdata, effect = \"twoways\", model = \"onestep\", transformation = \"ld\")\n",
    "# # Print the summary of the GMM model\n",
    "# # summary(gmm1)\n",
    "\n",
    "\n",
    "# # writing code to make a function to add more information to the stargazer GMM table\n",
    "# # will only involve wrapping this around a function and naming the function appropriately \n",
    "# # and some changes to get the final stargazer output\n",
    "# # name here refers to the common name of the models which in the above example is z\n",
    "# # this can be one argument of the function you write\n",
    "# name <- \"gmm\"\n",
    "\n",
    "# # I assume that there are 5 different models\n",
    "# # so the value can be modified accordingly\n",
    "# k <- 6\n",
    "# sargan_est <- NULL\n",
    "# sargan_p <- NULL\n",
    "# AR1_est <- NULL\n",
    "# AR1_pvalue <- NULL\n",
    "# AR2_est <- NULL\n",
    "# AR2_pvalue <- NULL\n",
    "# Wald_Coef_est <- NULL\n",
    "# Wald_Coef_pvalue <- NULL\n",
    "# Wald_Time_dumm_est <- NULL\n",
    "# Wald_Time_dumm_pvalue <- NULL\n",
    "# sargan_est[1] <- c(\"Sargan\")\n",
    "# sargan_p[1] <- c(\"Sargan (p-value)\")\n",
    "# AR1_est[1] <- c(\"AR(1)\")\n",
    "# AR1_pvalue[1] <- c(\"AR(1) p-value\")\n",
    "# AR2_est[1] <- c(\"AR(2)\")\n",
    "# AR2_pvalue[1] <- c(\"AR(2) p-value\")\n",
    "# Wald_Coef_est[1] <- c(\"Wald Coef (df)\")\n",
    "# Wald_Coef_pvalue[1] <- c(\"Wald Coef p-value\")\n",
    "# Wald_Time_dumm_est[1] <- c(\"Wald Time Dummies (df)\")\n",
    "# Wald_Time_dumm_pvalue[1] <- c(\"Wald Time Dummies p-value\")\n",
    "\n",
    "# for(i in 1:k){\n",
    "#   assign(paste0(name,i,\"_summary\"),summary(get(paste0(name,i)),robust=TRUE))\n",
    "#   sargan_est[i+3] <- c(round(get(paste0(name,i,\"_summary\"))$sargan$statistic,4))\n",
    "#   sargan_p[i+3] <- c(round(get(paste0(name,i,\"_summary\"))$sargan$p.value, 4))\n",
    "#   AR1_est[i+3] <- c(round(get(paste0(name,i,\"_summary\"))$m1$statistic, 2))\n",
    "#   AR1_pvalue[i+3] <- c(round(get(paste0(name,i,\"_summary\"))$m1$p.value, 4))\n",
    "#   AR2_est[i+3] <- c(round(get(paste0(name,i,\"_summary\"))$m2$statistic, 2))\n",
    "#   AR2_pvalue[i+3] <- c(round(get(paste0(name,i,\"_summary\"))$m2$p.value, 4))\n",
    "#   Wald_Coef_est[i+3] <- paste0(round(get(paste0(name,i,\"_summary\"))$wald.coef$statistic, 2),\" (\", get(paste0(name,i,\"_summary\"))$wald.coef$parameter, \")\")\n",
    "#   Wald_Coef_pvalue[i+3] <- c(round(get(paste0(name,i,\"_summary\"))$wald.coef$p.value, 4))\n",
    "#   Wald_Time_dumm_est[i+3] <- paste0(round(get(paste0(name,i,\"_summary\"))$wald.td$statistic, 2),\" (\", get(paste0(name,i,\"_summary\"))$wald.td$parameter, \")\")\n",
    "#   Wald_Time_dumm_pvalue[i+3] <- c(round(get(paste0(name,i,\"_summary\"))$wald.td$p.value, 4))\n",
    "# }\n",
    "\n",
    "# # you must change the following code to correctly indicate the number of models that you are considering\n",
    "# # I have not included some of the information that was put by the OP\n",
    "# # but it is straightforward to suitably mmodify the model to do the same\n",
    "# stargazer(fixed,fixed_sig,gmm1,gmm2,gmm3,gmm4,gmm5,gmm6,\n",
    "#           column.labels = c(\"(1) General Panel\", \"(2) Specific Panel\", \"(3) GMM lag 1 instrument\", \"(4) GMM lag 2 instrument\", \n",
    "#                             \"(5) GMM lag 2:3 instrument\",\"(6) GMM lag 2:4 instrument\",\"(7) GMM lag 2:5 instrument\",\n",
    "#                             \"(8) GMM lag 2 instrument\"),\n",
    "#           title= \"Fixed and GMM Panel Results (without using is treated dummy as an instrument)\",\n",
    "#           model.numbers = FALSE,\n",
    "#           header = FALSE,\n",
    "#           align = TRUE,\n",
    "#           type = \"html\",\n",
    "#           out = \"without_dummy_instrument.html\",\n",
    "#           digits = 3,\n",
    "#           no.space = TRUE,\n",
    "#           star.cutoffs = c(0.05, 0.01, 0.001),\n",
    "#           add.lines = list(sargan_est,\n",
    "#                            sargan_p,\n",
    "#                            AR1_est,\n",
    "#                            AR1_pvalue,\n",
    "#                            AR2_est,\n",
    "#                            AR2_pvalue,\n",
    "#                            Wald_Coef_est,\n",
    "#                            Wald_Coef_pvalue,\n",
    "#                           Wald_Time_dumm_est,\n",
    "#                           Wald_Time_dumm_pvalue))"
   ]
  },
  {
   "cell_type": "code",
   "execution_count": null,
   "metadata": {},
   "outputs": [],
   "source": []
  }
 ],
 "metadata": {
  "kernelspec": {
   "display_name": "R",
   "language": "R",
   "name": "ir"
  },
  "language_info": {
   "codemirror_mode": "r",
   "file_extension": ".r",
   "mimetype": "text/x-r-source",
   "name": "R",
   "pygments_lexer": "r",
   "version": "4.3.1"
  }
 },
 "nbformat": 4,
 "nbformat_minor": 4
}

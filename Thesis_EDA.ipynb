{
 "cells": [
  {
   "cell_type": "markdown",
   "metadata": {},
   "source": [
    "## ***Todositos***\n",
    "\n",
    "1 - ~~Implement changes for BPA (23)~~\n",
    "\n",
    "2 - ~~Reply to Pavel (23)~~\n",
    "\n",
    "3 - ~~Initiate a slide for RR presentation (23)~~\n",
    "\n",
    "4 - ~~Complete data description slide (23)~~\n",
    "\n",
    "5 - Collect all datasets in one dataframe (23)\n",
    "\n",
    "6 - Do EDA, gap analysis (24)\n",
    "\n",
    "7 - Write down an email to Ł, explain the data source found and give link to notebook (24)"
   ]
  },
  {
   "cell_type": "code",
   "execution_count": 269,
   "metadata": {
    "vscode": {
     "languageId": "r"
    }
   },
   "outputs": [
    {
     "name": "stderr",
     "output_type": "stream",
     "text": [
      "Warning message:\n",
      "\"package 'reshape2' is in use and will not be installed\"\n"
     ]
    }
   ],
   "source": [
    "library(tidyverse)\n",
    "library(dplyr)\n",
    "library(\"readxl\")\n",
    "install.packages(\"reshape2\")\n",
    "library(reshape2)"
   ]
  },
  {
   "cell_type": "markdown",
   "metadata": {},
   "source": [
    "**Processing World Bank indicators**"
   ]
  },
  {
   "cell_type": "code",
   "execution_count": 270,
   "metadata": {
    "vscode": {
     "languageId": "r"
    }
   },
   "outputs": [
    {
     "name": "stderr",
     "output_type": "stream",
     "text": [
      "Warning message in eval(expr, envir, enclos):\n",
      "\"NAs introduced by coercion\"\n"
     ]
    },
    {
     "name": "stdout",
     "output_type": "stream",
     "text": [
      "[1] 5232   16\n"
     ]
    },
    {
     "data": {
      "text/html": [
       "<table class=\"dataframe\">\n",
       "<caption>A tibble: 6 × 16</caption>\n",
       "<thead>\n",
       "\t<tr><th scope=col>country</th><th scope=col>country_code</th><th scope=col>year</th><th scope=col>NY.GDP.PCAP.CD</th><th scope=col>NY.GDP.PCAP.KD.ZG</th><th scope=col>NV.AGR.TOTL.ZS</th><th scope=col>NV.IND.TOTL.ZS</th><th scope=col>SP.POP.TOTL</th><th scope=col>EN.URB.LCTY.UR.ZS</th><th scope=col>SP.POP.GROW</th><th scope=col>EN.POP.DNST</th><th scope=col>SP.URB.TOTL</th><th scope=col>SP.URB.TOTL.IN.ZS</th><th scope=col>SP.RUR.TOTL</th><th scope=col>SP.RUR.TOTL.ZS</th><th scope=col>NY.GDY.TOTL.KN</th></tr>\n",
       "\t<tr><th scope=col>&lt;chr&gt;</th><th scope=col>&lt;chr&gt;</th><th scope=col>&lt;dbl&gt;</th><th scope=col>&lt;dbl&gt;</th><th scope=col>&lt;dbl&gt;</th><th scope=col>&lt;dbl&gt;</th><th scope=col>&lt;dbl&gt;</th><th scope=col>&lt;dbl&gt;</th><th scope=col>&lt;dbl&gt;</th><th scope=col>&lt;dbl&gt;</th><th scope=col>&lt;dbl&gt;</th><th scope=col>&lt;dbl&gt;</th><th scope=col>&lt;dbl&gt;</th><th scope=col>&lt;dbl&gt;</th><th scope=col>&lt;dbl&gt;</th><th scope=col>&lt;dbl&gt;</th></tr>\n",
       "</thead>\n",
       "<tbody>\n",
       "\t<tr><td>Afghanistan</td><td>AFG</td><td>2004</td><td>221.8305</td><td>-2.497255</td><td>29.72107</td><td>26.22679</td><td>23553551</td><td>53.47740</td><td>3.933178</td><td>36.11234</td><td>5299549</td><td>22.500</td><td>18254002</td><td>77.500</td><td>NA</td></tr>\n",
       "\t<tr><td>Afghanistan</td><td>AFG</td><td>2005</td><td>254.1153</td><td> 7.321874</td><td>31.11485</td><td>26.81210</td><td>24411191</td><td>52.42042</td><td>3.576508</td><td>37.42727</td><td>5542073</td><td>22.703</td><td>18869118</td><td>77.297</td><td>NA</td></tr>\n",
       "\t<tr><td>Afghanistan</td><td>AFG</td><td>2006</td><td>274.0154</td><td> 1.084988</td><td>28.63597</td><td>28.21077</td><td>25442944</td><td>51.09937</td><td>4.139678</td><td>39.00916</td><td>5828215</td><td>22.907</td><td>19614729</td><td>77.093</td><td>NA</td></tr>\n",
       "\t<tr><td>Afghanistan</td><td>AFG</td><td>2007</td><td>376.3183</td><td>11.803383</td><td>30.10501</td><td>26.88224</td><td>25903301</td><td>50.99387</td><td>1.793196</td><td>39.71498</td><td>5987030</td><td>23.113</td><td>19916271</td><td>76.887</td><td>NA</td></tr>\n",
       "\t<tr><td>Afghanistan</td><td>AFG</td><td>2008</td><td>382.5338</td><td> 1.864754</td><td>24.89227</td><td>26.91563</td><td>26427199</td><td>50.78588</td><td>2.002333</td><td>40.51822</td><td>6162823</td><td>23.320</td><td>20264376</td><td>76.680</td><td>NA</td></tr>\n",
       "\t<tr><td>Afghanistan</td><td>AFG</td><td>2009</td><td>453.3874</td><td>17.143534</td><td>29.29750</td><td>21.89712</td><td>27385307</td><td>49.79475</td><td>3.561288</td><td>41.98719</td><td>6443215</td><td>23.528</td><td>20942092</td><td>76.472</td><td>NA</td></tr>\n",
       "</tbody>\n",
       "</table>\n"
      ],
      "text/latex": [
       "A tibble: 6 × 16\n",
       "\\begin{tabular}{llllllllllllllll}\n",
       " country & country\\_code & year & NY.GDP.PCAP.CD & NY.GDP.PCAP.KD.ZG & NV.AGR.TOTL.ZS & NV.IND.TOTL.ZS & SP.POP.TOTL & EN.URB.LCTY.UR.ZS & SP.POP.GROW & EN.POP.DNST & SP.URB.TOTL & SP.URB.TOTL.IN.ZS & SP.RUR.TOTL & SP.RUR.TOTL.ZS & NY.GDY.TOTL.KN\\\\\n",
       " <chr> & <chr> & <dbl> & <dbl> & <dbl> & <dbl> & <dbl> & <dbl> & <dbl> & <dbl> & <dbl> & <dbl> & <dbl> & <dbl> & <dbl> & <dbl>\\\\\n",
       "\\hline\n",
       "\t Afghanistan & AFG & 2004 & 221.8305 & -2.497255 & 29.72107 & 26.22679 & 23553551 & 53.47740 & 3.933178 & 36.11234 & 5299549 & 22.500 & 18254002 & 77.500 & NA\\\\\n",
       "\t Afghanistan & AFG & 2005 & 254.1153 &  7.321874 & 31.11485 & 26.81210 & 24411191 & 52.42042 & 3.576508 & 37.42727 & 5542073 & 22.703 & 18869118 & 77.297 & NA\\\\\n",
       "\t Afghanistan & AFG & 2006 & 274.0154 &  1.084988 & 28.63597 & 28.21077 & 25442944 & 51.09937 & 4.139678 & 39.00916 & 5828215 & 22.907 & 19614729 & 77.093 & NA\\\\\n",
       "\t Afghanistan & AFG & 2007 & 376.3183 & 11.803383 & 30.10501 & 26.88224 & 25903301 & 50.99387 & 1.793196 & 39.71498 & 5987030 & 23.113 & 19916271 & 76.887 & NA\\\\\n",
       "\t Afghanistan & AFG & 2008 & 382.5338 &  1.864754 & 24.89227 & 26.91563 & 26427199 & 50.78588 & 2.002333 & 40.51822 & 6162823 & 23.320 & 20264376 & 76.680 & NA\\\\\n",
       "\t Afghanistan & AFG & 2009 & 453.3874 & 17.143534 & 29.29750 & 21.89712 & 27385307 & 49.79475 & 3.561288 & 41.98719 & 6443215 & 23.528 & 20942092 & 76.472 & NA\\\\\n",
       "\\end{tabular}\n"
      ],
      "text/markdown": [
       "\n",
       "A tibble: 6 × 16\n",
       "\n",
       "| country &lt;chr&gt; | country_code &lt;chr&gt; | year &lt;dbl&gt; | NY.GDP.PCAP.CD &lt;dbl&gt; | NY.GDP.PCAP.KD.ZG &lt;dbl&gt; | NV.AGR.TOTL.ZS &lt;dbl&gt; | NV.IND.TOTL.ZS &lt;dbl&gt; | SP.POP.TOTL &lt;dbl&gt; | EN.URB.LCTY.UR.ZS &lt;dbl&gt; | SP.POP.GROW &lt;dbl&gt; | EN.POP.DNST &lt;dbl&gt; | SP.URB.TOTL &lt;dbl&gt; | SP.URB.TOTL.IN.ZS &lt;dbl&gt; | SP.RUR.TOTL &lt;dbl&gt; | SP.RUR.TOTL.ZS &lt;dbl&gt; | NY.GDY.TOTL.KN &lt;dbl&gt; |\n",
       "|---|---|---|---|---|---|---|---|---|---|---|---|---|---|---|---|\n",
       "| Afghanistan | AFG | 2004 | 221.8305 | -2.497255 | 29.72107 | 26.22679 | 23553551 | 53.47740 | 3.933178 | 36.11234 | 5299549 | 22.500 | 18254002 | 77.500 | NA |\n",
       "| Afghanistan | AFG | 2005 | 254.1153 |  7.321874 | 31.11485 | 26.81210 | 24411191 | 52.42042 | 3.576508 | 37.42727 | 5542073 | 22.703 | 18869118 | 77.297 | NA |\n",
       "| Afghanistan | AFG | 2006 | 274.0154 |  1.084988 | 28.63597 | 28.21077 | 25442944 | 51.09937 | 4.139678 | 39.00916 | 5828215 | 22.907 | 19614729 | 77.093 | NA |\n",
       "| Afghanistan | AFG | 2007 | 376.3183 | 11.803383 | 30.10501 | 26.88224 | 25903301 | 50.99387 | 1.793196 | 39.71498 | 5987030 | 23.113 | 19916271 | 76.887 | NA |\n",
       "| Afghanistan | AFG | 2008 | 382.5338 |  1.864754 | 24.89227 | 26.91563 | 26427199 | 50.78588 | 2.002333 | 40.51822 | 6162823 | 23.320 | 20264376 | 76.680 | NA |\n",
       "| Afghanistan | AFG | 2009 | 453.3874 | 17.143534 | 29.29750 | 21.89712 | 27385307 | 49.79475 | 3.561288 | 41.98719 | 6443215 | 23.528 | 20942092 | 76.472 | NA |\n",
       "\n"
      ],
      "text/plain": [
       "  country     country_code year NY.GDP.PCAP.CD NY.GDP.PCAP.KD.ZG NV.AGR.TOTL.ZS\n",
       "1 Afghanistan AFG          2004 221.8305       -2.497255         29.72107      \n",
       "2 Afghanistan AFG          2005 254.1153        7.321874         31.11485      \n",
       "3 Afghanistan AFG          2006 274.0154        1.084988         28.63597      \n",
       "4 Afghanistan AFG          2007 376.3183       11.803383         30.10501      \n",
       "5 Afghanistan AFG          2008 382.5338        1.864754         24.89227      \n",
       "6 Afghanistan AFG          2009 453.3874       17.143534         29.29750      \n",
       "  NV.IND.TOTL.ZS SP.POP.TOTL EN.URB.LCTY.UR.ZS SP.POP.GROW EN.POP.DNST\n",
       "1 26.22679       23553551    53.47740          3.933178    36.11234   \n",
       "2 26.81210       24411191    52.42042          3.576508    37.42727   \n",
       "3 28.21077       25442944    51.09937          4.139678    39.00916   \n",
       "4 26.88224       25903301    50.99387          1.793196    39.71498   \n",
       "5 26.91563       26427199    50.78588          2.002333    40.51822   \n",
       "6 21.89712       27385307    49.79475          3.561288    41.98719   \n",
       "  SP.URB.TOTL SP.URB.TOTL.IN.ZS SP.RUR.TOTL SP.RUR.TOTL.ZS NY.GDY.TOTL.KN\n",
       "1 5299549     22.500            18254002    77.500         NA            \n",
       "2 5542073     22.703            18869118    77.297         NA            \n",
       "3 5828215     22.907            19614729    77.093         NA            \n",
       "4 5987030     23.113            19916271    76.887         NA            \n",
       "5 6162823     23.320            20264376    76.680         NA            \n",
       "6 6443215     23.528            20942092    76.472         NA            "
      ]
     },
     "metadata": {},
     "output_type": "display_data"
    }
   ],
   "source": [
    "# Read indicators from World Bank\n",
    "wb_indicators_raw <- read_excel(\"Data\\\\WDI - WorldBank\\\\Indicators.xlsx\", sheet = \"Data\")\n",
    "# Melt dataset to put years to rows\n",
    "wb_indicators_melted <- melt(wb_indicators_raw, id.vars = c(\"Country Name\", \"Country Code\", \"Series Code\", \"Series Name\"), \n",
    "                  variable.name = \"Year\", value.name = \"Value\")\n",
    "# Convert the 'Value' column to numeric, coerce errors\n",
    "wb_indicators_melted$Value <- as.numeric(as.character(wb_indicators_melted$Value))\n",
    "# Clean and convert the 'Year' column to numeric\n",
    "wb_indicators_melted$Year <- gsub(\"\\\\[.*\\\\]\", \"\", wb_indicators_melted$Year)\n",
    "wb_indicators_melted$Year <- as.numeric(wb_indicators_melted$Year)\n",
    "# Drop NAs\n",
    "wb_indicators_long <- na.omit(wb_indicators_melted)\n",
    "# Convert to wide format, representing each indicator as a column\n",
    "wb_indicators_wide <- pivot_wider(wb_indicators_long, \n",
    "                          id_cols = c(\"Country Name\", \"Country Code\", \"Year\"),  # List the columns you want to keep as base dimensions\n",
    "                          names_from = \"Series Code\", \n",
    "                          values_from = \"Value\")\n",
    "# Rename columns\n",
    "wb_indicators_final <- wb_indicators_wide %>%\n",
    "        rename(!!!setNames(c(\"Country Name\", \"Country Code\", \"Year\"), c(\"country\", \"country_code\", \"year\")))\n",
    "# Sort dataset\n",
    "wb_indicators_final <- wb_indicators_final %>% arrange (country, year)\n",
    "# Check final dataset\n",
    "print(dim(wb_indicators_final))\n",
    "head(wb_indicators_final)"
   ]
  },
  {
   "cell_type": "markdown",
   "metadata": {},
   "source": [
    "**Processing weather variables**"
   ]
  },
  {
   "cell_type": "code",
   "execution_count": 271,
   "metadata": {
    "vscode": {
     "languageId": "r"
    }
   },
   "outputs": [
    {
     "name": "stdout",
     "output_type": "stream",
     "text": [
      "[1] \"precipitation_final: 6666 rows\"\n",
      "[1] \"humidity_final: 6666 rows\"\n",
      "[1] \"avg_surface_temp_final: 6666 rows\"\n",
      "[1] \"weather_final: 6666 rows\"\n",
      "[1] 6666    6\n"
     ]
    },
    {
     "data": {
      "text/html": [
       "<table class=\"dataframe\">\n",
       "<caption>A data.frame: 6 × 6</caption>\n",
       "<thead>\n",
       "\t<tr><th></th><th scope=col>country</th><th scope=col>country_code</th><th scope=col>year</th><th scope=col>precipitation</th><th scope=col>humidity</th><th scope=col>avg_surface_temp</th></tr>\n",
       "\t<tr><th></th><th scope=col>&lt;chr&gt;</th><th scope=col>&lt;chr&gt;</th><th scope=col>&lt;dbl&gt;</th><th scope=col>&lt;dbl&gt;</th><th scope=col>&lt;dbl&gt;</th><th scope=col>&lt;dbl&gt;</th></tr>\n",
       "</thead>\n",
       "<tbody>\n",
       "\t<tr><th scope=row>1</th><td>Afghanistan</td><td>AFG</td><td>1990</td><td>0.016</td><td>46.92</td><td>9.466</td></tr>\n",
       "\t<tr><th scope=row>2</th><td>Afghanistan</td><td>AFG</td><td>1991</td><td>0.021</td><td>50.84</td><td>8.369</td></tr>\n",
       "\t<tr><th scope=row>3</th><td>Afghanistan</td><td>AFG</td><td>1992</td><td>0.019</td><td>49.57</td><td>8.203</td></tr>\n",
       "\t<tr><th scope=row>4</th><td>Afghanistan</td><td>AFG</td><td>1993</td><td>0.014</td><td>46.11</td><td>8.754</td></tr>\n",
       "\t<tr><th scope=row>5</th><td>Afghanistan</td><td>AFG</td><td>1994</td><td>0.017</td><td>48.90</td><td>8.812</td></tr>\n",
       "\t<tr><th scope=row>6</th><td>Afghanistan</td><td>AFG</td><td>1995</td><td>0.016</td><td>45.20</td><td>8.728</td></tr>\n",
       "</tbody>\n",
       "</table>\n"
      ],
      "text/latex": [
       "A data.frame: 6 × 6\n",
       "\\begin{tabular}{r|llllll}\n",
       "  & country & country\\_code & year & precipitation & humidity & avg\\_surface\\_temp\\\\\n",
       "  & <chr> & <chr> & <dbl> & <dbl> & <dbl> & <dbl>\\\\\n",
       "\\hline\n",
       "\t1 & Afghanistan & AFG & 1990 & 0.016 & 46.92 & 9.466\\\\\n",
       "\t2 & Afghanistan & AFG & 1991 & 0.021 & 50.84 & 8.369\\\\\n",
       "\t3 & Afghanistan & AFG & 1992 & 0.019 & 49.57 & 8.203\\\\\n",
       "\t4 & Afghanistan & AFG & 1993 & 0.014 & 46.11 & 8.754\\\\\n",
       "\t5 & Afghanistan & AFG & 1994 & 0.017 & 48.90 & 8.812\\\\\n",
       "\t6 & Afghanistan & AFG & 1995 & 0.016 & 45.20 & 8.728\\\\\n",
       "\\end{tabular}\n"
      ],
      "text/markdown": [
       "\n",
       "A data.frame: 6 × 6\n",
       "\n",
       "| <!--/--> | country &lt;chr&gt; | country_code &lt;chr&gt; | year &lt;dbl&gt; | precipitation &lt;dbl&gt; | humidity &lt;dbl&gt; | avg_surface_temp &lt;dbl&gt; |\n",
       "|---|---|---|---|---|---|---|\n",
       "| 1 | Afghanistan | AFG | 1990 | 0.016 | 46.92 | 9.466 |\n",
       "| 2 | Afghanistan | AFG | 1991 | 0.021 | 50.84 | 8.369 |\n",
       "| 3 | Afghanistan | AFG | 1992 | 0.019 | 49.57 | 8.203 |\n",
       "| 4 | Afghanistan | AFG | 1993 | 0.014 | 46.11 | 8.754 |\n",
       "| 5 | Afghanistan | AFG | 1994 | 0.017 | 48.90 | 8.812 |\n",
       "| 6 | Afghanistan | AFG | 1995 | 0.016 | 45.20 | 8.728 |\n",
       "\n"
      ],
      "text/plain": [
       "  country     country_code year precipitation humidity avg_surface_temp\n",
       "1 Afghanistan AFG          1990 0.016         46.92    9.466           \n",
       "2 Afghanistan AFG          1991 0.021         50.84    8.369           \n",
       "3 Afghanistan AFG          1992 0.019         49.57    8.203           \n",
       "4 Afghanistan AFG          1993 0.014         46.11    8.754           \n",
       "5 Afghanistan AFG          1994 0.017         48.90    8.812           \n",
       "6 Afghanistan AFG          1995 0.016         45.20    8.728           "
      ]
     },
     "metadata": {},
     "output_type": "display_data"
    }
   ],
   "source": [
    "# Read weather datasets\n",
    "precipitation_raw = read_csv(\"Data\\\\Weather\\\\GDL-Total-Yearly-Precipitation-data.csv\", col_types = cols())\n",
    "humidity_raw = read_csv(\"Data\\\\Weather\\\\GDL-Yearly-Average-Relative-Humidity-data.csv\", col_types = cols())\n",
    "avg_surface_temp_raw = read_csv(\"Data\\\\Weather\\\\GDL-Yearly-Average-Surface-Temperature-(ºC)-data.csv\", col_types = cols())\n",
    "# Common fuction to melt and clean weather datasets\n",
    "clean_weather_datasets <- function (all_indicators, measure) {\n",
    "    # Melt dataset to put years to rows\n",
    "    all_indicators_melted <- melt(all_indicators, id.vars = c(\"Country\", \"Continent\", \"ISO_Code\", \"Level\", \"GDLCODE\", \"Region\"), \n",
    "                    variable.name = \"Year\", value.name = \"Value\")\n",
    "    # Convert the 'Value' column to numeric, coerce errors\n",
    "    all_indicators_melted[measure] <- as.numeric(all_indicators_melted$Value)\n",
    "    # Clean and convert the 'Year' column to numeric\n",
    "    all_indicators_melted$Year <- as.numeric(as.character(all_indicators_melted$Year))\n",
    "    # Drop NAs\n",
    "    all_indicators_final <- na.omit(all_indicators_melted)\n",
    "    # Drop unnecassary columns\n",
    "    cols_to_drop <- c(\"Continent\", \"Level\", \"GDLCODE\", \"Region\", \"Value\")\n",
    "    all_indicators_final <- df_final %>% select(-one_of(cols_to_drop))\n",
    "    # Rename columns\n",
    "    df_final <- df_final %>%\n",
    "        rename(!!!setNames(c(\"Country\", \"ISO_Code\", \"Year\"), c(\"country\", \"country_code\", \"year\")))\n",
    "    # Return cleaned dataframe\n",
    "    return (df_final)\n",
    "    }\n",
    "# Melt and clean weather datasets\n",
    "precipitation_final <- clean_weather_datasets(precipitation_raw, \"precipitation\")\n",
    "humidity_final <- clean_weather_datasets(humidity_raw, \"humidity\")\n",
    "avg_surface_temp_final <- clean_weather_datasets(avg_surface_temp_raw, \"avg_surface_temp\")\n",
    "# Check dimensions before join\n",
    "print(paste0(\"precipitation_final: \" ,dim(precipitation_final)[1], \" rows\"))\n",
    "print(paste0(\"humidity_final: \" ,dim(humidity_final)[1], \" rows\"))\n",
    "print(paste0(\"avg_surface_temp_final: \" ,dim(avg_surface_temp_final)[1], \" rows\"))\n",
    "# Inner join precipitation, humidity and avg surface temperature datasets\n",
    "weather_final <- inner_join(precipitation_final, humidity_final, by = c(\"country\", \"country_code\", \"year\")) %>%\n",
    "             inner_join(avg_surface_temp_final, by = c(\"country\", \"country_code\", \"year\"))\n",
    "# Check dimensions after inner join\n",
    "print(paste0(\"weather_final: \" ,dim(weather_final)[1], \" rows\"))\n",
    "# Sort dataset\n",
    "weather_final <- weather_final %>% arrange(country, year)\n",
    "# Check dataset\n",
    "print(dim(weather_final))\n",
    "head(weather_final)"
   ]
  },
  {
   "cell_type": "markdown",
   "metadata": {
    "vscode": {
     "languageId": "r"
    }
   },
   "source": [
    "**Processing EU ETS variables**"
   ]
  },
  {
   "cell_type": "code",
   "execution_count": 272,
   "metadata": {
    "vscode": {
     "languageId": "r"
    }
   },
   "outputs": [
    {
     "name": "stderr",
     "output_type": "stream",
     "text": [
      "\u001b[1m\u001b[22m`summarise()` has grouped output by 'country', 'country_code'. You can override\n",
      "using the `.groups` argument.\n"
     ]
    },
    {
     "name": "stdout",
     "output_type": "stream",
     "text": [
      "[1] 623   6\n"
     ]
    },
    {
     "data": {
      "text/html": [
       "<table class=\"dataframe\">\n",
       "<caption>A tibble: 6 × 6</caption>\n",
       "<thead>\n",
       "\t<tr><th scope=col>country</th><th scope=col>country_code</th><th scope=col>year</th><th scope=col>free_EUAs</th><th scope=col>total_EUAs</th><th scope=col>auctioned_sold_EUAs</th></tr>\n",
       "\t<tr><th scope=col>&lt;chr&gt;</th><th scope=col>&lt;chr&gt;</th><th scope=col>&lt;dbl&gt;</th><th scope=col>&lt;dbl&gt;</th><th scope=col>&lt;dbl&gt;</th><th scope=col>&lt;dbl&gt;</th></tr>\n",
       "</thead>\n",
       "<tbody>\n",
       "\t<tr><td>Austria</td><td>AT</td><td>2005</td><td>32412654</td><td>32412654</td><td>     0</td></tr>\n",
       "\t<tr><td>Austria</td><td>AT</td><td>2006</td><td>32649366</td><td>32649366</td><td>     0</td></tr>\n",
       "\t<tr><td>Austria</td><td>AT</td><td>2007</td><td>32729289</td><td>32729289</td><td>     0</td></tr>\n",
       "\t<tr><td>Austria</td><td>AT</td><td>2008</td><td>30718182</td><td>30718182</td><td>     0</td></tr>\n",
       "\t<tr><td>Austria</td><td>AT</td><td>2009</td><td>30313132</td><td>30718182</td><td>405050</td></tr>\n",
       "\t<tr><td>Austria</td><td>AT</td><td>2010</td><td>30563812</td><td>30963812</td><td>400000</td></tr>\n",
       "</tbody>\n",
       "</table>\n"
      ],
      "text/latex": [
       "A tibble: 6 × 6\n",
       "\\begin{tabular}{llllll}\n",
       " country & country\\_code & year & free\\_EUAs & total\\_EUAs & auctioned\\_sold\\_EUAs\\\\\n",
       " <chr> & <chr> & <dbl> & <dbl> & <dbl> & <dbl>\\\\\n",
       "\\hline\n",
       "\t Austria & AT & 2005 & 32412654 & 32412654 &      0\\\\\n",
       "\t Austria & AT & 2006 & 32649366 & 32649366 &      0\\\\\n",
       "\t Austria & AT & 2007 & 32729289 & 32729289 &      0\\\\\n",
       "\t Austria & AT & 2008 & 30718182 & 30718182 &      0\\\\\n",
       "\t Austria & AT & 2009 & 30313132 & 30718182 & 405050\\\\\n",
       "\t Austria & AT & 2010 & 30563812 & 30963812 & 400000\\\\\n",
       "\\end{tabular}\n"
      ],
      "text/markdown": [
       "\n",
       "A tibble: 6 × 6\n",
       "\n",
       "| country &lt;chr&gt; | country_code &lt;chr&gt; | year &lt;dbl&gt; | free_EUAs &lt;dbl&gt; | total_EUAs &lt;dbl&gt; | auctioned_sold_EUAs &lt;dbl&gt; |\n",
       "|---|---|---|---|---|---|\n",
       "| Austria | AT | 2005 | 32412654 | 32412654 |      0 |\n",
       "| Austria | AT | 2006 | 32649366 | 32649366 |      0 |\n",
       "| Austria | AT | 2007 | 32729289 | 32729289 |      0 |\n",
       "| Austria | AT | 2008 | 30718182 | 30718182 |      0 |\n",
       "| Austria | AT | 2009 | 30313132 | 30718182 | 405050 |\n",
       "| Austria | AT | 2010 | 30563812 | 30963812 | 400000 |\n",
       "\n"
      ],
      "text/plain": [
       "  country country_code year free_EUAs total_EUAs auctioned_sold_EUAs\n",
       "1 Austria AT           2005 32412654  32412654        0             \n",
       "2 Austria AT           2006 32649366  32649366        0             \n",
       "3 Austria AT           2007 32729289  32729289        0             \n",
       "4 Austria AT           2008 30718182  30718182        0             \n",
       "5 Austria AT           2009 30313132  30718182   405050             \n",
       "6 Austria AT           2010 30563812  30963812   400000             "
      ]
     },
     "metadata": {},
     "output_type": "display_data"
    }
   ],
   "source": [
    "# Read EU ETS database\n",
    "eu_ets_raw = read.csv(\"Data\\\\EU ETS\\\\ETS_Database_Jul23.csv\", sep = \"\\t\", na.strings = \"\", fileEncoding = \"UTF-8\")\n",
    "# Define the mapping of old names to new names for EUAs\n",
    "eua_breakdown <- c(\n",
    "  \"1. Total allocated allowances (EUA or EUAA)\" = \"total_EUAs\",\n",
    "  \"1.1 Freely allocated allowances\" = \"free_EUAs\",\n",
    "  \"1.2 Correction to freely allocated allowances (not reflected in EUTL)\" = \"free_correction_EUAs\",\n",
    "  \"1.3 Allowances auctioned or sold (EUAs and EUAAs)\" = \"auctioned_sold_EUAs\"\n",
    ")\n",
    "# Drop unnecassary information columns, \n",
    "# keep only total EUAs, freely allocated EUAs, correction to freely allocated EUAs and EUAs auctioned or sold\n",
    "# also rename occurences\n",
    "eu_ets_raw <- eu_ets_raw %>%\n",
    "  filter(ETS.information %in% names(eua_breakdown)) %>%\n",
    "  mutate(ETS.information = case_when(\n",
    "    ETS.information %in% names(eua_breakdown) ~ eua_breakdown[ETS.information],\n",
    "    TRUE ~ ETS.information\n",
    "  ))\n",
    "# Define the mapping of old names to new names for sector breakdown\n",
    "sector_breakdown <- c(\n",
    "    \"20-99 All stationary installations\" = \"all_stationary\",\n",
    "    \"10 Aviation\" = \"aviation\")\n",
    "# Drop sector breakdown, just include all stationary installations and aviation\n",
    "# also rename occurences\n",
    "eu_ets_raw <- eu_ets_raw %>%\n",
    "  filter(main.activity.sector.name %in% names(sector_breakdown)) %>%\n",
    "  mutate(main.activity.sector.name = case_when(\n",
    "    main.activity.sector.name %in% names(sector_breakdown) ~ sector_breakdown[main.activity.sector.name],\n",
    "    TRUE ~ main.activity.sector.name\n",
    "  ))\n",
    "# Remove period aggregates and keep years only\n",
    "eu_ets_raw <- eu_ets_raw %>% filter(nchar(year) == 4)\n",
    "# Convert to wide format, representing each EUA breakdown as a column\n",
    "eu_ets_wide <- pivot_wider(eu_ets_raw, \n",
    "                          id_cols = c(\"country\", \"country_code\", \"year\"),  # List the columns you want to keep as base dimensions\n",
    "                          names_from = \"ETS.information\", \n",
    "                          values_from = \"value\",\n",
    "                          values_fn = sum)\n",
    "# Fill NAs with 0\n",
    "eu_ets_wide[is.na(eu_ets_wide)] <- 0\n",
    "# Convert year column to numeric\n",
    "eu_ets_wide$year <- as.numeric(eu_ets_wide$year)\n",
    "# Apply correction to freely allocated EUAs\n",
    "eu_ets_wide$free_EUAs <- eu_ets_wide$free_EUAs + eu_ets_wide$free_correction_EUAs\n",
    "# Drop correction to freely allocated EUAs column\n",
    "eu_ets_wide$free_correction_EUAs <- NULL\n",
    "# Rename Northen Ireland to UK\n",
    "eu_ets_wide$country <- ifelse(eu_ets_wide$country %in% c(\"United Kingdom (excl. NI)\", \"Northern Ireland\"), \"United Kingdom\", eu_ets_wide$country)\n",
    "eu_ets_wide$country_code <- ifelse(eu_ets_wide$country %in% c(\"United Kingdom (excl. NI)\", \"Northern Ireland\"), \"UK\", eu_ets_wide$country_code)\n",
    "# Aggregate Northen Ireland to UK\n",
    "eu_ets_final <- eu_ets_wide %>% \n",
    "  group_by(country, country_code, year) %>% \n",
    "  summarize(\n",
    "    free_EUAs = sum(free_EUAs),\n",
    "    total_EUAs = sum(total_EUAs),\n",
    "    auctioned_sold_EUAs = sum(auctioned_sold_EUAs)\n",
    "  )\n",
    "# Sort dataset by country and year\n",
    "eu_ets_final <- eu_ets_wide %>% arrange(country, year)\n",
    "# Check dataset\n",
    "print(dim(eu_ets_final))\n",
    "head(eu_ets_final)"
   ]
  },
  {
   "cell_type": "markdown",
   "metadata": {},
   "source": [
    "**Processing PM2.5 variables**"
   ]
  },
  {
   "cell_type": "code",
   "execution_count": 273,
   "metadata": {
    "vscode": {
     "languageId": "r"
    }
   },
   "outputs": [
    {
     "name": "stdout",
     "output_type": "stream",
     "text": [
      "[1] 1950   18\n"
     ]
    },
    {
     "data": {
      "text/html": [
       "<table class=\"dataframe\">\n",
       "<caption>A tibble: 6 × 18</caption>\n",
       "<thead>\n",
       "\t<tr><th scope=col>country_code</th><th scope=col>country</th><th scope=col>year</th><th scope=col>PM25_Cities</th><th scope=col>PM25_rural</th><th scope=col>PM25_Total</th><th scope=col>PM25_Towns</th><th scope=col>PM25_Urban</th><th scope=col>PM25_low_Cities</th><th scope=col>PM25_low_rural</th><th scope=col>PM25_low_Total</th><th scope=col>PM25_low_Towns</th><th scope=col>PM25_low_Urban</th><th scope=col>PM25_high_Cities</th><th scope=col>PM25_high_rural</th><th scope=col>PM25_high_Total</th><th scope=col>PM25_high_Towns</th><th scope=col>PM25_high_Urban</th></tr>\n",
       "\t<tr><th scope=col>&lt;chr&gt;</th><th scope=col>&lt;chr&gt;</th><th scope=col>&lt;int&gt;</th><th scope=col>&lt;dbl&gt;</th><th scope=col>&lt;dbl&gt;</th><th scope=col>&lt;dbl&gt;</th><th scope=col>&lt;dbl&gt;</th><th scope=col>&lt;dbl&gt;</th><th scope=col>&lt;dbl&gt;</th><th scope=col>&lt;dbl&gt;</th><th scope=col>&lt;dbl&gt;</th><th scope=col>&lt;dbl&gt;</th><th scope=col>&lt;dbl&gt;</th><th scope=col>&lt;dbl&gt;</th><th scope=col>&lt;dbl&gt;</th><th scope=col>&lt;dbl&gt;</th><th scope=col>&lt;dbl&gt;</th><th scope=col>&lt;dbl&gt;</th></tr>\n",
       "</thead>\n",
       "<tbody>\n",
       "\t<tr><td>AFG</td><td>Afghanistan</td><td>2010</td><td>92.79</td><td>61.81</td><td>68.97</td><td>69.67</td><td>83.13</td><td>66.17</td><td>42.68</td><td>49.48</td><td>48.91</td><td>60.37</td><td>128.4</td><td>87.77</td><td>96.51</td><td> 98.81</td><td>117.8</td></tr>\n",
       "\t<tr><td>AFG</td><td>Afghanistan</td><td>2011</td><td>89.57</td><td>60.11</td><td>66.94</td><td>67.72</td><td>80.45</td><td>64.75</td><td>42.82</td><td>48.90</td><td>48.37</td><td>57.67</td><td>122.9</td><td>83.13</td><td>92.62</td><td> 93.74</td><td>110.7</td></tr>\n",
       "\t<tr><td>AFG</td><td>Afghanistan</td><td>2012</td><td>92.04</td><td>61.09</td><td>68.26</td><td>68.88</td><td>82.40</td><td>66.43</td><td>42.74</td><td>49.60</td><td>49.03</td><td>58.99</td><td>125.9</td><td>83.77</td><td>94.02</td><td> 95.50</td><td>112.4</td></tr>\n",
       "\t<tr><td>AFG</td><td>Afghanistan</td><td>2013</td><td>97.49</td><td>64.50</td><td>72.18</td><td>73.01</td><td>87.33</td><td>70.24</td><td>45.48</td><td>52.57</td><td>51.94</td><td>62.40</td><td>132.9</td><td>88.98</td><td>99.67</td><td>101.70</td><td>118.9</td></tr>\n",
       "\t<tr><td>AFG</td><td>Afghanistan</td><td>2014</td><td>91.92</td><td>60.79</td><td>68.06</td><td>68.85</td><td>82.36</td><td>66.24</td><td>42.86</td><td>49.36</td><td>49.33</td><td>58.88</td><td>125.7</td><td>83.22</td><td>93.43</td><td> 95.36</td><td>111.5</td></tr>\n",
       "\t<tr><td>AFG</td><td>Afghanistan</td><td>2015</td><td>90.88</td><td>59.99</td><td>67.20</td><td>67.90</td><td>81.38</td><td>65.86</td><td>42.52</td><td>49.05</td><td>48.45</td><td>58.50</td><td>123.3</td><td>81.99</td><td>92.67</td><td> 94.10</td><td>110.1</td></tr>\n",
       "</tbody>\n",
       "</table>\n"
      ],
      "text/latex": [
       "A tibble: 6 × 18\n",
       "\\begin{tabular}{llllllllllllllllll}\n",
       " country\\_code & country & year & PM25\\_Cities & PM25\\_rural & PM25\\_Total & PM25\\_Towns & PM25\\_Urban & PM25\\_low\\_Cities & PM25\\_low\\_rural & PM25\\_low\\_Total & PM25\\_low\\_Towns & PM25\\_low\\_Urban & PM25\\_high\\_Cities & PM25\\_high\\_rural & PM25\\_high\\_Total & PM25\\_high\\_Towns & PM25\\_high\\_Urban\\\\\n",
       " <chr> & <chr> & <int> & <dbl> & <dbl> & <dbl> & <dbl> & <dbl> & <dbl> & <dbl> & <dbl> & <dbl> & <dbl> & <dbl> & <dbl> & <dbl> & <dbl> & <dbl>\\\\\n",
       "\\hline\n",
       "\t AFG & Afghanistan & 2010 & 92.79 & 61.81 & 68.97 & 69.67 & 83.13 & 66.17 & 42.68 & 49.48 & 48.91 & 60.37 & 128.4 & 87.77 & 96.51 &  98.81 & 117.8\\\\\n",
       "\t AFG & Afghanistan & 2011 & 89.57 & 60.11 & 66.94 & 67.72 & 80.45 & 64.75 & 42.82 & 48.90 & 48.37 & 57.67 & 122.9 & 83.13 & 92.62 &  93.74 & 110.7\\\\\n",
       "\t AFG & Afghanistan & 2012 & 92.04 & 61.09 & 68.26 & 68.88 & 82.40 & 66.43 & 42.74 & 49.60 & 49.03 & 58.99 & 125.9 & 83.77 & 94.02 &  95.50 & 112.4\\\\\n",
       "\t AFG & Afghanistan & 2013 & 97.49 & 64.50 & 72.18 & 73.01 & 87.33 & 70.24 & 45.48 & 52.57 & 51.94 & 62.40 & 132.9 & 88.98 & 99.67 & 101.70 & 118.9\\\\\n",
       "\t AFG & Afghanistan & 2014 & 91.92 & 60.79 & 68.06 & 68.85 & 82.36 & 66.24 & 42.86 & 49.36 & 49.33 & 58.88 & 125.7 & 83.22 & 93.43 &  95.36 & 111.5\\\\\n",
       "\t AFG & Afghanistan & 2015 & 90.88 & 59.99 & 67.20 & 67.90 & 81.38 & 65.86 & 42.52 & 49.05 & 48.45 & 58.50 & 123.3 & 81.99 & 92.67 &  94.10 & 110.1\\\\\n",
       "\\end{tabular}\n"
      ],
      "text/markdown": [
       "\n",
       "A tibble: 6 × 18\n",
       "\n",
       "| country_code &lt;chr&gt; | country &lt;chr&gt; | year &lt;int&gt; | PM25_Cities &lt;dbl&gt; | PM25_rural &lt;dbl&gt; | PM25_Total &lt;dbl&gt; | PM25_Towns &lt;dbl&gt; | PM25_Urban &lt;dbl&gt; | PM25_low_Cities &lt;dbl&gt; | PM25_low_rural &lt;dbl&gt; | PM25_low_Total &lt;dbl&gt; | PM25_low_Towns &lt;dbl&gt; | PM25_low_Urban &lt;dbl&gt; | PM25_high_Cities &lt;dbl&gt; | PM25_high_rural &lt;dbl&gt; | PM25_high_Total &lt;dbl&gt; | PM25_high_Towns &lt;dbl&gt; | PM25_high_Urban &lt;dbl&gt; |\n",
       "|---|---|---|---|---|---|---|---|---|---|---|---|---|---|---|---|---|---|\n",
       "| AFG | Afghanistan | 2010 | 92.79 | 61.81 | 68.97 | 69.67 | 83.13 | 66.17 | 42.68 | 49.48 | 48.91 | 60.37 | 128.4 | 87.77 | 96.51 |  98.81 | 117.8 |\n",
       "| AFG | Afghanistan | 2011 | 89.57 | 60.11 | 66.94 | 67.72 | 80.45 | 64.75 | 42.82 | 48.90 | 48.37 | 57.67 | 122.9 | 83.13 | 92.62 |  93.74 | 110.7 |\n",
       "| AFG | Afghanistan | 2012 | 92.04 | 61.09 | 68.26 | 68.88 | 82.40 | 66.43 | 42.74 | 49.60 | 49.03 | 58.99 | 125.9 | 83.77 | 94.02 |  95.50 | 112.4 |\n",
       "| AFG | Afghanistan | 2013 | 97.49 | 64.50 | 72.18 | 73.01 | 87.33 | 70.24 | 45.48 | 52.57 | 51.94 | 62.40 | 132.9 | 88.98 | 99.67 | 101.70 | 118.9 |\n",
       "| AFG | Afghanistan | 2014 | 91.92 | 60.79 | 68.06 | 68.85 | 82.36 | 66.24 | 42.86 | 49.36 | 49.33 | 58.88 | 125.7 | 83.22 | 93.43 |  95.36 | 111.5 |\n",
       "| AFG | Afghanistan | 2015 | 90.88 | 59.99 | 67.20 | 67.90 | 81.38 | 65.86 | 42.52 | 49.05 | 48.45 | 58.50 | 123.3 | 81.99 | 92.67 |  94.10 | 110.1 |\n",
       "\n"
      ],
      "text/plain": [
       "  country_code country     year PM25_Cities PM25_rural PM25_Total PM25_Towns\n",
       "1 AFG          Afghanistan 2010 92.79       61.81      68.97      69.67     \n",
       "2 AFG          Afghanistan 2011 89.57       60.11      66.94      67.72     \n",
       "3 AFG          Afghanistan 2012 92.04       61.09      68.26      68.88     \n",
       "4 AFG          Afghanistan 2013 97.49       64.50      72.18      73.01     \n",
       "5 AFG          Afghanistan 2014 91.92       60.79      68.06      68.85     \n",
       "6 AFG          Afghanistan 2015 90.88       59.99      67.20      67.90     \n",
       "  PM25_Urban PM25_low_Cities PM25_low_rural PM25_low_Total PM25_low_Towns\n",
       "1 83.13      66.17           42.68          49.48          48.91         \n",
       "2 80.45      64.75           42.82          48.90          48.37         \n",
       "3 82.40      66.43           42.74          49.60          49.03         \n",
       "4 87.33      70.24           45.48          52.57          51.94         \n",
       "5 82.36      66.24           42.86          49.36          49.33         \n",
       "6 81.38      65.86           42.52          49.05          48.45         \n",
       "  PM25_low_Urban PM25_high_Cities PM25_high_rural PM25_high_Total\n",
       "1 60.37          128.4            87.77           96.51          \n",
       "2 57.67          122.9            83.13           92.62          \n",
       "3 58.99          125.9            83.77           94.02          \n",
       "4 62.40          132.9            88.98           99.67          \n",
       "5 58.88          125.7            83.22           93.43          \n",
       "6 58.50          123.3            81.99           92.67          \n",
       "  PM25_high_Towns PM25_high_Urban\n",
       "1  98.81          117.8          \n",
       "2  93.74          110.7          \n",
       "3  95.50          112.4          \n",
       "4 101.70          118.9          \n",
       "5  95.36          111.5          \n",
       "6  94.10          110.1          "
      ]
     },
     "metadata": {},
     "output_type": "display_data"
    }
   ],
   "source": [
    "# Read PM2.5 data from WHO\n",
    "pm25_raw = read.csv(\"Data\\\\WHO PM2.5\\\\SDG Indicator 11.6.2. Concentrations of PM2.5.csv\")\n",
    "# Define the mapping of old names to new names for the whole dataset\n",
    "pm25_columns_old <- c(\"SpatialDimValueCode\", \"Location\", \"Period\", \"Dim1\", \"FactValueNumeric\", \"FactValueNumericLow\", \"FactValueNumericHigh\")\n",
    "pm25_columns_new <- c(\"country_code\", \"country\", \"year\", \"residence_area\", \"PM25\", \"PM25_low\", \"PM25_high\")\n",
    "# Drop unnecessary columns\n",
    "pm25_raw <- pm25_raw %>% select(pm25_columns_old)\n",
    "# Rename respective columns\n",
    "pm25_raw <- pm25_raw %>% rename(!!!setNames(pm25_columns_old,pm25_columns_new))\n",
    "# Convert to long format, also pulling residence area breakdown to columns\n",
    "pm25_long <- pm25_raw %>%\n",
    "  pivot_wider(names_from = residence_area,\n",
    "              values_from = c(PM25, PM25_low, PM25_high),\n",
    "              names_glue = \"{.value}_{residence_area}\")\n",
    "# Sort dataset\n",
    "pm25_final <- pm25_long %>% arrange (country,year)\n",
    "# Check dataset\n",
    "print(dim(pm25_final))\n",
    "head(pm25_final)\n",
    "# pm25_long[(pm25_long$country_code == \"DEU\"),]"
   ]
  },
  {
   "cell_type": "markdown",
   "metadata": {},
   "source": [
    "**Combining datasets**"
   ]
  },
  {
   "cell_type": "code",
   "execution_count": 438,
   "metadata": {
    "vscode": {
     "languageId": "r"
    }
   },
   "outputs": [
    {
     "name": "stdout",
     "output_type": "stream",
     "text": [
      "[1] 2050   37\n"
     ]
    },
    {
     "data": {
      "text/html": [
       "<table class=\"dataframe\">\n",
       "<caption>A data.frame: 6 × 37</caption>\n",
       "<thead>\n",
       "\t<tr><th></th><th scope=col>year</th><th scope=col>country</th><th scope=col>country_code</th><th scope=col>PM25_Cities</th><th scope=col>PM25_rural</th><th scope=col>PM25_Total</th><th scope=col>PM25_Towns</th><th scope=col>PM25_Urban</th><th scope=col>PM25_low_Cities</th><th scope=col>PM25_low_rural</th><th scope=col>⋯</th><th scope=col>NV.IND.TOTL.ZS</th><th scope=col>SP.POP.TOTL</th><th scope=col>EN.URB.LCTY.UR.ZS</th><th scope=col>SP.POP.GROW</th><th scope=col>EN.POP.DNST</th><th scope=col>SP.URB.TOTL</th><th scope=col>SP.URB.TOTL.IN.ZS</th><th scope=col>SP.RUR.TOTL</th><th scope=col>SP.RUR.TOTL.ZS</th><th scope=col>NY.GDY.TOTL.KN</th></tr>\n",
       "\t<tr><th></th><th scope=col>&lt;int&gt;</th><th scope=col>&lt;chr&gt;</th><th scope=col>&lt;chr&gt;</th><th scope=col>&lt;dbl&gt;</th><th scope=col>&lt;dbl&gt;</th><th scope=col>&lt;dbl&gt;</th><th scope=col>&lt;dbl&gt;</th><th scope=col>&lt;dbl&gt;</th><th scope=col>&lt;dbl&gt;</th><th scope=col>&lt;dbl&gt;</th><th scope=col>⋯</th><th scope=col>&lt;dbl&gt;</th><th scope=col>&lt;dbl&gt;</th><th scope=col>&lt;dbl&gt;</th><th scope=col>&lt;dbl&gt;</th><th scope=col>&lt;dbl&gt;</th><th scope=col>&lt;dbl&gt;</th><th scope=col>&lt;dbl&gt;</th><th scope=col>&lt;dbl&gt;</th><th scope=col>&lt;dbl&gt;</th><th scope=col>&lt;dbl&gt;</th></tr>\n",
       "</thead>\n",
       "<tbody>\n",
       "\t<tr><th scope=row>1</th><td>2010</td><td>Afghanistan        </td><td>AFG</td><td>92.79</td><td>61.81</td><td>68.97</td><td>69.67</td><td>83.13</td><td>66.17</td><td>42.68</td><td>⋯</td><td>21.15142</td><td>28189672</td><td>49.15285</td><td> 2.894904</td><td> 43.22045</td><td> 6691382</td><td>23.737</td><td>21498290</td><td>76.263</td><td>          NA</td></tr>\n",
       "\t<tr><th scope=row>2</th><td>2010</td><td>Albania            </td><td>ALB</td><td>22.24</td><td>21.38</td><td>21.95</td><td>22.37</td><td>22.30</td><td>20.06</td><td>19.01</td><td>⋯</td><td>24.93746</td><td> 2913021</td><td>26.89647</td><td>-0.496462</td><td>106.31464</td><td> 1519519</td><td>52.163</td><td> 1393502</td><td>47.837</td><td>1.239645e+12</td></tr>\n",
       "\t<tr><th scope=row>3</th><td>2010</td><td>Algeria            </td><td>DZA</td><td>21.67</td><td>21.72</td><td>21.27</td><td>20.29</td><td>21.02</td><td>14.19</td><td>13.97</td><td>⋯</td><td>49.96743</td><td>35856344</td><td>10.04247</td><td> 1.858702</td><td> 15.05468</td><td>24217375</td><td>67.540</td><td>11638969</td><td>32.460</td><td>1.405517e+13</td></tr>\n",
       "\t<tr><th scope=row>4</th><td>2010</td><td>Andorra            </td><td>AND</td><td>   NA</td><td>10.53</td><td>11.43</td><td>11.88</td><td>11.88</td><td>   NA</td><td> 8.69</td><td>⋯</td><td>13.12565</td><td>   71519</td><td>      NA</td><td>-3.209994</td><td>152.16809</td><td>   63522</td><td>88.819</td><td>    7997</td><td>11.181</td><td>          NA</td></tr>\n",
       "\t<tr><th scope=row>5</th><td>2010</td><td>Angola             </td><td>AGO</td><td>27.20</td><td>23.59</td><td>24.20</td><td>24.33</td><td>26.53</td><td> 5.35</td><td> 6.25</td><td>⋯</td><td>52.36844</td><td>23364185</td><td>37.94772</td><td> 3.734798</td><td> 18.74082</td><td>13967811</td><td>59.783</td><td> 9396374</td><td>40.217</td><td>1.296739e+12</td></tr>\n",
       "\t<tr><th scope=row>6</th><td>2010</td><td>Antigua and Barbuda</td><td>ATG</td><td>   NA</td><td> 7.99</td><td> 8.17</td><td> 8.29</td><td> 8.29</td><td>   NA</td><td> 5.09</td><td>⋯</td><td>16.20415</td><td>   85695</td><td>      NA</td><td> 1.364066</td><td>194.76136</td><td>   22485</td><td>26.238</td><td>   63210</td><td>73.762</td><td>          NA</td></tr>\n",
       "</tbody>\n",
       "</table>\n"
      ],
      "text/latex": [
       "A data.frame: 6 × 37\n",
       "\\begin{tabular}{r|lllllllllllllllllllll}\n",
       "  & year & country & country\\_code & PM25\\_Cities & PM25\\_rural & PM25\\_Total & PM25\\_Towns & PM25\\_Urban & PM25\\_low\\_Cities & PM25\\_low\\_rural & ⋯ & NV.IND.TOTL.ZS & SP.POP.TOTL & EN.URB.LCTY.UR.ZS & SP.POP.GROW & EN.POP.DNST & SP.URB.TOTL & SP.URB.TOTL.IN.ZS & SP.RUR.TOTL & SP.RUR.TOTL.ZS & NY.GDY.TOTL.KN\\\\\n",
       "  & <int> & <chr> & <chr> & <dbl> & <dbl> & <dbl> & <dbl> & <dbl> & <dbl> & <dbl> & ⋯ & <dbl> & <dbl> & <dbl> & <dbl> & <dbl> & <dbl> & <dbl> & <dbl> & <dbl> & <dbl>\\\\\n",
       "\\hline\n",
       "\t1 & 2010 & Afghanistan         & AFG & 92.79 & 61.81 & 68.97 & 69.67 & 83.13 & 66.17 & 42.68 & ⋯ & 21.15142 & 28189672 & 49.15285 &  2.894904 &  43.22045 &  6691382 & 23.737 & 21498290 & 76.263 &           NA\\\\\n",
       "\t2 & 2010 & Albania             & ALB & 22.24 & 21.38 & 21.95 & 22.37 & 22.30 & 20.06 & 19.01 & ⋯ & 24.93746 &  2913021 & 26.89647 & -0.496462 & 106.31464 &  1519519 & 52.163 &  1393502 & 47.837 & 1.239645e+12\\\\\n",
       "\t3 & 2010 & Algeria             & DZA & 21.67 & 21.72 & 21.27 & 20.29 & 21.02 & 14.19 & 13.97 & ⋯ & 49.96743 & 35856344 & 10.04247 &  1.858702 &  15.05468 & 24217375 & 67.540 & 11638969 & 32.460 & 1.405517e+13\\\\\n",
       "\t4 & 2010 & Andorra             & AND &    NA & 10.53 & 11.43 & 11.88 & 11.88 &    NA &  8.69 & ⋯ & 13.12565 &    71519 &       NA & -3.209994 & 152.16809 &    63522 & 88.819 &     7997 & 11.181 &           NA\\\\\n",
       "\t5 & 2010 & Angola              & AGO & 27.20 & 23.59 & 24.20 & 24.33 & 26.53 &  5.35 &  6.25 & ⋯ & 52.36844 & 23364185 & 37.94772 &  3.734798 &  18.74082 & 13967811 & 59.783 &  9396374 & 40.217 & 1.296739e+12\\\\\n",
       "\t6 & 2010 & Antigua and Barbuda & ATG &    NA &  7.99 &  8.17 &  8.29 &  8.29 &    NA &  5.09 & ⋯ & 16.20415 &    85695 &       NA &  1.364066 & 194.76136 &    22485 & 26.238 &    63210 & 73.762 &           NA\\\\\n",
       "\\end{tabular}\n"
      ],
      "text/markdown": [
       "\n",
       "A data.frame: 6 × 37\n",
       "\n",
       "| <!--/--> | year &lt;int&gt; | country &lt;chr&gt; | country_code &lt;chr&gt; | PM25_Cities &lt;dbl&gt; | PM25_rural &lt;dbl&gt; | PM25_Total &lt;dbl&gt; | PM25_Towns &lt;dbl&gt; | PM25_Urban &lt;dbl&gt; | PM25_low_Cities &lt;dbl&gt; | PM25_low_rural &lt;dbl&gt; | ⋯ ⋯ | NV.IND.TOTL.ZS &lt;dbl&gt; | SP.POP.TOTL &lt;dbl&gt; | EN.URB.LCTY.UR.ZS &lt;dbl&gt; | SP.POP.GROW &lt;dbl&gt; | EN.POP.DNST &lt;dbl&gt; | SP.URB.TOTL &lt;dbl&gt; | SP.URB.TOTL.IN.ZS &lt;dbl&gt; | SP.RUR.TOTL &lt;dbl&gt; | SP.RUR.TOTL.ZS &lt;dbl&gt; | NY.GDY.TOTL.KN &lt;dbl&gt; |\n",
       "|---|---|---|---|---|---|---|---|---|---|---|---|---|---|---|---|---|---|---|---|---|---|\n",
       "| 1 | 2010 | Afghanistan         | AFG | 92.79 | 61.81 | 68.97 | 69.67 | 83.13 | 66.17 | 42.68 | ⋯ | 21.15142 | 28189672 | 49.15285 |  2.894904 |  43.22045 |  6691382 | 23.737 | 21498290 | 76.263 |           NA |\n",
       "| 2 | 2010 | Albania             | ALB | 22.24 | 21.38 | 21.95 | 22.37 | 22.30 | 20.06 | 19.01 | ⋯ | 24.93746 |  2913021 | 26.89647 | -0.496462 | 106.31464 |  1519519 | 52.163 |  1393502 | 47.837 | 1.239645e+12 |\n",
       "| 3 | 2010 | Algeria             | DZA | 21.67 | 21.72 | 21.27 | 20.29 | 21.02 | 14.19 | 13.97 | ⋯ | 49.96743 | 35856344 | 10.04247 |  1.858702 |  15.05468 | 24217375 | 67.540 | 11638969 | 32.460 | 1.405517e+13 |\n",
       "| 4 | 2010 | Andorra             | AND |    NA | 10.53 | 11.43 | 11.88 | 11.88 |    NA |  8.69 | ⋯ | 13.12565 |    71519 |       NA | -3.209994 | 152.16809 |    63522 | 88.819 |     7997 | 11.181 |           NA |\n",
       "| 5 | 2010 | Angola              | AGO | 27.20 | 23.59 | 24.20 | 24.33 | 26.53 |  5.35 |  6.25 | ⋯ | 52.36844 | 23364185 | 37.94772 |  3.734798 |  18.74082 | 13967811 | 59.783 |  9396374 | 40.217 | 1.296739e+12 |\n",
       "| 6 | 2010 | Antigua and Barbuda | ATG |    NA |  7.99 |  8.17 |  8.29 |  8.29 |    NA |  5.09 | ⋯ | 16.20415 |    85695 |       NA |  1.364066 | 194.76136 |    22485 | 26.238 |    63210 | 73.762 |           NA |\n",
       "\n"
      ],
      "text/plain": [
       "  year country             country_code PM25_Cities PM25_rural PM25_Total\n",
       "1 2010 Afghanistan         AFG          92.79       61.81      68.97     \n",
       "2 2010 Albania             ALB          22.24       21.38      21.95     \n",
       "3 2010 Algeria             DZA          21.67       21.72      21.27     \n",
       "4 2010 Andorra             AND             NA       10.53      11.43     \n",
       "5 2010 Angola              AGO          27.20       23.59      24.20     \n",
       "6 2010 Antigua and Barbuda ATG             NA        7.99       8.17     \n",
       "  PM25_Towns PM25_Urban PM25_low_Cities PM25_low_rural ⋯ NV.IND.TOTL.ZS\n",
       "1 69.67      83.13      66.17           42.68          ⋯ 21.15142      \n",
       "2 22.37      22.30      20.06           19.01          ⋯ 24.93746      \n",
       "3 20.29      21.02      14.19           13.97          ⋯ 49.96743      \n",
       "4 11.88      11.88         NA            8.69          ⋯ 13.12565      \n",
       "5 24.33      26.53       5.35            6.25          ⋯ 52.36844      \n",
       "6  8.29       8.29         NA            5.09          ⋯ 16.20415      \n",
       "  SP.POP.TOTL EN.URB.LCTY.UR.ZS SP.POP.GROW EN.POP.DNST SP.URB.TOTL\n",
       "1 28189672    49.15285           2.894904    43.22045    6691382   \n",
       "2  2913021    26.89647          -0.496462   106.31464    1519519   \n",
       "3 35856344    10.04247           1.858702    15.05468   24217375   \n",
       "4    71519          NA          -3.209994   152.16809      63522   \n",
       "5 23364185    37.94772           3.734798    18.74082   13967811   \n",
       "6    85695          NA           1.364066   194.76136      22485   \n",
       "  SP.URB.TOTL.IN.ZS SP.RUR.TOTL SP.RUR.TOTL.ZS NY.GDY.TOTL.KN\n",
       "1 23.737            21498290    76.263                   NA  \n",
       "2 52.163             1393502    47.837         1.239645e+12  \n",
       "3 67.540            11638969    32.460         1.405517e+13  \n",
       "4 88.819                7997    11.181                   NA  \n",
       "5 59.783             9396374    40.217         1.296739e+12  \n",
       "6 26.238               63210    73.762                   NA  "
      ]
     },
     "metadata": {},
     "output_type": "display_data"
    }
   ],
   "source": [
    "# A common function to remap country names to be consistent across data sources\n",
    "map_countries <- function(df, column_to_map) {\n",
    "  mapping_dict <- c(\n",
    "    \"Argentina urban\" = \"Argentina\",\n",
    "    \"Bahamas, The\" = \"Bahamas\",\n",
    "    \"Bolivia (Plurinational State of)\" = \"Bolivia\",\n",
    "    \"Cape Verde\" = \"Cabo Verde\",\n",
    "    \"Central African Republic CAR\" = \"Central African Republic\",\n",
    "    \"Chili\" = \"Chile\",\n",
    "    \"Congo Democratic Republic\" = \"Congo, Dem. Rep.\",\n",
    "    \"Congo, Rep.\" = \"Congo, Dem. Rep.\",\n",
    "    \"Czech Republic\" = \"Czechia\",\n",
    "    \"Democratic Republic of the Congo\" = \"Congo, Dem. Rep.\",\n",
    "    \"Egypt, Arab Rep.\" = \"Egypt\",\n",
    "    \"Gambia, The\" = \"Gambia\",\n",
    "    \"Guinea Bissau\" = \"Guinea-Bissau\",\n",
    "    \"Iran (Islamic Republic of)\" = \"Iran\",\n",
    "    \"Iran, Islamic Rep.\" = \"Iran\",\n",
    "    \"Democratic People's Republic of Korea\" = \"Korea\",\n",
    "    \"Korea, Dem. People's Rep.\" = \"Korea\",\n",
    "    \"Korea, Rep.\" = \"Korea\",\n",
    "    \"Republic of Korea\" = \"Korea\",\n",
    "    \"Kyrgyz Republic\" = \"Kyrgyzstan\",\n",
    "    \"Lao People's Democratic Republic\" = \"Lao\",\n",
    "    \"Lao PDR\" = \"Lao\",\n",
    "    \"Micronesia (Federated States of)\" = \"Micronesia, Fed. Sts.\",\n",
    "    \"Monte Negro\" = \"Montenegro\",\n",
    "    \"Republic of Moldova\" = \"Moldova\",\n",
    "    \"Sao Tome & Principe\" = \"Sao Tome and Principe\",\n",
    "    \"Slovak Republic\" = \"Slovakia\",\n",
    "    \"Syrian Arab Republic\" = \"Syria\",\n",
    "    \"The former Yugoslav Republic of Macedonia\" = \"North Macedonia\",\n",
    "    \"Timor-Leste\" = \"Timor Leste\",\n",
    "    \"Trinidad & Tobago\" = \"Trinidad and Tobago\",\n",
    "    \"Türkiye\" = \"Turkey\",\n",
    "    \"Turkiye\" = \"Turkey\",\n",
    "    \"United States of America\" = \"United States\",\n",
    "    \"Venezuela (Bolivarian Republic of)\" = \"Venezuela\",\n",
    "    \"Venezuela, RB\"  = \"Venezuela\",\n",
    "    \"Viet Nam\" = \"Vietnam\",\n",
    "    \"Yemen, Rep.\" = \"Yemen\",\n",
    "    \"United Kingdom of Great Britain and Northern Ireland\" = \"United Kingdom\"\n",
    "  )\n",
    "  \n",
    "  df[[column_to_map]] <- ifelse(df[[column_to_map]] %in% names(mapping_dict), \n",
    "                                mapping_dict[df[[column_to_map]]], \n",
    "                                df[[column_to_map]])\n",
    "  \n",
    "  return(df)\n",
    "}\n",
    "\n",
    "# Map country names in each dataset\n",
    "pm25_final_mapped <- map_countries(pm25_final, \"country\")\n",
    "eu_ets_final_mapped <- map_countries(eu_ets_final, \"country\")\n",
    "weather_final_mapped <- map_countries(weather_final, \"country\")\n",
    "wb_indicators_final_mapped <- map_countries(wb_indicators_final, \"country\")\n",
    "\n",
    "# Join each dataset, keeping PM2.5 dataset as the main one to join on\n",
    "all_indicators <- merge(pm25_final_mapped, subset(eu_ets_final_mapped, select = -country_code), by = c(\"year\", \"country\"), all.x = TRUE) %>%\n",
    "    merge(subset(weather_final_mapped, select = -country_code), by = c(\"year\", \"country\"), all.x = TRUE) %>%\n",
    "    merge(subset(wb_indicators_final_mapped, select = -country_code), by = c(\"year\", \"country\"), all.x = TRUE)\n",
    "\n",
    "# Check final dataset\n",
    "print(dim(all_indicators))\n",
    "head(all_indicators)"
   ]
  },
  {
   "cell_type": "code",
   "execution_count": 318,
   "metadata": {
    "vscode": {
     "languageId": "r"
    }
   },
   "outputs": [
    {
     "data": {
      "image/png": "[encoded data removed]",
      "text/plain": [
       "plot without title"
      ]
     },
     "metadata": {
      "image/png": {
       "height": 420,
       "width": 420
      }
     },
     "output_type": "display_data"
    }
   ],
   "source": [
    "\n",
    "# Calculate the number of non-NA values for each column\n",
    "non_na_counts <- all_indicators %>%\n",
    "  select(-c(country,country_code)) %>%\n",
    "  group_by(year) %>%\n",
    "  summarize(across(everything(), ~sum(!is.na(.))))\n",
    "\n",
    "# Reshape the data for plotting while retaining column order\n",
    "non_na_counts_long <- non_na_counts %>%\n",
    "  pivot_longer(cols = -year, names_to = \"variable\", values_to = \"count\") %>%\n",
    "  mutate(variable = factor(variable, levels = colnames(non_na_counts)[-1]))  # Exclude the \"year\" column from levels\n",
    "\n",
    "# Create the heatmap\n",
    "heatmap_plot <- ggplot(data = non_na_counts_long, aes(x = year, y = variable, fill = count)) +\n",
    "  geom_tile() +\n",
    "  scale_fill_viridis_c() +  # Choose color palette\n",
    "  geom_text(aes(label = ifelse(is.na(count), \"\", count)), size = 2.5, color = \"black\") +  # Add text labels with small font\n",
    "  labs(title = \"Number of Countries with Respective Metric & Year\",\n",
    "       x = \"Year\",\n",
    "       y = \"Variable\",\n",
    "       fill = \"Count\") +\n",
    "  theme_minimal()\n",
    "# Display the heatmap\n",
    "print(heatmap_plot)"
   ]
  },
  {
   "cell_type": "markdown",
   "metadata": {},
   "source": [
    "**Matching**"
   ]
  },
  {
   "cell_type": "code",
   "execution_count": 437,
   "metadata": {
    "vscode": {
     "languageId": "r"
    }
   },
   "outputs": [],
   "source": [
    "# Install and load the MatchIt library\n",
    "if (!requireNamespace(\"MatchIt\", quietly = TRUE)) {install.packages(\"MatchIt\")}\n",
    "library(MatchIt)\n",
    "\n",
    "# Install and load the lmtest library\n",
    "if (!requireNamespace(\"lmtest\", quietly = TRUE)) {install.packages(\"lmtest\")}\n",
    "library(lmtest)\n",
    "\n",
    "# Install and load the sandwich library\n",
    "if (!requireNamespace(\"sandwich\", quietly = TRUE)) {install.packages(\"sandwich\")}\n",
    "library(sandwich)"
   ]
  },
  {
   "cell_type": "code",
   "execution_count": 440,
   "metadata": {
    "vscode": {
     "languageId": "r"
    }
   },
   "outputs": [
    {
     "data": {
      "text/html": [
       "<table class=\"dataframe\">\n",
       "<caption>A data.frame: 6 × 23</caption>\n",
       "<thead>\n",
       "\t<tr><th></th><th scope=col>year</th><th scope=col>country</th><th scope=col>country_code</th><th scope=col>precipitation_log</th><th scope=col>humidity_log</th><th scope=col>avg_surface_temp_log</th><th scope=col>gdp_per_capita_log</th><th scope=col>gdp_per_capita_growth_pct</th><th scope=col>agriculture_pct_gdp</th><th scope=col>industry_pct_gdp</th><th scope=col>⋯</th><th scope=col>population_density_log</th><th scope=col>population_urban_log</th><th scope=col>population_urban_pct_of_total</th><th scope=col>population_rural_log</th><th scope=col>population_rural_pct_of_total</th><th scope=col>gni_log</th><th scope=col>total_EUAs</th><th scope=col>PM25_Total</th><th scope=col>PM25_Urban</th><th scope=col>PM25_rural</th></tr>\n",
       "\t<tr><th></th><th scope=col>&lt;int&gt;</th><th scope=col>&lt;chr&gt;</th><th scope=col>&lt;chr&gt;</th><th scope=col>&lt;dbl&gt;</th><th scope=col>&lt;dbl&gt;</th><th scope=col>&lt;dbl&gt;</th><th scope=col>&lt;dbl&gt;</th><th scope=col>&lt;dbl&gt;</th><th scope=col>&lt;dbl&gt;</th><th scope=col>&lt;dbl&gt;</th><th scope=col>⋯</th><th scope=col>&lt;dbl&gt;</th><th scope=col>&lt;dbl&gt;</th><th scope=col>&lt;dbl&gt;</th><th scope=col>&lt;dbl&gt;</th><th scope=col>&lt;dbl&gt;</th><th scope=col>&lt;dbl&gt;</th><th scope=col>&lt;dbl&gt;</th><th scope=col>&lt;dbl&gt;</th><th scope=col>&lt;dbl&gt;</th><th scope=col>&lt;dbl&gt;</th></tr>\n",
       "</thead>\n",
       "<tbody>\n",
       "\t<tr><th scope=row>1</th><td>2010</td><td>Afghanistan        </td><td>AFG</td><td>-3.688879</td><td>3.771611</td><td>2.415824</td><td> 6.332390</td><td>11.0992199</td><td>26.2100685</td><td>21.15142</td><td>⋯</td><td>3.766314</td><td>15.71633</td><td>23.737</td><td>16.883484</td><td>76.263</td><td>      NA</td><td>NA</td><td>68.97</td><td>83.13</td><td>61.81</td></tr>\n",
       "\t<tr><th scope=row>2</th><td>2010</td><td>Albania            </td><td>ALB</td><td>-2.617296</td><td>4.284827</td><td>2.611466</td><td> 8.317363</td><td> 4.2230838</td><td>17.9558664</td><td>24.93746</td><td>⋯</td><td>4.666403</td><td>14.23390</td><td>52.163</td><td>14.147331</td><td>47.837</td><td>27.84585</td><td>NA</td><td>21.95</td><td>22.30</td><td>21.38</td></tr>\n",
       "\t<tr><th scope=row>3</th><td>2010</td><td>Algeria            </td><td>DZA</td><td>-3.816713</td><td>3.927699</td><td>2.971388</td><td> 8.410926</td><td> 1.6921701</td><td> 8.4664436</td><td>49.96743</td><td>⋯</td><td>2.711689</td><td>17.00258</td><td>67.540</td><td>16.269869</td><td>32.460</td><td>30.27401</td><td>NA</td><td>21.27</td><td>21.02</td><td>21.72</td></tr>\n",
       "\t<tr><th scope=row>4</th><td>2010</td><td>Andorra            </td><td>AND</td><td>-3.146555</td><td>4.281792</td><td>1.596353</td><td>10.783900</td><td> 1.2226877</td><td> 0.4665086</td><td>13.12565</td><td>⋯</td><td>5.024986</td><td>11.05914</td><td>88.819</td><td> 8.986822</td><td>11.181</td><td>      NA</td><td>NA</td><td>11.43</td><td>11.88</td><td>10.53</td></tr>\n",
       "\t<tr><th scope=row>5</th><td>2010</td><td>Angola             </td><td>AGO</td><td>-3.057608</td><td>4.152613</td><td>3.151838</td><td> 8.184978</td><td> 0.5712209</td><td> 6.1802935</td><td>52.36844</td><td>⋯</td><td>2.930704</td><td>16.45227</td><td>59.783</td><td>16.055834</td><td>40.217</td><td>27.89087</td><td>NA</td><td>24.20</td><td>26.53</td><td>23.59</td></tr>\n",
       "\t<tr><th scope=row>6</th><td>2010</td><td>Antigua and Barbuda</td><td>ATG</td><td>-2.956512</td><td>4.369195</td><td>3.309776</td><td> 9.503347</td><td>-9.0891748</td><td> 1.6334085</td><td>16.20415</td><td>⋯</td><td>5.271775</td><td>10.02060</td><td>26.238</td><td>11.054218</td><td>73.762</td><td>      NA</td><td>NA</td><td> 8.17</td><td> 8.29</td><td> 7.99</td></tr>\n",
       "</tbody>\n",
       "</table>\n"
      ],
      "text/latex": [
       "A data.frame: 6 × 23\n",
       "\\begin{tabular}{r|lllllllllllllllllllll}\n",
       "  & year & country & country\\_code & precipitation\\_log & humidity\\_log & avg\\_surface\\_temp\\_log & gdp\\_per\\_capita\\_log & gdp\\_per\\_capita\\_growth\\_pct & agriculture\\_pct\\_gdp & industry\\_pct\\_gdp & ⋯ & population\\_density\\_log & population\\_urban\\_log & population\\_urban\\_pct\\_of\\_total & population\\_rural\\_log & population\\_rural\\_pct\\_of\\_total & gni\\_log & total\\_EUAs & PM25\\_Total & PM25\\_Urban & PM25\\_rural\\\\\n",
       "  & <int> & <chr> & <chr> & <dbl> & <dbl> & <dbl> & <dbl> & <dbl> & <dbl> & <dbl> & ⋯ & <dbl> & <dbl> & <dbl> & <dbl> & <dbl> & <dbl> & <dbl> & <dbl> & <dbl> & <dbl>\\\\\n",
       "\\hline\n",
       "\t1 & 2010 & Afghanistan         & AFG & -3.688879 & 3.771611 & 2.415824 &  6.332390 & 11.0992199 & 26.2100685 & 21.15142 & ⋯ & 3.766314 & 15.71633 & 23.737 & 16.883484 & 76.263 &       NA & NA & 68.97 & 83.13 & 61.81\\\\\n",
       "\t2 & 2010 & Albania             & ALB & -2.617296 & 4.284827 & 2.611466 &  8.317363 &  4.2230838 & 17.9558664 & 24.93746 & ⋯ & 4.666403 & 14.23390 & 52.163 & 14.147331 & 47.837 & 27.84585 & NA & 21.95 & 22.30 & 21.38\\\\\n",
       "\t3 & 2010 & Algeria             & DZA & -3.816713 & 3.927699 & 2.971388 &  8.410926 &  1.6921701 &  8.4664436 & 49.96743 & ⋯ & 2.711689 & 17.00258 & 67.540 & 16.269869 & 32.460 & 30.27401 & NA & 21.27 & 21.02 & 21.72\\\\\n",
       "\t4 & 2010 & Andorra             & AND & -3.146555 & 4.281792 & 1.596353 & 10.783900 &  1.2226877 &  0.4665086 & 13.12565 & ⋯ & 5.024986 & 11.05914 & 88.819 &  8.986822 & 11.181 &       NA & NA & 11.43 & 11.88 & 10.53\\\\\n",
       "\t5 & 2010 & Angola              & AGO & -3.057608 & 4.152613 & 3.151838 &  8.184978 &  0.5712209 &  6.1802935 & 52.36844 & ⋯ & 2.930704 & 16.45227 & 59.783 & 16.055834 & 40.217 & 27.89087 & NA & 24.20 & 26.53 & 23.59\\\\\n",
       "\t6 & 2010 & Antigua and Barbuda & ATG & -2.956512 & 4.369195 & 3.309776 &  9.503347 & -9.0891748 &  1.6334085 & 16.20415 & ⋯ & 5.271775 & 10.02060 & 26.238 & 11.054218 & 73.762 &       NA & NA &  8.17 &  8.29 &  7.99\\\\\n",
       "\\end{tabular}\n"
      ],
      "text/markdown": [
       "\n",
       "A data.frame: 6 × 23\n",
       "\n",
       "| <!--/--> | year &lt;int&gt; | country &lt;chr&gt; | country_code &lt;chr&gt; | precipitation_log &lt;dbl&gt; | humidity_log &lt;dbl&gt; | avg_surface_temp_log &lt;dbl&gt; | gdp_per_capita_log &lt;dbl&gt; | gdp_per_capita_growth_pct &lt;dbl&gt; | agriculture_pct_gdp &lt;dbl&gt; | industry_pct_gdp &lt;dbl&gt; | ⋯ ⋯ | population_density_log &lt;dbl&gt; | population_urban_log &lt;dbl&gt; | population_urban_pct_of_total &lt;dbl&gt; | population_rural_log &lt;dbl&gt; | population_rural_pct_of_total &lt;dbl&gt; | gni_log &lt;dbl&gt; | total_EUAs &lt;dbl&gt; | PM25_Total &lt;dbl&gt; | PM25_Urban &lt;dbl&gt; | PM25_rural &lt;dbl&gt; |\n",
       "|---|---|---|---|---|---|---|---|---|---|---|---|---|---|---|---|---|---|---|---|---|---|\n",
       "| 1 | 2010 | Afghanistan         | AFG | -3.688879 | 3.771611 | 2.415824 |  6.332390 | 11.0992199 | 26.2100685 | 21.15142 | ⋯ | 3.766314 | 15.71633 | 23.737 | 16.883484 | 76.263 |       NA | NA | 68.97 | 83.13 | 61.81 |\n",
       "| 2 | 2010 | Albania             | ALB | -2.617296 | 4.284827 | 2.611466 |  8.317363 |  4.2230838 | 17.9558664 | 24.93746 | ⋯ | 4.666403 | 14.23390 | 52.163 | 14.147331 | 47.837 | 27.84585 | NA | 21.95 | 22.30 | 21.38 |\n",
       "| 3 | 2010 | Algeria             | DZA | -3.816713 | 3.927699 | 2.971388 |  8.410926 |  1.6921701 |  8.4664436 | 49.96743 | ⋯ | 2.711689 | 17.00258 | 67.540 | 16.269869 | 32.460 | 30.27401 | NA | 21.27 | 21.02 | 21.72 |\n",
       "| 4 | 2010 | Andorra             | AND | -3.146555 | 4.281792 | 1.596353 | 10.783900 |  1.2226877 |  0.4665086 | 13.12565 | ⋯ | 5.024986 | 11.05914 | 88.819 |  8.986822 | 11.181 |       NA | NA | 11.43 | 11.88 | 10.53 |\n",
       "| 5 | 2010 | Angola              | AGO | -3.057608 | 4.152613 | 3.151838 |  8.184978 |  0.5712209 |  6.1802935 | 52.36844 | ⋯ | 2.930704 | 16.45227 | 59.783 | 16.055834 | 40.217 | 27.89087 | NA | 24.20 | 26.53 | 23.59 |\n",
       "| 6 | 2010 | Antigua and Barbuda | ATG | -2.956512 | 4.369195 | 3.309776 |  9.503347 | -9.0891748 |  1.6334085 | 16.20415 | ⋯ | 5.271775 | 10.02060 | 26.238 | 11.054218 | 73.762 |       NA | NA |  8.17 |  8.29 |  7.99 |\n",
       "\n"
      ],
      "text/plain": [
       "  year country             country_code precipitation_log humidity_log\n",
       "1 2010 Afghanistan         AFG          -3.688879         3.771611    \n",
       "2 2010 Albania             ALB          -2.617296         4.284827    \n",
       "3 2010 Algeria             DZA          -3.816713         3.927699    \n",
       "4 2010 Andorra             AND          -3.146555         4.281792    \n",
       "5 2010 Angola              AGO          -3.057608         4.152613    \n",
       "6 2010 Antigua and Barbuda ATG          -2.956512         4.369195    \n",
       "  avg_surface_temp_log gdp_per_capita_log gdp_per_capita_growth_pct\n",
       "1 2.415824              6.332390          11.0992199               \n",
       "2 2.611466              8.317363           4.2230838               \n",
       "3 2.971388              8.410926           1.6921701               \n",
       "4 1.596353             10.783900           1.2226877               \n",
       "5 3.151838              8.184978           0.5712209               \n",
       "6 3.309776              9.503347          -9.0891748               \n",
       "  agriculture_pct_gdp industry_pct_gdp ⋯ population_density_log\n",
       "1 26.2100685          21.15142         ⋯ 3.766314              \n",
       "2 17.9558664          24.93746         ⋯ 4.666403              \n",
       "3  8.4664436          49.96743         ⋯ 2.711689              \n",
       "4  0.4665086          13.12565         ⋯ 5.024986              \n",
       "5  6.1802935          52.36844         ⋯ 2.930704              \n",
       "6  1.6334085          16.20415         ⋯ 5.271775              \n",
       "  population_urban_log population_urban_pct_of_total population_rural_log\n",
       "1 15.71633             23.737                        16.883484           \n",
       "2 14.23390             52.163                        14.147331           \n",
       "3 17.00258             67.540                        16.269869           \n",
       "4 11.05914             88.819                         8.986822           \n",
       "5 16.45227             59.783                        16.055834           \n",
       "6 10.02060             26.238                        11.054218           \n",
       "  population_rural_pct_of_total gni_log  total_EUAs PM25_Total PM25_Urban\n",
       "1 76.263                              NA NA         68.97      83.13     \n",
       "2 47.837                        27.84585 NA         21.95      22.30     \n",
       "3 32.460                        30.27401 NA         21.27      21.02     \n",
       "4 11.181                              NA NA         11.43      11.88     \n",
       "5 40.217                        27.89087 NA         24.20      26.53     \n",
       "6 73.762                              NA NA          8.17       8.29     \n",
       "  PM25_rural\n",
       "1 61.81     \n",
       "2 21.38     \n",
       "3 21.72     \n",
       "4 10.53     \n",
       "5 23.59     \n",
       "6  7.99     "
      ]
     },
     "metadata": {},
     "output_type": "display_data"
    }
   ],
   "source": [
    "# Apply log transformation to each column separately\n",
    "all_indicators$precipitation_log <- log(all_indicators$precipitation+0.01)\n",
    "all_indicators$humidity_log <- log(all_indicators$humidity)\n",
    "all_indicators$avg_surface_temp_log <- log(all_indicators$avg_surface_temp - min(all_indicators$avg_surface_temp,na.rm = TRUE) + 0.01)\n",
    "all_indicators$gdp_per_capita_log <- log(all_indicators$NY.GDP.PCAP.CD)\n",
    "all_indicators$gdp_per_capita_growth_pct <- all_indicators$NY.GDP.PCAP.KD.ZG\n",
    "all_indicators$agriculture_pct_gdp <- all_indicators$NV.AGR.TOTL.ZS\n",
    "all_indicators$industry_pct_gdp <- all_indicators$NV.IND.TOTL.ZS\n",
    "all_indicators$population_log <- log(all_indicators$SP.POP.TOTL)\n",
    "all_indicators$population_in_largest_city_pct_of_urban_pop <- all_indicators$EN.URB.LCTY.UR.ZS\n",
    "all_indicators$population_growth_pct <- all_indicators$SP.POP.GROW\n",
    "all_indicators$population_density_log <- log(all_indicators$EN.POP.DNST)\n",
    "all_indicators$population_urban_log <- log(all_indicators$SP.URB.TOTL)\n",
    "all_indicators$population_urban_pct_of_total <- all_indicators$SP.URB.TOTL.IN.ZS\n",
    "all_indicators$population_rural_log <- log(all_indicators$SP.RUR.TOTL)\n",
    "all_indicators$population_rural_pct_of_total <- all_indicators$SP.RUR.TOTL.ZS\n",
    "all_indicators$gni_log <- log(all_indicators$NY.GDY.TOTL.KN)\n",
    "\n",
    "all_indicators_renamed <- all_indicators %>% select(year, country, country_code, precipitation_log, humidity_log, avg_surface_temp_log, gdp_per_capita_log,\n",
    "gdp_per_capita_growth_pct, agriculture_pct_gdp, industry_pct_gdp, population_log, population_in_largest_city_pct_of_urban_pop,\n",
    "population_growth_pct, population_density_log, population_urban_log, population_urban_pct_of_total, population_rural_log,\n",
    "population_rural_pct_of_total, gni_log, total_EUAs, PM25_Total, PM25_Urban, PM25_rural\n",
    ")\n",
    "\n",
    "head(all_indicators_renamed)"
   ]
  },
  {
   "cell_type": "code",
   "execution_count": 450,
   "metadata": {
    "vscode": {
     "languageId": "r"
    }
   },
   "outputs": [
    {
     "name": "stderr",
     "output_type": "stream",
     "text": [
      "\u001b[1m\u001b[22m`summarise()` has grouped output by 'year'. You can override using the\n",
      "`.groups` argument.\n"
     ]
    },
    {
     "data": {
      "text/plain": [
       "\n",
       "Call:\n",
       "matchit(formula = is_eu_ets ~ precipitation_log + humidity_log + \n",
       "    avg_surface_temp_log + gdp_per_capita_log + gdp_per_capita_growth_pct + \n",
       "    agriculture_pct_gdp + industry_pct_gdp + population_log + \n",
       "    population_in_largest_city_pct_of_urban_pop + population_growth_pct + \n",
       "    population_density_log + population_urban_log + population_urban_pct_of_total + \n",
       "    population_rural_pct_of_total + gni_log, data = all_indicators_renamed, \n",
       "    method = \"nearest\", distance = \"glm\", replace = FALSE, ratio = 1)\n",
       "\n",
       "Summary of Balance for All Data:\n",
       "                                            Means Treated Means Control\n",
       "distance                                           0.7277        0.0534\n",
       "precipitation_log                                 -3.1221       -2.8296\n",
       "humidity_log                                       4.1965        3.7797\n",
       "avg_surface_temp_log                               2.3130        2.6894\n",
       "gdp_per_capita_log                                10.3315        7.7207\n",
       "gdp_per_capita_growth_pct                          1.8418        1.8085\n",
       "agriculture_pct_gdp                                2.0991       11.4185\n",
       "industry_pct_gdp                                  22.1760       24.6711\n",
       "population_log                                    16.0550       14.8872\n",
       "population_in_largest_city_pct_of_urban_pop       19.8960       24.2128\n",
       "population_growth_pct                              0.3241        1.4482\n",
       "population_density_log                             4.6005        4.0640\n",
       "population_urban_log                              15.7505       14.2261\n",
       "population_urban_pct_of_total                     74.7778       52.4375\n",
       "population_rural_pct_of_total                     25.2222       42.3116\n",
       "gni_log                                           26.8327       20.2184\n",
       "                                            Std. Mean Diff. Var. Ratio\n",
       "distance                                             3.0517     1.9756\n",
       "precipitation_log                                   -0.4885     0.3083\n",
       "humidity_log                                         0.5639     0.3556\n",
       "avg_surface_temp_log                                -0.6143     0.3517\n",
       "gdp_per_capita_log                                   4.1841     0.0596\n",
       "gdp_per_capita_growth_pct                            0.0126     0.2875\n",
       "agriculture_pct_gdp                                 -7.7684     0.0122\n",
       "industry_pct_gdp                                    -0.4087     0.1706\n",
       "population_log                                       0.7605     0.1362\n",
       "population_in_largest_city_pct_of_urban_pop         -0.3266     0.4305\n",
       "population_growth_pct                               -1.3751     0.3133\n",
       "population_density_log                               0.5082     0.3754\n",
       "population_urban_log                                 0.9849     0.1465\n",
       "population_urban_pct_of_total                        1.8324     0.2254\n",
       "population_rural_pct_of_total                       -1.4017     0.2451\n",
       "gni_log                                              3.3332     0.0243\n",
       "                                            eCDF Mean eCDF Max\n",
       "distance                                       0.5094   0.8925\n",
       "precipitation_log                              0.1546   0.3109\n",
       "humidity_log                                   0.2083   0.3800\n",
       "avg_surface_temp_log                           0.3010   0.5676\n",
       "gdp_per_capita_log                             0.4336   0.7568\n",
       "gdp_per_capita_growth_pct                      0.0615   0.1245\n",
       "agriculture_pct_gdp                            0.3252   0.6308\n",
       "industry_pct_gdp                               0.1205   0.2025\n",
       "population_log                                 0.0804   0.1587\n",
       "population_in_largest_city_pct_of_urban_pop    0.1135   0.2141\n",
       "population_growth_pct                          0.2731   0.5118\n",
       "population_density_log                         0.1255   0.2761\n",
       "population_urban_log                           0.1272   0.2048\n",
       "population_urban_pct_of_total                  0.2801   0.4893\n",
       "population_rural_pct_of_total                  0.2314   0.4368\n",
       "gni_log                                        0.1558   0.3215\n",
       "\n",
       "Summary of Balance for Matched Data:\n",
       "                                            Means Treated Means Control\n",
       "distance                                           0.7277        0.2639\n",
       "precipitation_log                                 -3.1221       -2.9530\n",
       "humidity_log                                       4.1965        3.8592\n",
       "avg_surface_temp_log                               2.3130        2.3582\n",
       "gdp_per_capita_log                                10.3315        9.7531\n",
       "gdp_per_capita_growth_pct                          1.8418        2.1105\n",
       "agriculture_pct_gdp                                2.0991        3.6249\n",
       "industry_pct_gdp                                  22.1760       24.4871\n",
       "population_log                                    16.0550       15.4425\n",
       "population_in_largest_city_pct_of_urban_pop       19.8960       22.5009\n",
       "population_growth_pct                              0.3241        0.5225\n",
       "population_density_log                             4.6005        4.6590\n",
       "population_urban_log                              15.7505       15.1234\n",
       "population_urban_pct_of_total                     74.7778       74.3199\n",
       "population_rural_pct_of_total                     25.2222       25.6801\n",
       "gni_log                                           26.8327       26.0282\n",
       "                                            Std. Mean Diff. Var. Ratio\n",
       "distance                                             2.0989     0.6881\n",
       "precipitation_log                                   -0.2824     0.3296\n",
       "humidity_log                                         0.4564     0.3800\n",
       "avg_surface_temp_log                                -0.0738     0.3276\n",
       "gdp_per_capita_log                                   0.9269     0.3538\n",
       "gdp_per_capita_growth_pct                           -0.1019     0.1726\n",
       "agriculture_pct_gdp                                 -1.2719     0.1448\n",
       "industry_pct_gdp                                    -0.3786     0.3037\n",
       "population_log                                       0.3988     0.4335\n",
       "population_in_largest_city_pct_of_urban_pop         -0.1971     0.4361\n",
       "population_growth_pct                               -0.2427     0.5736\n",
       "population_density_log                              -0.0554     0.3380\n",
       "population_urban_log                                 0.4052     0.4337\n",
       "population_urban_pct_of_total                        0.0376     0.6591\n",
       "population_rural_pct_of_total                       -0.0376     0.6591\n",
       "gni_log                                              0.4054     0.0637\n",
       "                                            eCDF Mean eCDF Max Std. Pair Dist.\n",
       "distance                                       0.1323   0.6726          2.1034\n",
       "precipitation_log                              0.1046   0.1696          1.2891\n",
       "humidity_log                                   0.1832   0.3185          0.8415\n",
       "avg_surface_temp_log                           0.1351   0.3065          1.4396\n",
       "gdp_per_capita_log                             0.1204   0.4077          1.6825\n",
       "gdp_per_capita_growth_pct                      0.0286   0.1250          1.1232\n",
       "agriculture_pct_gdp                            0.0977   0.3155          2.0846\n",
       "industry_pct_gdp                               0.0626   0.1399          1.5279\n",
       "population_log                                 0.0838   0.1756          1.5031\n",
       "population_in_largest_city_pct_of_urban_pop    0.0782   0.1667          1.3825\n",
       "population_growth_pct                          0.0834   0.2708          1.2564\n",
       "population_density_log                         0.0924   0.1815          1.5203\n",
       "population_urban_log                           0.0884   0.1905          1.4975\n",
       "population_urban_pct_of_total                  0.0322   0.1369          1.2710\n",
       "population_rural_pct_of_total                  0.0322   0.1369          1.2710\n",
       "gni_log                                        0.0988   0.2411          2.4552\n",
       "\n",
       "Sample Sizes:\n",
       "          Control Treated\n",
       "All          1714     336\n",
       "Matched       336     336\n",
       "Unmatched    1378       0\n",
       "Discarded       0       0\n"
      ]
     },
     "metadata": {},
     "output_type": "display_data"
    },
    {
     "data": {
      "image/png": "[encoded data removed]",
      "text/plain": [
       "plot without title"
      ]
     },
     "metadata": {
      "image/png": {
       "height": 420,
       "width": 420
      }
     },
     "output_type": "display_data"
    }
   ],
   "source": [
    "#Using the mathcit function from MatchIt to match each smoker with a non-smoker (1 to 1 matching) based on\n",
    "#sex, indigeneity status, high school completion, marital status (partnered or not),\n",
    "#region of residence (major cities, inner regional, outer regional), language background (English speaking Yes/No) \n",
    "#and risky alcohol drinking (Yes/No)\n",
    "\n",
    "all_indicators_renamed$total_EUAs <- ifelse(is.na(all_indicators_renamed$total_EUAs),0,all_indicators$total_EUAs)\n",
    "\n",
    "all_indicators_renamed$is_eu_ets <- ifelse(all_indicators_renamed$total_EUAs>0,TRUE,FALSE)\n",
    "\n",
    "all_indicators_renamed[is.na(all_indicators_renamed)] <- 0\n",
    "\n",
    "match_obj <- matchit(is_eu_ets ~ \n",
    "                      precipitation_log \n",
    "                      + humidity_log\n",
    "                      + avg_surface_temp_log \n",
    "                      + gdp_per_capita_log \n",
    "                      + gdp_per_capita_growth_pct + agriculture_pct_gdp\n",
    "                      + industry_pct_gdp + population_log + population_in_largest_city_pct_of_urban_pop + population_growth_pct\n",
    "                      + population_density_log + population_urban_log + population_urban_pct_of_total \n",
    "                      # + population_rural_log\n",
    "                      + population_rural_pct_of_total\n",
    "                       + gni_log\n",
    "  ,data = all_indicators_renamed, method = \"nearest\", distance =\"glm\",\n",
    "  ratio = 1,\n",
    "  replace = FALSE)\n",
    "\n",
    "matched_subset <-match.data(match_obj)\n",
    "\n",
    "summary_df <- matched_subset %>%\n",
    "  group_by(year, is_eu_ets) %>%\n",
    "  summarise(mean_pm25 = mean(log(PM25_Total)))\n",
    "\n",
    "# Plotting\n",
    "ggplot(summary_df, aes(x = year, y = mean_pm25, color = factor(is_eu_ets))) +\n",
    "  geom_line() +\n",
    "  labs(x = \"Year\", y = \"Mean PM2.5\", color = \"Is EU ETS\") +\n",
    "  theme_minimal()\n",
    "\n",
    "summary(match_obj)\n",
    "# #plotting the balance between smokers and non-smokers\n",
    "# plot(match_obj, type = \"jitter\", interactive = FALSE)\n",
    "# plot(summary(match_obj), abs = FALSE)"
   ]
  },
  {
   "cell_type": "code",
   "execution_count": 455,
   "metadata": {
    "vscode": {
     "languageId": "r"
    }
   },
   "outputs": [
    {
     "data": {
      "text/html": [
       "<style>\n",
       ".list-inline {list-style: none; margin:0; padding: 0}\n",
       ".list-inline>li {display: inline-block}\n",
       ".list-inline>li:not(:last-child)::after {content: \"\\00b7\"; padding: 0 .5ex}\n",
       "</style>\n",
       "<ol class=list-inline><li>'Andorra'</li><li>'Armenia'</li><li>'Australia'</li><li>'Bahamas'</li><li>'Bosnia and Herzegovina'</li><li>'Cabo Verde'</li><li>'Canada'</li><li>'Costa Rica'</li><li>'Croatia'</li><li>'Cuba'</li><li>'Georgia'</li><li>'Iceland'</li><li>'Israel'</li><li>'Jamaica'</li><li>'Japan'</li><li>'Korea'</li><li>'Lebanon'</li><li>'Mauritius'</li><li>'Monaco'</li><li>'Montenegro'</li><li>'New Zealand'</li><li>'North Macedonia'</li><li>'Russian Federation'</li><li>'San Marino'</li><li>'Serbia'</li><li>'South Africa'</li><li>'Switzerland'</li><li>'Ukraine'</li><li>'United States'</li><li>'Bahrain'</li><li>'Iran'</li><li>'Kazakhstan'</li><li>'Libya'</li><li>'Seychelles'</li><li>'Turkey'</li><li>'United Arab Emirates'</li><li>'Brazil'</li><li>'Brunei Darussalam'</li><li>'Chile'</li><li>'Mongolia'</li><li>'Belarus'</li><li>'Mexico'</li><li>'Singapore'</li><li>'Syria'</li><li>'El Salvador'</li></ol>\n"
      ],
      "text/latex": [
       "\\begin{enumerate*}\n",
       "\\item 'Andorra'\n",
       "\\item 'Armenia'\n",
       "\\item 'Australia'\n",
       "\\item 'Bahamas'\n",
       "\\item 'Bosnia and Herzegovina'\n",
       "\\item 'Cabo Verde'\n",
       "\\item 'Canada'\n",
       "\\item 'Costa Rica'\n",
       "\\item 'Croatia'\n",
       "\\item 'Cuba'\n",
       "\\item 'Georgia'\n",
       "\\item 'Iceland'\n",
       "\\item 'Israel'\n",
       "\\item 'Jamaica'\n",
       "\\item 'Japan'\n",
       "\\item 'Korea'\n",
       "\\item 'Lebanon'\n",
       "\\item 'Mauritius'\n",
       "\\item 'Monaco'\n",
       "\\item 'Montenegro'\n",
       "\\item 'New Zealand'\n",
       "\\item 'North Macedonia'\n",
       "\\item 'Russian Federation'\n",
       "\\item 'San Marino'\n",
       "\\item 'Serbia'\n",
       "\\item 'South Africa'\n",
       "\\item 'Switzerland'\n",
       "\\item 'Ukraine'\n",
       "\\item 'United States'\n",
       "\\item 'Bahrain'\n",
       "\\item 'Iran'\n",
       "\\item 'Kazakhstan'\n",
       "\\item 'Libya'\n",
       "\\item 'Seychelles'\n",
       "\\item 'Turkey'\n",
       "\\item 'United Arab Emirates'\n",
       "\\item 'Brazil'\n",
       "\\item 'Brunei Darussalam'\n",
       "\\item 'Chile'\n",
       "\\item 'Mongolia'\n",
       "\\item 'Belarus'\n",
       "\\item 'Mexico'\n",
       "\\item 'Singapore'\n",
       "\\item 'Syria'\n",
       "\\item 'El Salvador'\n",
       "\\end{enumerate*}\n"
      ],
      "text/markdown": [
       "1. 'Andorra'\n",
       "2. 'Armenia'\n",
       "3. 'Australia'\n",
       "4. 'Bahamas'\n",
       "5. 'Bosnia and Herzegovina'\n",
       "6. 'Cabo Verde'\n",
       "7. 'Canada'\n",
       "8. 'Costa Rica'\n",
       "9. 'Croatia'\n",
       "10. 'Cuba'\n",
       "11. 'Georgia'\n",
       "12. 'Iceland'\n",
       "13. 'Israel'\n",
       "14. 'Jamaica'\n",
       "15. 'Japan'\n",
       "16. 'Korea'\n",
       "17. 'Lebanon'\n",
       "18. 'Mauritius'\n",
       "19. 'Monaco'\n",
       "20. 'Montenegro'\n",
       "21. 'New Zealand'\n",
       "22. 'North Macedonia'\n",
       "23. 'Russian Federation'\n",
       "24. 'San Marino'\n",
       "25. 'Serbia'\n",
       "26. 'South Africa'\n",
       "27. 'Switzerland'\n",
       "28. 'Ukraine'\n",
       "29. 'United States'\n",
       "30. 'Bahrain'\n",
       "31. 'Iran'\n",
       "32. 'Kazakhstan'\n",
       "33. 'Libya'\n",
       "34. 'Seychelles'\n",
       "35. 'Turkey'\n",
       "36. 'United Arab Emirates'\n",
       "37. 'Brazil'\n",
       "38. 'Brunei Darussalam'\n",
       "39. 'Chile'\n",
       "40. 'Mongolia'\n",
       "41. 'Belarus'\n",
       "42. 'Mexico'\n",
       "43. 'Singapore'\n",
       "44. 'Syria'\n",
       "45. 'El Salvador'\n",
       "\n",
       "\n"
      ],
      "text/plain": [
       " [1] \"Andorra\"                \"Armenia\"                \"Australia\"             \n",
       " [4] \"Bahamas\"                \"Bosnia and Herzegovina\" \"Cabo Verde\"            \n",
       " [7] \"Canada\"                 \"Costa Rica\"             \"Croatia\"               \n",
       "[10] \"Cuba\"                   \"Georgia\"                \"Iceland\"               \n",
       "[13] \"Israel\"                 \"Jamaica\"                \"Japan\"                 \n",
       "[16] \"Korea\"                  \"Lebanon\"                \"Mauritius\"             \n",
       "[19] \"Monaco\"                 \"Montenegro\"             \"New Zealand\"           \n",
       "[22] \"North Macedonia\"        \"Russian Federation\"     \"San Marino\"            \n",
       "[25] \"Serbia\"                 \"South Africa\"           \"Switzerland\"           \n",
       "[28] \"Ukraine\"                \"United States\"          \"Bahrain\"               \n",
       "[31] \"Iran\"                   \"Kazakhstan\"             \"Libya\"                 \n",
       "[34] \"Seychelles\"             \"Turkey\"                 \"United Arab Emirates\"  \n",
       "[37] \"Brazil\"                 \"Brunei Darussalam\"      \"Chile\"                 \n",
       "[40] \"Mongolia\"               \"Belarus\"                \"Mexico\"                \n",
       "[43] \"Singapore\"              \"Syria\"                  \"El Salvador\"           "
      ]
     },
     "metadata": {},
     "output_type": "display_data"
    }
   ],
   "source": [
    "unique(matched_subset[matched_subset$is_eu_ets == FALSE,\"country\"])"
   ]
  },
  {
   "cell_type": "code",
   "execution_count": 424,
   "metadata": {
    "vscode": {
     "languageId": "r"
    }
   },
   "outputs": [
    {
     "data": {
      "text/html": [
       "<table class=\"dataframe\">\n",
       "<caption>A matchdata: 6 × 25</caption>\n",
       "<thead>\n",
       "\t<tr><th></th><th scope=col>year</th><th scope=col>country</th><th scope=col>country_code</th><th scope=col>precipitation_log</th><th scope=col>humidity_log</th><th scope=col>avg_surface_temp_log</th><th scope=col>gdp_per_capita_log</th><th scope=col>gdp_per_capita_growth_pct</th><th scope=col>agriculture_pct_gdp</th><th scope=col>industry_pct_gdp</th><th scope=col>⋯</th><th scope=col>population_urban_pct_of_total</th><th scope=col>population_rural_log</th><th scope=col>population_rural_pct_of_total</th><th scope=col>gni_log</th><th scope=col>total_EUAs</th><th scope=col>PM25_Total</th><th scope=col>is_eu_ets</th><th scope=col>distance</th><th scope=col>weights</th><th scope=col>subclass</th></tr>\n",
       "\t<tr><th></th><th scope=col>&lt;int&gt;</th><th scope=col>&lt;chr&gt;</th><th scope=col>&lt;chr&gt;</th><th scope=col>&lt;dbl&gt;</th><th scope=col>&lt;dbl&gt;</th><th scope=col>&lt;dbl&gt;</th><th scope=col>&lt;dbl&gt;</th><th scope=col>&lt;dbl&gt;</th><th scope=col>&lt;dbl&gt;</th><th scope=col>&lt;dbl&gt;</th><th scope=col>⋯</th><th scope=col>&lt;dbl&gt;</th><th scope=col>&lt;dbl&gt;</th><th scope=col>&lt;dbl&gt;</th><th scope=col>&lt;dbl&gt;</th><th scope=col>&lt;dbl&gt;</th><th scope=col>&lt;dbl&gt;</th><th scope=col>&lt;lgl&gt;</th><th scope=col>&lt;dbl&gt;</th><th scope=col>&lt;dbl&gt;</th><th scope=col>&lt;fct&gt;</th></tr>\n",
       "</thead>\n",
       "<tbody>\n",
       "\t<tr><th scope=row>1</th><td>2010</td><td>Afghanistan</td><td>AFG</td><td>-3.688879</td><td>3.771611</td><td>2.415824</td><td> 6.332390</td><td>11.099220</td><td>26.2100685</td><td>21.15142</td><td>⋯</td><td>23.737</td><td>16.883484</td><td>76.263</td><td> 0.00000</td><td>       0</td><td>68.97</td><td>FALSE</td><td>0.1737514</td><td>1</td><td>204</td></tr>\n",
       "\t<tr><th scope=row>2</th><td>2010</td><td>Albania    </td><td>ALB</td><td>-2.617296</td><td>4.284827</td><td>2.611466</td><td> 8.317363</td><td> 4.223084</td><td>17.9558664</td><td>24.93746</td><td>⋯</td><td>52.163</td><td>14.147331</td><td>47.837</td><td>27.84585</td><td>       0</td><td>21.95</td><td>FALSE</td><td>0.2009693</td><td>1</td><td>185</td></tr>\n",
       "\t<tr><th scope=row>4</th><td>2010</td><td>Andorra    </td><td>AND</td><td>-3.146555</td><td>4.281792</td><td>1.596353</td><td>10.783900</td><td> 1.222688</td><td> 0.4665086</td><td>13.12565</td><td>⋯</td><td>88.819</td><td> 8.986822</td><td>11.181</td><td> 0.00000</td><td>       0</td><td>11.43</td><td>FALSE</td><td>0.5484427</td><td>1</td><td>105</td></tr>\n",
       "\t<tr><th scope=row>8</th><td>2010</td><td>Armenia    </td><td>ARM</td><td>-3.270169</td><td>4.182813</td><td>2.284828</td><td> 8.052942</td><td> 2.824482</td><td> 0.0000000</td><td> 0.00000</td><td>⋯</td><td>63.440</td><td>13.889843</td><td>36.560</td><td>28.97109</td><td>       0</td><td>40.90</td><td>FALSE</td><td>0.2867589</td><td>1</td><td>302</td></tr>\n",
       "\t<tr><th scope=row>10</th><td>2010</td><td>Austria    </td><td>AUT</td><td>-2.937463</td><td>4.342116</td><td>1.934127</td><td>10.755853</td><td> 1.592577</td><td> 1.2673277</td><td>25.53499</td><td>⋯</td><td>57.399</td><td>15.086084</td><td>42.601</td><td>26.51003</td><td>30963812</td><td>15.62</td><td> TRUE</td><td>0.4358261</td><td>1</td><td>1  </td></tr>\n",
       "\t<tr><th scope=row>11</th><td>2010</td><td>Azerbaijan </td><td>AZE</td><td>-3.473768</td><td>4.220537</td><td>2.632536</td><td> 8.673091</td><td> 3.806491</td><td> 5.5212528</td><td>59.77134</td><td>⋯</td><td>53.406</td><td>15.255055</td><td>46.594</td><td>24.06965</td><td>       0</td><td>30.11</td><td>FALSE</td><td>0.2097547</td><td>1</td><td>108</td></tr>\n",
       "</tbody>\n",
       "</table>\n"
      ],
      "text/latex": [
       "A matchdata: 6 × 25\n",
       "\\begin{tabular}{r|lllllllllllllllllllll}\n",
       "  & year & country & country\\_code & precipitation\\_log & humidity\\_log & avg\\_surface\\_temp\\_log & gdp\\_per\\_capita\\_log & gdp\\_per\\_capita\\_growth\\_pct & agriculture\\_pct\\_gdp & industry\\_pct\\_gdp & ⋯ & population\\_urban\\_pct\\_of\\_total & population\\_rural\\_log & population\\_rural\\_pct\\_of\\_total & gni\\_log & total\\_EUAs & PM25\\_Total & is\\_eu\\_ets & distance & weights & subclass\\\\\n",
       "  & <int> & <chr> & <chr> & <dbl> & <dbl> & <dbl> & <dbl> & <dbl> & <dbl> & <dbl> & ⋯ & <dbl> & <dbl> & <dbl> & <dbl> & <dbl> & <dbl> & <lgl> & <dbl> & <dbl> & <fct>\\\\\n",
       "\\hline\n",
       "\t1 & 2010 & Afghanistan & AFG & -3.688879 & 3.771611 & 2.415824 &  6.332390 & 11.099220 & 26.2100685 & 21.15142 & ⋯ & 23.737 & 16.883484 & 76.263 &  0.00000 &        0 & 68.97 & FALSE & 0.1737514 & 1 & 204\\\\\n",
       "\t2 & 2010 & Albania     & ALB & -2.617296 & 4.284827 & 2.611466 &  8.317363 &  4.223084 & 17.9558664 & 24.93746 & ⋯ & 52.163 & 14.147331 & 47.837 & 27.84585 &        0 & 21.95 & FALSE & 0.2009693 & 1 & 185\\\\\n",
       "\t4 & 2010 & Andorra     & AND & -3.146555 & 4.281792 & 1.596353 & 10.783900 &  1.222688 &  0.4665086 & 13.12565 & ⋯ & 88.819 &  8.986822 & 11.181 &  0.00000 &        0 & 11.43 & FALSE & 0.5484427 & 1 & 105\\\\\n",
       "\t8 & 2010 & Armenia     & ARM & -3.270169 & 4.182813 & 2.284828 &  8.052942 &  2.824482 &  0.0000000 &  0.00000 & ⋯ & 63.440 & 13.889843 & 36.560 & 28.97109 &        0 & 40.90 & FALSE & 0.2867589 & 1 & 302\\\\\n",
       "\t10 & 2010 & Austria     & AUT & -2.937463 & 4.342116 & 1.934127 & 10.755853 &  1.592577 &  1.2673277 & 25.53499 & ⋯ & 57.399 & 15.086084 & 42.601 & 26.51003 & 30963812 & 15.62 &  TRUE & 0.4358261 & 1 & 1  \\\\\n",
       "\t11 & 2010 & Azerbaijan  & AZE & -3.473768 & 4.220537 & 2.632536 &  8.673091 &  3.806491 &  5.5212528 & 59.77134 & ⋯ & 53.406 & 15.255055 & 46.594 & 24.06965 &        0 & 30.11 & FALSE & 0.2097547 & 1 & 108\\\\\n",
       "\\end{tabular}\n"
      ],
      "text/markdown": [
       "\n",
       "A matchdata: 6 × 25\n",
       "\n",
       "| <!--/--> | year &lt;int&gt; | country &lt;chr&gt; | country_code &lt;chr&gt; | precipitation_log &lt;dbl&gt; | humidity_log &lt;dbl&gt; | avg_surface_temp_log &lt;dbl&gt; | gdp_per_capita_log &lt;dbl&gt; | gdp_per_capita_growth_pct &lt;dbl&gt; | agriculture_pct_gdp &lt;dbl&gt; | industry_pct_gdp &lt;dbl&gt; | ⋯ ⋯ | population_urban_pct_of_total &lt;dbl&gt; | population_rural_log &lt;dbl&gt; | population_rural_pct_of_total &lt;dbl&gt; | gni_log &lt;dbl&gt; | total_EUAs &lt;dbl&gt; | PM25_Total &lt;dbl&gt; | is_eu_ets &lt;lgl&gt; | distance &lt;dbl&gt; | weights &lt;dbl&gt; | subclass &lt;fct&gt; |\n",
       "|---|---|---|---|---|---|---|---|---|---|---|---|---|---|---|---|---|---|---|---|---|---|\n",
       "| 1 | 2010 | Afghanistan | AFG | -3.688879 | 3.771611 | 2.415824 |  6.332390 | 11.099220 | 26.2100685 | 21.15142 | ⋯ | 23.737 | 16.883484 | 76.263 |  0.00000 |        0 | 68.97 | FALSE | 0.1737514 | 1 | 204 |\n",
       "| 2 | 2010 | Albania     | ALB | -2.617296 | 4.284827 | 2.611466 |  8.317363 |  4.223084 | 17.9558664 | 24.93746 | ⋯ | 52.163 | 14.147331 | 47.837 | 27.84585 |        0 | 21.95 | FALSE | 0.2009693 | 1 | 185 |\n",
       "| 4 | 2010 | Andorra     | AND | -3.146555 | 4.281792 | 1.596353 | 10.783900 |  1.222688 |  0.4665086 | 13.12565 | ⋯ | 88.819 |  8.986822 | 11.181 |  0.00000 |        0 | 11.43 | FALSE | 0.5484427 | 1 | 105 |\n",
       "| 8 | 2010 | Armenia     | ARM | -3.270169 | 4.182813 | 2.284828 |  8.052942 |  2.824482 |  0.0000000 |  0.00000 | ⋯ | 63.440 | 13.889843 | 36.560 | 28.97109 |        0 | 40.90 | FALSE | 0.2867589 | 1 | 302 |\n",
       "| 10 | 2010 | Austria     | AUT | -2.937463 | 4.342116 | 1.934127 | 10.755853 |  1.592577 |  1.2673277 | 25.53499 | ⋯ | 57.399 | 15.086084 | 42.601 | 26.51003 | 30963812 | 15.62 |  TRUE | 0.4358261 | 1 | 1   |\n",
       "| 11 | 2010 | Azerbaijan  | AZE | -3.473768 | 4.220537 | 2.632536 |  8.673091 |  3.806491 |  5.5212528 | 59.77134 | ⋯ | 53.406 | 15.255055 | 46.594 | 24.06965 |        0 | 30.11 | FALSE | 0.2097547 | 1 | 108 |\n",
       "\n"
      ],
      "text/plain": [
       "   year country     country_code precipitation_log humidity_log\n",
       "1  2010 Afghanistan AFG          -3.688879         3.771611    \n",
       "2  2010 Albania     ALB          -2.617296         4.284827    \n",
       "4  2010 Andorra     AND          -3.146555         4.281792    \n",
       "8  2010 Armenia     ARM          -3.270169         4.182813    \n",
       "10 2010 Austria     AUT          -2.937463         4.342116    \n",
       "11 2010 Azerbaijan  AZE          -3.473768         4.220537    \n",
       "   avg_surface_temp_log gdp_per_capita_log gdp_per_capita_growth_pct\n",
       "1  2.415824              6.332390          11.099220                \n",
       "2  2.611466              8.317363           4.223084                \n",
       "4  1.596353             10.783900           1.222688                \n",
       "8  2.284828              8.052942           2.824482                \n",
       "10 1.934127             10.755853           1.592577                \n",
       "11 2.632536              8.673091           3.806491                \n",
       "   agriculture_pct_gdp industry_pct_gdp ⋯ population_urban_pct_of_total\n",
       "1  26.2100685          21.15142         ⋯ 23.737                       \n",
       "2  17.9558664          24.93746         ⋯ 52.163                       \n",
       "4   0.4665086          13.12565         ⋯ 88.819                       \n",
       "8   0.0000000           0.00000         ⋯ 63.440                       \n",
       "10  1.2673277          25.53499         ⋯ 57.399                       \n",
       "11  5.5212528          59.77134         ⋯ 53.406                       \n",
       "   population_rural_log population_rural_pct_of_total gni_log  total_EUAs\n",
       "1  16.883484            76.263                         0.00000        0  \n",
       "2  14.147331            47.837                        27.84585        0  \n",
       "4   8.986822            11.181                         0.00000        0  \n",
       "8  13.889843            36.560                        28.97109        0  \n",
       "10 15.086084            42.601                        26.51003 30963812  \n",
       "11 15.255055            46.594                        24.06965        0  \n",
       "   PM25_Total is_eu_ets distance  weights subclass\n",
       "1  68.97      FALSE     0.1737514 1       204     \n",
       "2  21.95      FALSE     0.2009693 1       185     \n",
       "4  11.43      FALSE     0.5484427 1       105     \n",
       "8  40.90      FALSE     0.2867589 1       302     \n",
       "10 15.62       TRUE     0.4358261 1       1       \n",
       "11 30.11      FALSE     0.2097547 1       108     "
      ]
     },
     "metadata": {},
     "output_type": "display_data"
    }
   ],
   "source": [
    "head(matched_subset)"
   ]
  },
  {
   "cell_type": "code",
   "execution_count": 425,
   "metadata": {
    "vscode": {
     "languageId": "r"
    }
   },
   "outputs": [
    {
     "name": "stderr",
     "output_type": "stream",
     "text": [
      "\u001b[1m\u001b[22m`summarise()` has grouped output by 'year'. You can override using the\n",
      "`.groups` argument.\n"
     ]
    },
    {
     "data": {
      "text/html": [
       "<table class=\"dataframe\">\n",
       "<caption>A grouped_df: 20 × 3</caption>\n",
       "<thead>\n",
       "\t<tr><th scope=col>year</th><th scope=col>is_eu_ets</th><th scope=col>mean_pm25</th></tr>\n",
       "\t<tr><th scope=col>&lt;int&gt;</th><th scope=col>&lt;lgl&gt;</th><th scope=col>&lt;dbl&gt;</th></tr>\n",
       "</thead>\n",
       "<tbody>\n",
       "\t<tr><td>2010</td><td>FALSE</td><td>26.39694</td></tr>\n",
       "\t<tr><td>2010</td><td> TRUE</td><td>15.30875</td></tr>\n",
       "\t<tr><td>2011</td><td>FALSE</td><td>27.26125</td></tr>\n",
       "\t<tr><td>2011</td><td> TRUE</td><td>15.50313</td></tr>\n",
       "\t<tr><td>2012</td><td>FALSE</td><td>29.58030</td></tr>\n",
       "\t<tr><td>2012</td><td> TRUE</td><td>13.96147</td></tr>\n",
       "\t<tr><td>2013</td><td>FALSE</td><td>26.77727</td></tr>\n",
       "\t<tr><td>2013</td><td> TRUE</td><td>13.58706</td></tr>\n",
       "\t<tr><td>2014</td><td>FALSE</td><td>27.99414</td></tr>\n",
       "\t<tr><td>2014</td><td> TRUE</td><td>13.03324</td></tr>\n",
       "\t<tr><td>2015</td><td>FALSE</td><td>27.03471</td></tr>\n",
       "\t<tr><td>2015</td><td> TRUE</td><td>12.98118</td></tr>\n",
       "\t<tr><td>2016</td><td>FALSE</td><td>24.83286</td></tr>\n",
       "\t<tr><td>2016</td><td> TRUE</td><td>12.06647</td></tr>\n",
       "\t<tr><td>2017</td><td>FALSE</td><td>21.61000</td></tr>\n",
       "\t<tr><td>2017</td><td> TRUE</td><td>12.18765</td></tr>\n",
       "\t<tr><td>2018</td><td>FALSE</td><td>26.21286</td></tr>\n",
       "\t<tr><td>2018</td><td> TRUE</td><td>12.45794</td></tr>\n",
       "\t<tr><td>2019</td><td>FALSE</td><td>23.47139</td></tr>\n",
       "\t<tr><td>2019</td><td> TRUE</td><td>11.18706</td></tr>\n",
       "</tbody>\n",
       "</table>\n"
      ],
      "text/latex": [
       "A grouped\\_df: 20 × 3\n",
       "\\begin{tabular}{lll}\n",
       " year & is\\_eu\\_ets & mean\\_pm25\\\\\n",
       " <int> & <lgl> & <dbl>\\\\\n",
       "\\hline\n",
       "\t 2010 & FALSE & 26.39694\\\\\n",
       "\t 2010 &  TRUE & 15.30875\\\\\n",
       "\t 2011 & FALSE & 27.26125\\\\\n",
       "\t 2011 &  TRUE & 15.50313\\\\\n",
       "\t 2012 & FALSE & 29.58030\\\\\n",
       "\t 2012 &  TRUE & 13.96147\\\\\n",
       "\t 2013 & FALSE & 26.77727\\\\\n",
       "\t 2013 &  TRUE & 13.58706\\\\\n",
       "\t 2014 & FALSE & 27.99414\\\\\n",
       "\t 2014 &  TRUE & 13.03324\\\\\n",
       "\t 2015 & FALSE & 27.03471\\\\\n",
       "\t 2015 &  TRUE & 12.98118\\\\\n",
       "\t 2016 & FALSE & 24.83286\\\\\n",
       "\t 2016 &  TRUE & 12.06647\\\\\n",
       "\t 2017 & FALSE & 21.61000\\\\\n",
       "\t 2017 &  TRUE & 12.18765\\\\\n",
       "\t 2018 & FALSE & 26.21286\\\\\n",
       "\t 2018 &  TRUE & 12.45794\\\\\n",
       "\t 2019 & FALSE & 23.47139\\\\\n",
       "\t 2019 &  TRUE & 11.18706\\\\\n",
       "\\end{tabular}\n"
      ],
      "text/markdown": [
       "\n",
       "A grouped_df: 20 × 3\n",
       "\n",
       "| year &lt;int&gt; | is_eu_ets &lt;lgl&gt; | mean_pm25 &lt;dbl&gt; |\n",
       "|---|---|---|\n",
       "| 2010 | FALSE | 26.39694 |\n",
       "| 2010 |  TRUE | 15.30875 |\n",
       "| 2011 | FALSE | 27.26125 |\n",
       "| 2011 |  TRUE | 15.50313 |\n",
       "| 2012 | FALSE | 29.58030 |\n",
       "| 2012 |  TRUE | 13.96147 |\n",
       "| 2013 | FALSE | 26.77727 |\n",
       "| 2013 |  TRUE | 13.58706 |\n",
       "| 2014 | FALSE | 27.99414 |\n",
       "| 2014 |  TRUE | 13.03324 |\n",
       "| 2015 | FALSE | 27.03471 |\n",
       "| 2015 |  TRUE | 12.98118 |\n",
       "| 2016 | FALSE | 24.83286 |\n",
       "| 2016 |  TRUE | 12.06647 |\n",
       "| 2017 | FALSE | 21.61000 |\n",
       "| 2017 |  TRUE | 12.18765 |\n",
       "| 2018 | FALSE | 26.21286 |\n",
       "| 2018 |  TRUE | 12.45794 |\n",
       "| 2019 | FALSE | 23.47139 |\n",
       "| 2019 |  TRUE | 11.18706 |\n",
       "\n"
      ],
      "text/plain": [
       "   year is_eu_ets mean_pm25\n",
       "1  2010 FALSE     26.39694 \n",
       "2  2010  TRUE     15.30875 \n",
       "3  2011 FALSE     27.26125 \n",
       "4  2011  TRUE     15.50313 \n",
       "5  2012 FALSE     29.58030 \n",
       "6  2012  TRUE     13.96147 \n",
       "7  2013 FALSE     26.77727 \n",
       "8  2013  TRUE     13.58706 \n",
       "9  2014 FALSE     27.99414 \n",
       "10 2014  TRUE     13.03324 \n",
       "11 2015 FALSE     27.03471 \n",
       "12 2015  TRUE     12.98118 \n",
       "13 2016 FALSE     24.83286 \n",
       "14 2016  TRUE     12.06647 \n",
       "15 2017 FALSE     21.61000 \n",
       "16 2017  TRUE     12.18765 \n",
       "17 2018 FALSE     26.21286 \n",
       "18 2018  TRUE     12.45794 \n",
       "19 2019 FALSE     23.47139 \n",
       "20 2019  TRUE     11.18706 "
      ]
     },
     "metadata": {},
     "output_type": "display_data"
    }
   ],
   "source": [
    "matched_subset %>% group_by(year, is_eu_ets) %>% summarise (mean_pm25 = mean(PM25_Total))"
   ]
  },
  {
   "cell_type": "code",
   "execution_count": 427,
   "metadata": {
    "vscode": {
     "languageId": "r"
    }
   },
   "outputs": [
    {
     "name": "stderr",
     "output_type": "stream",
     "text": [
      "\u001b[1m\u001b[22m`summarise()` has grouped output by 'year'. You can override using the\n",
      "`.groups` argument.\n"
     ]
    },
    {
     "data": {
      "image/png": "[encoded data removed]",
      "text/plain": [
       "plot without title"
      ]
     },
     "metadata": {
      "image/png": {
       "height": 420,
       "width": 420
      }
     },
     "output_type": "display_data"
    }
   ],
   "source": []
  },
  {
   "cell_type": "code",
   "execution_count": null,
   "metadata": {
    "vscode": {
     "languageId": "r"
    }
   },
   "outputs": [],
   "source": []
  },
  {
   "cell_type": "code",
   "execution_count": null,
   "metadata": {
    "vscode": {
     "languageId": "r"
    }
   },
   "outputs": [],
   "source": []
  },
  {
   "cell_type": "code",
   "execution_count": null,
   "metadata": {
    "vscode": {
     "languageId": "r"
    }
   },
   "outputs": [],
   "source": []
  },
  {
   "cell_type": "code",
   "execution_count": null,
   "metadata": {
    "vscode": {
     "languageId": "r"
    }
   },
   "outputs": [],
   "source": []
  },
  {
   "cell_type": "code",
   "execution_count": null,
   "metadata": {
    "vscode": {
     "languageId": "r"
    }
   },
   "outputs": [],
   "source": []
  },
  {
   "cell_type": "code",
   "execution_count": null,
   "metadata": {
    "vscode": {
     "languageId": "r"
    }
   },
   "outputs": [],
   "source": []
  },
  {
   "cell_type": "code",
   "execution_count": null,
   "metadata": {
    "vscode": {
     "languageId": "r"
    }
   },
   "outputs": [],
   "source": []
  },
  {
   "cell_type": "code",
   "execution_count": null,
   "metadata": {
    "vscode": {
     "languageId": "r"
    }
   },
   "outputs": [],
   "source": []
  },
  {
   "cell_type": "code",
   "execution_count": null,
   "metadata": {
    "vscode": {
     "languageId": "r"
    }
   },
   "outputs": [],
   "source": []
  },
  {
   "cell_type": "code",
   "execution_count": null,
   "metadata": {
    "vscode": {
     "languageId": "r"
    }
   },
   "outputs": [],
   "source": []
  },
  {
   "cell_type": "code",
   "execution_count": null,
   "metadata": {
    "vscode": {
     "languageId": "r"
    }
   },
   "outputs": [],
   "source": []
  },
  {
   "cell_type": "code",
   "execution_count": null,
   "metadata": {
    "vscode": {
     "languageId": "r"
    }
   },
   "outputs": [],
   "source": []
  },
  {
   "cell_type": "code",
   "execution_count": null,
   "metadata": {
    "vscode": {
     "languageId": "r"
    }
   },
   "outputs": [],
   "source": []
  },
  {
   "cell_type": "code",
   "execution_count": null,
   "metadata": {
    "vscode": {
     "languageId": "r"
    }
   },
   "outputs": [],
   "source": []
  },
  {
   "cell_type": "code",
   "execution_count": null,
   "metadata": {
    "vscode": {
     "languageId": "r"
    }
   },
   "outputs": [],
   "source": []
  },
  {
   "cell_type": "code",
   "execution_count": null,
   "metadata": {
    "vscode": {
     "languageId": "r"
    }
   },
   "outputs": [],
   "source": []
  },
  {
   "cell_type": "code",
   "execution_count": null,
   "metadata": {
    "vscode": {
     "languageId": "r"
    }
   },
   "outputs": [],
   "source": []
  },
  {
   "cell_type": "code",
   "execution_count": null,
   "metadata": {
    "vscode": {
     "languageId": "r"
    }
   },
   "outputs": [],
   "source": []
  },
  {
   "cell_type": "code",
   "execution_count": null,
   "metadata": {
    "vscode": {
     "languageId": "r"
    }
   },
   "outputs": [],
   "source": []
  },
  {
   "cell_type": "code",
   "execution_count": null,
   "metadata": {
    "vscode": {
     "languageId": "r"
    }
   },
   "outputs": [],
   "source": []
  },
  {
   "cell_type": "code",
   "execution_count": null,
   "metadata": {
    "vscode": {
     "languageId": "r"
    }
   },
   "outputs": [],
   "source": []
  },
  {
   "cell_type": "code",
   "execution_count": null,
   "metadata": {
    "vscode": {
     "languageId": "r"
    }
   },
   "outputs": [],
   "source": []
  },
  {
   "cell_type": "code",
   "execution_count": null,
   "metadata": {
    "vscode": {
     "languageId": "r"
    }
   },
   "outputs": [],
   "source": []
  },
  {
   "cell_type": "code",
   "execution_count": null,
   "metadata": {
    "vscode": {
     "languageId": "r"
    }
   },
   "outputs": [],
   "source": []
  },
  {
   "cell_type": "code",
   "execution_count": 268,
   "metadata": {
    "vscode": {
     "languageId": "r"
    }
   },
   "outputs": [
    {
     "data": {
      "text/html": [
       "<table class=\"dataframe\">\n",
       "<caption>A tibble: 102 × 6</caption>\n",
       "<thead>\n",
       "\t<tr><th scope=col>country</th><th scope=col>pm</th><th scope=col>euets</th><th scope=col>weather</th><th scope=col>wb</th><th scope=col>total</th></tr>\n",
       "\t<tr><th scope=col>&lt;chr&gt;</th><th scope=col>&lt;dbl&gt;</th><th scope=col>&lt;dbl&gt;</th><th scope=col>&lt;dbl&gt;</th><th scope=col>&lt;dbl&gt;</th><th scope=col>&lt;dbl&gt;</th></tr>\n",
       "</thead>\n",
       "<tbody>\n",
       "\t<tr><td>NER 300 auctions                             </td><td>0</td><td>1</td><td>0</td><td>0</td><td>1</td></tr>\n",
       "\t<tr><td>Congo Brazzaville                            </td><td>0</td><td>0</td><td>1</td><td>0</td><td>1</td></tr>\n",
       "\t<tr><td>FInland                                      </td><td>0</td><td>0</td><td>1</td><td>0</td><td>1</td></tr>\n",
       "\t<tr><td>Jersey                                       </td><td>0</td><td>0</td><td>1</td><td>0</td><td>1</td></tr>\n",
       "\t<tr><td>Palestine                                    </td><td>0</td><td>0</td><td>1</td><td>0</td><td>1</td></tr>\n",
       "\t<tr><td>South Korea                                  </td><td>0</td><td>0</td><td>1</td><td>0</td><td>1</td></tr>\n",
       "\t<tr><td>Svalbard and Jan Mayen                       </td><td>0</td><td>0</td><td>1</td><td>0</td><td>1</td></tr>\n",
       "\t<tr><td><span style=white-space:pre-wrap>Turks &amp; Caicos Islands                       </span></td><td>0</td><td>0</td><td>1</td><td>0</td><td>1</td></tr>\n",
       "\t<tr><td>Vatican City                                 </td><td>0</td><td>0</td><td>1</td><td>0</td><td>1</td></tr>\n",
       "\t<tr><td>Africa Eastern and Southern                  </td><td>0</td><td>0</td><td>0</td><td>1</td><td>1</td></tr>\n",
       "\t<tr><td>Africa Western and Central                   </td><td>0</td><td>0</td><td>0</td><td>1</td><td>1</td></tr>\n",
       "\t<tr><td>American Samoa                               </td><td>0</td><td>0</td><td>0</td><td>1</td><td>1</td></tr>\n",
       "\t<tr><td>Arab World                                   </td><td>0</td><td>0</td><td>0</td><td>1</td><td>1</td></tr>\n",
       "\t<tr><td>Aruba                                        </td><td>0</td><td>0</td><td>0</td><td>1</td><td>1</td></tr>\n",
       "\t<tr><td>Bermuda                                      </td><td>0</td><td>0</td><td>0</td><td>1</td><td>1</td></tr>\n",
       "\t<tr><td>British Virgin Islands                       </td><td>0</td><td>0</td><td>0</td><td>1</td><td>1</td></tr>\n",
       "\t<tr><td>Caribbean small states                       </td><td>0</td><td>0</td><td>0</td><td>1</td><td>1</td></tr>\n",
       "\t<tr><td>Cayman Islands                               </td><td>0</td><td>0</td><td>0</td><td>1</td><td>1</td></tr>\n",
       "\t<tr><td>Central Europe and the Baltics               </td><td>0</td><td>0</td><td>0</td><td>1</td><td>1</td></tr>\n",
       "\t<tr><td>Channel Islands                              </td><td>0</td><td>0</td><td>0</td><td>1</td><td>1</td></tr>\n",
       "\t<tr><td>Curacao                                      </td><td>0</td><td>0</td><td>0</td><td>1</td><td>1</td></tr>\n",
       "\t<tr><td>Early-demographic dividend                   </td><td>0</td><td>0</td><td>0</td><td>1</td><td>1</td></tr>\n",
       "\t<tr><td><span style=white-space:pre-wrap>East Asia &amp; Pacific                          </span></td><td>0</td><td>0</td><td>0</td><td>1</td><td>1</td></tr>\n",
       "\t<tr><td><span style=white-space:pre-wrap>East Asia &amp; Pacific (IDA &amp; IBRD countries)   </span></td><td>0</td><td>0</td><td>0</td><td>1</td><td>1</td></tr>\n",
       "\t<tr><td><span style=white-space:pre-wrap>East Asia &amp; Pacific (excluding high income)  </span></td><td>0</td><td>0</td><td>0</td><td>1</td><td>1</td></tr>\n",
       "\t<tr><td>Euro area                                    </td><td>0</td><td>0</td><td>0</td><td>1</td><td>1</td></tr>\n",
       "\t<tr><td><span style=white-space:pre-wrap>Europe &amp; Central Asia                        </span></td><td>0</td><td>0</td><td>0</td><td>1</td><td>1</td></tr>\n",
       "\t<tr><td>Europe &amp; Central Asia (IDA &amp; IBRD countries) </td><td>0</td><td>0</td><td>0</td><td>1</td><td>1</td></tr>\n",
       "\t<tr><td>Europe &amp; Central Asia (excluding high income)</td><td>0</td><td>0</td><td>0</td><td>1</td><td>1</td></tr>\n",
       "\t<tr><td>European Union                               </td><td>0</td><td>0</td><td>0</td><td>1</td><td>1</td></tr>\n",
       "\t<tr><td>⋮</td><td>⋮</td><td>⋮</td><td>⋮</td><td>⋮</td><td>⋮</td></tr>\n",
       "\t<tr><td>Sub-Saharan Africa (IDA &amp; IBRD countries) </td><td>0</td><td>0</td><td>0</td><td>1</td><td>1</td></tr>\n",
       "\t<tr><td>Sub-Saharan Africa (excluding high income)</td><td>0</td><td>0</td><td>0</td><td>1</td><td>1</td></tr>\n",
       "\t<tr><td>Turks and Caicos Islands                  </td><td>0</td><td>0</td><td>0</td><td>1</td><td>1</td></tr>\n",
       "\t<tr><td>Upper middle income                       </td><td>0</td><td>0</td><td>0</td><td>1</td><td>1</td></tr>\n",
       "\t<tr><td>Virgin Islands (U.S.)                     </td><td>0</td><td>0</td><td>0</td><td>1</td><td>1</td></tr>\n",
       "\t<tr><td>West Bank and Gaza                        </td><td>0</td><td>0</td><td>0</td><td>1</td><td>1</td></tr>\n",
       "\t<tr><td>World                                     </td><td>0</td><td>0</td><td>0</td><td>1</td><td>1</td></tr>\n",
       "\t<tr><td>Cote d'Ivoire                             </td><td>0</td><td>0</td><td>1</td><td>1</td><td>2</td></tr>\n",
       "\t<tr><td>French Polynesia                          </td><td>0</td><td>0</td><td>1</td><td>1</td><td>2</td></tr>\n",
       "\t<tr><td>Gibraltar                                 </td><td>0</td><td>0</td><td>1</td><td>1</td><td>2</td></tr>\n",
       "\t<tr><td>Greenland                                 </td><td>0</td><td>0</td><td>1</td><td>1</td><td>2</td></tr>\n",
       "\t<tr><td>Isle of Man                               </td><td>0</td><td>0</td><td>1</td><td>1</td><td>2</td></tr>\n",
       "\t<tr><td>Kosovo                                    </td><td>0</td><td>0</td><td>1</td><td>1</td><td>2</td></tr>\n",
       "\t<tr><td>Tanzania                                  </td><td>0</td><td>0</td><td>1</td><td>1</td><td>2</td></tr>\n",
       "\t<tr><td>Congo                                     </td><td>1</td><td>0</td><td>0</td><td>0</td><td>1</td></tr>\n",
       "\t<tr><td>Cook Islands                              </td><td>1</td><td>0</td><td>0</td><td>0</td><td>1</td></tr>\n",
       "\t<tr><td>Côte d’Ivoire                             </td><td>1</td><td>0</td><td>0</td><td>0</td><td>1</td></tr>\n",
       "\t<tr><td>Niue                                      </td><td>1</td><td>0</td><td>0</td><td>0</td><td>1</td></tr>\n",
       "\t<tr><td>Occupied Palestinian territory            </td><td>1</td><td>0</td><td>0</td><td>0</td><td>1</td></tr>\n",
       "\t<tr><td>United Republic of Tanzania               </td><td>1</td><td>0</td><td>0</td><td>0</td><td>1</td></tr>\n",
       "\t<tr><td>Korea                                     </td><td>1</td><td>0</td><td>0</td><td>1</td><td>2</td></tr>\n",
       "\t<tr><td>Maldives                                  </td><td>1</td><td>0</td><td>0</td><td>1</td><td>2</td></tr>\n",
       "\t<tr><td>Marshall Islands                          </td><td>1</td><td>0</td><td>0</td><td>1</td><td>2</td></tr>\n",
       "\t<tr><td>Nauru                                     </td><td>1</td><td>0</td><td>0</td><td>1</td><td>2</td></tr>\n",
       "\t<tr><td>Palau                                     </td><td>1</td><td>0</td><td>0</td><td>1</td><td>2</td></tr>\n",
       "\t<tr><td>Saint Kitts and Nevis                     </td><td>1</td><td>0</td><td>1</td><td>0</td><td>2</td></tr>\n",
       "\t<tr><td>Saint Lucia                               </td><td>1</td><td>0</td><td>1</td><td>0</td><td>2</td></tr>\n",
       "\t<tr><td>Saint Vincent and the Grenadines          </td><td>1</td><td>0</td><td>1</td><td>0</td><td>2</td></tr>\n",
       "\t<tr><td>Seychelles                                </td><td>1</td><td>0</td><td>0</td><td>1</td><td>2</td></tr>\n",
       "\t<tr><td>Tuvalu                                    </td><td>1</td><td>0</td><td>0</td><td>1</td><td>2</td></tr>\n",
       "</tbody>\n",
       "</table>\n"
      ],
      "text/latex": [
       "A tibble: 102 × 6\n",
       "\\begin{tabular}{llllll}\n",
       " country & pm & euets & weather & wb & total\\\\\n",
       " <chr> & <dbl> & <dbl> & <dbl> & <dbl> & <dbl>\\\\\n",
       "\\hline\n",
       "\t NER 300 auctions                              & 0 & 1 & 0 & 0 & 1\\\\\n",
       "\t Congo Brazzaville                             & 0 & 0 & 1 & 0 & 1\\\\\n",
       "\t FInland                                       & 0 & 0 & 1 & 0 & 1\\\\\n",
       "\t Jersey                                        & 0 & 0 & 1 & 0 & 1\\\\\n",
       "\t Palestine                                     & 0 & 0 & 1 & 0 & 1\\\\\n",
       "\t South Korea                                   & 0 & 0 & 1 & 0 & 1\\\\\n",
       "\t Svalbard and Jan Mayen                        & 0 & 0 & 1 & 0 & 1\\\\\n",
       "\t Turks \\& Caicos Islands                        & 0 & 0 & 1 & 0 & 1\\\\\n",
       "\t Vatican City                                  & 0 & 0 & 1 & 0 & 1\\\\\n",
       "\t Africa Eastern and Southern                   & 0 & 0 & 0 & 1 & 1\\\\\n",
       "\t Africa Western and Central                    & 0 & 0 & 0 & 1 & 1\\\\\n",
       "\t American Samoa                                & 0 & 0 & 0 & 1 & 1\\\\\n",
       "\t Arab World                                    & 0 & 0 & 0 & 1 & 1\\\\\n",
       "\t Aruba                                         & 0 & 0 & 0 & 1 & 1\\\\\n",
       "\t Bermuda                                       & 0 & 0 & 0 & 1 & 1\\\\\n",
       "\t British Virgin Islands                        & 0 & 0 & 0 & 1 & 1\\\\\n",
       "\t Caribbean small states                        & 0 & 0 & 0 & 1 & 1\\\\\n",
       "\t Cayman Islands                                & 0 & 0 & 0 & 1 & 1\\\\\n",
       "\t Central Europe and the Baltics                & 0 & 0 & 0 & 1 & 1\\\\\n",
       "\t Channel Islands                               & 0 & 0 & 0 & 1 & 1\\\\\n",
       "\t Curacao                                       & 0 & 0 & 0 & 1 & 1\\\\\n",
       "\t Early-demographic dividend                    & 0 & 0 & 0 & 1 & 1\\\\\n",
       "\t East Asia \\& Pacific                           & 0 & 0 & 0 & 1 & 1\\\\\n",
       "\t East Asia \\& Pacific (IDA \\& IBRD countries)    & 0 & 0 & 0 & 1 & 1\\\\\n",
       "\t East Asia \\& Pacific (excluding high income)   & 0 & 0 & 0 & 1 & 1\\\\\n",
       "\t Euro area                                     & 0 & 0 & 0 & 1 & 1\\\\\n",
       "\t Europe \\& Central Asia                         & 0 & 0 & 0 & 1 & 1\\\\\n",
       "\t Europe \\& Central Asia (IDA \\& IBRD countries)  & 0 & 0 & 0 & 1 & 1\\\\\n",
       "\t Europe \\& Central Asia (excluding high income) & 0 & 0 & 0 & 1 & 1\\\\\n",
       "\t European Union                                & 0 & 0 & 0 & 1 & 1\\\\\n",
       "\t ⋮ & ⋮ & ⋮ & ⋮ & ⋮ & ⋮\\\\\n",
       "\t Sub-Saharan Africa (IDA \\& IBRD countries)  & 0 & 0 & 0 & 1 & 1\\\\\n",
       "\t Sub-Saharan Africa (excluding high income) & 0 & 0 & 0 & 1 & 1\\\\\n",
       "\t Turks and Caicos Islands                   & 0 & 0 & 0 & 1 & 1\\\\\n",
       "\t Upper middle income                        & 0 & 0 & 0 & 1 & 1\\\\\n",
       "\t Virgin Islands (U.S.)                      & 0 & 0 & 0 & 1 & 1\\\\\n",
       "\t West Bank and Gaza                         & 0 & 0 & 0 & 1 & 1\\\\\n",
       "\t World                                      & 0 & 0 & 0 & 1 & 1\\\\\n",
       "\t Cote d'Ivoire                              & 0 & 0 & 1 & 1 & 2\\\\\n",
       "\t French Polynesia                           & 0 & 0 & 1 & 1 & 2\\\\\n",
       "\t Gibraltar                                  & 0 & 0 & 1 & 1 & 2\\\\\n",
       "\t Greenland                                  & 0 & 0 & 1 & 1 & 2\\\\\n",
       "\t Isle of Man                                & 0 & 0 & 1 & 1 & 2\\\\\n",
       "\t Kosovo                                     & 0 & 0 & 1 & 1 & 2\\\\\n",
       "\t Tanzania                                   & 0 & 0 & 1 & 1 & 2\\\\\n",
       "\t Congo                                      & 1 & 0 & 0 & 0 & 1\\\\\n",
       "\t Cook Islands                               & 1 & 0 & 0 & 0 & 1\\\\\n",
       "\t Côte d’Ivoire                              & 1 & 0 & 0 & 0 & 1\\\\\n",
       "\t Niue                                       & 1 & 0 & 0 & 0 & 1\\\\\n",
       "\t Occupied Palestinian territory             & 1 & 0 & 0 & 0 & 1\\\\\n",
       "\t United Republic of Tanzania                & 1 & 0 & 0 & 0 & 1\\\\\n",
       "\t Korea                                      & 1 & 0 & 0 & 1 & 2\\\\\n",
       "\t Maldives                                   & 1 & 0 & 0 & 1 & 2\\\\\n",
       "\t Marshall Islands                           & 1 & 0 & 0 & 1 & 2\\\\\n",
       "\t Nauru                                      & 1 & 0 & 0 & 1 & 2\\\\\n",
       "\t Palau                                      & 1 & 0 & 0 & 1 & 2\\\\\n",
       "\t Saint Kitts and Nevis                      & 1 & 0 & 1 & 0 & 2\\\\\n",
       "\t Saint Lucia                                & 1 & 0 & 1 & 0 & 2\\\\\n",
       "\t Saint Vincent and the Grenadines           & 1 & 0 & 1 & 0 & 2\\\\\n",
       "\t Seychelles                                 & 1 & 0 & 0 & 1 & 2\\\\\n",
       "\t Tuvalu                                     & 1 & 0 & 0 & 1 & 2\\\\\n",
       "\\end{tabular}\n"
      ],
      "text/markdown": [
       "\n",
       "A tibble: 102 × 6\n",
       "\n",
       "| country &lt;chr&gt; | pm &lt;dbl&gt; | euets &lt;dbl&gt; | weather &lt;dbl&gt; | wb &lt;dbl&gt; | total &lt;dbl&gt; |\n",
       "|---|---|---|---|---|---|\n",
       "| NER 300 auctions                              | 0 | 1 | 0 | 0 | 1 |\n",
       "| Congo Brazzaville                             | 0 | 0 | 1 | 0 | 1 |\n",
       "| FInland                                       | 0 | 0 | 1 | 0 | 1 |\n",
       "| Jersey                                        | 0 | 0 | 1 | 0 | 1 |\n",
       "| Palestine                                     | 0 | 0 | 1 | 0 | 1 |\n",
       "| South Korea                                   | 0 | 0 | 1 | 0 | 1 |\n",
       "| Svalbard and Jan Mayen                        | 0 | 0 | 1 | 0 | 1 |\n",
       "| Turks &amp; Caicos Islands                        | 0 | 0 | 1 | 0 | 1 |\n",
       "| Vatican City                                  | 0 | 0 | 1 | 0 | 1 |\n",
       "| Africa Eastern and Southern                   | 0 | 0 | 0 | 1 | 1 |\n",
       "| Africa Western and Central                    | 0 | 0 | 0 | 1 | 1 |\n",
       "| American Samoa                                | 0 | 0 | 0 | 1 | 1 |\n",
       "| Arab World                                    | 0 | 0 | 0 | 1 | 1 |\n",
       "| Aruba                                         | 0 | 0 | 0 | 1 | 1 |\n",
       "| Bermuda                                       | 0 | 0 | 0 | 1 | 1 |\n",
       "| British Virgin Islands                        | 0 | 0 | 0 | 1 | 1 |\n",
       "| Caribbean small states                        | 0 | 0 | 0 | 1 | 1 |\n",
       "| Cayman Islands                                | 0 | 0 | 0 | 1 | 1 |\n",
       "| Central Europe and the Baltics                | 0 | 0 | 0 | 1 | 1 |\n",
       "| Channel Islands                               | 0 | 0 | 0 | 1 | 1 |\n",
       "| Curacao                                       | 0 | 0 | 0 | 1 | 1 |\n",
       "| Early-demographic dividend                    | 0 | 0 | 0 | 1 | 1 |\n",
       "| East Asia &amp; Pacific                           | 0 | 0 | 0 | 1 | 1 |\n",
       "| East Asia &amp; Pacific (IDA &amp; IBRD countries)    | 0 | 0 | 0 | 1 | 1 |\n",
       "| East Asia &amp; Pacific (excluding high income)   | 0 | 0 | 0 | 1 | 1 |\n",
       "| Euro area                                     | 0 | 0 | 0 | 1 | 1 |\n",
       "| Europe &amp; Central Asia                         | 0 | 0 | 0 | 1 | 1 |\n",
       "| Europe &amp; Central Asia (IDA &amp; IBRD countries)  | 0 | 0 | 0 | 1 | 1 |\n",
       "| Europe &amp; Central Asia (excluding high income) | 0 | 0 | 0 | 1 | 1 |\n",
       "| European Union                                | 0 | 0 | 0 | 1 | 1 |\n",
       "| ⋮ | ⋮ | ⋮ | ⋮ | ⋮ | ⋮ |\n",
       "| Sub-Saharan Africa (IDA &amp; IBRD countries)  | 0 | 0 | 0 | 1 | 1 |\n",
       "| Sub-Saharan Africa (excluding high income) | 0 | 0 | 0 | 1 | 1 |\n",
       "| Turks and Caicos Islands                   | 0 | 0 | 0 | 1 | 1 |\n",
       "| Upper middle income                        | 0 | 0 | 0 | 1 | 1 |\n",
       "| Virgin Islands (U.S.)                      | 0 | 0 | 0 | 1 | 1 |\n",
       "| West Bank and Gaza                         | 0 | 0 | 0 | 1 | 1 |\n",
       "| World                                      | 0 | 0 | 0 | 1 | 1 |\n",
       "| Cote d'Ivoire                              | 0 | 0 | 1 | 1 | 2 |\n",
       "| French Polynesia                           | 0 | 0 | 1 | 1 | 2 |\n",
       "| Gibraltar                                  | 0 | 0 | 1 | 1 | 2 |\n",
       "| Greenland                                  | 0 | 0 | 1 | 1 | 2 |\n",
       "| Isle of Man                                | 0 | 0 | 1 | 1 | 2 |\n",
       "| Kosovo                                     | 0 | 0 | 1 | 1 | 2 |\n",
       "| Tanzania                                   | 0 | 0 | 1 | 1 | 2 |\n",
       "| Congo                                      | 1 | 0 | 0 | 0 | 1 |\n",
       "| Cook Islands                               | 1 | 0 | 0 | 0 | 1 |\n",
       "| Côte d’Ivoire                              | 1 | 0 | 0 | 0 | 1 |\n",
       "| Niue                                       | 1 | 0 | 0 | 0 | 1 |\n",
       "| Occupied Palestinian territory             | 1 | 0 | 0 | 0 | 1 |\n",
       "| United Republic of Tanzania                | 1 | 0 | 0 | 0 | 1 |\n",
       "| Korea                                      | 1 | 0 | 0 | 1 | 2 |\n",
       "| Maldives                                   | 1 | 0 | 0 | 1 | 2 |\n",
       "| Marshall Islands                           | 1 | 0 | 0 | 1 | 2 |\n",
       "| Nauru                                      | 1 | 0 | 0 | 1 | 2 |\n",
       "| Palau                                      | 1 | 0 | 0 | 1 | 2 |\n",
       "| Saint Kitts and Nevis                      | 1 | 0 | 1 | 0 | 2 |\n",
       "| Saint Lucia                                | 1 | 0 | 1 | 0 | 2 |\n",
       "| Saint Vincent and the Grenadines           | 1 | 0 | 1 | 0 | 2 |\n",
       "| Seychelles                                 | 1 | 0 | 0 | 1 | 2 |\n",
       "| Tuvalu                                     | 1 | 0 | 0 | 1 | 2 |\n",
       "\n"
      ],
      "text/plain": [
       "    country                                       pm euets weather wb total\n",
       "1   NER 300 auctions                              0  1     0       0  1    \n",
       "2   Congo Brazzaville                             0  0     1       0  1    \n",
       "3   FInland                                       0  0     1       0  1    \n",
       "4   Jersey                                        0  0     1       0  1    \n",
       "5   Palestine                                     0  0     1       0  1    \n",
       "6   South Korea                                   0  0     1       0  1    \n",
       "7   Svalbard and Jan Mayen                        0  0     1       0  1    \n",
       "8   Turks & Caicos Islands                        0  0     1       0  1    \n",
       "9   Vatican City                                  0  0     1       0  1    \n",
       "10  Africa Eastern and Southern                   0  0     0       1  1    \n",
       "11  Africa Western and Central                    0  0     0       1  1    \n",
       "12  American Samoa                                0  0     0       1  1    \n",
       "13  Arab World                                    0  0     0       1  1    \n",
       "14  Aruba                                         0  0     0       1  1    \n",
       "15  Bermuda                                       0  0     0       1  1    \n",
       "16  British Virgin Islands                        0  0     0       1  1    \n",
       "17  Caribbean small states                        0  0     0       1  1    \n",
       "18  Cayman Islands                                0  0     0       1  1    \n",
       "19  Central Europe and the Baltics                0  0     0       1  1    \n",
       "20  Channel Islands                               0  0     0       1  1    \n",
       "21  Curacao                                       0  0     0       1  1    \n",
       "22  Early-demographic dividend                    0  0     0       1  1    \n",
       "23  East Asia & Pacific                           0  0     0       1  1    \n",
       "24  East Asia & Pacific (IDA & IBRD countries)    0  0     0       1  1    \n",
       "25  East Asia & Pacific (excluding high income)   0  0     0       1  1    \n",
       "26  Euro area                                     0  0     0       1  1    \n",
       "27  Europe & Central Asia                         0  0     0       1  1    \n",
       "28  Europe & Central Asia (IDA & IBRD countries)  0  0     0       1  1    \n",
       "29  Europe & Central Asia (excluding high income) 0  0     0       1  1    \n",
       "30  European Union                                0  0     0       1  1    \n",
       "⋮   ⋮                                             ⋮  ⋮     ⋮       ⋮  ⋮    \n",
       "73  Sub-Saharan Africa (IDA & IBRD countries)     0  0     0       1  1    \n",
       "74  Sub-Saharan Africa (excluding high income)    0  0     0       1  1    \n",
       "75  Turks and Caicos Islands                      0  0     0       1  1    \n",
       "76  Upper middle income                           0  0     0       1  1    \n",
       "77  Virgin Islands (U.S.)                         0  0     0       1  1    \n",
       "78  West Bank and Gaza                            0  0     0       1  1    \n",
       "79  World                                         0  0     0       1  1    \n",
       "80  Cote d'Ivoire                                 0  0     1       1  2    \n",
       "81  French Polynesia                              0  0     1       1  2    \n",
       "82  Gibraltar                                     0  0     1       1  2    \n",
       "83  Greenland                                     0  0     1       1  2    \n",
       "84  Isle of Man                                   0  0     1       1  2    \n",
       "85  Kosovo                                        0  0     1       1  2    \n",
       "86  Tanzania                                      0  0     1       1  2    \n",
       "87  Congo                                         1  0     0       0  1    \n",
       "88  Cook Islands                                  1  0     0       0  1    \n",
       "89  Côte d’Ivoire                                 1  0     0       0  1    \n",
       "90  Niue                                          1  0     0       0  1    \n",
       "91  Occupied Palestinian territory                1  0     0       0  1    \n",
       "92  United Republic of Tanzania                   1  0     0       0  1    \n",
       "93  Korea                                         1  0     0       1  2    \n",
       "94  Maldives                                      1  0     0       1  2    \n",
       "95  Marshall Islands                              1  0     0       1  2    \n",
       "96  Nauru                                         1  0     0       1  2    \n",
       "97  Palau                                         1  0     0       1  2    \n",
       "98  Saint Kitts and Nevis                         1  0     1       0  2    \n",
       "99  Saint Lucia                                   1  0     1       0  2    \n",
       "100 Saint Vincent and the Grenadines              1  0     1       0  2    \n",
       "101 Seychelles                                    1  0     0       1  2    \n",
       "102 Tuvalu                                        1  0     0       1  2    "
      ]
     },
     "metadata": {},
     "output_type": "display_data"
    }
   ],
   "source": [
    "  # Select unique combinations of \"country\" and \"country_code\" from pm25_final\n",
    "  pm25_unique <- pm25_final_mapped %>%\n",
    "    select(country) %>%\n",
    "    unique()\n",
    "\n",
    "  pm25_unique$pm <- 1\n",
    "\n",
    "  # Select unique combinations of \"country\" and \"country_code\" from eu_ets_final\n",
    "  eu_ets_unique <- eu_ets_final_mapped %>%\n",
    "    select(country) %>%\n",
    "    unique()\n",
    "\n",
    "  eu_ets_unique$euets <- 1\n",
    "\n",
    "  # Select unique combinations of \"country\" and \"country_code\" from weather_final\n",
    "  weather_unique <- weather_final_mapped %>%\n",
    "    select(country) %>%\n",
    "    unique()\n",
    "\n",
    "  weather_unique$weather <- 1\n",
    "\n",
    "  # Select unique combinations of \"country\" and \"country_code\" from wb_indicators_final\n",
    "  wb_indicators_unique <- wb_indicators_final_mapped %>%\n",
    "    select(country) %>%\n",
    "    unique()\n",
    "\n",
    "  wb_indicators_unique$wb <- 1\n",
    "\n",
    "# Union the datasets\n",
    "unioned_dimensions <- bind_rows(pm25_unique, eu_ets_unique, weather_unique, wb_indicators_unique)\n",
    "\n",
    "# Add origin indicators to each dataset\n",
    "pm25_unique$pm <- 1\n",
    "eu_ets_unique$euets <- 1\n",
    "weather_unique$weather <- 1\n",
    "wb_indicators_unique$wb <- 1\n",
    "\n",
    "# Perform full joins\n",
    "joined_df <- full_join(pm25_unique, eu_ets_unique, by = \"country\") %>%\n",
    "             full_join(weather_unique, by = \"country\") %>%\n",
    "             full_join(wb_indicators_unique, by = \"country\")\n",
    "\n",
    "joined_df[is.na(joined_df)] <- 0\n",
    "\n",
    "joined_df$total = joined_df$pm + joined_df$euets + joined_df$weather + joined_df$wb\n",
    "\n",
    "joined_df <- joined_df %>% arrange (pm, total)\n",
    "\n",
    "joined_df[joined_df$total < 3,]\n"
   ]
  }
 ],
 "metadata": {
  "kernelspec": {
   "display_name": "R",
   "language": "R",
   "name": "ir"
  },
  "language_info": {
   "codemirror_mode": "r",
   "file_extension": ".r",
   "mimetype": "text/x-r-source",
   "name": "R",
   "pygments_lexer": "r",
   "version": "4.3.1"
  }
 },
 "nbformat": 4,
 "nbformat_minor": 2
}

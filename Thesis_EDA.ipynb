{
 "cells": [
  {
   "cell_type": "markdown",
   "metadata": {},
   "source": [
    "## ***Todositos***\n",
    "\n",
    "1 - ~~Implement changes for BPA (23)~~\n",
    "\n",
    "2 - ~~Reply to Pavel (23)~~\n",
    "\n",
    "3 - ~~Initiate a slide for RR presentation (23)~~\n",
    "\n",
    "4 - ~~Complete data description slide (23)~~\n",
    "\n",
    "5 - Collect all datasets in one dataframe (23)\n",
    "\n",
    "6 - Do EDA, gap analysis (24)\n",
    "\n",
    "7 - Write down an email to Ł, explain the data source found and give link to notebook (24)"
   ]
  },
  {
   "cell_type": "code",
   "execution_count": 245,
   "metadata": {
    "vscode": {
     "languageId": "r"
    }
   },
   "outputs": [
    {
     "name": "stderr",
     "output_type": "stream",
     "text": [
      "Warning message:\n",
      "\"package 'reshape2' is in use and will not be installed\"\n"
     ]
    }
   ],
   "source": [
    "library(tidyverse)\n",
    "library(dplyr)\n",
    "library(\"readxl\")\n",
    "install.packages(\"reshape2\")\n",
    "library(reshape2)"
   ]
  },
  {
   "cell_type": "markdown",
   "metadata": {},
   "source": [
    "**Processing World Bank indicators**"
   ]
  },
  {
   "cell_type": "code",
   "execution_count": 246,
   "metadata": {
    "vscode": {
     "languageId": "r"
    }
   },
   "outputs": [
    {
     "name": "stderr",
     "output_type": "stream",
     "text": [
      "Warning message in eval(expr, envir, enclos):\n",
      "\"NAs introduced by coercion\"\n"
     ]
    },
    {
     "name": "stdout",
     "output_type": "stream",
     "text": [
      "[1] 13233    32\n"
     ]
    },
    {
     "data": {
      "text/html": [
       "<table class=\"dataframe\">\n",
       "<caption>A tibble: 6 × 32</caption>\n",
       "<thead>\n",
       "\t<tr><th scope=col>country</th><th scope=col>country_code</th><th scope=col>year</th><th scope=col>EN.URB.LCTY.UR.ZS</th><th scope=col>SP.POP.GROW</th><th scope=col>EN.POP.DNST</th><th scope=col>NY.GDP.PCAP.CD</th><th scope=col>SP.POP.TOTL</th><th scope=col>EN.ATM.CO2E.SF.ZS</th><th scope=col>EN.ATM.CO2E.LF.ZS</th><th scope=col>⋯</th><th scope=col>EG.USE.COMM.FO.ZS</th><th scope=col>NY.GDP.PCAP.KD.ZG</th><th scope=col>NV.SRV.TOTL.ZS</th><th scope=col>NV.IND.TOTL.ZS</th><th scope=col>NV.AGR.TOTL.ZS</th><th scope=col>EN.ATM.CO2E.PC</th><th scope=col>EN.ATM.CO2E.KT</th><th scope=col>EN.ATM.GHGT.KT.CE</th><th scope=col>EG.FEC.RNEW.ZS</th><th scope=col>NY.ADJ.DPEM.GN.ZS</th></tr>\n",
       "\t<tr><th scope=col>&lt;chr&gt;</th><th scope=col>&lt;chr&gt;</th><th scope=col>&lt;dbl&gt;</th><th scope=col>&lt;dbl&gt;</th><th scope=col>&lt;dbl&gt;</th><th scope=col>&lt;dbl&gt;</th><th scope=col>&lt;dbl&gt;</th><th scope=col>&lt;dbl&gt;</th><th scope=col>&lt;dbl&gt;</th><th scope=col>&lt;dbl&gt;</th><th scope=col>⋯</th><th scope=col>&lt;dbl&gt;</th><th scope=col>&lt;dbl&gt;</th><th scope=col>&lt;dbl&gt;</th><th scope=col>&lt;dbl&gt;</th><th scope=col>&lt;dbl&gt;</th><th scope=col>&lt;dbl&gt;</th><th scope=col>&lt;dbl&gt;</th><th scope=col>&lt;dbl&gt;</th><th scope=col>&lt;dbl&gt;</th><th scope=col>&lt;dbl&gt;</th></tr>\n",
       "</thead>\n",
       "<tbody>\n",
       "\t<tr><td>Afghanistan</td><td>AFG</td><td>1973</td><td>38.65707</td><td>2.524421</td><td>17.74727</td><td>149.7441</td><td>11575305</td><td>19.01566</td><td>42.95302</td><td>⋯</td><td>NA</td><td>NA</td><td>NA</td><td>NA</td><td>NA</td><td>NA</td><td>NA</td><td>NA</td><td>NA</td><td>NA</td></tr>\n",
       "\t<tr><td>Afghanistan</td><td>AFG</td><td>1974</td><td>39.61917</td><td>2.513007</td><td>18.19892</td><td>181.5988</td><td>11869879</td><td>15.86998</td><td>40.15296</td><td>⋯</td><td>NA</td><td>NA</td><td>NA</td><td>NA</td><td>NA</td><td>NA</td><td>NA</td><td>NA</td><td>NA</td><td>NA</td></tr>\n",
       "\t<tr><td>Afghanistan</td><td>AFG</td><td>1975</td><td>40.65717</td><td>2.393287</td><td>18.63972</td><td>194.6690</td><td>12157386</td><td>18.79310</td><td>41.20690</td><td>⋯</td><td>NA</td><td>NA</td><td>NA</td><td>NA</td><td>NA</td><td>NA</td><td>NA</td><td>NA</td><td>NA</td><td>NA</td></tr>\n",
       "\t<tr><td>Afghanistan</td><td>AFG</td><td>1976</td><td>41.82373</td><td>2.179517</td><td>19.05044</td><td>205.6741</td><td>12425267</td><td>21.40221</td><td>44.46494</td><td>⋯</td><td>NA</td><td>NA</td><td>NA</td><td>NA</td><td>NA</td><td>NA</td><td>NA</td><td>NA</td><td>NA</td><td>NA</td></tr>\n",
       "\t<tr><td>Afghanistan</td><td>AFG</td><td>1977</td><td>43.06502</td><td>2.086951</td><td>19.45219</td><td>232.7787</td><td>12687301</td><td>18.86503</td><td>40.79755</td><td>⋯</td><td>NA</td><td>NA</td><td>NA</td><td>NA</td><td>NA</td><td>NA</td><td>NA</td><td>NA</td><td>NA</td><td>NA</td></tr>\n",
       "\t<tr><td>Afghanistan</td><td>AFG</td><td>1978</td><td>44.40577</td><td>1.963377</td><td>19.83788</td><td>255.0456</td><td>12938862</td><td>26.65535</td><td>43.29372</td><td>⋯</td><td>NA</td><td>NA</td><td>NA</td><td>NA</td><td>NA</td><td>NA</td><td>NA</td><td>NA</td><td>NA</td><td>NA</td></tr>\n",
       "</tbody>\n",
       "</table>\n"
      ],
      "text/latex": [
       "A tibble: 6 × 32\n",
       "\\begin{tabular}{lllllllllllllllllllll}\n",
       " country & country\\_code & year & EN.URB.LCTY.UR.ZS & SP.POP.GROW & EN.POP.DNST & NY.GDP.PCAP.CD & SP.POP.TOTL & EN.ATM.CO2E.SF.ZS & EN.ATM.CO2E.LF.ZS & ⋯ & EG.USE.COMM.FO.ZS & NY.GDP.PCAP.KD.ZG & NV.SRV.TOTL.ZS & NV.IND.TOTL.ZS & NV.AGR.TOTL.ZS & EN.ATM.CO2E.PC & EN.ATM.CO2E.KT & EN.ATM.GHGT.KT.CE & EG.FEC.RNEW.ZS & NY.ADJ.DPEM.GN.ZS\\\\\n",
       " <chr> & <chr> & <dbl> & <dbl> & <dbl> & <dbl> & <dbl> & <dbl> & <dbl> & <dbl> & ⋯ & <dbl> & <dbl> & <dbl> & <dbl> & <dbl> & <dbl> & <dbl> & <dbl> & <dbl> & <dbl>\\\\\n",
       "\\hline\n",
       "\t Afghanistan & AFG & 1973 & 38.65707 & 2.524421 & 17.74727 & 149.7441 & 11575305 & 19.01566 & 42.95302 & ⋯ & NA & NA & NA & NA & NA & NA & NA & NA & NA & NA\\\\\n",
       "\t Afghanistan & AFG & 1974 & 39.61917 & 2.513007 & 18.19892 & 181.5988 & 11869879 & 15.86998 & 40.15296 & ⋯ & NA & NA & NA & NA & NA & NA & NA & NA & NA & NA\\\\\n",
       "\t Afghanistan & AFG & 1975 & 40.65717 & 2.393287 & 18.63972 & 194.6690 & 12157386 & 18.79310 & 41.20690 & ⋯ & NA & NA & NA & NA & NA & NA & NA & NA & NA & NA\\\\\n",
       "\t Afghanistan & AFG & 1976 & 41.82373 & 2.179517 & 19.05044 & 205.6741 & 12425267 & 21.40221 & 44.46494 & ⋯ & NA & NA & NA & NA & NA & NA & NA & NA & NA & NA\\\\\n",
       "\t Afghanistan & AFG & 1977 & 43.06502 & 2.086951 & 19.45219 & 232.7787 & 12687301 & 18.86503 & 40.79755 & ⋯ & NA & NA & NA & NA & NA & NA & NA & NA & NA & NA\\\\\n",
       "\t Afghanistan & AFG & 1978 & 44.40577 & 1.963377 & 19.83788 & 255.0456 & 12938862 & 26.65535 & 43.29372 & ⋯ & NA & NA & NA & NA & NA & NA & NA & NA & NA & NA\\\\\n",
       "\\end{tabular}\n"
      ],
      "text/markdown": [
       "\n",
       "A tibble: 6 × 32\n",
       "\n",
       "| country &lt;chr&gt; | country_code &lt;chr&gt; | year &lt;dbl&gt; | EN.URB.LCTY.UR.ZS &lt;dbl&gt; | SP.POP.GROW &lt;dbl&gt; | EN.POP.DNST &lt;dbl&gt; | NY.GDP.PCAP.CD &lt;dbl&gt; | SP.POP.TOTL &lt;dbl&gt; | EN.ATM.CO2E.SF.ZS &lt;dbl&gt; | EN.ATM.CO2E.LF.ZS &lt;dbl&gt; | ⋯ ⋯ | EG.USE.COMM.FO.ZS &lt;dbl&gt; | NY.GDP.PCAP.KD.ZG &lt;dbl&gt; | NV.SRV.TOTL.ZS &lt;dbl&gt; | NV.IND.TOTL.ZS &lt;dbl&gt; | NV.AGR.TOTL.ZS &lt;dbl&gt; | EN.ATM.CO2E.PC &lt;dbl&gt; | EN.ATM.CO2E.KT &lt;dbl&gt; | EN.ATM.GHGT.KT.CE &lt;dbl&gt; | EG.FEC.RNEW.ZS &lt;dbl&gt; | NY.ADJ.DPEM.GN.ZS &lt;dbl&gt; |\n",
       "|---|---|---|---|---|---|---|---|---|---|---|---|---|---|---|---|---|---|---|---|---|\n",
       "| Afghanistan | AFG | 1973 | 38.65707 | 2.524421 | 17.74727 | 149.7441 | 11575305 | 19.01566 | 42.95302 | ⋯ | NA | NA | NA | NA | NA | NA | NA | NA | NA | NA |\n",
       "| Afghanistan | AFG | 1974 | 39.61917 | 2.513007 | 18.19892 | 181.5988 | 11869879 | 15.86998 | 40.15296 | ⋯ | NA | NA | NA | NA | NA | NA | NA | NA | NA | NA |\n",
       "| Afghanistan | AFG | 1975 | 40.65717 | 2.393287 | 18.63972 | 194.6690 | 12157386 | 18.79310 | 41.20690 | ⋯ | NA | NA | NA | NA | NA | NA | NA | NA | NA | NA |\n",
       "| Afghanistan | AFG | 1976 | 41.82373 | 2.179517 | 19.05044 | 205.6741 | 12425267 | 21.40221 | 44.46494 | ⋯ | NA | NA | NA | NA | NA | NA | NA | NA | NA | NA |\n",
       "| Afghanistan | AFG | 1977 | 43.06502 | 2.086951 | 19.45219 | 232.7787 | 12687301 | 18.86503 | 40.79755 | ⋯ | NA | NA | NA | NA | NA | NA | NA | NA | NA | NA |\n",
       "| Afghanistan | AFG | 1978 | 44.40577 | 1.963377 | 19.83788 | 255.0456 | 12938862 | 26.65535 | 43.29372 | ⋯ | NA | NA | NA | NA | NA | NA | NA | NA | NA | NA |\n",
       "\n"
      ],
      "text/plain": [
       "  country     country_code year EN.URB.LCTY.UR.ZS SP.POP.GROW EN.POP.DNST\n",
       "1 Afghanistan AFG          1973 38.65707          2.524421    17.74727   \n",
       "2 Afghanistan AFG          1974 39.61917          2.513007    18.19892   \n",
       "3 Afghanistan AFG          1975 40.65717          2.393287    18.63972   \n",
       "4 Afghanistan AFG          1976 41.82373          2.179517    19.05044   \n",
       "5 Afghanistan AFG          1977 43.06502          2.086951    19.45219   \n",
       "6 Afghanistan AFG          1978 44.40577          1.963377    19.83788   \n",
       "  NY.GDP.PCAP.CD SP.POP.TOTL EN.ATM.CO2E.SF.ZS EN.ATM.CO2E.LF.ZS ⋯\n",
       "1 149.7441       11575305    19.01566          42.95302          ⋯\n",
       "2 181.5988       11869879    15.86998          40.15296          ⋯\n",
       "3 194.6690       12157386    18.79310          41.20690          ⋯\n",
       "4 205.6741       12425267    21.40221          44.46494          ⋯\n",
       "5 232.7787       12687301    18.86503          40.79755          ⋯\n",
       "6 255.0456       12938862    26.65535          43.29372          ⋯\n",
       "  EG.USE.COMM.FO.ZS NY.GDP.PCAP.KD.ZG NV.SRV.TOTL.ZS NV.IND.TOTL.ZS\n",
       "1 NA                NA                NA             NA            \n",
       "2 NA                NA                NA             NA            \n",
       "3 NA                NA                NA             NA            \n",
       "4 NA                NA                NA             NA            \n",
       "5 NA                NA                NA             NA            \n",
       "6 NA                NA                NA             NA            \n",
       "  NV.AGR.TOTL.ZS EN.ATM.CO2E.PC EN.ATM.CO2E.KT EN.ATM.GHGT.KT.CE EG.FEC.RNEW.ZS\n",
       "1 NA             NA             NA             NA                NA            \n",
       "2 NA             NA             NA             NA                NA            \n",
       "3 NA             NA             NA             NA                NA            \n",
       "4 NA             NA             NA             NA                NA            \n",
       "5 NA             NA             NA             NA                NA            \n",
       "6 NA             NA             NA             NA                NA            \n",
       "  NY.ADJ.DPEM.GN.ZS\n",
       "1 NA               \n",
       "2 NA               \n",
       "3 NA               \n",
       "4 NA               \n",
       "5 NA               \n",
       "6 NA               "
      ]
     },
     "metadata": {},
     "output_type": "display_data"
    }
   ],
   "source": [
    "# Read indicators from World Bank\n",
    "wb_indicators_raw <- read_excel(\"Data\\\\WDI - WorldBank\\\\Indicators.xlsx\", sheet = \"Data\")\n",
    "# Melt dataset to put years to rows\n",
    "wb_indicators_melted <- melt(wb_indicators_raw, id.vars = c(\"Country Name\", \"Country Code\", \"Series Code\", \"Series Name\"), \n",
    "                  variable.name = \"Year\", value.name = \"Value\")\n",
    "# Convert the 'Value' column to numeric, coerce errors\n",
    "wb_indicators_melted$Value <- as.numeric(as.character(wb_indicators_melted$Value))\n",
    "# Clean and convert the 'Year' column to numeric\n",
    "wb_indicators_melted$Year <- gsub(\"\\\\[.*\\\\]\", \"\", wb_indicators_melted$Year)\n",
    "wb_indicators_melted$Year <- as.numeric(wb_indicators_melted$Year)\n",
    "# Drop NAs\n",
    "wb_indicators_long <- na.omit(wb_indicators_melted)\n",
    "# Convert to wide format, representing each indicator as a column\n",
    "wb_indicators_wide <- pivot_wider(wb_indicators_long, \n",
    "                          id_cols = c(\"Country Name\", \"Country Code\", \"Year\"),  # List the columns you want to keep as base dimensions\n",
    "                          names_from = \"Series Code\", \n",
    "                          values_from = \"Value\")\n",
    "# Rename columns\n",
    "wb_indicators_final <- wb_indicators_wide %>%\n",
    "        rename(!!!setNames(c(\"Country Name\", \"Country Code\", \"Year\"), c(\"country\", \"country_code\", \"year\")))\n",
    "# Sort dataset\n",
    "wb_indicators_final <- wb_indicators_final %>% arrange (country, year)\n",
    "# Check final dataset\n",
    "print(dim(wb_indicators_final))\n",
    "head(wb_indicators_final)"
   ]
  },
  {
   "cell_type": "markdown",
   "metadata": {},
   "source": [
    "**Processing weather variables**"
   ]
  },
  {
   "cell_type": "code",
   "execution_count": 247,
   "metadata": {
    "vscode": {
     "languageId": "r"
    }
   },
   "outputs": [
    {
     "name": "stdout",
     "output_type": "stream",
     "text": [
      "[1] \"precipitation_final: 6666 rows\"\n",
      "[1] \"humidity_final: 6666 rows\"\n",
      "[1] \"avg_surface_temp_final: 6666 rows\"\n",
      "[1] \"weather_final: 6666 rows\"\n",
      "[1] 6666    6\n"
     ]
    },
    {
     "data": {
      "text/html": [
       "<table class=\"dataframe\">\n",
       "<caption>A data.frame: 6 × 6</caption>\n",
       "<thead>\n",
       "\t<tr><th></th><th scope=col>country</th><th scope=col>country_code</th><th scope=col>year</th><th scope=col>precipitation</th><th scope=col>humidity</th><th scope=col>avg_surface_temp</th></tr>\n",
       "\t<tr><th></th><th scope=col>&lt;chr&gt;</th><th scope=col>&lt;chr&gt;</th><th scope=col>&lt;dbl&gt;</th><th scope=col>&lt;dbl&gt;</th><th scope=col>&lt;dbl&gt;</th><th scope=col>&lt;dbl&gt;</th></tr>\n",
       "</thead>\n",
       "<tbody>\n",
       "\t<tr><th scope=row>1</th><td>Afghanistan</td><td>AFG</td><td>1990</td><td>0.016</td><td>46.92</td><td>9.466</td></tr>\n",
       "\t<tr><th scope=row>2</th><td>Afghanistan</td><td>AFG</td><td>1991</td><td>0.021</td><td>50.84</td><td>8.369</td></tr>\n",
       "\t<tr><th scope=row>3</th><td>Afghanistan</td><td>AFG</td><td>1992</td><td>0.019</td><td>49.57</td><td>8.203</td></tr>\n",
       "\t<tr><th scope=row>4</th><td>Afghanistan</td><td>AFG</td><td>1993</td><td>0.014</td><td>46.11</td><td>8.754</td></tr>\n",
       "\t<tr><th scope=row>5</th><td>Afghanistan</td><td>AFG</td><td>1994</td><td>0.017</td><td>48.90</td><td>8.812</td></tr>\n",
       "\t<tr><th scope=row>6</th><td>Afghanistan</td><td>AFG</td><td>1995</td><td>0.016</td><td>45.20</td><td>8.728</td></tr>\n",
       "</tbody>\n",
       "</table>\n"
      ],
      "text/latex": [
       "A data.frame: 6 × 6\n",
       "\\begin{tabular}{r|llllll}\n",
       "  & country & country\\_code & year & precipitation & humidity & avg\\_surface\\_temp\\\\\n",
       "  & <chr> & <chr> & <dbl> & <dbl> & <dbl> & <dbl>\\\\\n",
       "\\hline\n",
       "\t1 & Afghanistan & AFG & 1990 & 0.016 & 46.92 & 9.466\\\\\n",
       "\t2 & Afghanistan & AFG & 1991 & 0.021 & 50.84 & 8.369\\\\\n",
       "\t3 & Afghanistan & AFG & 1992 & 0.019 & 49.57 & 8.203\\\\\n",
       "\t4 & Afghanistan & AFG & 1993 & 0.014 & 46.11 & 8.754\\\\\n",
       "\t5 & Afghanistan & AFG & 1994 & 0.017 & 48.90 & 8.812\\\\\n",
       "\t6 & Afghanistan & AFG & 1995 & 0.016 & 45.20 & 8.728\\\\\n",
       "\\end{tabular}\n"
      ],
      "text/markdown": [
       "\n",
       "A data.frame: 6 × 6\n",
       "\n",
       "| <!--/--> | country &lt;chr&gt; | country_code &lt;chr&gt; | year &lt;dbl&gt; | precipitation &lt;dbl&gt; | humidity &lt;dbl&gt; | avg_surface_temp &lt;dbl&gt; |\n",
       "|---|---|---|---|---|---|---|\n",
       "| 1 | Afghanistan | AFG | 1990 | 0.016 | 46.92 | 9.466 |\n",
       "| 2 | Afghanistan | AFG | 1991 | 0.021 | 50.84 | 8.369 |\n",
       "| 3 | Afghanistan | AFG | 1992 | 0.019 | 49.57 | 8.203 |\n",
       "| 4 | Afghanistan | AFG | 1993 | 0.014 | 46.11 | 8.754 |\n",
       "| 5 | Afghanistan | AFG | 1994 | 0.017 | 48.90 | 8.812 |\n",
       "| 6 | Afghanistan | AFG | 1995 | 0.016 | 45.20 | 8.728 |\n",
       "\n"
      ],
      "text/plain": [
       "  country     country_code year precipitation humidity avg_surface_temp\n",
       "1 Afghanistan AFG          1990 0.016         46.92    9.466           \n",
       "2 Afghanistan AFG          1991 0.021         50.84    8.369           \n",
       "3 Afghanistan AFG          1992 0.019         49.57    8.203           \n",
       "4 Afghanistan AFG          1993 0.014         46.11    8.754           \n",
       "5 Afghanistan AFG          1994 0.017         48.90    8.812           \n",
       "6 Afghanistan AFG          1995 0.016         45.20    8.728           "
      ]
     },
     "metadata": {},
     "output_type": "display_data"
    }
   ],
   "source": [
    "# Read weather datasets\n",
    "precipitation_raw = read_csv(\"Data\\\\Weather\\\\GDL-Total-Yearly-Precipitation-data.csv\", col_types = cols())\n",
    "humidity_raw = read_csv(\"Data\\\\Weather\\\\GDL-Yearly-Average-Relative-Humidity-data.csv\", col_types = cols())\n",
    "avg_surface_temp_raw = read_csv(\"Data\\\\Weather\\\\GDL-Yearly-Average-Surface-Temperature-(ºC)-data.csv\", col_types = cols())\n",
    "# Common fuction to melt and clean weather datasets\n",
    "clean_weather_datasets <- function (df, measure) {\n",
    "    # Melt dataset to put years to rows\n",
    "    df_melted <- melt(df, id.vars = c(\"Country\", \"Continent\", \"ISO_Code\", \"Level\", \"GDLCODE\", \"Region\"), \n",
    "                    variable.name = \"Year\", value.name = \"Value\")\n",
    "    # Convert the 'Value' column to numeric, coerce errors\n",
    "    df_melted[measure] <- as.numeric(df_melted$Value)\n",
    "    # Clean and convert the 'Year' column to numeric\n",
    "    df_melted$Year <- as.numeric(as.character(df_melted$Year))\n",
    "    # Drop NAs\n",
    "    df_final <- na.omit(df_melted)\n",
    "    # Drop unnecassary columns\n",
    "    cols_to_drop <- c(\"Continent\", \"Level\", \"GDLCODE\", \"Region\", \"Value\")\n",
    "    df_final <- df_final %>% select(-one_of(cols_to_drop))\n",
    "    # Rename columns\n",
    "    df_final <- df_final %>%\n",
    "        rename(!!!setNames(c(\"Country\", \"ISO_Code\", \"Year\"), c(\"country\", \"country_code\", \"year\")))\n",
    "    # Return cleaned dataframe\n",
    "    return (df_final)\n",
    "    }\n",
    "# Melt and clean weather datasets\n",
    "precipitation_final <- clean_weather_datasets(precipitation_raw, \"precipitation\")\n",
    "humidity_final <- clean_weather_datasets(humidity_raw, \"humidity\")\n",
    "avg_surface_temp_final <- clean_weather_datasets(avg_surface_temp_raw, \"avg_surface_temp\")\n",
    "# Check dimensions before join\n",
    "print(paste0(\"precipitation_final: \" ,dim(precipitation_final)[1], \" rows\"))\n",
    "print(paste0(\"humidity_final: \" ,dim(humidity_final)[1], \" rows\"))\n",
    "print(paste0(\"avg_surface_temp_final: \" ,dim(avg_surface_temp_final)[1], \" rows\"))\n",
    "# Inner join precipitation, humidity and avg surface temperature datasets\n",
    "weather_final <- inner_join(precipitation_final, humidity_final, by = c(\"country\", \"country_code\", \"year\")) %>%\n",
    "             inner_join(avg_surface_temp_final, by = c(\"country\", \"country_code\", \"year\"))\n",
    "# Check dimensions after inner join\n",
    "print(paste0(\"weather_final: \" ,dim(weather_final)[1], \" rows\"))\n",
    "# Sort dataset\n",
    "weather_final <- weather_final %>% arrange(country, year)\n",
    "# Check dataset\n",
    "print(dim(weather_final))\n",
    "head(weather_final)"
   ]
  },
  {
   "cell_type": "markdown",
   "metadata": {
    "vscode": {
     "languageId": "r"
    }
   },
   "source": [
    "**Processing EU ETS variables**"
   ]
  },
  {
   "cell_type": "code",
   "execution_count": 248,
   "metadata": {
    "vscode": {
     "languageId": "r"
    }
   },
   "outputs": [
    {
     "name": "stderr",
     "output_type": "stream",
     "text": [
      "\u001b[1m\u001b[22m`summarise()` has grouped output by 'country', 'country_code'. You can override\n",
      "using the `.groups` argument.\n"
     ]
    },
    {
     "name": "stdout",
     "output_type": "stream",
     "text": [
      "[1] 623   6\n"
     ]
    },
    {
     "data": {
      "text/html": [
       "<table class=\"dataframe\">\n",
       "<caption>A tibble: 6 × 6</caption>\n",
       "<thead>\n",
       "\t<tr><th scope=col>country</th><th scope=col>country_code</th><th scope=col>year</th><th scope=col>free_EUAs</th><th scope=col>total_EUAs</th><th scope=col>auctioned_sold_EUAs</th></tr>\n",
       "\t<tr><th scope=col>&lt;chr&gt;</th><th scope=col>&lt;chr&gt;</th><th scope=col>&lt;dbl&gt;</th><th scope=col>&lt;dbl&gt;</th><th scope=col>&lt;dbl&gt;</th><th scope=col>&lt;dbl&gt;</th></tr>\n",
       "</thead>\n",
       "<tbody>\n",
       "\t<tr><td>Austria</td><td>AT</td><td>2005</td><td>32412654</td><td>32412654</td><td>     0</td></tr>\n",
       "\t<tr><td>Austria</td><td>AT</td><td>2006</td><td>32649366</td><td>32649366</td><td>     0</td></tr>\n",
       "\t<tr><td>Austria</td><td>AT</td><td>2007</td><td>32729289</td><td>32729289</td><td>     0</td></tr>\n",
       "\t<tr><td>Austria</td><td>AT</td><td>2008</td><td>30718182</td><td>30718182</td><td>     0</td></tr>\n",
       "\t<tr><td>Austria</td><td>AT</td><td>2009</td><td>30313132</td><td>30718182</td><td>405050</td></tr>\n",
       "\t<tr><td>Austria</td><td>AT</td><td>2010</td><td>30563812</td><td>30963812</td><td>400000</td></tr>\n",
       "</tbody>\n",
       "</table>\n"
      ],
      "text/latex": [
       "A tibble: 6 × 6\n",
       "\\begin{tabular}{llllll}\n",
       " country & country\\_code & year & free\\_EUAs & total\\_EUAs & auctioned\\_sold\\_EUAs\\\\\n",
       " <chr> & <chr> & <dbl> & <dbl> & <dbl> & <dbl>\\\\\n",
       "\\hline\n",
       "\t Austria & AT & 2005 & 32412654 & 32412654 &      0\\\\\n",
       "\t Austria & AT & 2006 & 32649366 & 32649366 &      0\\\\\n",
       "\t Austria & AT & 2007 & 32729289 & 32729289 &      0\\\\\n",
       "\t Austria & AT & 2008 & 30718182 & 30718182 &      0\\\\\n",
       "\t Austria & AT & 2009 & 30313132 & 30718182 & 405050\\\\\n",
       "\t Austria & AT & 2010 & 30563812 & 30963812 & 400000\\\\\n",
       "\\end{tabular}\n"
      ],
      "text/markdown": [
       "\n",
       "A tibble: 6 × 6\n",
       "\n",
       "| country &lt;chr&gt; | country_code &lt;chr&gt; | year &lt;dbl&gt; | free_EUAs &lt;dbl&gt; | total_EUAs &lt;dbl&gt; | auctioned_sold_EUAs &lt;dbl&gt; |\n",
       "|---|---|---|---|---|---|\n",
       "| Austria | AT | 2005 | 32412654 | 32412654 |      0 |\n",
       "| Austria | AT | 2006 | 32649366 | 32649366 |      0 |\n",
       "| Austria | AT | 2007 | 32729289 | 32729289 |      0 |\n",
       "| Austria | AT | 2008 | 30718182 | 30718182 |      0 |\n",
       "| Austria | AT | 2009 | 30313132 | 30718182 | 405050 |\n",
       "| Austria | AT | 2010 | 30563812 | 30963812 | 400000 |\n",
       "\n"
      ],
      "text/plain": [
       "  country country_code year free_EUAs total_EUAs auctioned_sold_EUAs\n",
       "1 Austria AT           2005 32412654  32412654        0             \n",
       "2 Austria AT           2006 32649366  32649366        0             \n",
       "3 Austria AT           2007 32729289  32729289        0             \n",
       "4 Austria AT           2008 30718182  30718182        0             \n",
       "5 Austria AT           2009 30313132  30718182   405050             \n",
       "6 Austria AT           2010 30563812  30963812   400000             "
      ]
     },
     "metadata": {},
     "output_type": "display_data"
    }
   ],
   "source": [
    "# Read EU ETS database\n",
    "eu_ets_raw = read.csv(\"Data\\\\EU ETS\\\\ETS_Database_Jul23.csv\", sep = \"\\t\", na.strings = \"\", fileEncoding = \"UTF-8\")\n",
    "# Define the mapping of old names to new names for EUAs\n",
    "eua_breakdown <- c(\n",
    "  \"1. Total allocated allowances (EUA or EUAA)\" = \"total_EUAs\",\n",
    "  \"1.1 Freely allocated allowances\" = \"free_EUAs\",\n",
    "  \"1.2 Correction to freely allocated allowances (not reflected in EUTL)\" = \"free_correction_EUAs\",\n",
    "  \"1.3 Allowances auctioned or sold (EUAs and EUAAs)\" = \"auctioned_sold_EUAs\"\n",
    ")\n",
    "# Drop unnecassary information columns, \n",
    "# keep only total EUAs, freely allocated EUAs, correction to freely allocated EUAs and EUAs auctioned or sold\n",
    "# also rename occurences\n",
    "eu_ets_raw <- eu_ets_raw %>%\n",
    "  filter(ETS.information %in% names(eua_breakdown)) %>%\n",
    "  mutate(ETS.information = case_when(\n",
    "    ETS.information %in% names(eua_breakdown) ~ eua_breakdown[ETS.information],\n",
    "    TRUE ~ ETS.information\n",
    "  ))\n",
    "# Define the mapping of old names to new names for sector breakdown\n",
    "sector_breakdown <- c(\n",
    "    \"20-99 All stationary installations\" = \"all_stationary\",\n",
    "    \"10 Aviation\" = \"aviation\")\n",
    "# Drop sector breakdown, just include all stationary installations and aviation\n",
    "# also rename occurences\n",
    "eu_ets_raw <- eu_ets_raw %>%\n",
    "  filter(main.activity.sector.name %in% names(sector_breakdown)) %>%\n",
    "  mutate(main.activity.sector.name = case_when(\n",
    "    main.activity.sector.name %in% names(sector_breakdown) ~ sector_breakdown[main.activity.sector.name],\n",
    "    TRUE ~ main.activity.sector.name\n",
    "  ))\n",
    "# Remove period aggregates and keep years only\n",
    "eu_ets_raw <- eu_ets_raw %>% filter(nchar(year) == 4)\n",
    "# Convert to wide format, representing each EUA breakdown as a column\n",
    "eu_ets_wide <- pivot_wider(eu_ets_raw, \n",
    "                          id_cols = c(\"country\", \"country_code\", \"year\"),  # List the columns you want to keep as base dimensions\n",
    "                          names_from = \"ETS.information\", \n",
    "                          values_from = \"value\",\n",
    "                          values_fn = sum)\n",
    "# Fill NAs with 0\n",
    "eu_ets_wide[is.na(eu_ets_wide)] <- 0\n",
    "# Convert year column to numeric\n",
    "eu_ets_wide$year <- as.numeric(eu_ets_wide$year)\n",
    "# Apply correction to freely allocated EUAs\n",
    "eu_ets_wide$free_EUAs <- eu_ets_wide$free_EUAs + eu_ets_wide$free_correction_EUAs\n",
    "# Drop correction to freely allocated EUAs column\n",
    "eu_ets_wide$free_correction_EUAs <- NULL\n",
    "# Rename Northen Ireland to UK\n",
    "eu_ets_wide$country <- ifelse(eu_ets_wide$country %in% c(\"United Kingdom (excl. NI)\", \"Northern Ireland\"), \"United Kingdom\", eu_ets_wide$country)\n",
    "eu_ets_wide$country_code <- ifelse(eu_ets_wide$country %in% c(\"United Kingdom (excl. NI)\", \"Northern Ireland\"), \"UK\", eu_ets_wide$country_code)\n",
    "# Aggregate Northen Ireland to UK\n",
    "eu_ets_final <- eu_ets_wide %>% \n",
    "  group_by(country, country_code, year) %>% \n",
    "  summarize(\n",
    "    free_EUAs = sum(free_EUAs),\n",
    "    total_EUAs = sum(total_EUAs),\n",
    "    auctioned_sold_EUAs = sum(auctioned_sold_EUAs)\n",
    "  )\n",
    "# Sort dataset by country and year\n",
    "eu_ets_final <- eu_ets_wide %>% arrange(country, year)\n",
    "# Check dataset\n",
    "print(dim(eu_ets_final))\n",
    "head(eu_ets_final)"
   ]
  },
  {
   "cell_type": "markdown",
   "metadata": {},
   "source": [
    "**Processing PM2.5 variables**"
   ]
  },
  {
   "cell_type": "code",
   "execution_count": 249,
   "metadata": {
    "vscode": {
     "languageId": "r"
    }
   },
   "outputs": [
    {
     "name": "stdout",
     "output_type": "stream",
     "text": [
      "[1] 1950   18\n"
     ]
    },
    {
     "data": {
      "text/html": [
       "<table class=\"dataframe\">\n",
       "<caption>A tibble: 6 × 18</caption>\n",
       "<thead>\n",
       "\t<tr><th scope=col>country_code</th><th scope=col>country</th><th scope=col>year</th><th scope=col>PM25_Cities</th><th scope=col>PM25_rural</th><th scope=col>PM25_Total</th><th scope=col>PM25_Towns</th><th scope=col>PM25_Urban</th><th scope=col>PM25_low_Cities</th><th scope=col>PM25_low_rural</th><th scope=col>PM25_low_Total</th><th scope=col>PM25_low_Towns</th><th scope=col>PM25_low_Urban</th><th scope=col>PM25_high_Cities</th><th scope=col>PM25_high_rural</th><th scope=col>PM25_high_Total</th><th scope=col>PM25_high_Towns</th><th scope=col>PM25_high_Urban</th></tr>\n",
       "\t<tr><th scope=col>&lt;chr&gt;</th><th scope=col>&lt;chr&gt;</th><th scope=col>&lt;int&gt;</th><th scope=col>&lt;dbl&gt;</th><th scope=col>&lt;dbl&gt;</th><th scope=col>&lt;dbl&gt;</th><th scope=col>&lt;dbl&gt;</th><th scope=col>&lt;dbl&gt;</th><th scope=col>&lt;dbl&gt;</th><th scope=col>&lt;dbl&gt;</th><th scope=col>&lt;dbl&gt;</th><th scope=col>&lt;dbl&gt;</th><th scope=col>&lt;dbl&gt;</th><th scope=col>&lt;dbl&gt;</th><th scope=col>&lt;dbl&gt;</th><th scope=col>&lt;dbl&gt;</th><th scope=col>&lt;dbl&gt;</th><th scope=col>&lt;dbl&gt;</th></tr>\n",
       "</thead>\n",
       "<tbody>\n",
       "\t<tr><td>AFG</td><td>Afghanistan</td><td>2010</td><td>92.79</td><td>61.81</td><td>68.97</td><td>69.67</td><td>83.13</td><td>66.17</td><td>42.68</td><td>49.48</td><td>48.91</td><td>60.37</td><td>128.4</td><td>87.77</td><td>96.51</td><td> 98.81</td><td>117.8</td></tr>\n",
       "\t<tr><td>AFG</td><td>Afghanistan</td><td>2011</td><td>89.57</td><td>60.11</td><td>66.94</td><td>67.72</td><td>80.45</td><td>64.75</td><td>42.82</td><td>48.90</td><td>48.37</td><td>57.67</td><td>122.9</td><td>83.13</td><td>92.62</td><td> 93.74</td><td>110.7</td></tr>\n",
       "\t<tr><td>AFG</td><td>Afghanistan</td><td>2012</td><td>92.04</td><td>61.09</td><td>68.26</td><td>68.88</td><td>82.40</td><td>66.43</td><td>42.74</td><td>49.60</td><td>49.03</td><td>58.99</td><td>125.9</td><td>83.77</td><td>94.02</td><td> 95.50</td><td>112.4</td></tr>\n",
       "\t<tr><td>AFG</td><td>Afghanistan</td><td>2013</td><td>97.49</td><td>64.50</td><td>72.18</td><td>73.01</td><td>87.33</td><td>70.24</td><td>45.48</td><td>52.57</td><td>51.94</td><td>62.40</td><td>132.9</td><td>88.98</td><td>99.67</td><td>101.70</td><td>118.9</td></tr>\n",
       "\t<tr><td>AFG</td><td>Afghanistan</td><td>2014</td><td>91.92</td><td>60.79</td><td>68.06</td><td>68.85</td><td>82.36</td><td>66.24</td><td>42.86</td><td>49.36</td><td>49.33</td><td>58.88</td><td>125.7</td><td>83.22</td><td>93.43</td><td> 95.36</td><td>111.5</td></tr>\n",
       "\t<tr><td>AFG</td><td>Afghanistan</td><td>2015</td><td>90.88</td><td>59.99</td><td>67.20</td><td>67.90</td><td>81.38</td><td>65.86</td><td>42.52</td><td>49.05</td><td>48.45</td><td>58.50</td><td>123.3</td><td>81.99</td><td>92.67</td><td> 94.10</td><td>110.1</td></tr>\n",
       "</tbody>\n",
       "</table>\n"
      ],
      "text/latex": [
       "A tibble: 6 × 18\n",
       "\\begin{tabular}{llllllllllllllllll}\n",
       " country\\_code & country & year & PM25\\_Cities & PM25\\_rural & PM25\\_Total & PM25\\_Towns & PM25\\_Urban & PM25\\_low\\_Cities & PM25\\_low\\_rural & PM25\\_low\\_Total & PM25\\_low\\_Towns & PM25\\_low\\_Urban & PM25\\_high\\_Cities & PM25\\_high\\_rural & PM25\\_high\\_Total & PM25\\_high\\_Towns & PM25\\_high\\_Urban\\\\\n",
       " <chr> & <chr> & <int> & <dbl> & <dbl> & <dbl> & <dbl> & <dbl> & <dbl> & <dbl> & <dbl> & <dbl> & <dbl> & <dbl> & <dbl> & <dbl> & <dbl> & <dbl>\\\\\n",
       "\\hline\n",
       "\t AFG & Afghanistan & 2010 & 92.79 & 61.81 & 68.97 & 69.67 & 83.13 & 66.17 & 42.68 & 49.48 & 48.91 & 60.37 & 128.4 & 87.77 & 96.51 &  98.81 & 117.8\\\\\n",
       "\t AFG & Afghanistan & 2011 & 89.57 & 60.11 & 66.94 & 67.72 & 80.45 & 64.75 & 42.82 & 48.90 & 48.37 & 57.67 & 122.9 & 83.13 & 92.62 &  93.74 & 110.7\\\\\n",
       "\t AFG & Afghanistan & 2012 & 92.04 & 61.09 & 68.26 & 68.88 & 82.40 & 66.43 & 42.74 & 49.60 & 49.03 & 58.99 & 125.9 & 83.77 & 94.02 &  95.50 & 112.4\\\\\n",
       "\t AFG & Afghanistan & 2013 & 97.49 & 64.50 & 72.18 & 73.01 & 87.33 & 70.24 & 45.48 & 52.57 & 51.94 & 62.40 & 132.9 & 88.98 & 99.67 & 101.70 & 118.9\\\\\n",
       "\t AFG & Afghanistan & 2014 & 91.92 & 60.79 & 68.06 & 68.85 & 82.36 & 66.24 & 42.86 & 49.36 & 49.33 & 58.88 & 125.7 & 83.22 & 93.43 &  95.36 & 111.5\\\\\n",
       "\t AFG & Afghanistan & 2015 & 90.88 & 59.99 & 67.20 & 67.90 & 81.38 & 65.86 & 42.52 & 49.05 & 48.45 & 58.50 & 123.3 & 81.99 & 92.67 &  94.10 & 110.1\\\\\n",
       "\\end{tabular}\n"
      ],
      "text/markdown": [
       "\n",
       "A tibble: 6 × 18\n",
       "\n",
       "| country_code &lt;chr&gt; | country &lt;chr&gt; | year &lt;int&gt; | PM25_Cities &lt;dbl&gt; | PM25_rural &lt;dbl&gt; | PM25_Total &lt;dbl&gt; | PM25_Towns &lt;dbl&gt; | PM25_Urban &lt;dbl&gt; | PM25_low_Cities &lt;dbl&gt; | PM25_low_rural &lt;dbl&gt; | PM25_low_Total &lt;dbl&gt; | PM25_low_Towns &lt;dbl&gt; | PM25_low_Urban &lt;dbl&gt; | PM25_high_Cities &lt;dbl&gt; | PM25_high_rural &lt;dbl&gt; | PM25_high_Total &lt;dbl&gt; | PM25_high_Towns &lt;dbl&gt; | PM25_high_Urban &lt;dbl&gt; |\n",
       "|---|---|---|---|---|---|---|---|---|---|---|---|---|---|---|---|---|---|\n",
       "| AFG | Afghanistan | 2010 | 92.79 | 61.81 | 68.97 | 69.67 | 83.13 | 66.17 | 42.68 | 49.48 | 48.91 | 60.37 | 128.4 | 87.77 | 96.51 |  98.81 | 117.8 |\n",
       "| AFG | Afghanistan | 2011 | 89.57 | 60.11 | 66.94 | 67.72 | 80.45 | 64.75 | 42.82 | 48.90 | 48.37 | 57.67 | 122.9 | 83.13 | 92.62 |  93.74 | 110.7 |\n",
       "| AFG | Afghanistan | 2012 | 92.04 | 61.09 | 68.26 | 68.88 | 82.40 | 66.43 | 42.74 | 49.60 | 49.03 | 58.99 | 125.9 | 83.77 | 94.02 |  95.50 | 112.4 |\n",
       "| AFG | Afghanistan | 2013 | 97.49 | 64.50 | 72.18 | 73.01 | 87.33 | 70.24 | 45.48 | 52.57 | 51.94 | 62.40 | 132.9 | 88.98 | 99.67 | 101.70 | 118.9 |\n",
       "| AFG | Afghanistan | 2014 | 91.92 | 60.79 | 68.06 | 68.85 | 82.36 | 66.24 | 42.86 | 49.36 | 49.33 | 58.88 | 125.7 | 83.22 | 93.43 |  95.36 | 111.5 |\n",
       "| AFG | Afghanistan | 2015 | 90.88 | 59.99 | 67.20 | 67.90 | 81.38 | 65.86 | 42.52 | 49.05 | 48.45 | 58.50 | 123.3 | 81.99 | 92.67 |  94.10 | 110.1 |\n",
       "\n"
      ],
      "text/plain": [
       "  country_code country     year PM25_Cities PM25_rural PM25_Total PM25_Towns\n",
       "1 AFG          Afghanistan 2010 92.79       61.81      68.97      69.67     \n",
       "2 AFG          Afghanistan 2011 89.57       60.11      66.94      67.72     \n",
       "3 AFG          Afghanistan 2012 92.04       61.09      68.26      68.88     \n",
       "4 AFG          Afghanistan 2013 97.49       64.50      72.18      73.01     \n",
       "5 AFG          Afghanistan 2014 91.92       60.79      68.06      68.85     \n",
       "6 AFG          Afghanistan 2015 90.88       59.99      67.20      67.90     \n",
       "  PM25_Urban PM25_low_Cities PM25_low_rural PM25_low_Total PM25_low_Towns\n",
       "1 83.13      66.17           42.68          49.48          48.91         \n",
       "2 80.45      64.75           42.82          48.90          48.37         \n",
       "3 82.40      66.43           42.74          49.60          49.03         \n",
       "4 87.33      70.24           45.48          52.57          51.94         \n",
       "5 82.36      66.24           42.86          49.36          49.33         \n",
       "6 81.38      65.86           42.52          49.05          48.45         \n",
       "  PM25_low_Urban PM25_high_Cities PM25_high_rural PM25_high_Total\n",
       "1 60.37          128.4            87.77           96.51          \n",
       "2 57.67          122.9            83.13           92.62          \n",
       "3 58.99          125.9            83.77           94.02          \n",
       "4 62.40          132.9            88.98           99.67          \n",
       "5 58.88          125.7            83.22           93.43          \n",
       "6 58.50          123.3            81.99           92.67          \n",
       "  PM25_high_Towns PM25_high_Urban\n",
       "1  98.81          117.8          \n",
       "2  93.74          110.7          \n",
       "3  95.50          112.4          \n",
       "4 101.70          118.9          \n",
       "5  95.36          111.5          \n",
       "6  94.10          110.1          "
      ]
     },
     "metadata": {},
     "output_type": "display_data"
    }
   ],
   "source": [
    "# Read PM2.5 data from WHO\n",
    "pm25_raw = read.csv(\"Data\\\\WHO PM2.5\\\\SDG Indicator 11.6.2. Concentrations of PM2.5.csv\")\n",
    "# Define the mapping of old names to new names for the whole dataset\n",
    "pm25_columns_old <- c(\"SpatialDimValueCode\", \"Location\", \"Period\", \"Dim1\", \"FactValueNumeric\", \"FactValueNumericLow\", \"FactValueNumericHigh\")\n",
    "pm25_columns_new <- c(\"country_code\", \"country\", \"year\", \"residence_area\", \"PM25\", \"PM25_low\", \"PM25_high\")\n",
    "# Drop unnecessary columns\n",
    "pm25_raw <- pm25_raw %>% select(pm25_columns_old)\n",
    "# Rename respective columns\n",
    "pm25_raw <- pm25_raw %>% rename(!!!setNames(pm25_columns_old,pm25_columns_new))\n",
    "# Convert to long format, also pulling residence area breakdown to columns\n",
    "pm25_long <- pm25_raw %>%\n",
    "  pivot_wider(names_from = residence_area,\n",
    "              values_from = c(PM25, PM25_low, PM25_high),\n",
    "              names_glue = \"{.value}_{residence_area}\")\n",
    "# Sort dataset\n",
    "pm25_final <- pm25_long %>% arrange (country,year)\n",
    "# Check dataset\n",
    "print(dim(pm25_final))\n",
    "head(pm25_final)\n",
    "# pm25_long[(pm25_long$country_code == \"DEU\"),]"
   ]
  },
  {
   "cell_type": "markdown",
   "metadata": {},
   "source": [
    "**Combining datasets**"
   ]
  },
  {
   "cell_type": "code",
   "execution_count": 250,
   "metadata": {
    "vscode": {
     "languageId": "r"
    }
   },
   "outputs": [
    {
     "name": "stdout",
     "output_type": "stream",
     "text": [
      "[1] 2050   53\n"
     ]
    },
    {
     "data": {
      "text/html": [
       "<table class=\"dataframe\">\n",
       "<caption>A data.frame: 6 × 53</caption>\n",
       "<thead>\n",
       "\t<tr><th></th><th scope=col>year</th><th scope=col>country</th><th scope=col>country_code</th><th scope=col>PM25_Cities</th><th scope=col>PM25_rural</th><th scope=col>PM25_Total</th><th scope=col>PM25_Towns</th><th scope=col>PM25_Urban</th><th scope=col>PM25_low_Cities</th><th scope=col>PM25_low_rural</th><th scope=col>⋯</th><th scope=col>EG.USE.COMM.FO.ZS</th><th scope=col>NY.GDP.PCAP.KD.ZG</th><th scope=col>NV.SRV.TOTL.ZS</th><th scope=col>NV.IND.TOTL.ZS</th><th scope=col>NV.AGR.TOTL.ZS</th><th scope=col>EN.ATM.CO2E.PC</th><th scope=col>EN.ATM.CO2E.KT</th><th scope=col>EN.ATM.GHGT.KT.CE</th><th scope=col>EG.FEC.RNEW.ZS</th><th scope=col>NY.ADJ.DPEM.GN.ZS</th></tr>\n",
       "\t<tr><th></th><th scope=col>&lt;int&gt;</th><th scope=col>&lt;chr&gt;</th><th scope=col>&lt;chr&gt;</th><th scope=col>&lt;dbl&gt;</th><th scope=col>&lt;dbl&gt;</th><th scope=col>&lt;dbl&gt;</th><th scope=col>&lt;dbl&gt;</th><th scope=col>&lt;dbl&gt;</th><th scope=col>&lt;dbl&gt;</th><th scope=col>&lt;dbl&gt;</th><th scope=col>⋯</th><th scope=col>&lt;dbl&gt;</th><th scope=col>&lt;dbl&gt;</th><th scope=col>&lt;dbl&gt;</th><th scope=col>&lt;dbl&gt;</th><th scope=col>&lt;dbl&gt;</th><th scope=col>&lt;dbl&gt;</th><th scope=col>&lt;dbl&gt;</th><th scope=col>&lt;dbl&gt;</th><th scope=col>&lt;dbl&gt;</th><th scope=col>&lt;dbl&gt;</th></tr>\n",
       "</thead>\n",
       "<tbody>\n",
       "\t<tr><th scope=row>1</th><td>2010</td><td>Afghanistan        </td><td>AFG</td><td>92.79</td><td>61.81</td><td>68.97</td><td>69.67</td><td>83.13</td><td>66.17</td><td>42.68</td><td>⋯</td><td>      NA</td><td>11.0992199</td><td>48.87938</td><td>21.15142</td><td>26.2100685</td><td>0.3042302</td><td>  8576.150</td><td> 28585.9026</td><td>15.15</td><td>2.9735249</td></tr>\n",
       "\t<tr><th scope=row>2</th><td>2010</td><td>Albania            </td><td>ALB</td><td>22.24</td><td>21.38</td><td>21.95</td><td>22.37</td><td>22.30</td><td>20.06</td><td>19.01</td><td>⋯</td><td>63.23900</td><td> 4.2230838</td><td>44.02559</td><td>24.93746</td><td>17.9558664</td><td>1.6427619</td><td>  4785.400</td><td>  9243.2103</td><td>36.99</td><td>0.2372995</td></tr>\n",
       "\t<tr><th scope=row>3</th><td>2010</td><td>Algeria            </td><td>DZA</td><td>21.67</td><td>21.72</td><td>21.27</td><td>20.29</td><td>21.02</td><td>14.19</td><td>13.97</td><td>⋯</td><td>99.84783</td><td> 1.6921701</td><td>39.24604</td><td>49.96743</td><td> 8.4664436</td><td>3.1843570</td><td>114179.400</td><td>210955.5444</td><td> 0.26</td><td>0.3902752</td></tr>\n",
       "\t<tr><th scope=row>4</th><td>2010</td><td>Andorra            </td><td>AND</td><td>   NA</td><td>10.53</td><td>11.43</td><td>11.88</td><td>11.88</td><td>   NA</td><td> 8.69</td><td>⋯</td><td>      NA</td><td> 1.2226877</td><td>76.99121</td><td>13.12565</td><td> 0.4665086</td><td>7.2235909</td><td>   516.624</td><td>   627.0146</td><td>18.67</td><td>       NA</td></tr>\n",
       "\t<tr><th scope=row>5</th><td>2010</td><td>Angola             </td><td>AGO</td><td>27.20</td><td>23.59</td><td>24.20</td><td>24.33</td><td>26.53</td><td> 5.35</td><td> 6.25</td><td>⋯</td><td>42.99252</td><td> 0.5712209</td><td>41.88703</td><td>52.36844</td><td> 6.1802935</td><td>0.9759168</td><td> 22801.500</td><td> 78893.6757</td><td>52.51</td><td>1.0101641</td></tr>\n",
       "\t<tr><th scope=row>6</th><td>2010</td><td>Antigua and Barbuda</td><td>ATG</td><td>   NA</td><td> 7.99</td><td> 8.17</td><td> 8.29</td><td> 8.29</td><td>   NA</td><td> 5.09</td><td>⋯</td><td>      NA</td><td>-9.0891748</td><td>70.68764</td><td>16.20415</td><td> 1.6334085</td><td>5.4355563</td><td>   465.800</td><td>  1004.9704</td><td> 0.00</td><td>       NA</td></tr>\n",
       "</tbody>\n",
       "</table>\n"
      ],
      "text/latex": [
       "A data.frame: 6 × 53\n",
       "\\begin{tabular}{r|lllllllllllllllllllll}\n",
       "  & year & country & country\\_code & PM25\\_Cities & PM25\\_rural & PM25\\_Total & PM25\\_Towns & PM25\\_Urban & PM25\\_low\\_Cities & PM25\\_low\\_rural & ⋯ & EG.USE.COMM.FO.ZS & NY.GDP.PCAP.KD.ZG & NV.SRV.TOTL.ZS & NV.IND.TOTL.ZS & NV.AGR.TOTL.ZS & EN.ATM.CO2E.PC & EN.ATM.CO2E.KT & EN.ATM.GHGT.KT.CE & EG.FEC.RNEW.ZS & NY.ADJ.DPEM.GN.ZS\\\\\n",
       "  & <int> & <chr> & <chr> & <dbl> & <dbl> & <dbl> & <dbl> & <dbl> & <dbl> & <dbl> & ⋯ & <dbl> & <dbl> & <dbl> & <dbl> & <dbl> & <dbl> & <dbl> & <dbl> & <dbl> & <dbl>\\\\\n",
       "\\hline\n",
       "\t1 & 2010 & Afghanistan         & AFG & 92.79 & 61.81 & 68.97 & 69.67 & 83.13 & 66.17 & 42.68 & ⋯ &       NA & 11.0992199 & 48.87938 & 21.15142 & 26.2100685 & 0.3042302 &   8576.150 &  28585.9026 & 15.15 & 2.9735249\\\\\n",
       "\t2 & 2010 & Albania             & ALB & 22.24 & 21.38 & 21.95 & 22.37 & 22.30 & 20.06 & 19.01 & ⋯ & 63.23900 &  4.2230838 & 44.02559 & 24.93746 & 17.9558664 & 1.6427619 &   4785.400 &   9243.2103 & 36.99 & 0.2372995\\\\\n",
       "\t3 & 2010 & Algeria             & DZA & 21.67 & 21.72 & 21.27 & 20.29 & 21.02 & 14.19 & 13.97 & ⋯ & 99.84783 &  1.6921701 & 39.24604 & 49.96743 &  8.4664436 & 3.1843570 & 114179.400 & 210955.5444 &  0.26 & 0.3902752\\\\\n",
       "\t4 & 2010 & Andorra             & AND &    NA & 10.53 & 11.43 & 11.88 & 11.88 &    NA &  8.69 & ⋯ &       NA &  1.2226877 & 76.99121 & 13.12565 &  0.4665086 & 7.2235909 &    516.624 &    627.0146 & 18.67 &        NA\\\\\n",
       "\t5 & 2010 & Angola              & AGO & 27.20 & 23.59 & 24.20 & 24.33 & 26.53 &  5.35 &  6.25 & ⋯ & 42.99252 &  0.5712209 & 41.88703 & 52.36844 &  6.1802935 & 0.9759168 &  22801.500 &  78893.6757 & 52.51 & 1.0101641\\\\\n",
       "\t6 & 2010 & Antigua and Barbuda & ATG &    NA &  7.99 &  8.17 &  8.29 &  8.29 &    NA &  5.09 & ⋯ &       NA & -9.0891748 & 70.68764 & 16.20415 &  1.6334085 & 5.4355563 &    465.800 &   1004.9704 &  0.00 &        NA\\\\\n",
       "\\end{tabular}\n"
      ],
      "text/markdown": [
       "\n",
       "A data.frame: 6 × 53\n",
       "\n",
       "| <!--/--> | year &lt;int&gt; | country &lt;chr&gt; | country_code &lt;chr&gt; | PM25_Cities &lt;dbl&gt; | PM25_rural &lt;dbl&gt; | PM25_Total &lt;dbl&gt; | PM25_Towns &lt;dbl&gt; | PM25_Urban &lt;dbl&gt; | PM25_low_Cities &lt;dbl&gt; | PM25_low_rural &lt;dbl&gt; | ⋯ ⋯ | EG.USE.COMM.FO.ZS &lt;dbl&gt; | NY.GDP.PCAP.KD.ZG &lt;dbl&gt; | NV.SRV.TOTL.ZS &lt;dbl&gt; | NV.IND.TOTL.ZS &lt;dbl&gt; | NV.AGR.TOTL.ZS &lt;dbl&gt; | EN.ATM.CO2E.PC &lt;dbl&gt; | EN.ATM.CO2E.KT &lt;dbl&gt; | EN.ATM.GHGT.KT.CE &lt;dbl&gt; | EG.FEC.RNEW.ZS &lt;dbl&gt; | NY.ADJ.DPEM.GN.ZS &lt;dbl&gt; |\n",
       "|---|---|---|---|---|---|---|---|---|---|---|---|---|---|---|---|---|---|---|---|---|---|\n",
       "| 1 | 2010 | Afghanistan         | AFG | 92.79 | 61.81 | 68.97 | 69.67 | 83.13 | 66.17 | 42.68 | ⋯ |       NA | 11.0992199 | 48.87938 | 21.15142 | 26.2100685 | 0.3042302 |   8576.150 |  28585.9026 | 15.15 | 2.9735249 |\n",
       "| 2 | 2010 | Albania             | ALB | 22.24 | 21.38 | 21.95 | 22.37 | 22.30 | 20.06 | 19.01 | ⋯ | 63.23900 |  4.2230838 | 44.02559 | 24.93746 | 17.9558664 | 1.6427619 |   4785.400 |   9243.2103 | 36.99 | 0.2372995 |\n",
       "| 3 | 2010 | Algeria             | DZA | 21.67 | 21.72 | 21.27 | 20.29 | 21.02 | 14.19 | 13.97 | ⋯ | 99.84783 |  1.6921701 | 39.24604 | 49.96743 |  8.4664436 | 3.1843570 | 114179.400 | 210955.5444 |  0.26 | 0.3902752 |\n",
       "| 4 | 2010 | Andorra             | AND |    NA | 10.53 | 11.43 | 11.88 | 11.88 |    NA |  8.69 | ⋯ |       NA |  1.2226877 | 76.99121 | 13.12565 |  0.4665086 | 7.2235909 |    516.624 |    627.0146 | 18.67 |        NA |\n",
       "| 5 | 2010 | Angola              | AGO | 27.20 | 23.59 | 24.20 | 24.33 | 26.53 |  5.35 |  6.25 | ⋯ | 42.99252 |  0.5712209 | 41.88703 | 52.36844 |  6.1802935 | 0.9759168 |  22801.500 |  78893.6757 | 52.51 | 1.0101641 |\n",
       "| 6 | 2010 | Antigua and Barbuda | ATG |    NA |  7.99 |  8.17 |  8.29 |  8.29 |    NA |  5.09 | ⋯ |       NA | -9.0891748 | 70.68764 | 16.20415 |  1.6334085 | 5.4355563 |    465.800 |   1004.9704 |  0.00 |        NA |\n",
       "\n"
      ],
      "text/plain": [
       "  year country             country_code PM25_Cities PM25_rural PM25_Total\n",
       "1 2010 Afghanistan         AFG          92.79       61.81      68.97     \n",
       "2 2010 Albania             ALB          22.24       21.38      21.95     \n",
       "3 2010 Algeria             DZA          21.67       21.72      21.27     \n",
       "4 2010 Andorra             AND             NA       10.53      11.43     \n",
       "5 2010 Angola              AGO          27.20       23.59      24.20     \n",
       "6 2010 Antigua and Barbuda ATG             NA        7.99       8.17     \n",
       "  PM25_Towns PM25_Urban PM25_low_Cities PM25_low_rural ⋯ EG.USE.COMM.FO.ZS\n",
       "1 69.67      83.13      66.17           42.68          ⋯       NA         \n",
       "2 22.37      22.30      20.06           19.01          ⋯ 63.23900         \n",
       "3 20.29      21.02      14.19           13.97          ⋯ 99.84783         \n",
       "4 11.88      11.88         NA            8.69          ⋯       NA         \n",
       "5 24.33      26.53       5.35            6.25          ⋯ 42.99252         \n",
       "6  8.29       8.29         NA            5.09          ⋯       NA         \n",
       "  NY.GDP.PCAP.KD.ZG NV.SRV.TOTL.ZS NV.IND.TOTL.ZS NV.AGR.TOTL.ZS EN.ATM.CO2E.PC\n",
       "1 11.0992199        48.87938       21.15142       26.2100685     0.3042302     \n",
       "2  4.2230838        44.02559       24.93746       17.9558664     1.6427619     \n",
       "3  1.6921701        39.24604       49.96743        8.4664436     3.1843570     \n",
       "4  1.2226877        76.99121       13.12565        0.4665086     7.2235909     \n",
       "5  0.5712209        41.88703       52.36844        6.1802935     0.9759168     \n",
       "6 -9.0891748        70.68764       16.20415        1.6334085     5.4355563     \n",
       "  EN.ATM.CO2E.KT EN.ATM.GHGT.KT.CE EG.FEC.RNEW.ZS NY.ADJ.DPEM.GN.ZS\n",
       "1   8576.150      28585.9026       15.15          2.9735249        \n",
       "2   4785.400       9243.2103       36.99          0.2372995        \n",
       "3 114179.400     210955.5444        0.26          0.3902752        \n",
       "4    516.624        627.0146       18.67                 NA        \n",
       "5  22801.500      78893.6757       52.51          1.0101641        \n",
       "6    465.800       1004.9704        0.00                 NA        "
      ]
     },
     "metadata": {},
     "output_type": "display_data"
    }
   ],
   "source": [
    "# A common function to remap country names to be consistent across data sources\n",
    "map_countries <- function(df, column_to_map) {\n",
    "  mapping_dict <- c(\n",
    "    \"Argentina urban\" = \"Argentina\",\n",
    "    \"Bahamas, The\" = \"Bahamas\",\n",
    "    \"Bolivia (Plurinational State of)\" = \"Bolivia\",\n",
    "    \"Cape Verde\" = \"Cabo Verde\",\n",
    "    \"Central African Republic CAR\" = \"Central African Republic\",\n",
    "    \"Chili\" = \"Chile\",\n",
    "    \"Congo Democratic Republic\" = \"Congo, Dem. Rep.\",\n",
    "    \"Congo, Rep.\" = \"Congo, Dem. Rep.\",\n",
    "    \"Czech Republic\" = \"Czechia\",\n",
    "    \"Democratic Republic of the Congo\" = \"Congo, Dem. Rep.\",\n",
    "    \"Egypt, Arab Rep.\" = \"Egypt\",\n",
    "    \"Gambia, The\" = \"Gambia\",\n",
    "    \"Guinea Bissau\" = \"Guinea-Bissau\",\n",
    "    \"Iran (Islamic Republic of)\" = \"Iran\",\n",
    "    \"Iran, Islamic Rep.\" = \"Iran\",\n",
    "    \"Democratic People's Republic of Korea\" = \"Korea\",\n",
    "    \"Korea, Dem. People's Rep.\" = \"Korea\",\n",
    "    \"Korea, Rep.\" = \"Korea\",\n",
    "    \"Republic of Korea\" = \"Korea\",\n",
    "    \"Kyrgyz Republic\" = \"Kyrgyzstan\",\n",
    "    \"Lao People's Democratic Republic\" = \"Lao\",\n",
    "    \"Lao PDR\" = \"Lao\",\n",
    "    \"Micronesia (Federated States of)\" = \"Micronesia, Fed. Sts.\",\n",
    "    \"Monte Negro\" = \"Montenegro\",\n",
    "    \"Republic of Moldova\" = \"Moldova\",\n",
    "    \"Sao Tome & Principe\" = \"Sao Tome and Principe\",\n",
    "    \"Slovak Republic\" = \"Slovakia\",\n",
    "    \"Syrian Arab Republic\" = \"Syria\",\n",
    "    \"The former Yugoslav Republic of Macedonia\" = \"North Macedonia\",\n",
    "    \"Timor-Leste\" = \"Timor Leste\",\n",
    "    \"Trinidad & Tobago\" = \"Trinidad and Tobago\",\n",
    "    \"Türkiye\" = \"Turkey\",\n",
    "    \"Turkiye\" = \"Turkey\",\n",
    "    \"United States of America\" = \"United States\",\n",
    "    \"Venezuela (Bolivarian Republic of)\" = \"Venezuela\",\n",
    "    \"Venezuela, RB\"  = \"Venezuela\",\n",
    "    \"Viet Nam\" = \"Vietnam\",\n",
    "    \"Yemen, Rep.\" = \"Yemen\",\n",
    "    \"United Kingdom of Great Britain and Northern Ireland\" = \"United Kingdom\"\n",
    "  )\n",
    "  \n",
    "  df[[column_to_map]] <- ifelse(df[[column_to_map]] %in% names(mapping_dict), \n",
    "                                mapping_dict[df[[column_to_map]]], \n",
    "                                df[[column_to_map]])\n",
    "  \n",
    "  return(df)\n",
    "}\n",
    "\n",
    "# Map country names in each dataset\n",
    "pm25_final_mapped <- map_countries(pm25_final, \"country\")\n",
    "eu_ets_final_mapped <- map_countries(eu_ets_final, \"country\")\n",
    "weather_final_mapped <- map_countries(weather_final, \"country\")\n",
    "wb_indicators_final_mapped <- map_countries(wb_indicators_final, \"country\")\n",
    "\n",
    "# Join each dataset, keeping PM2.5 dataset as the main one to join on\n",
    "all_indicators <- merge(pm25_final_mapped, subset(eu_ets_final_mapped, select = -country_code), by = c(\"year\", \"country\"), all.x = TRUE) %>%\n",
    "    merge(subset(weather_final_mapped, select = -country_code), by = c(\"year\", \"country\"), all.x = TRUE) %>%\n",
    "    merge(subset(wb_indicators_final_mapped, select = -country_code), by = c(\"year\", \"country\"), all.x = TRUE)\n",
    "\n",
    "# Check final dataset\n",
    "print(dim(all_indicators))\n",
    "head(all_indicators)"
   ]
  },
  {
   "cell_type": "code",
   "execution_count": 251,
   "metadata": {
    "vscode": {
     "languageId": "r"
    }
   },
   "outputs": [
    {
     "data": {
      "image/png": "[encoded data removed]",
      "text/plain": [
       "plot without title"
      ]
     },
     "metadata": {
      "image/png": {
       "height": 420,
       "width": 420
      }
     },
     "output_type": "display_data"
    }
   ],
   "source": [
    "\n",
    "# Calculate the number of non-NA values for each column\n",
    "non_na_counts <- df %>%\n",
    "  select(-c(country,country_code)) %>%\n",
    "  group_by(year) %>%\n",
    "  summarize(across(everything(), ~sum(!is.na(.))))\n",
    "\n",
    "# Reshape the data for plotting while retaining column order\n",
    "non_na_counts_long <- non_na_counts %>%\n",
    "  pivot_longer(cols = -year, names_to = \"variable\", values_to = \"count\") %>%\n",
    "  mutate(variable = factor(variable, levels = colnames(df)[-1]))  # Exclude the \"year\" column from levels\n",
    "\n",
    "# Create the heatmap\n",
    "heatmap_plot <- ggplot(data = non_na_counts_long, aes(x = year, y = variable, fill = count)) +\n",
    "  geom_tile() +\n",
    "  scale_fill_viridis_c() +  # Choose color palette\n",
    "  geom_text(aes(label = ifelse(is.na(count), \"\", count)), size = 2.5, color = \"black\") +  # Add text labels with small font\n",
    "  labs(title = \"Number of Countries with Respective Metric & Year\",\n",
    "       x = \"Year\",\n",
    "       y = \"Variable\",\n",
    "       fill = \"Count\") +\n",
    "  theme_minimal()\n",
    "# Display the heatmap\n",
    "print(heatmap_plot)"
   ]
  },
  {
   "cell_type": "code",
   "execution_count": null,
   "metadata": {
    "vscode": {
     "languageId": "r"
    }
   },
   "outputs": [],
   "source": []
  },
  {
   "cell_type": "code",
   "execution_count": null,
   "metadata": {
    "vscode": {
     "languageId": "r"
    }
   },
   "outputs": [],
   "source": []
  },
  {
   "cell_type": "code",
   "execution_count": null,
   "metadata": {
    "vscode": {
     "languageId": "r"
    }
   },
   "outputs": [],
   "source": []
  },
  {
   "cell_type": "code",
   "execution_count": null,
   "metadata": {
    "vscode": {
     "languageId": "r"
    }
   },
   "outputs": [],
   "source": []
  },
  {
   "cell_type": "code",
   "execution_count": null,
   "metadata": {
    "vscode": {
     "languageId": "r"
    }
   },
   "outputs": [],
   "source": []
  },
  {
   "cell_type": "code",
   "execution_count": null,
   "metadata": {
    "vscode": {
     "languageId": "r"
    }
   },
   "outputs": [],
   "source": []
  },
  {
   "cell_type": "code",
   "execution_count": null,
   "metadata": {
    "vscode": {
     "languageId": "r"
    }
   },
   "outputs": [],
   "source": []
  },
  {
   "cell_type": "code",
   "execution_count": null,
   "metadata": {
    "vscode": {
     "languageId": "r"
    }
   },
   "outputs": [],
   "source": []
  },
  {
   "cell_type": "code",
   "execution_count": null,
   "metadata": {
    "vscode": {
     "languageId": "r"
    }
   },
   "outputs": [],
   "source": []
  },
  {
   "cell_type": "code",
   "execution_count": null,
   "metadata": {
    "vscode": {
     "languageId": "r"
    }
   },
   "outputs": [],
   "source": []
  },
  {
   "cell_type": "code",
   "execution_count": null,
   "metadata": {
    "vscode": {
     "languageId": "r"
    }
   },
   "outputs": [],
   "source": []
  },
  {
   "cell_type": "code",
   "execution_count": null,
   "metadata": {
    "vscode": {
     "languageId": "r"
    }
   },
   "outputs": [],
   "source": []
  },
  {
   "cell_type": "code",
   "execution_count": null,
   "metadata": {
    "vscode": {
     "languageId": "r"
    }
   },
   "outputs": [],
   "source": []
  },
  {
   "cell_type": "code",
   "execution_count": null,
   "metadata": {
    "vscode": {
     "languageId": "r"
    }
   },
   "outputs": [],
   "source": []
  },
  {
   "cell_type": "code",
   "execution_count": null,
   "metadata": {
    "vscode": {
     "languageId": "r"
    }
   },
   "outputs": [],
   "source": []
  },
  {
   "cell_type": "code",
   "execution_count": null,
   "metadata": {
    "vscode": {
     "languageId": "r"
    }
   },
   "outputs": [],
   "source": []
  },
  {
   "cell_type": "code",
   "execution_count": null,
   "metadata": {
    "vscode": {
     "languageId": "r"
    }
   },
   "outputs": [],
   "source": []
  },
  {
   "cell_type": "code",
   "execution_count": null,
   "metadata": {
    "vscode": {
     "languageId": "r"
    }
   },
   "outputs": [],
   "source": []
  },
  {
   "cell_type": "code",
   "execution_count": null,
   "metadata": {
    "vscode": {
     "languageId": "r"
    }
   },
   "outputs": [],
   "source": []
  },
  {
   "cell_type": "code",
   "execution_count": null,
   "metadata": {
    "vscode": {
     "languageId": "r"
    }
   },
   "outputs": [],
   "source": []
  },
  {
   "cell_type": "code",
   "execution_count": null,
   "metadata": {
    "vscode": {
     "languageId": "r"
    }
   },
   "outputs": [],
   "source": []
  },
  {
   "cell_type": "code",
   "execution_count": null,
   "metadata": {
    "vscode": {
     "languageId": "r"
    }
   },
   "outputs": [],
   "source": []
  },
  {
   "cell_type": "code",
   "execution_count": null,
   "metadata": {
    "vscode": {
     "languageId": "r"
    }
   },
   "outputs": [],
   "source": []
  },
  {
   "cell_type": "code",
   "execution_count": null,
   "metadata": {
    "vscode": {
     "languageId": "r"
    }
   },
   "outputs": [],
   "source": []
  },
  {
   "cell_type": "code",
   "execution_count": null,
   "metadata": {
    "vscode": {
     "languageId": "r"
    }
   },
   "outputs": [],
   "source": []
  },
  {
   "cell_type": "code",
   "execution_count": null,
   "metadata": {
    "vscode": {
     "languageId": "r"
    }
   },
   "outputs": [],
   "source": []
  },
  {
   "cell_type": "code",
   "execution_count": null,
   "metadata": {
    "vscode": {
     "languageId": "r"
    }
   },
   "outputs": [],
   "source": []
  },
  {
   "cell_type": "code",
   "execution_count": null,
   "metadata": {
    "vscode": {
     "languageId": "r"
    }
   },
   "outputs": [],
   "source": []
  },
  {
   "cell_type": "code",
   "execution_count": null,
   "metadata": {
    "vscode": {
     "languageId": "r"
    }
   },
   "outputs": [],
   "source": []
  },
  {
   "cell_type": "code",
   "execution_count": null,
   "metadata": {
    "vscode": {
     "languageId": "r"
    }
   },
   "outputs": [],
   "source": []
  },
  {
   "cell_type": "code",
   "execution_count": null,
   "metadata": {
    "vscode": {
     "languageId": "r"
    }
   },
   "outputs": [],
   "source": []
  },
  {
   "cell_type": "code",
   "execution_count": 252,
   "metadata": {
    "vscode": {
     "languageId": "r"
    }
   },
   "outputs": [
    {
     "data": {
      "text/html": [
       "<table class=\"dataframe\">\n",
       "<caption>A tibble: 102 × 6</caption>\n",
       "<thead>\n",
       "\t<tr><th scope=col>country</th><th scope=col>pm</th><th scope=col>euets</th><th scope=col>weather</th><th scope=col>wb</th><th scope=col>total</th></tr>\n",
       "\t<tr><th scope=col>&lt;chr&gt;</th><th scope=col>&lt;dbl&gt;</th><th scope=col>&lt;dbl&gt;</th><th scope=col>&lt;dbl&gt;</th><th scope=col>&lt;dbl&gt;</th><th scope=col>&lt;dbl&gt;</th></tr>\n",
       "</thead>\n",
       "<tbody>\n",
       "\t<tr><td>NER 300 auctions                             </td><td>0</td><td>1</td><td>0</td><td>0</td><td>1</td></tr>\n",
       "\t<tr><td>Congo Brazzaville                            </td><td>0</td><td>0</td><td>1</td><td>0</td><td>1</td></tr>\n",
       "\t<tr><td>FInland                                      </td><td>0</td><td>0</td><td>1</td><td>0</td><td>1</td></tr>\n",
       "\t<tr><td>Jersey                                       </td><td>0</td><td>0</td><td>1</td><td>0</td><td>1</td></tr>\n",
       "\t<tr><td>Palestine                                    </td><td>0</td><td>0</td><td>1</td><td>0</td><td>1</td></tr>\n",
       "\t<tr><td>South Korea                                  </td><td>0</td><td>0</td><td>1</td><td>0</td><td>1</td></tr>\n",
       "\t<tr><td>Svalbard and Jan Mayen                       </td><td>0</td><td>0</td><td>1</td><td>0</td><td>1</td></tr>\n",
       "\t<tr><td><span style=white-space:pre-wrap>Turks &amp; Caicos Islands                       </span></td><td>0</td><td>0</td><td>1</td><td>0</td><td>1</td></tr>\n",
       "\t<tr><td>Vatican City                                 </td><td>0</td><td>0</td><td>1</td><td>0</td><td>1</td></tr>\n",
       "\t<tr><td>Africa Eastern and Southern                  </td><td>0</td><td>0</td><td>0</td><td>1</td><td>1</td></tr>\n",
       "\t<tr><td>Africa Western and Central                   </td><td>0</td><td>0</td><td>0</td><td>1</td><td>1</td></tr>\n",
       "\t<tr><td>American Samoa                               </td><td>0</td><td>0</td><td>0</td><td>1</td><td>1</td></tr>\n",
       "\t<tr><td>Arab World                                   </td><td>0</td><td>0</td><td>0</td><td>1</td><td>1</td></tr>\n",
       "\t<tr><td>Aruba                                        </td><td>0</td><td>0</td><td>0</td><td>1</td><td>1</td></tr>\n",
       "\t<tr><td>Bermuda                                      </td><td>0</td><td>0</td><td>0</td><td>1</td><td>1</td></tr>\n",
       "\t<tr><td>British Virgin Islands                       </td><td>0</td><td>0</td><td>0</td><td>1</td><td>1</td></tr>\n",
       "\t<tr><td>Caribbean small states                       </td><td>0</td><td>0</td><td>0</td><td>1</td><td>1</td></tr>\n",
       "\t<tr><td>Cayman Islands                               </td><td>0</td><td>0</td><td>0</td><td>1</td><td>1</td></tr>\n",
       "\t<tr><td>Central Europe and the Baltics               </td><td>0</td><td>0</td><td>0</td><td>1</td><td>1</td></tr>\n",
       "\t<tr><td>Channel Islands                              </td><td>0</td><td>0</td><td>0</td><td>1</td><td>1</td></tr>\n",
       "\t<tr><td>Curacao                                      </td><td>0</td><td>0</td><td>0</td><td>1</td><td>1</td></tr>\n",
       "\t<tr><td>Early-demographic dividend                   </td><td>0</td><td>0</td><td>0</td><td>1</td><td>1</td></tr>\n",
       "\t<tr><td><span style=white-space:pre-wrap>East Asia &amp; Pacific                          </span></td><td>0</td><td>0</td><td>0</td><td>1</td><td>1</td></tr>\n",
       "\t<tr><td><span style=white-space:pre-wrap>East Asia &amp; Pacific (IDA &amp; IBRD countries)   </span></td><td>0</td><td>0</td><td>0</td><td>1</td><td>1</td></tr>\n",
       "\t<tr><td><span style=white-space:pre-wrap>East Asia &amp; Pacific (excluding high income)  </span></td><td>0</td><td>0</td><td>0</td><td>1</td><td>1</td></tr>\n",
       "\t<tr><td>Euro area                                    </td><td>0</td><td>0</td><td>0</td><td>1</td><td>1</td></tr>\n",
       "\t<tr><td><span style=white-space:pre-wrap>Europe &amp; Central Asia                        </span></td><td>0</td><td>0</td><td>0</td><td>1</td><td>1</td></tr>\n",
       "\t<tr><td>Europe &amp; Central Asia (IDA &amp; IBRD countries) </td><td>0</td><td>0</td><td>0</td><td>1</td><td>1</td></tr>\n",
       "\t<tr><td>Europe &amp; Central Asia (excluding high income)</td><td>0</td><td>0</td><td>0</td><td>1</td><td>1</td></tr>\n",
       "\t<tr><td>European Union                               </td><td>0</td><td>0</td><td>0</td><td>1</td><td>1</td></tr>\n",
       "\t<tr><td>⋮</td><td>⋮</td><td>⋮</td><td>⋮</td><td>⋮</td><td>⋮</td></tr>\n",
       "\t<tr><td>Sub-Saharan Africa (IDA &amp; IBRD countries) </td><td>0</td><td>0</td><td>0</td><td>1</td><td>1</td></tr>\n",
       "\t<tr><td>Sub-Saharan Africa (excluding high income)</td><td>0</td><td>0</td><td>0</td><td>1</td><td>1</td></tr>\n",
       "\t<tr><td>Turks and Caicos Islands                  </td><td>0</td><td>0</td><td>0</td><td>1</td><td>1</td></tr>\n",
       "\t<tr><td>Upper middle income                       </td><td>0</td><td>0</td><td>0</td><td>1</td><td>1</td></tr>\n",
       "\t<tr><td>Virgin Islands (U.S.)                     </td><td>0</td><td>0</td><td>0</td><td>1</td><td>1</td></tr>\n",
       "\t<tr><td>West Bank and Gaza                        </td><td>0</td><td>0</td><td>0</td><td>1</td><td>1</td></tr>\n",
       "\t<tr><td>World                                     </td><td>0</td><td>0</td><td>0</td><td>1</td><td>1</td></tr>\n",
       "\t<tr><td>Cote d'Ivoire                             </td><td>0</td><td>0</td><td>1</td><td>1</td><td>2</td></tr>\n",
       "\t<tr><td>French Polynesia                          </td><td>0</td><td>0</td><td>1</td><td>1</td><td>2</td></tr>\n",
       "\t<tr><td>Gibraltar                                 </td><td>0</td><td>0</td><td>1</td><td>1</td><td>2</td></tr>\n",
       "\t<tr><td>Greenland                                 </td><td>0</td><td>0</td><td>1</td><td>1</td><td>2</td></tr>\n",
       "\t<tr><td>Isle of Man                               </td><td>0</td><td>0</td><td>1</td><td>1</td><td>2</td></tr>\n",
       "\t<tr><td>Kosovo                                    </td><td>0</td><td>0</td><td>1</td><td>1</td><td>2</td></tr>\n",
       "\t<tr><td>Tanzania                                  </td><td>0</td><td>0</td><td>1</td><td>1</td><td>2</td></tr>\n",
       "\t<tr><td>Congo                                     </td><td>1</td><td>0</td><td>0</td><td>0</td><td>1</td></tr>\n",
       "\t<tr><td>Cook Islands                              </td><td>1</td><td>0</td><td>0</td><td>0</td><td>1</td></tr>\n",
       "\t<tr><td>Côte d’Ivoire                             </td><td>1</td><td>0</td><td>0</td><td>0</td><td>1</td></tr>\n",
       "\t<tr><td>Niue                                      </td><td>1</td><td>0</td><td>0</td><td>0</td><td>1</td></tr>\n",
       "\t<tr><td>Occupied Palestinian territory            </td><td>1</td><td>0</td><td>0</td><td>0</td><td>1</td></tr>\n",
       "\t<tr><td>United Republic of Tanzania               </td><td>1</td><td>0</td><td>0</td><td>0</td><td>1</td></tr>\n",
       "\t<tr><td>Korea                                     </td><td>1</td><td>0</td><td>0</td><td>1</td><td>2</td></tr>\n",
       "\t<tr><td>Maldives                                  </td><td>1</td><td>0</td><td>0</td><td>1</td><td>2</td></tr>\n",
       "\t<tr><td>Marshall Islands                          </td><td>1</td><td>0</td><td>0</td><td>1</td><td>2</td></tr>\n",
       "\t<tr><td>Nauru                                     </td><td>1</td><td>0</td><td>0</td><td>1</td><td>2</td></tr>\n",
       "\t<tr><td>Palau                                     </td><td>1</td><td>0</td><td>0</td><td>1</td><td>2</td></tr>\n",
       "\t<tr><td>Saint Kitts and Nevis                     </td><td>1</td><td>0</td><td>1</td><td>0</td><td>2</td></tr>\n",
       "\t<tr><td>Saint Lucia                               </td><td>1</td><td>0</td><td>1</td><td>0</td><td>2</td></tr>\n",
       "\t<tr><td>Saint Vincent and the Grenadines          </td><td>1</td><td>0</td><td>1</td><td>0</td><td>2</td></tr>\n",
       "\t<tr><td>Seychelles                                </td><td>1</td><td>0</td><td>0</td><td>1</td><td>2</td></tr>\n",
       "\t<tr><td>Tuvalu                                    </td><td>1</td><td>0</td><td>0</td><td>1</td><td>2</td></tr>\n",
       "</tbody>\n",
       "</table>\n"
      ],
      "text/latex": [
       "A tibble: 102 × 6\n",
       "\\begin{tabular}{llllll}\n",
       " country & pm & euets & weather & wb & total\\\\\n",
       " <chr> & <dbl> & <dbl> & <dbl> & <dbl> & <dbl>\\\\\n",
       "\\hline\n",
       "\t NER 300 auctions                              & 0 & 1 & 0 & 0 & 1\\\\\n",
       "\t Congo Brazzaville                             & 0 & 0 & 1 & 0 & 1\\\\\n",
       "\t FInland                                       & 0 & 0 & 1 & 0 & 1\\\\\n",
       "\t Jersey                                        & 0 & 0 & 1 & 0 & 1\\\\\n",
       "\t Palestine                                     & 0 & 0 & 1 & 0 & 1\\\\\n",
       "\t South Korea                                   & 0 & 0 & 1 & 0 & 1\\\\\n",
       "\t Svalbard and Jan Mayen                        & 0 & 0 & 1 & 0 & 1\\\\\n",
       "\t Turks \\& Caicos Islands                        & 0 & 0 & 1 & 0 & 1\\\\\n",
       "\t Vatican City                                  & 0 & 0 & 1 & 0 & 1\\\\\n",
       "\t Africa Eastern and Southern                   & 0 & 0 & 0 & 1 & 1\\\\\n",
       "\t Africa Western and Central                    & 0 & 0 & 0 & 1 & 1\\\\\n",
       "\t American Samoa                                & 0 & 0 & 0 & 1 & 1\\\\\n",
       "\t Arab World                                    & 0 & 0 & 0 & 1 & 1\\\\\n",
       "\t Aruba                                         & 0 & 0 & 0 & 1 & 1\\\\\n",
       "\t Bermuda                                       & 0 & 0 & 0 & 1 & 1\\\\\n",
       "\t British Virgin Islands                        & 0 & 0 & 0 & 1 & 1\\\\\n",
       "\t Caribbean small states                        & 0 & 0 & 0 & 1 & 1\\\\\n",
       "\t Cayman Islands                                & 0 & 0 & 0 & 1 & 1\\\\\n",
       "\t Central Europe and the Baltics                & 0 & 0 & 0 & 1 & 1\\\\\n",
       "\t Channel Islands                               & 0 & 0 & 0 & 1 & 1\\\\\n",
       "\t Curacao                                       & 0 & 0 & 0 & 1 & 1\\\\\n",
       "\t Early-demographic dividend                    & 0 & 0 & 0 & 1 & 1\\\\\n",
       "\t East Asia \\& Pacific                           & 0 & 0 & 0 & 1 & 1\\\\\n",
       "\t East Asia \\& Pacific (IDA \\& IBRD countries)    & 0 & 0 & 0 & 1 & 1\\\\\n",
       "\t East Asia \\& Pacific (excluding high income)   & 0 & 0 & 0 & 1 & 1\\\\\n",
       "\t Euro area                                     & 0 & 0 & 0 & 1 & 1\\\\\n",
       "\t Europe \\& Central Asia                         & 0 & 0 & 0 & 1 & 1\\\\\n",
       "\t Europe \\& Central Asia (IDA \\& IBRD countries)  & 0 & 0 & 0 & 1 & 1\\\\\n",
       "\t Europe \\& Central Asia (excluding high income) & 0 & 0 & 0 & 1 & 1\\\\\n",
       "\t European Union                                & 0 & 0 & 0 & 1 & 1\\\\\n",
       "\t ⋮ & ⋮ & ⋮ & ⋮ & ⋮ & ⋮\\\\\n",
       "\t Sub-Saharan Africa (IDA \\& IBRD countries)  & 0 & 0 & 0 & 1 & 1\\\\\n",
       "\t Sub-Saharan Africa (excluding high income) & 0 & 0 & 0 & 1 & 1\\\\\n",
       "\t Turks and Caicos Islands                   & 0 & 0 & 0 & 1 & 1\\\\\n",
       "\t Upper middle income                        & 0 & 0 & 0 & 1 & 1\\\\\n",
       "\t Virgin Islands (U.S.)                      & 0 & 0 & 0 & 1 & 1\\\\\n",
       "\t West Bank and Gaza                         & 0 & 0 & 0 & 1 & 1\\\\\n",
       "\t World                                      & 0 & 0 & 0 & 1 & 1\\\\\n",
       "\t Cote d'Ivoire                              & 0 & 0 & 1 & 1 & 2\\\\\n",
       "\t French Polynesia                           & 0 & 0 & 1 & 1 & 2\\\\\n",
       "\t Gibraltar                                  & 0 & 0 & 1 & 1 & 2\\\\\n",
       "\t Greenland                                  & 0 & 0 & 1 & 1 & 2\\\\\n",
       "\t Isle of Man                                & 0 & 0 & 1 & 1 & 2\\\\\n",
       "\t Kosovo                                     & 0 & 0 & 1 & 1 & 2\\\\\n",
       "\t Tanzania                                   & 0 & 0 & 1 & 1 & 2\\\\\n",
       "\t Congo                                      & 1 & 0 & 0 & 0 & 1\\\\\n",
       "\t Cook Islands                               & 1 & 0 & 0 & 0 & 1\\\\\n",
       "\t Côte d’Ivoire                              & 1 & 0 & 0 & 0 & 1\\\\\n",
       "\t Niue                                       & 1 & 0 & 0 & 0 & 1\\\\\n",
       "\t Occupied Palestinian territory             & 1 & 0 & 0 & 0 & 1\\\\\n",
       "\t United Republic of Tanzania                & 1 & 0 & 0 & 0 & 1\\\\\n",
       "\t Korea                                      & 1 & 0 & 0 & 1 & 2\\\\\n",
       "\t Maldives                                   & 1 & 0 & 0 & 1 & 2\\\\\n",
       "\t Marshall Islands                           & 1 & 0 & 0 & 1 & 2\\\\\n",
       "\t Nauru                                      & 1 & 0 & 0 & 1 & 2\\\\\n",
       "\t Palau                                      & 1 & 0 & 0 & 1 & 2\\\\\n",
       "\t Saint Kitts and Nevis                      & 1 & 0 & 1 & 0 & 2\\\\\n",
       "\t Saint Lucia                                & 1 & 0 & 1 & 0 & 2\\\\\n",
       "\t Saint Vincent and the Grenadines           & 1 & 0 & 1 & 0 & 2\\\\\n",
       "\t Seychelles                                 & 1 & 0 & 0 & 1 & 2\\\\\n",
       "\t Tuvalu                                     & 1 & 0 & 0 & 1 & 2\\\\\n",
       "\\end{tabular}\n"
      ],
      "text/markdown": [
       "\n",
       "A tibble: 102 × 6\n",
       "\n",
       "| country &lt;chr&gt; | pm &lt;dbl&gt; | euets &lt;dbl&gt; | weather &lt;dbl&gt; | wb &lt;dbl&gt; | total &lt;dbl&gt; |\n",
       "|---|---|---|---|---|---|\n",
       "| NER 300 auctions                              | 0 | 1 | 0 | 0 | 1 |\n",
       "| Congo Brazzaville                             | 0 | 0 | 1 | 0 | 1 |\n",
       "| FInland                                       | 0 | 0 | 1 | 0 | 1 |\n",
       "| Jersey                                        | 0 | 0 | 1 | 0 | 1 |\n",
       "| Palestine                                     | 0 | 0 | 1 | 0 | 1 |\n",
       "| South Korea                                   | 0 | 0 | 1 | 0 | 1 |\n",
       "| Svalbard and Jan Mayen                        | 0 | 0 | 1 | 0 | 1 |\n",
       "| Turks &amp; Caicos Islands                        | 0 | 0 | 1 | 0 | 1 |\n",
       "| Vatican City                                  | 0 | 0 | 1 | 0 | 1 |\n",
       "| Africa Eastern and Southern                   | 0 | 0 | 0 | 1 | 1 |\n",
       "| Africa Western and Central                    | 0 | 0 | 0 | 1 | 1 |\n",
       "| American Samoa                                | 0 | 0 | 0 | 1 | 1 |\n",
       "| Arab World                                    | 0 | 0 | 0 | 1 | 1 |\n",
       "| Aruba                                         | 0 | 0 | 0 | 1 | 1 |\n",
       "| Bermuda                                       | 0 | 0 | 0 | 1 | 1 |\n",
       "| British Virgin Islands                        | 0 | 0 | 0 | 1 | 1 |\n",
       "| Caribbean small states                        | 0 | 0 | 0 | 1 | 1 |\n",
       "| Cayman Islands                                | 0 | 0 | 0 | 1 | 1 |\n",
       "| Central Europe and the Baltics                | 0 | 0 | 0 | 1 | 1 |\n",
       "| Channel Islands                               | 0 | 0 | 0 | 1 | 1 |\n",
       "| Curacao                                       | 0 | 0 | 0 | 1 | 1 |\n",
       "| Early-demographic dividend                    | 0 | 0 | 0 | 1 | 1 |\n",
       "| East Asia &amp; Pacific                           | 0 | 0 | 0 | 1 | 1 |\n",
       "| East Asia &amp; Pacific (IDA &amp; IBRD countries)    | 0 | 0 | 0 | 1 | 1 |\n",
       "| East Asia &amp; Pacific (excluding high income)   | 0 | 0 | 0 | 1 | 1 |\n",
       "| Euro area                                     | 0 | 0 | 0 | 1 | 1 |\n",
       "| Europe &amp; Central Asia                         | 0 | 0 | 0 | 1 | 1 |\n",
       "| Europe &amp; Central Asia (IDA &amp; IBRD countries)  | 0 | 0 | 0 | 1 | 1 |\n",
       "| Europe &amp; Central Asia (excluding high income) | 0 | 0 | 0 | 1 | 1 |\n",
       "| European Union                                | 0 | 0 | 0 | 1 | 1 |\n",
       "| ⋮ | ⋮ | ⋮ | ⋮ | ⋮ | ⋮ |\n",
       "| Sub-Saharan Africa (IDA &amp; IBRD countries)  | 0 | 0 | 0 | 1 | 1 |\n",
       "| Sub-Saharan Africa (excluding high income) | 0 | 0 | 0 | 1 | 1 |\n",
       "| Turks and Caicos Islands                   | 0 | 0 | 0 | 1 | 1 |\n",
       "| Upper middle income                        | 0 | 0 | 0 | 1 | 1 |\n",
       "| Virgin Islands (U.S.)                      | 0 | 0 | 0 | 1 | 1 |\n",
       "| West Bank and Gaza                         | 0 | 0 | 0 | 1 | 1 |\n",
       "| World                                      | 0 | 0 | 0 | 1 | 1 |\n",
       "| Cote d'Ivoire                              | 0 | 0 | 1 | 1 | 2 |\n",
       "| French Polynesia                           | 0 | 0 | 1 | 1 | 2 |\n",
       "| Gibraltar                                  | 0 | 0 | 1 | 1 | 2 |\n",
       "| Greenland                                  | 0 | 0 | 1 | 1 | 2 |\n",
       "| Isle of Man                                | 0 | 0 | 1 | 1 | 2 |\n",
       "| Kosovo                                     | 0 | 0 | 1 | 1 | 2 |\n",
       "| Tanzania                                   | 0 | 0 | 1 | 1 | 2 |\n",
       "| Congo                                      | 1 | 0 | 0 | 0 | 1 |\n",
       "| Cook Islands                               | 1 | 0 | 0 | 0 | 1 |\n",
       "| Côte d’Ivoire                              | 1 | 0 | 0 | 0 | 1 |\n",
       "| Niue                                       | 1 | 0 | 0 | 0 | 1 |\n",
       "| Occupied Palestinian territory             | 1 | 0 | 0 | 0 | 1 |\n",
       "| United Republic of Tanzania                | 1 | 0 | 0 | 0 | 1 |\n",
       "| Korea                                      | 1 | 0 | 0 | 1 | 2 |\n",
       "| Maldives                                   | 1 | 0 | 0 | 1 | 2 |\n",
       "| Marshall Islands                           | 1 | 0 | 0 | 1 | 2 |\n",
       "| Nauru                                      | 1 | 0 | 0 | 1 | 2 |\n",
       "| Palau                                      | 1 | 0 | 0 | 1 | 2 |\n",
       "| Saint Kitts and Nevis                      | 1 | 0 | 1 | 0 | 2 |\n",
       "| Saint Lucia                                | 1 | 0 | 1 | 0 | 2 |\n",
       "| Saint Vincent and the Grenadines           | 1 | 0 | 1 | 0 | 2 |\n",
       "| Seychelles                                 | 1 | 0 | 0 | 1 | 2 |\n",
       "| Tuvalu                                     | 1 | 0 | 0 | 1 | 2 |\n",
       "\n"
      ],
      "text/plain": [
       "    country                                       pm euets weather wb total\n",
       "1   NER 300 auctions                              0  1     0       0  1    \n",
       "2   Congo Brazzaville                             0  0     1       0  1    \n",
       "3   FInland                                       0  0     1       0  1    \n",
       "4   Jersey                                        0  0     1       0  1    \n",
       "5   Palestine                                     0  0     1       0  1    \n",
       "6   South Korea                                   0  0     1       0  1    \n",
       "7   Svalbard and Jan Mayen                        0  0     1       0  1    \n",
       "8   Turks & Caicos Islands                        0  0     1       0  1    \n",
       "9   Vatican City                                  0  0     1       0  1    \n",
       "10  Africa Eastern and Southern                   0  0     0       1  1    \n",
       "11  Africa Western and Central                    0  0     0       1  1    \n",
       "12  American Samoa                                0  0     0       1  1    \n",
       "13  Arab World                                    0  0     0       1  1    \n",
       "14  Aruba                                         0  0     0       1  1    \n",
       "15  Bermuda                                       0  0     0       1  1    \n",
       "16  British Virgin Islands                        0  0     0       1  1    \n",
       "17  Caribbean small states                        0  0     0       1  1    \n",
       "18  Cayman Islands                                0  0     0       1  1    \n",
       "19  Central Europe and the Baltics                0  0     0       1  1    \n",
       "20  Channel Islands                               0  0     0       1  1    \n",
       "21  Curacao                                       0  0     0       1  1    \n",
       "22  Early-demographic dividend                    0  0     0       1  1    \n",
       "23  East Asia & Pacific                           0  0     0       1  1    \n",
       "24  East Asia & Pacific (IDA & IBRD countries)    0  0     0       1  1    \n",
       "25  East Asia & Pacific (excluding high income)   0  0     0       1  1    \n",
       "26  Euro area                                     0  0     0       1  1    \n",
       "27  Europe & Central Asia                         0  0     0       1  1    \n",
       "28  Europe & Central Asia (IDA & IBRD countries)  0  0     0       1  1    \n",
       "29  Europe & Central Asia (excluding high income) 0  0     0       1  1    \n",
       "30  European Union                                0  0     0       1  1    \n",
       "⋮   ⋮                                             ⋮  ⋮     ⋮       ⋮  ⋮    \n",
       "73  Sub-Saharan Africa (IDA & IBRD countries)     0  0     0       1  1    \n",
       "74  Sub-Saharan Africa (excluding high income)    0  0     0       1  1    \n",
       "75  Turks and Caicos Islands                      0  0     0       1  1    \n",
       "76  Upper middle income                           0  0     0       1  1    \n",
       "77  Virgin Islands (U.S.)                         0  0     0       1  1    \n",
       "78  West Bank and Gaza                            0  0     0       1  1    \n",
       "79  World                                         0  0     0       1  1    \n",
       "80  Cote d'Ivoire                                 0  0     1       1  2    \n",
       "81  French Polynesia                              0  0     1       1  2    \n",
       "82  Gibraltar                                     0  0     1       1  2    \n",
       "83  Greenland                                     0  0     1       1  2    \n",
       "84  Isle of Man                                   0  0     1       1  2    \n",
       "85  Kosovo                                        0  0     1       1  2    \n",
       "86  Tanzania                                      0  0     1       1  2    \n",
       "87  Congo                                         1  0     0       0  1    \n",
       "88  Cook Islands                                  1  0     0       0  1    \n",
       "89  Côte d’Ivoire                                 1  0     0       0  1    \n",
       "90  Niue                                          1  0     0       0  1    \n",
       "91  Occupied Palestinian territory                1  0     0       0  1    \n",
       "92  United Republic of Tanzania                   1  0     0       0  1    \n",
       "93  Korea                                         1  0     0       1  2    \n",
       "94  Maldives                                      1  0     0       1  2    \n",
       "95  Marshall Islands                              1  0     0       1  2    \n",
       "96  Nauru                                         1  0     0       1  2    \n",
       "97  Palau                                         1  0     0       1  2    \n",
       "98  Saint Kitts and Nevis                         1  0     1       0  2    \n",
       "99  Saint Lucia                                   1  0     1       0  2    \n",
       "100 Saint Vincent and the Grenadines              1  0     1       0  2    \n",
       "101 Seychelles                                    1  0     0       1  2    \n",
       "102 Tuvalu                                        1  0     0       1  2    "
      ]
     },
     "metadata": {},
     "output_type": "display_data"
    }
   ],
   "source": [
    "  # Select unique combinations of \"country\" and \"country_code\" from pm25_final\n",
    "  pm25_unique <- pm25_final_mapped %>%\n",
    "    select(country) %>%\n",
    "    unique()\n",
    "\n",
    "  pm25_unique$pm <- 1\n",
    "\n",
    "  # Select unique combinations of \"country\" and \"country_code\" from eu_ets_final\n",
    "  eu_ets_unique <- eu_ets_final_mapped %>%\n",
    "    select(country) %>%\n",
    "    unique()\n",
    "\n",
    "  eu_ets_unique$euets <- 1\n",
    "\n",
    "  # Select unique combinations of \"country\" and \"country_code\" from weather_final\n",
    "  weather_unique <- weather_final_mapped %>%\n",
    "    select(country) %>%\n",
    "    unique()\n",
    "\n",
    "  weather_unique$weather <- 1\n",
    "\n",
    "  # Select unique combinations of \"country\" and \"country_code\" from wb_indicators_final\n",
    "  wb_indicators_unique <- wb_indicators_final_mapped %>%\n",
    "    select(country) %>%\n",
    "    unique()\n",
    "\n",
    "  wb_indicators_unique$wb <- 1\n",
    "\n",
    "# Union the datasets\n",
    "unioned_dimensions <- bind_rows(pm25_unique, eu_ets_unique, weather_unique, wb_indicators_unique)\n",
    "\n",
    "# Add origin indicators to each dataset\n",
    "pm25_unique$pm <- 1\n",
    "eu_ets_unique$euets <- 1\n",
    "weather_unique$weather <- 1\n",
    "wb_indicators_unique$wb <- 1\n",
    "\n",
    "# Perform full joins\n",
    "joined_df <- full_join(pm25_unique, eu_ets_unique, by = \"country\") %>%\n",
    "             full_join(weather_unique, by = \"country\") %>%\n",
    "             full_join(wb_indicators_unique, by = \"country\")\n",
    "\n",
    "joined_df[is.na(joined_df)] <- 0\n",
    "\n",
    "joined_df$total = joined_df$pm + joined_df$euets + joined_df$weather + joined_df$wb\n",
    "\n",
    "joined_df <- joined_df %>% arrange (pm, total)\n",
    "\n",
    "joined_df[joined_df$total < 3,]\n"
   ]
  }
 ],
 "metadata": {
  "kernelspec": {
   "display_name": "R",
   "language": "R",
   "name": "ir"
  },
  "language_info": {
   "codemirror_mode": "r",
   "file_extension": ".r",
   "mimetype": "text/x-r-source",
   "name": "R",
   "pygments_lexer": "r",
   "version": "4.3.1"
  }
 },
 "nbformat": 4,
 "nbformat_minor": 2
}
